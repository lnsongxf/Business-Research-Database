{
 "cells": [
  {
   "cell_type": "code",
   "execution_count": 1,
   "metadata": {
    "collapsed": true
   },
   "outputs": [],
   "source": [
    "import os, io, json, urllib"
   ]
  },
  {
   "cell_type": "code",
   "execution_count": 2,
   "metadata": {
    "collapsed": false,
    "scrolled": true
   },
   "outputs": [
    {
     "name": "stdout",
     "output_type": "stream",
     "text": [
      " Accounting, Organizations and Society\n",
      " Contemporary Accounting Research\n",
      " Journal of Accounting and Economics\n",
      " Journal of Accounting Research\n",
      " Entrepreneurship Theory and Practice\n",
      " Human Relations\n",
      " Human Resource Management\n",
      " Journal of Business Ethics\n",
      " Journal of Business Venturing\n",
      " Journal of International Business Studies\n",
      " Strategic Entrepreneurship Journal\n",
      " American Economic Review\n",
      " Econometrica\n",
      " Journal of Political Economy\n",
      " Review of Economic Studies\n",
      " The Quarterly Journal of Economics\n",
      " Journal of Finance\n",
      " Journal of Financial and Quantitative Analysis\n",
      " Journal of Financial Economics\n",
      " Review of Finance\n",
      " Review of Financial Studies\n",
      "0001-8392 Administrative Science Quarterly\n",
      "0149-2063 Journal of Management\n",
      "0022-2380 Journal of Management Studies\n",
      "0048-7333 Research Policy\n",
      "0143-2095 Strategic Management Journal\n",
      "0093-5301 Journal of Consumer Research\n",
      "0732-2399 Marketing Science\n",
      "0022-2429 Journal of Marketing\n",
      "0022-2437 Journal of Marketing Research\n",
      "1047-7047 Information Systems Research\n",
      "0742-1222 Journal of Management Information Systems\n",
      " Management Information Systems Quarterly\n",
      "0025-1909 Management Science\n",
      "1523-4614 Manufacturing & Service Operations Management\n",
      "0030-364X Operations Research\n",
      "1059-1478 Production and Operations Management\n",
      " Organization Science\n",
      " Organization Studies\n",
      " Organizational Behavior and Human Decision Processes\n"
     ]
    }
   ],
   "source": [
    "\n",
    "crossref='http://api.crossref.org/journals/<issn>/works?rows=1000&filter=from-pub-date:<year>,until-pub-date:<year>'\n",
    "\n",
    "with open('../OpenScience/subject_journals.json') as data_file:    \n",
    "    subject_journals = json.load(data_file)\n",
    "for subject in subject_journals:\n",
    "    for journal in subject['journals']:\n",
    "        journal_name=journal['journal']\n",
    "        if 'issn' in journal:\n",
    "            issn=journal['issn']\n",
    "            print issn, journal_name\n",
    "            journal_folder='doi/'+issn+'/'\n",
    "            if not os.path.exists(journal_folder):\n",
    "                os.makedirs(journal_folder)\n",
    "                crossref_issn=crossref.replace('<issn>',issn)\n",
    "                for y in range(1990,2018):\n",
    "                    year=str(y)\n",
    "                    url=crossref_issn.replace('<year>',year)\n",
    "                    try: \n",
    "                        urllib.urlretrieve (url,journal_folder+year+'.json')\n",
    "                    except:\n",
    "                        pass"
   ]
  },
  {
   "cell_type": "code",
   "execution_count": 5,
   "metadata": {
    "collapsed": false
   },
   "outputs": [
    {
     "name": "stdout",
     "output_type": "stream",
     "text": [
      "doi/0001-8392 1525 1368\n",
      "doi/0022-2380 1744 1481\n",
      "doi/0022-2429 1383 1247\n",
      "doi/0022-2437 1772 1645\n",
      "doi/0025-1909 4309 4138\n",
      "doi/0030-364X 2945 2632\n",
      "doi/0048-7333 2974 2730\n",
      "doi/0093-5301 1943 1575\n",
      "doi/0143-2095 2676 2361\n",
      "doi/0149-2063 2221 2086\n",
      "doi/0732-2399 1383 1234\n",
      "doi/0742-1222 943 931\n",
      "doi/1047-7047 964 864\n",
      "doi/1059-1478 1796 1478\n",
      "doi/1523-4614 698 631\n"
     ]
    }
   ],
   "source": [
    "jsonld_folder='jsonld/'\n",
    "\n",
    "iterfol = iter(os.walk('doi/'))\n",
    "next(iterfol)\n",
    "for x in iterfol:\n",
    "    count=0\n",
    "    with_auth=0\n",
    "    articles=[]\n",
    "    issn= x[0]\n",
    "    print issn,\n",
    "    for y in x[2]:\n",
    "        year_articles= issn+'/'+y\n",
    "        with open(year_articles) as data_file:    \n",
    "            data = json.load(data_file)\n",
    "        len(data['message']['items'])\n",
    "        for article in data['message']['items']:\n",
    "            a={};a['e:author']=[]\n",
    "            count=count+1\n",
    "            if 'author' in article:\n",
    "                with_auth=with_auth+1\n",
    "                for author in article['author']:\n",
    "                    if 'given' in author:\n",
    "                        a['e:author'].append(author['given']+' '+author['family'])\n",
    "                    elif 'family' in author:\n",
    "                        a['e:author'].append(author['family'])\n",
    "                a['e:doi']=article['DOI']\n",
    "                a['@id']='http://dx.doi.org/'+article['DOI']\n",
    "                a['e:issn']=issn.replace('doi/','')\n",
    "                a['e:journal']=article['container-title']\n",
    "                a['e:title']=article['title'][0]\n",
    "                a['e:citation']=article['is-referenced-by-count']\n",
    "                if 'published-print' in article:\n",
    "                    a['e:year']=article['published-print']['date-parts'][0][0]\n",
    "                    if a['e:year']<1990:\n",
    "                        print a['@id']\n",
    "                if 'volume' in article:\n",
    "                    a['e:volume']=article['volume'] \n",
    "                if 'issue' in article:\n",
    "                    a['e:issue']=article['issue'] \n",
    "                if 'reference' in article:\n",
    "                    a['e:reference']=[reference['DOI'] for  reference in article['reference'] if 'DOI' in reference ]\n",
    "\n",
    "                articles.append(a)\n",
    "    jd=unicode(json.dumps(articles, ensure_ascii=False))\n",
    "    jsonld_file=jsonld_folder+issn.replace('/','_')+'.jsonld'\n",
    "    if not os.path.exists(jsonld_file):\n",
    "        with io.open(jsonld_file, 'w', encoding=\"utf-8\") as f:\n",
    "            f.write(jd)\n",
    "        f.close()\n",
    "    print count,\n",
    "    print with_auth"
   ]
  },
  {
   "cell_type": "code",
   "execution_count": null,
   "metadata": {
    "collapsed": true
   },
   "outputs": [],
   "source": []
  }
 ],
 "metadata": {
  "anaconda-cloud": {},
  "kernelspec": {
   "display_name": "Python [Root]",
   "language": "python",
   "name": "Python [Root]"
  },
  "language_info": {
   "codemirror_mode": {
    "name": "ipython",
    "version": 2
   },
   "file_extension": ".py",
   "mimetype": "text/x-python",
   "name": "python",
   "nbconvert_exporter": "python",
   "pygments_lexer": "ipython2",
   "version": "2.7.12"
  }
 },
 "nbformat": 4,
 "nbformat_minor": 0
}
