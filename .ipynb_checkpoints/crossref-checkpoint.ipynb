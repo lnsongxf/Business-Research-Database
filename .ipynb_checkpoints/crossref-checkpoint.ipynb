{
 "cells": [
  {
   "cell_type": "code",
   "execution_count": null,
   "metadata": {
    "collapsed": false,
    "scrolled": true
   },
   "outputs": [
    {
     "name": "stdout",
     "output_type": "stream",
     "text": [
      "1047-7047 0742-1222"
     ]
    }
   ],
   "source": [
    "import os, json, urllib\n",
    "\n",
    "crossref='http://api.crossref.org/journals/<issn>/works?rows=1000&filter=from-pub-date:1990'\n",
    "\n",
    "with open('../OpenScience/subject_journals.json') as data_file:    \n",
    "    subject_journals = json.load(data_file)\n",
    "for subject in subject_journals:\n",
    "    for journal in subject['journals']:\n",
    "        if 'issn' in journal:\n",
    "            issn=journal['issn']\n",
    "            print issn\n",
    "            journal_folder='doi/'+issn+'/'\n",
    "            if not os.path.exists(journal_folder):\n",
    "                os.makedirs(journal_folder)\n",
    "                crossref_issn=crossref.replace('<issn>',issn)\n",
    "                try: \n",
    "                    urllib.urlretrieve (crossref_issn,journal_folder+'2017_04_14')\n",
    "                except:\n",
    "                    pass"
   ]
  },
  {
   "cell_type": "code",
   "execution_count": null,
   "metadata": {
    "collapsed": true
   },
   "outputs": [],
   "source": []
  }
 ],
 "metadata": {
  "kernelspec": {
   "display_name": "Python [Root]",
   "language": "python",
   "name": "Python [Root]"
  },
  "language_info": {
   "codemirror_mode": {
    "name": "ipython",
    "version": 2
   },
   "file_extension": ".py",
   "mimetype": "text/x-python",
   "name": "python",
   "nbconvert_exporter": "python",
   "pygments_lexer": "ipython2",
   "version": "2.7.12"
  }
 },
 "nbformat": 4,
 "nbformat_minor": 0
}
