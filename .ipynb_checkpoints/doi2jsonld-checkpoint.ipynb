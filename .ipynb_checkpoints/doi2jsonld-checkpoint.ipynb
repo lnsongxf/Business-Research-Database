{
 "cells": [
  {
   "cell_type": "code",
   "execution_count": 124,
   "metadata": {
    "collapsed": false
   },
   "outputs": [
    {
     "name": "stdout",
     "output_type": "stream",
     "text": [
      "\n"
     ]
    }
   ],
   "source": [
    "import json, os, io"
   ]
  },
  {
   "cell_type": "code",
   "execution_count": 196,
   "metadata": {
    "collapsed": false
   },
   "outputs": [
    {
     "name": "stdout",
     "output_type": "stream",
     "text": [
      "doi/0022-2429 1355 1219\n",
      "doi/0022-2437 1737 1610\n",
      "doi/0025-1909 4151 3981\n",
      "doi/0030-364X 2907 2595\n",
      "doi/0093-5301 1901 1545\n",
      "doi/0732-2399 1351 1206\n",
      "doi/0742-1222 943 931\n",
      "doi/1047-7047 946 848\n",
      "doi/1059-1478 1743 1430\n",
      "doi/1523-4614 678 611\n"
     ]
    }
   ],
   "source": [
    "jsonld_folder='jsonld/'\n",
    "\n",
    "iterfol = iter(os.walk('doi/'))\n",
    "next(iterfol)\n",
    "for x in iterfol:\n",
    "    count=0\n",
    "    with_auth=0\n",
    "    articles=[]\n",
    "    issn= x[0]\n",
    "    print issn,\n",
    "    for y in x[2]:\n",
    "        year_articles= issn+'/'+y\n",
    "        with open(year_articles) as data_file:    \n",
    "            data = json.load(data_file)\n",
    "        len(data['message']['items'])\n",
    "        for article in data['message']['items']:\n",
    "            a={}\n",
    "            count=count+1\n",
    "            if 'author' in article:\n",
    "                with_auth=with_auth+1\n",
    "                a['e:author']=[author['given']+' '+author['family'] if 'given' in author else author['family'] for  author in article['author']]\n",
    "                a['doi']=article['DOI']\n",
    "                a['@id']='http://dx.doi.org/'+article['DOI']\n",
    "                a['e:issn']=issn.replace('doi/','')\n",
    "                a['e:title']=article['title'][0]\n",
    "                a['e:citation']=article['is-referenced-by-count']\n",
    "                if 'published-print' in article:\n",
    "                    a['e:year']=article['published-print']['date-parts'][0][0]\n",
    "                    if a['e:year']<1990:\n",
    "                        print a['@id']\n",
    "                if 'volume' in article:\n",
    "                    a['e:volume']=article['volume'] \n",
    "                if 'issue' in article:\n",
    "                    a['e:issue']=article['issue'] \n",
    "                if 'reference' in article:\n",
    "                    a['e:reference']=[reference['DOI'] for  reference in article['reference'] if 'DOI' in reference ]\n",
    "\n",
    "                articles.append(a)\n",
    "    jd=unicode(json.dumps(articles, ensure_ascii=False))\n",
    "    jsonld_file=jsonld_folder+issn.replace('/','_')+'.jsonld'\n",
    "    if not os.path.exists(jsonld_file):\n",
    "        with io.open(jsonld_file, 'w', encoding=\"utf-8\") as f:\n",
    "            f.write(jd)\n",
    "    print count,\n",
    "    print with_auth"
   ]
  },
  {
   "cell_type": "code",
   "execution_count": 197,
   "metadata": {
    "collapsed": false
   },
   "outputs": [
    {
     "data": {
      "text/plain": [
       "{'@id': u'http://dx.doi.org/10.1287/msom.1.2.157',\n",
       " 'doi': u'10.1287/msom.1.2.157',\n",
       " 'e:author': [u'Srinagesh Gavirneni', u'Sridhar Tayur'],\n",
       " 'e:citation': 3,\n",
       " 'e:issn': '1523-4614',\n",
       " 'e:issue': u'2',\n",
       " 'e:reference': [u'10.1017/S026996480000471X',\n",
       "  u'10.1287/mnsc.31.9.1150',\n",
       "  u'10.1023/A:1022651322174',\n",
       "  u'10.1287/moor.11.2.193',\n",
       "  u'10.1287/moor.11.2.208',\n",
       "  u'10.1287/mnsc.45.1.16',\n",
       "  u'10.1287/opre.42.5.913',\n",
       "  u'10.1287/mnsc.41.2.263',\n",
       "  u'10.1287/msom.1.1.50',\n",
       "  u'10.1287/mnsc.41.10.1599',\n",
       "  u'10.1287/mnsc.10.3.429',\n",
       "  u'10.1287/opre.46.6.899',\n",
       "  u'10.1287/mnsc.36.6.724',\n",
       "  u'10.1214/aoms/1177706264',\n",
       "  u'10.1287/opre.37.3.437',\n",
       "  u'10.1080/05695557808975228',\n",
       "  u'10.1287/opre.41.2.351',\n",
       "  u'10.1287/mnsc.42.10.1409',\n",
       "  u'10.1287/opre.38.2.296',\n",
       "  u'10.1287/mnsc.35.1.71',\n",
       "  u'10.1287/mnsc.41.4.690'],\n",
       " 'e:title': u'Managing a Customer Following a Target Reverting Policy',\n",
       " 'e:volume': u'1',\n",
       " 'e:year': 1999}"
      ]
     },
     "execution_count": 197,
     "metadata": {},
     "output_type": "execute_result"
    }
   ],
   "source": [
    "articles[0]"
   ]
  }
 ],
 "metadata": {
  "kernelspec": {
   "display_name": "Python [Root]",
   "language": "python",
   "name": "Python [Root]"
  },
  "language_info": {
   "codemirror_mode": {
    "name": "ipython",
    "version": 2
   },
   "file_extension": ".py",
   "mimetype": "text/x-python",
   "name": "python",
   "nbconvert_exporter": "python",
   "pygments_lexer": "ipython2",
   "version": "2.7.12"
  }
 },
 "nbformat": 4,
 "nbformat_minor": 0
}
