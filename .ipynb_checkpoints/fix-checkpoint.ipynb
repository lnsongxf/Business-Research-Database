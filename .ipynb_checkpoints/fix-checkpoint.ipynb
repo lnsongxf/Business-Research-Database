{
 "cells": [
  {
   "cell_type": "code",
   "execution_count": 14,
   "metadata": {
    "collapsed": true
   },
   "outputs": [],
   "source": [
    "import re\n",
    "def fix_keyword(keyword):\n",
    "    keyword=re.sub(r'\\(.+?\\)', '', keyword).strip()\n",
    "    words=keyword.split()\n",
    "    words_fixed=[]\n",
    "    for idx, word in enumerate(words):\n",
    "        word_fixed=word\n",
    "        if idx==0:\n",
    "            word_fixed=word.capitalize()\n",
    "        else:\n",
    "            if len(word)>1:\n",
    "                if (word[0].isupper() and word[1].islower()):\n",
    "                    word_fixed=word.lower()\n",
    "        words_fixed.append(word_fixed)\n",
    "    keyword=' '.join(words_fixed)\n",
    "    return keyword\n",
    "def validate(article):\n",
    "    with open('title_remove') as f:\n",
    "        title_remove_list = f.readlines()\n",
    "    # you may also want to remove whitespace characters like `\\n` at the end of each line\n",
    "    title_remove_list = [x.strip() for x in title_remove_list] \n",
    "    title=article['ex:title'].lower()\n",
    "    validate=True\n",
    "    if title in title_remove_list:\n",
    "        validate=False\n",
    "    if title=='':\n",
    "        validate=False\n",
    "    return validate"
   ]
  },
  {
   "cell_type": "code",
   "execution_count": null,
   "metadata": {
    "collapsed": true
   },
   "outputs": [],
   "source": []
  }
 ],
 "metadata": {
  "anaconda-cloud": {},
  "kernelspec": {
   "display_name": "Python [Root]",
   "language": "python",
   "name": "Python [Root]"
  },
  "language_info": {
   "codemirror_mode": {
    "name": "ipython",
    "version": 2
   },
   "file_extension": ".py",
   "mimetype": "text/x-python",
   "name": "python",
   "nbconvert_exporter": "python",
   "pygments_lexer": "ipython2",
   "version": "2.7.12"
  }
 },
 "nbformat": 4,
 "nbformat_minor": 0
}
