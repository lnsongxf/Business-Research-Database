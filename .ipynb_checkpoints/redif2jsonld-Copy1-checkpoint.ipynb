{
 "cells": [
  {
   "cell_type": "code",
   "execution_count": 1,
   "metadata": {
    "collapsed": false
   },
   "outputs": [],
   "source": [
    "import codecs\n",
    "import pandas as pd\n",
    "import io, json, codecs\n",
    "import os"
   ]
  },
  {
   "cell_type": "code",
   "execution_count": 2,
   "metadata": {
    "collapsed": false
   },
   "outputs": [],
   "source": [
    "def redif_json(journal_name,redif_file):\n",
    "    global articles\n",
    "    global jd\n",
    "    articles=[]\n",
    "    article={}\n",
    "    creators=[]\n",
    "    creator={}\n",
    "    for i in content:\n",
    "        pair=i.split(':')\n",
    "        j=i.replace(pair[0]+':','').strip()\n",
    "        if pair[0].lower()=='template-type':\n",
    "            if len(article)>0:\n",
    "                if len(creator)>0:\n",
    "                    creators.append(creator) \n",
    "                    creator={}\n",
    "                article['ex:creator']=creators\n",
    "                creators=[]\n",
    "                articles.append(article)\n",
    "            article={};\n",
    "            article['ex:creator']=[]; article['ex:keywords']=[]; \n",
    "            article['ex:source']=journal_name\n",
    "            article['@context']={\"dc\": \"http://schema.org/\"}\n",
    "            article['ex:template']=i\n",
    "        elif pair[0].lower()=='author-name':\n",
    "            if len(creator)>0:\n",
    "                creators.append(creator)\n",
    "            creator={}\n",
    "            creator['ex:name']=j\n",
    "        elif pair[0].lower()=='author-email':\n",
    "            creator['ex:email']=j\n",
    "        elif pair[0].lower()=='author-workplace-Name':\n",
    "            creator['ex:affiliation']=j\n",
    "        elif pair[0].lower()=='title':article['ex:title']=j\n",
    "        elif pair[0].lower()=='year':article['ex:date']=j\n",
    "        elif pair[0].lower()=='pages':article['ex:pages']=j\n",
    "        elif pair[0].lower()=='volume':article['ex:volume']=j\n",
    "        elif pair[0].lower()=='issue':article['ex:issue']=j\n",
    "        elif pair[0].lower()=='file-url':article['ex:url']=j\n",
    "        elif pair[0].lower()=='abstract':article['ex:abstract']=j\n",
    "        elif pair[0].lower()=='keywords':article['ex:keywords']=[keyword.strip() for keyword in j.split(',')]\n",
    "    if len(article)>0:\n",
    "        if len(creator)>0:\n",
    "            creators.append(creator) \n",
    "            creator={}\n",
    "        article['ex:creator']=creators\n",
    "        creators=[]\n",
    "        articles.append(article)   \n",
    "    jd=unicode(json.dumps(articles, ensure_ascii=False))\n",
    "    if redif_file[-4:]=='.rdf': \n",
    "        jsonld_file=jsonld_folder+redif_file.replace('.rdf','.jsonld').replace('/','_')\n",
    "    if redif_file[-6:]=='.redif': \n",
    "        jsonld_file=jsonld_folder+redif_file.replace('.redif','.jsonld').replace('/','_')\n",
    "    with io.open(jsonld_file, 'w') as f:\n",
    "        f.write(jd)\n",
    "    return (jsonld_file)"
   ]
  },
  {
   "cell_type": "code",
   "execution_count": 3,
   "metadata": {
    "collapsed": false,
    "scrolled": true
   },
   "outputs": [],
   "source": [
    "\n",
    "redif_file='jbuset.redif'\n",
    "jsonld_folder=''\n",
    "journal_name=''\n",
    "content = []\n",
    "jd=''\n",
    "articles=[]\n",
    "with codecs.open(redif_file,encoding='utf-8',errors='ignore') as file:\n",
    "    for line in file:\n",
    "        line = line.strip()\n",
    "        content.append(line)\n",
    "jsonld_file=redif_json(journal_name,redif_file)"
   ]
  },
  {
   "cell_type": "code",
   "execution_count": 4,
   "metadata": {
    "collapsed": false
   },
   "outputs": [
    {
     "data": {
      "text/plain": [
       "u'['"
      ]
     },
     "execution_count": 4,
     "metadata": {},
     "output_type": "execute_result"
    }
   ],
   "source": [
    "jd[0]"
   ]
  },
  {
   "cell_type": "code",
   "execution_count": null,
   "metadata": {
    "collapsed": true
   },
   "outputs": [],
   "source": []
  }
 ],
 "metadata": {
  "anaconda-cloud": {},
  "kernelspec": {
   "display_name": "Python [Root]",
   "language": "python",
   "name": "Python [Root]"
  },
  "language_info": {
   "codemirror_mode": {
    "name": "ipython",
    "version": 2
   },
   "file_extension": ".py",
   "mimetype": "text/x-python",
   "name": "python",
   "nbconvert_exporter": "python",
   "pygments_lexer": "ipython2",
   "version": "2.7.12"
  }
 },
 "nbformat": 4,
 "nbformat_minor": 0
}
