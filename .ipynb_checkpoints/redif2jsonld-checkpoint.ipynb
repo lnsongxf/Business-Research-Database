{
 "cells": [
  {
   "cell_type": "code",
   "execution_count": 9,
   "metadata": {
    "collapsed": false
   },
   "outputs": [],
   "source": [
    "import codecs\n",
    "import pandas as pd\n",
    "import io, json, codecs\n",
    "import os"
   ]
  },
  {
   "cell_type": "code",
   "execution_count": 12,
   "metadata": {
    "collapsed": false
   },
   "outputs": [],
   "source": [
    "def redif_json(journal_name,redif_file):\n",
    "    articles=[]\n",
    "    article={}\n",
    "    creators=[]\n",
    "    creator={}\n",
    "    for i in content:\n",
    "        pair=i.split(':')\n",
    "        j=i.replace(pair[0]+':','').strip()\n",
    "        if pair[0].lower()=='template-type':\n",
    "            if len(article)>0:\n",
    "                if len(creator)>0:\n",
    "                    creators.append(creator) \n",
    "                    creator={}\n",
    "                article['ex:creator']=creators\n",
    "                creators=[]\n",
    "                articles.append(article)\n",
    "            article={};\n",
    "            article['ex:creator']=[]; article['ex:keywords']=[]; \n",
    "            article['ex:source']=journal_name\n",
    "            article['@context']={\"dc\": \"http://schema.org/\"}\n",
    "            article['ex:template']=i\n",
    "        elif pair[0].lower()=='author-name':\n",
    "            if len(creator)>0:\n",
    "                creators.append(creator)\n",
    "            creator={}\n",
    "            creator['ex:name']=j\n",
    "        elif pair[0].lower()=='author-email':\n",
    "            creator['ex:email']=j\n",
    "        elif pair[0].lower()=='author-workplace-Name':\n",
    "            creator['ex:affiliation']=j\n",
    "        elif pair[0].lower()=='title':article['ex:title']=j\n",
    "        elif pair[0].lower()=='year':article['ex:date']=j\n",
    "        elif pair[0].lower()=='pages':article['ex:pages']=j\n",
    "        elif pair[0].lower()=='volume':article['ex:volume']=j\n",
    "        elif pair[0].lower()=='issue':article['ex:issue']=j\n",
    "        elif pair[0].lower()=='file-url':article['ex:url']=j\n",
    "        elif pair[0].lower()=='abstract':article['ex:abstract']=j\n",
    "        elif pair[0].lower()=='keywords':article['ex:keywords']=[keyword.strip() for keyword in j.split(',')]\n",
    "    if len(article)>0:\n",
    "        if len(creator)>0:\n",
    "            creators.append(creator) \n",
    "            creator={}\n",
    "        article['ex:creator']=creators\n",
    "        creators=[]\n",
    "        articles.append(article)   \n",
    "    jd=unicode(json.dumps(articles, ensure_ascii=False))\n",
    "    if redif_file[-4:]=='.rdf': \n",
    "        jsonld_file=jsonld_folder+redif_file.replace('.rdf','.jsonld').replace('/','_')\n",
    "    if redif_file[-6:]=='.redif': \n",
    "        jsonld_file=jsonld_folder+redif_file.replace('.redif','.jsonld').replace('/','_')\n",
    "    with io.open(jsonld_file, 'w') as f:\n",
    "        f.write(jd)\n",
    "    return (jsonld_file)"
   ]
  },
  {
   "cell_type": "code",
   "execution_count": 13,
   "metadata": {
    "collapsed": false,
    "scrolled": true
   },
   "outputs": [
    {
     "name": "stdout",
     "output_type": "stream",
     "text": [
      "Accounting, Organizations and Society 1\n",
      "American Economic Review 150\n",
      "Econometrica 29\n",
      "Econometrica 17\n",
      "Information Systems Research 1\n",
      "Journal of Accounting and Economics 1\n",
      "Journal of Accounting Research 77\n",
      "Journal of Business Ethics 384\n",
      "Journal of Business Venturing 1\n",
      "Journal of Consumer Research 180\n",
      "Journal of Finance 223\n",
      "Journal of Financial and Quantitative Analysis 52\n",
      "Journal of Financial Economics 1\n",
      "Journal of International Business Studies 253\n",
      "Journal of Management Studies 63\n",
      "Journal of Political Economy 289\n",
      "Management Science 6\n",
      "Manufacturing & Service Operations Management 7\n",
      "Marketing Science 6\n",
      "Operations Research 2\n",
      "Organization Science 3\n",
      "Organizational Behavior and Human Decision Processes 1\n",
      "Production and Operations Management 31\n",
      "Quarterly Journal of Economics 140\n",
      "Research Policy 1\n",
      "Review of Economic Studies 74\n",
      "Review of Finance 13\n",
      "Review of Financial Studies 4\n",
      "Strategic Management Journal 34\n"
     ]
    }
   ],
   "source": [
    "with open('journals.json') as data_file:    \n",
    "    journals = json.load(data_file)\n",
    "\n",
    "redif_folder='redif/'\n",
    "jsonld_folder='jsonld/'\n",
    "\n",
    "for journal in journals:\n",
    "    publisher=journal['publisher']\n",
    "    source=journal['jname']\n",
    "    journal_name=journal['journal']\n",
    "    print journal_name,\n",
    "    i=0\n",
    "    for file_name in os.listdir('redif/'+publisher+'/'+source):\n",
    "        if file_name[-4:]=='.rdf' or file_name[-6:]=='.redif':\n",
    "            redif_file=publisher+'/'+source+'/'+file_name\n",
    "            content = []\n",
    "            jd=''\n",
    "            articles=[]\n",
    "            with codecs.open(redif_folder+redif_file,encoding='utf-8',errors='ignore') as file:\n",
    "                for line in file:\n",
    "                    line = line.strip()\n",
    "                    content.append(line)\n",
    "            jsonld_file=redif_json(journal_name,redif_file)\n",
    "        i=i+1\n",
    "    print i"
   ]
  },
  {
   "cell_type": "code",
   "execution_count": null,
   "metadata": {
    "collapsed": true
   },
   "outputs": [],
   "source": []
  }
 ],
 "metadata": {
  "anaconda-cloud": {},
  "kernelspec": {
   "display_name": "Python [Root]",
   "language": "python",
   "name": "Python [Root]"
  },
  "language_info": {
   "codemirror_mode": {
    "name": "ipython",
    "version": 2
   },
   "file_extension": ".py",
   "mimetype": "text/x-python",
   "name": "python",
   "nbconvert_exporter": "python",
   "pygments_lexer": "ipython2",
   "version": "2.7.12"
  }
 },
 "nbformat": 4,
 "nbformat_minor": 0
}
