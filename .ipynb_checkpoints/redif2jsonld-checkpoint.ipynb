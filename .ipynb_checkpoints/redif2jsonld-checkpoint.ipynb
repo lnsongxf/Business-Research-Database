{
 "cells": [
  {
   "cell_type": "code",
   "execution_count": 1,
   "metadata": {
    "collapsed": false
   },
   "outputs": [],
   "source": [
    "import io, json, codecs, os, fix"
   ]
  },
  {
   "cell_type": "code",
   "execution_count": 2,
   "metadata": {
    "collapsed": false
   },
   "outputs": [],
   "source": [
    "def redif2jsonld(journal_name,redif_file):\n",
    "    global articles; articles=[]\n",
    "    global article; article={}\n",
    "    global creators; creators=[]\n",
    "    global creator; creator=''\n",
    "    global e\n",
    "    for i in content:\n",
    "        pair=i.split(':')\n",
    "        j=i.replace(pair[0]+':','').strip()\n",
    "        key=pair[0].lower()\n",
    "        if 'template-type' in key:\n",
    "            if len(article)>0:\n",
    "                if len(creator)>0: creators.append(creator); creator=''\n",
    "                article['ex:creator']=creators\n",
    "                creators=[]\n",
    "                if fix.validate(article)==True: articles.append(article)\n",
    "                else: e=e+1\n",
    "            article={}\n",
    "            article['ex:creator']=[]\n",
    "            article['ex:keyword']=[]\n",
    "            article['ex:source']=journal_name\n",
    "            article['ex:date']=''\n",
    "            article['ex:title']=''\n",
    "        elif key=='author-name':\n",
    "            if len(creator)>0: creators.append(creator)\n",
    "            creator=''\n",
    "            if ',' in j: j=' '.join(reversed([part.strip() for part in j.split(',')]))\n",
    "            creator=j\n",
    "        elif key=='title':article['ex:title']=j\n",
    "        elif key=='year':article['ex:date']=j\n",
    "        elif key=='pages':article['ex:pages']=j\n",
    "        elif key=='volume':article['ex:volume']=j\n",
    "        elif key=='issue':article['ex:issue']=j\n",
    "        elif key=='file-url':article['ex:url']=j\n",
    "        elif key=='abstract':article['ex:abstract']=j\n",
    "        elif key=='keywords':\n",
    "            for keyword in j.replace(';',',').split(','):\n",
    "                if keyword.strip()!='': article['ex:keyword'].append(fix.fix_keyword(keyword))\n",
    "\n",
    "    if len(article)>0:\n",
    "        if len(creator)>0: creators.append(creator); creator=''\n",
    "        article['ex:creator']=creators\n",
    "        creators=[]\n",
    "        articles.append(article)   \n",
    "        \n",
    "    jd=unicode(json.dumps(articles, ensure_ascii=False))\n",
    "    if redif_file[-4:]=='.rdf': \n",
    "        jsonld_file=jsonld_folder+redif_file.replace('.rdf','.jsonld').replace('/','_')\n",
    "    if redif_file[-6:]=='.redif': \n",
    "        jsonld_file=jsonld_folder+redif_file.replace('.redif','.jsonld').replace('/','_')\n",
    "    if not os.path.exists(jsonld_file):\n",
    "        with io.open(jsonld_file, 'w', encoding=\"utf-8\") as f:\n",
    "            f.write(jd)\n",
    "    return (jsonld_file)"
   ]
  },
  {
   "cell_type": "code",
   "execution_count": 8,
   "metadata": {
    "collapsed": false,
    "scrolled": true
   },
   "outputs": [
    {
     "name": "stdout",
     "output_type": "stream",
     "text": [
      " 40\n",
      "eee aosoci Accounting, Organizations and Society , INVALID= 5 files= 1\n",
      "src cnacre Contemporary Accounting Research , INVALID= 1 files= 1\n",
      "eee jaecon Journal of Accounting and Economics , INVALID= 61 files= 1\n",
      "bla joares Journal of Accounting Research , INVALID= 0 files= 77\n",
      "src enttap Entrepreneurship Theory and Practice , INVALID= 6 files= 1\n",
      "src humrel Human Relations , INVALID= 0 files= 0\n",
      "src hrmngt Human Resource Management , INVALID= 0 files= 0\n",
      "kap jbuset Journal of Business Ethics , INVALID= 12 files= 394\n",
      "eee jbvent Journal of Business Venturing , INVALID= 0 files= 1\n",
      "pal jintbs Journal of International Business Studies , INVALID= 4 files= 260\n",
      "src stentj Strategic Entrepreneurship Journal , INVALID= 0 files= 0\n",
      "aea aecrev American Economic Review , INVALID= 0 files= 151\n",
      "ecm emetrp Econometrica , INVALID= 0 files= 29\n",
      "wly emetrp Econometrica , INVALID= 0 files= 17\n",
      "ucp jpolec Journal of Political Economy , INVALID= 2 files= 290\n",
      "oup restud Review of Economic Studies , INVALID= 4 files= 74\n",
      "oup qjecon The Quarterly Journal of Economics , INVALID= 2 files= 140\n",
      "bla jfinan Journal of Finance , INVALID= 1692 files= 223\n",
      "cup jfinqa Journal of Financial and Quantitative Analysis , INVALID= 1 files= 52\n",
      "eee jfinec Journal of Financial Economics , INVALID= 72 files= 1\n",
      "oup revfin Review of Finance , INVALID= 2 files= 13\n",
      "oup rfinst Review of Financial Studies , INVALID= 1 files= 4\n",
      "src adscqt Administrative Science Quarterly , INVALID= 0 files= 0\n",
      "src jrnmng Journal of Management , INVALID= 0 files= 0\n",
      "bla jomstd Journal of Management Studies , INVALID= 1 files= 63\n",
      "eee respol Research Policy , INVALID= 9 files= 1\n",
      "bla stratm Strategic Management Journal , INVALID= 0 files= 34\n",
      "oup jconrs Journal of Consumer Research , INVALID= 1082 files= 180\n",
      "inm ormksc Marketing Science , INVALID= 6 files= 6\n",
      "src jrnmkt Journal of Marketing , INVALID= 0 files= 1\n",
      "src jrmktr Journal of Marketing Research , INVALID= 0 files= 0\n",
      "inm orisre Information Systems Research , INVALID= 1 files= 1\n",
      "ais misqrt Management Information Systems Quarterly"
     ]
    },
    {
     "ename": "OSError",
     "evalue": "[Errno 2] No such file or directory: 'redif/ais/misqrt'",
     "output_type": "error",
     "traceback": [
      "\u001b[0;31m---------------------------------------------------------------------------\u001b[0m",
      "\u001b[0;31mOSError\u001b[0m                                   Traceback (most recent call last)",
      "\u001b[0;32m<ipython-input-8-d0492fd53cb1>\u001b[0m in \u001b[0;36m<module>\u001b[0;34m()\u001b[0m\n\u001b[1;32m     23\u001b[0m             \u001b[0mi\u001b[0m\u001b[0;34m=\u001b[0m\u001b[0;36m0\u001b[0m\u001b[0;34m\u001b[0m\u001b[0m\n\u001b[1;32m     24\u001b[0m             \u001b[0me\u001b[0m\u001b[0;34m=\u001b[0m\u001b[0;36m0\u001b[0m\u001b[0;34m\u001b[0m\u001b[0m\n\u001b[0;32m---> 25\u001b[0;31m             \u001b[0;32mfor\u001b[0m \u001b[0mfile_name\u001b[0m \u001b[0;32min\u001b[0m \u001b[0mos\u001b[0m\u001b[0;34m.\u001b[0m\u001b[0mlistdir\u001b[0m\u001b[0;34m(\u001b[0m\u001b[0mredif_folder\u001b[0m\u001b[0;34m+\u001b[0m\u001b[0mpublisher\u001b[0m\u001b[0;34m+\u001b[0m\u001b[0;34m'/'\u001b[0m\u001b[0;34m+\u001b[0m\u001b[0msource\u001b[0m\u001b[0;34m)\u001b[0m\u001b[0;34m:\u001b[0m\u001b[0;34m\u001b[0m\u001b[0m\n\u001b[0m\u001b[1;32m     26\u001b[0m                 \u001b[0;32mif\u001b[0m \u001b[0mfile_name\u001b[0m\u001b[0;34m[\u001b[0m\u001b[0;34m-\u001b[0m\u001b[0;36m4\u001b[0m\u001b[0;34m:\u001b[0m\u001b[0;34m]\u001b[0m\u001b[0;34m==\u001b[0m\u001b[0;34m'.rdf'\u001b[0m \u001b[0;32mor\u001b[0m \u001b[0mfile_name\u001b[0m\u001b[0;34m[\u001b[0m\u001b[0;34m-\u001b[0m\u001b[0;36m6\u001b[0m\u001b[0;34m:\u001b[0m\u001b[0;34m]\u001b[0m\u001b[0;34m==\u001b[0m\u001b[0;34m'.redif'\u001b[0m\u001b[0;34m:\u001b[0m\u001b[0;34m\u001b[0m\u001b[0m\n\u001b[1;32m     27\u001b[0m                     \u001b[0mredif_file\u001b[0m\u001b[0;34m=\u001b[0m\u001b[0mpublisher\u001b[0m\u001b[0;34m+\u001b[0m\u001b[0;34m'/'\u001b[0m\u001b[0;34m+\u001b[0m\u001b[0msource\u001b[0m\u001b[0;34m+\u001b[0m\u001b[0;34m'/'\u001b[0m\u001b[0;34m+\u001b[0m\u001b[0mfile_name\u001b[0m\u001b[0;34m\u001b[0m\u001b[0m\n",
      "\u001b[0;31mOSError\u001b[0m: [Errno 2] No such file or directory: 'redif/ais/misqrt'"
     ]
    }
   ],
   "source": [
    "redif_folder='redif/'\n",
    "jsonld_folder='jsonld/'\n",
    "\n",
    "    \n",
    "with open('../OpenScience/subject_journals.json') as data_file:    \n",
    "    subject_journals = json.load(data_file)\n",
    "\n",
    "journals=[]\n",
    "for subject in subject_journals:\n",
    "    journals=journals+(subject['journals'])\n",
    "print len(journals)\n",
    "    \n",
    "for journal in journals:\n",
    "    source=journal['jname']\n",
    "    journal_name=journal['journal']\n",
    "    data=journal['data']\n",
    "    for type_pub in data:   \n",
    "        file_type=type_pub['type']\n",
    "        publisher=type_pub['publisher']\n",
    "        if file_type=='redif' or 'parse':\n",
    "            if file_type=='parse': publisher='src'\n",
    "            print publisher,source,journal_name,\n",
    "            i=0\n",
    "            e=0\n",
    "            for file_name in os.listdir(redif_folder+publisher+'/'+source):\n",
    "                if file_name[-4:]=='.rdf' or file_name[-6:]=='.redif':\n",
    "                    redif_file=publisher+'/'+source+'/'+file_name\n",
    "                    content = []\n",
    "                    articles=[]\n",
    "                    with codecs.open(redif_folder+redif_file,encoding='utf-8',errors='ignore') as file:\n",
    "                        for line in file:\n",
    "                            line = line.strip()\n",
    "                            content.append(line)\n",
    "                    jsonld_file=redif2jsonld(journal_name,redif_file)\n",
    "                i=i+1\n",
    "            print ', INVALID=',e,'files=',i"
   ]
  },
  {
   "cell_type": "markdown",
   "metadata": {
    "collapsed": false
   },
   "source": [
    "journal_name=''\n",
    "publisher='src'\n",
    "source='parsed'\n",
    "i=0\n",
    "e=0\n",
    "for file_name in os.listdir(redif_folder+publisher+'/'+source):\n",
    "    if file_name[-4:]=='.rdf' or file_name[-6:]=='.redif':\n",
    "        redif_file=publisher+'/'+source+'/'+file_name\n",
    "        print file_name\n",
    "        content = []\n",
    "        articles=[]\n",
    "        with codecs.open(redif_folder+redif_file,encoding='utf-8',errors='ignore') as file:\n",
    "            for line in file:\n",
    "                line = line.strip()\n",
    "                content.append(line)\n",
    "        jsonld_file=redif2jsonld(journal_name,redif_file)\n",
    "    i=i+1\n",
    "print ', INVALID=',e,'files=',i"
   ]
  },
  {
   "cell_type": "code",
   "execution_count": null,
   "metadata": {
    "collapsed": true
   },
   "outputs": [],
   "source": []
  }
 ],
 "metadata": {
  "anaconda-cloud": {},
  "kernelspec": {
   "display_name": "Python [Root]",
   "language": "python",
   "name": "Python [Root]"
  },
  "language_info": {
   "codemirror_mode": {
    "name": "ipython",
    "version": 2
   },
   "file_extension": ".py",
   "mimetype": "text/x-python",
   "name": "python",
   "nbconvert_exporter": "python",
   "pygments_lexer": "ipython2",
   "version": "2.7.12"
  }
 },
 "nbformat": 4,
 "nbformat_minor": 0
}
