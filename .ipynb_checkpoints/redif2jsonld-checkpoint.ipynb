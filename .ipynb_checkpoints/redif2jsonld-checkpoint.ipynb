{
 "cells": [
  {
   "cell_type": "code",
   "execution_count": 1,
   "metadata": {
    "collapsed": false
   },
   "outputs": [],
   "source": [
    "import codecs\n",
    "import io, json, codecs\n",
    "import os\n",
    "import fix"
   ]
  },
  {
   "cell_type": "code",
   "execution_count": 12,
   "metadata": {
    "collapsed": false
   },
   "outputs": [],
   "source": [
    "def redif_json(journal_name,redif_file):\n",
    "    global articles; articles=[]\n",
    "    global article; article={}\n",
    "    global creators; creators=[]\n",
    "    global creator; creator={}\n",
    "    global e;e=0\n",
    "    for i in content:\n",
    "        pair=i.split(':')\n",
    "        j=i.replace(pair[0]+':','').strip()\n",
    "        key=pair[0].lower()\n",
    "        if 'template-type' in key:\n",
    "            if len(article)>0:\n",
    "                if len(creator)>0:\n",
    "                    creators.append(creator) \n",
    "                    creator={}\n",
    "                article['ex:creator']=creators\n",
    "                creators=[]\n",
    "                if fix.validate(article)==True:\n",
    "                    articles.append(article)\n",
    "                else:\n",
    "                    e=e+1\n",
    "            article={}\n",
    "            article['ex:creator']=[]\n",
    "            article['ex:keyword']=[]\n",
    "            article['ex:source']=journal_name\n",
    "            article['ex:year']=''\n",
    "            article['ex:title']=''\n",
    "            #article['@context']={\"dc\": \"http://schema.org/\"}\n",
    "            #article['ex:template']=i\n",
    "        elif key=='author-name':\n",
    "            if len(creator)>0:\n",
    "                creators.append(creator)\n",
    "            creator={}\n",
    "            if ',' in j:\n",
    "                j=' '.join(reversed([part.strip() for part in j.split(',')]))\n",
    "            creator['ex:name']=j\n",
    "        elif key =='author-email':\n",
    "            creator['ex:email']=j\n",
    "        elif key=='author-workplace-Name':\n",
    "            creator['ex:affiliation']=j\n",
    "        elif key=='title':article['ex:title']=j\n",
    "        elif key=='year':article['ex:date']=j\n",
    "        elif key=='pages':article['ex:pages']=j\n",
    "        elif key=='volume':article['ex:volume']=j\n",
    "        elif key=='issue':article['ex:issue']=j\n",
    "        elif key=='file-url':article['ex:url']=j\n",
    "        elif key=='abstract':article['ex:abstract']=j\n",
    "        elif key=='keywords':\n",
    "            for keyword in j.replace(';',',').split(','):\n",
    "                if keyword.strip()!='':\n",
    "                    article['ex:keyword'].append(fix.fix_keyword(keyword))\n",
    "\n",
    "    if len(article)>0:\n",
    "        if len(creator)>0:\n",
    "            creators.append(creator) \n",
    "            creator={}\n",
    "        article['ex:creator']=creators\n",
    "        creators=[]\n",
    "        articles.append(article)   \n",
    "    jd=unicode(json.dumps(articles, ensure_ascii=False))\n",
    "    if redif_file[-4:]=='.rdf': \n",
    "        jsonld_file=jsonld_folder+redif_file.replace('.rdf','.jsonld').replace('/','_')\n",
    "    if redif_file[-6:]=='.redif': \n",
    "        jsonld_file=jsonld_folder+redif_file.replace('.redif','.jsonld').replace('/','_')\n",
    "    with io.open(jsonld_file, 'w') as f:\n",
    "        f.write(jd)\n",
    "    return (jsonld_file)"
   ]
  },
  {
   "cell_type": "code",
   "execution_count": 14,
   "metadata": {
    "collapsed": false,
    "scrolled": true
   },
   "outputs": [
    {
     "name": "stdout",
     "output_type": "stream",
     "text": [
      "eee aosoci Accounting, Organizations and Society e= 5 files= 1\n",
      "aea aecrev American Economic Review e= 0 files= 150\n",
      "ecm emetrp Econometrica e= 0 files= 29\n",
      "wly emetrp Econometrica e= 0 files= 17\n",
      "inm orisre Information Systems Research e= 0 files= 1\n",
      "eee jaecon Journal of Accounting and Economics e= 60 files= 1\n",
      "bla joares Journal of Accounting Research e= 0 files= 77\n",
      "kap jbuset Journal of Business Ethics e= 0 files= 395\n",
      "eee jbvent Journal of Business Venturing e= 0 files= 1\n",
      "oup jconrs Journal of Consumer Research e= 11 files= 180\n",
      "bla jfinan Journal of Finance e= 0 files= 223\n",
      "cup jfinqa Journal of Financial and Quantitative Analysis e= 0 files= 52\n",
      "eee jfinec Journal of Financial Economics e= 72 files= 1\n",
      "pal jintbs Journal of International Business Studies e= 0 files= 253\n",
      "bla jomstd Journal of Management Studies e= 1 files= 63\n",
      "ucp jpolec Journal of Political Economy e= 0 files= 290\n",
      "inm ormnsc Management Science e= 0 files= 6\n",
      "inm ormsom Manufacturing & Service Operations Management e= 0 files= 7\n",
      "inm ormksc Marketing Science e= 0 files= 6\n",
      "inm ororsc Operations Research e= 0 files= 2\n",
      "inm oropre Organization Science e= 0 files= 3\n",
      "eee jobhdp Organizational Behavior and Human Decision Processes e= 0 files= 1\n",
      "bla popmgt Production and Operations Management e= 0 files= 31\n",
      "oup qjecon Quarterly Journal of Economics e= 0 files= 140\n",
      "eee respol Research Policy e= 7 files= 1\n",
      "oup restud Review of Economic Studies e= 0 files= 74\n",
      "oup revfin Review of Finance e= 0 files= 13\n",
      "oup rfinst Review of Financial Studies e= 0 files= 4\n",
      "bla stratm Strategic Management Journal e= 0 files= 34\n"
     ]
    }
   ],
   "source": [
    "with open('journals.json') as data_file:    \n",
    "    journals = json.load(data_file)\n",
    "\n",
    "redif_folder='redif/'\n",
    "jsonld_folder='jsonld/'\n",
    "\n",
    "for journal in journals:\n",
    "    source=journal['jname']\n",
    "    journal_name=journal['journal']\n",
    "    data=journal['data']\n",
    "    for type_pub in data:   \n",
    "        file_type=type_pub['type']\n",
    "        publisher=type_pub['publisher']\n",
    "        if file_type=='redif':\n",
    "            print publisher,source,journal_name,\n",
    "            i=0\n",
    "            for file_name in os.listdir(redif_folder+publisher+'/'+source):\n",
    "                if file_name[-4:]=='.rdf' or file_name[-6:]=='.redif':\n",
    "                    redif_file=publisher+'/'+source+'/'+file_name\n",
    "                    content = []\n",
    "                    jd=''\n",
    "                    articles=[]\n",
    "                    with codecs.open(redif_folder+redif_file,encoding='utf-8',errors='ignore') as file:\n",
    "                        for line in file:\n",
    "                            line = line.strip()\n",
    "                            content.append(line)\n",
    "                    jsonld_file=redif_json(journal_name,redif_file)\n",
    "                i=i+1\n",
    "            print 'fixes=',e,'files=',i"
   ]
  },
  {
   "cell_type": "code",
   "execution_count": 6,
   "metadata": {
    "collapsed": false
   },
   "outputs": [
    {
     "data": {
      "text/plain": [
       "{'ex:abstract': u'This study examines the role of both religion and culture [as measured by the cultural clusters of countries in the GLOBE study of House et al. (Culture, Leadership, and Organizations: The GLOBE Study of 62 Societies, 2004 )] on the levels of perceived corruption. Covering the period from 2000 to 2010, the study uses three different measures of perceived corruption: (1) the World Bank\\u2019s Control of Corruption measure, (2) Transparency International\\u2019s Corruption Perceptions Index, and (3) Heritage Foundation\\u2019s Freedom from Corruption Index. A system of three simultaneous equations is used, with the jointly endogenous variables being (a) perceived corruption, (b) perceived government legitimacy, and (c) perceived government effectiveness. The results show that both cultural and religious differences are incrementally related to perceived corruption, even after controlling for other economic and political factors. Specifically, relative to the Protestant Christian religion, the non-Protestant Christian religion, the Islamic religion, and Other Religion/No Religion are positively associated with higher corruption (or negatively with anti-corruption), but the Buddhist and Hindu religions appear to be not significantly different from the Protestant Christian religion. On the cultural side, compared to the Anglo-Saxon cultural tradition, the other European clusters are incrementally positively associated with higher corruption, but this tendency is offset by more effective political governance, thus leading in the case of the German and Nordic cultures to levels of corruption not statistically different from the Anglo cluster. All the non-European cultural clusters are associated with significantly higher corruption tendencies, but the overall effect is mitigated partially by either greater perceived political legitimacy (Latin-American, Middle-Eastern, Caribbean, and Pacific Islander), or greater political effectiveness (Confucian and South-East Asian). Copyright Springer Science+Business Media Dordrecht 2014',\n",
       " 'ex:date': u'2014',\n",
       " 'ex:issue': u'2',\n",
       " 'ex:pages': u'255-282',\n",
       " 'ex:title': u'An Analysis of the Effect of Culture and Religion on Perceived Corruption in a Global Context',\n",
       " 'ex:volume': u'121'}"
      ]
     },
     "execution_count": 6,
     "metadata": {},
     "output_type": "execute_result"
    }
   ],
   "source": [
    "article"
   ]
  },
  {
   "cell_type": "code",
   "execution_count": null,
   "metadata": {
    "collapsed": true
   },
   "outputs": [],
   "source": []
  }
 ],
 "metadata": {
  "anaconda-cloud": {},
  "kernelspec": {
   "display_name": "Python [Root]",
   "language": "python",
   "name": "Python [Root]"
  }
 },
 "nbformat": 4,
 "nbformat_minor": 0
}
