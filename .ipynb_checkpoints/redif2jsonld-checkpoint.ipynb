{
 "cells": [
  {
   "cell_type": "code",
   "execution_count": 2,
   "metadata": {
    "collapsed": true
   },
   "outputs": [],
   "source": [
    "import codecs\n",
    "import pandas as pd\n",
    "import io, json, codecs\n",
    "import os"
   ]
  },
  {
   "cell_type": "code",
   "execution_count": 3,
   "metadata": {
    "collapsed": false
   },
   "outputs": [],
   "source": [
    "def redif_json(journal_name,redif_file):\n",
    "    articles=[]\n",
    "    article={}\n",
    "    creators=[]\n",
    "    creator={}\n",
    "    for i in content:\n",
    "        pair=i.split(':')\n",
    "        j=i.replace(pair[0]+':','').strip()\n",
    "        if pair[0].lower()=='template-type':\n",
    "            if len(article)>0:\n",
    "                if len(creator)>0:\n",
    "                    creators.append(creator) \n",
    "                    creator={}\n",
    "                article['ex:creator']=creators\n",
    "                creators=[]\n",
    "                articles.append(article)\n",
    "            article={};\n",
    "            article['ex:creator']=[]; article['ex:keywords']=[]; \n",
    "            article['ex:source']=journal_name\n",
    "            article['@context']={\"dc\": \"http://schema.org/\"}\n",
    "            article['ex:template']=i\n",
    "        elif pair[0].lower()=='author-name':\n",
    "            if len(creator)>0:\n",
    "                creators.append(creator)\n",
    "            creator={}\n",
    "            creator['ex:name']=j\n",
    "        elif pair[0].lower()=='author-email':\n",
    "            creator['ex:email']=j\n",
    "        elif pair[0].lower()=='author-workplace-Name':\n",
    "            creator['ex:affiliation']=j\n",
    "        elif pair[0].lower()=='title':article['ex:title']=j\n",
    "        elif pair[0].lower()=='year':article['ex:date']=j\n",
    "        elif pair[0].lower()=='pages':article['ex:pages']=j\n",
    "        elif pair[0].lower()=='volume':article['ex:volume']=j\n",
    "        elif pair[0].lower()=='issue':article['ex:issue']=j\n",
    "        elif pair[0].lower()=='file-url':article['ex:url']=j\n",
    "        elif pair[0].lower()=='abstract':article['ex:abstract']=j\n",
    "        elif pair[0].lower()=='keywords':article['ex:keywords']=[keyword.strip() for keyword in j.split(',')]\n",
    "    if len(article)>0:\n",
    "        if len(creator)>0:\n",
    "            creators.append(creator) \n",
    "            creator={}\n",
    "        article['ex:creator']=creators\n",
    "        creators=[]\n",
    "        articles.append(article)   \n",
    "    jd=unicode(json.dumps(articles, ensure_ascii=False))\n",
    "    jsonld_file=jsonld_folder+redif_file.replace('.rdf','.jsonld').replace('/','_')\n",
    "    with io.open(jsonld_file, 'w') as f:\n",
    "        f.write(jd)\n",
    "    return (jsonld_file)"
   ]
  },
  {
   "cell_type": "code",
   "execution_count": 4,
   "metadata": {
    "collapsed": false,
    "scrolled": true
   },
   "outputs": [
    {
     "name": "stdout",
     "output_type": "stream",
     "text": [
      "Accounting, Organizations and Society"
     ]
    },
    {
     "ename": "OSError",
     "evalue": "[Errno 2] No such file or directory: 'redif/eee/aosoci'",
     "output_type": "error",
     "traceback": [
      "\u001b[0;31m---------------------------------------------------------------------------\u001b[0m",
      "\u001b[0;31mOSError\u001b[0m                                   Traceback (most recent call last)",
      "\u001b[0;32m<ipython-input-4-63e2fb9c74e7>\u001b[0m in \u001b[0;36m<module>\u001b[0;34m()\u001b[0m\n\u001b[1;32m     11\u001b[0m     \u001b[0;32mprint\u001b[0m \u001b[0mjournal_name\u001b[0m\u001b[0;34m,\u001b[0m\u001b[0;34m\u001b[0m\u001b[0m\n\u001b[1;32m     12\u001b[0m     \u001b[0mi\u001b[0m\u001b[0;34m=\u001b[0m\u001b[0;36m0\u001b[0m\u001b[0;34m\u001b[0m\u001b[0m\n\u001b[0;32m---> 13\u001b[0;31m     \u001b[0;32mfor\u001b[0m \u001b[0mfile_name\u001b[0m \u001b[0;32min\u001b[0m \u001b[0mos\u001b[0m\u001b[0;34m.\u001b[0m\u001b[0mlistdir\u001b[0m\u001b[0;34m(\u001b[0m\u001b[0;34m'redif/'\u001b[0m\u001b[0;34m+\u001b[0m\u001b[0mpublisher\u001b[0m\u001b[0;34m+\u001b[0m\u001b[0;34m'/'\u001b[0m\u001b[0;34m+\u001b[0m\u001b[0msource\u001b[0m\u001b[0;34m)\u001b[0m\u001b[0;34m:\u001b[0m\u001b[0;34m\u001b[0m\u001b[0m\n\u001b[0m\u001b[1;32m     14\u001b[0m         \u001b[0;32mif\u001b[0m \u001b[0mfile_name\u001b[0m\u001b[0;34m[\u001b[0m\u001b[0;34m-\u001b[0m\u001b[0;36m4\u001b[0m\u001b[0;34m:\u001b[0m\u001b[0;34m]\u001b[0m\u001b[0;34m==\u001b[0m\u001b[0;34m'.rdf'\u001b[0m \u001b[0;32mor\u001b[0m \u001b[0mfile_name\u001b[0m\u001b[0;34m[\u001b[0m\u001b[0;34m-\u001b[0m\u001b[0;36m6\u001b[0m\u001b[0;34m:\u001b[0m\u001b[0;34m]\u001b[0m\u001b[0;34m==\u001b[0m\u001b[0;34m'.redif'\u001b[0m\u001b[0;34m:\u001b[0m\u001b[0;34m\u001b[0m\u001b[0m\n\u001b[1;32m     15\u001b[0m             \u001b[0mredif_file\u001b[0m\u001b[0;34m=\u001b[0m\u001b[0mpublisher\u001b[0m\u001b[0;34m+\u001b[0m\u001b[0;34m'/'\u001b[0m\u001b[0;34m+\u001b[0m\u001b[0msource\u001b[0m\u001b[0;34m+\u001b[0m\u001b[0;34m'/'\u001b[0m\u001b[0;34m+\u001b[0m\u001b[0mfile_name\u001b[0m\u001b[0;34m\u001b[0m\u001b[0m\n",
      "\u001b[0;31mOSError\u001b[0m: [Errno 2] No such file or directory: 'redif/eee/aosoci'"
     ]
    }
   ],
   "source": [
    "with open('journals.json') as data_file:    \n",
    "    journals = json.load(data_file)\n",
    "\n",
    "redif_folder='redif/'\n",
    "jsonld_folder='jsonld/'\n",
    "\n",
    "for journal in journals:\n",
    "    publisher=journal['publisher']\n",
    "    source=journal['jname']\n",
    "    journal_name=journal['journal']\n",
    "    print journal_name,\n",
    "    i=0\n",
    "    for file_name in os.listdir('redif/'+publisher+'/'+source):\n",
    "        if file_name[-4:]=='.rdf' or file_name[-6:]=='.redif':\n",
    "            redif_file=publisher+'/'+source+'/'+file_name\n",
    "            content = []\n",
    "            jd=''\n",
    "            articles=[]\n",
    "            with codecs.open(redif_folder+redif_file,encoding='utf-8',errors='ignore') as file:\n",
    "                for line in file:\n",
    "                    line = line.strip()\n",
    "                    content.append(line)\n",
    "            jsonld_file=redif_json(journal_name,redif_file)\n",
    "        i=i+1\n",
    "    print i"
   ]
  }
 ],
 "metadata": {
  "anaconda-cloud": {},
  "kernelspec": {
   "display_name": "Python [Root]",
   "language": "python",
   "name": "Python [Root]"
  },
  "language_info": {
   "codemirror_mode": {
    "name": "ipython",
    "version": 2
   },
   "file_extension": ".py",
   "mimetype": "text/x-python",
   "name": "python",
   "nbconvert_exporter": "python",
   "pygments_lexer": "ipython2",
   "version": "2.7.12"
  }
 },
 "nbformat": 4,
 "nbformat_minor": 0
}
