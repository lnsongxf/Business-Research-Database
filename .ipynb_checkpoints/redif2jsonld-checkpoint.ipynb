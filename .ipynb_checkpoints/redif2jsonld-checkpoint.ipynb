{
 "cells": [
  {
   "cell_type": "code",
   "execution_count": 67,
   "metadata": {
    "collapsed": false
   },
   "outputs": [],
   "source": [
    "import io, json, codecs, os, fix"
   ]
  },
  {
   "cell_type": "code",
   "execution_count": 117,
   "metadata": {
    "collapsed": false
   },
   "outputs": [],
   "source": [
    "def redif2jsonld(jsonld_src,journal_name,issn):\n",
    "    global articles; articles=[]\n",
    "    global article; article={}\n",
    "    global authors; authors=[]\n",
    "    global author; author=''\n",
    "    global e\n",
    "    for i in content:\n",
    "        pair=i.split(':')\n",
    "        j=i.replace(pair[0]+':','').strip()\n",
    "        key=pair[0].lower()\n",
    "        if 'template-type' in key:\n",
    "            if len(article)>0:\n",
    "                if len(author)>0: authors.append(author); author=''\n",
    "                article['e:author']=authors\n",
    "                authors=[]\n",
    "                if fix.validate(article)==True: articles.append(article)\n",
    "                else: e=e+1\n",
    "            article={}\n",
    "            article['e:author']=[]\n",
    "            article['e:keyword']=[]\n",
    "            article['e:journal']=journal_name\n",
    "            article['e:issn']=issn\n",
    "            article['e:title']=''\n",
    "            article['e:year']=0\n",
    "        elif key=='author-name':\n",
    "            if len(author)>0: authors.append(author)\n",
    "            author=''\n",
    "            if ',' in j: j=' '.join(reversed([part.strip() for part in j.split(',')]))\n",
    "            author=j\n",
    "        elif key=='title':article['e:title']=j\n",
    "        elif key=='year':article['e:year']=int(j)\n",
    "        elif key=='pages':article['e:pages']=j\n",
    "        elif key=='volume':article['e:volume']=j\n",
    "        elif key=='issue':article['e:issue']=j\n",
    "        elif key=='file-url':article['e:url']=j;article['e:doi']=j.replace('http://dx.doi.org/','')\n",
    "        elif key=='doi':article['e:doi']=j\n",
    "        elif key=='abstract':article['e:abstract']=j\n",
    "        elif key=='keywords':\n",
    "            for keyword in j.replace(';',',').split(','):\n",
    "                if keyword.strip()!='': article['e:keyword'].append(fix.fix_keyword(keyword))\n",
    "\n",
    "    if len(article)>0:\n",
    "        if len(author)>0: authors.append(author); author=''\n",
    "        article['e:author']=authors; authors=[]\n",
    "        articles.append(article)   \n",
    "        \n",
    "    jd=unicode(json.dumps(articles, ensure_ascii=False))\n",
    "    jsonld_file=jsonld_src+issn+'.jsonld'\n",
    "    if not os.path.exists(jsonld_file):\n",
    "        with io.open(jsonld_file, 'w', encoding=\"utf-8\") as f:\n",
    "            f.write(jd)\n",
    "    return (jsonld_file)"
   ]
  },
  {
   "cell_type": "code",
   "execution_count": 118,
   "metadata": {
    "collapsed": false,
    "scrolled": true
   },
   "outputs": [
    {
     "name": "stdout",
     "output_type": "stream",
     "text": [
      "40\n",
      "inm orisre Information Systems Research , INVALID= 1 files= 1\n"
     ]
    }
   ],
   "source": [
    "redif_folder='redif/'\n",
    "jsonld_src='jsonld_src/'\n",
    "\n",
    "    \n",
    "with open('../OpenScience/subject_journals.json') as data_file:    \n",
    "    subject_journals = json.load(data_file)\n",
    "\n",
    "journals=[]\n",
    "for subject in subject_journals:\n",
    "    journals=journals+(subject['journals'])\n",
    "print len(journals)\n",
    "    \n",
    "for journal in journals:\n",
    "    source=journal['jname']\n",
    "    if source != 'orisre' : continue\n",
    "    journal_name=journal['journal']\n",
    "    data=journal['data']\n",
    "    if 'issn' in journal: issn=journal['issn']\n",
    "    for type_pub in data:   \n",
    "        file_type=type_pub['type']\n",
    "        publisher=type_pub['publisher']\n",
    "        if file_type=='redif' or file_type=='parse':\n",
    "            if file_type=='parse': publisher='src'\n",
    "            print publisher,source,journal_name,\n",
    "            i=0\n",
    "            e=0\n",
    "            for file_name in os.listdir(redif_folder+publisher+'/'+source):\n",
    "                if file_name[-4:]=='.rdf' or file_name[-6:]=='.redif':\n",
    "                    redif_file=publisher+'/'+source+'/'+file_name\n",
    "                    content = []\n",
    "                    articles=[]\n",
    "                    with codecs.open(redif_folder+redif_file,encoding='utf-8',errors='ignore') as file:\n",
    "                        for line in file:\n",
    "                            line = line.strip()\n",
    "                            content.append(line)\n",
    "                    jsonld_file=redif2jsonld(jsonld_src,journal_name,issn)\n",
    "                i=i+1\n",
    "            print ', INVALID=',e,'files=',i"
   ]
  },
  {
   "cell_type": "code",
   "execution_count": 119,
   "metadata": {
    "collapsed": false
   },
   "outputs": [
    {
     "ename": "KeyError",
     "evalue": "'e:year'",
     "output_type": "error",
     "traceback": [
      "\u001b[0;31m---------------------------------------------------------------------------\u001b[0m",
      "\u001b[0;31mKeyError\u001b[0m                                  Traceback (most recent call last)",
      "\u001b[0;32m<ipython-input-119-9c3231857ce3>\u001b[0m in \u001b[0;36m<module>\u001b[0;34m()\u001b[0m\n\u001b[1;32m     19\u001b[0m \u001b[0;34m\u001b[0m\u001b[0m\n\u001b[1;32m     20\u001b[0m         \u001b[0;32mif\u001b[0m \u001b[0msrc_doi\u001b[0m \u001b[0;32mnot\u001b[0m \u001b[0;32min\u001b[0m \u001b[0mdois\u001b[0m\u001b[0;34m:\u001b[0m\u001b[0;34m\u001b[0m\u001b[0m\n\u001b[0;32m---> 21\u001b[0;31m             \u001b[0;32mif\u001b[0m \u001b[0msrc_article\u001b[0m\u001b[0;34m[\u001b[0m\u001b[0;34m'e:year'\u001b[0m\u001b[0;34m]\u001b[0m\u001b[0;34m>=\u001b[0m\u001b[0;36m1990\u001b[0m\u001b[0;34m:\u001b[0m\u001b[0;34m\u001b[0m\u001b[0m\n\u001b[0m\u001b[1;32m     22\u001b[0m                 \u001b[0;32mfor\u001b[0m \u001b[0mitem\u001b[0m \u001b[0;32min\u001b[0m \u001b[0msrc_article\u001b[0m\u001b[0;34m:\u001b[0m\u001b[0;34m\u001b[0m\u001b[0m\n\u001b[1;32m     23\u001b[0m                     \u001b[0mnew_article\u001b[0m\u001b[0;34m[\u001b[0m\u001b[0mitem\u001b[0m\u001b[0;34m]\u001b[0m\u001b[0;34m=\u001b[0m\u001b[0msrc_article\u001b[0m\u001b[0;34m[\u001b[0m\u001b[0mitem\u001b[0m\u001b[0;34m]\u001b[0m\u001b[0;34m\u001b[0m\u001b[0m\n",
      "\u001b[0;31mKeyError\u001b[0m: 'e:year'"
     ]
    }
   ],
   "source": [
    "jsonld_src='jsonld_src/'\n",
    "jsonld_folder='jsonld/'\n",
    "for path in os.listdir(jsonld_src):\n",
    "    with open(jsonld_src+path) as data_file:    \n",
    "        src_json = json.load(data_file)\n",
    "    with open(jsonld_folder+'doi_'+'0742-1222.jsonld') as data_file:    \n",
    "        doi_json = json.load(data_file)\n",
    "    dois=[art['e:doi'] for art in doi_json]; len(dois)\n",
    "    new_articles=[]\n",
    "    for src_article in src_json:\n",
    "        new_article={}\n",
    "        src_doi=src_article['e:doi']\n",
    "        if src_doi in dois:\n",
    "            doi_article=[art for art in doi_json if art['e:doi']==src_doi][0]\n",
    "            for item in ['e:year','e:volume','e:issue','e:keyword','e:abstract']:\n",
    "                if item in src_article and item not in doi_article:\n",
    "                    new_article[item]=src_article[item]\n",
    "            new_article['@id']=doi_article['@id']\n",
    "\n",
    "        if src_doi not in dois:\n",
    "            if src_article['e:year']>=1990:\n",
    "                for item in src_article:\n",
    "                    new_article[item]=src_article[item]\n",
    "                new_article['@id']=new_article.pop('e:url')\n",
    "        if len(new_article)>0:\n",
    "            new_articles.append(new_article)\n",
    "    len(new_articles)"
   ]
  },
  {
   "cell_type": "code",
   "execution_count": 120,
   "metadata": {
    "collapsed": false
   },
   "outputs": [
    {
     "data": {
      "text/plain": [
       "{u'e:abstract': u'We study the relationship between a client and a vendor in value co-creation environments such as information technology projects. We consider that the client gets utility from the project throughout the development period and that the effort levels are not verifiable if not monitored. The output is contingent on the effort levels of each party, and we allow these effort levels to be dynamic. Hence, the client needs to optimally decide the terms of payment structures so as to maximize her net value. We analyze the performance of different payment structures and find the best one for the client in diverse settings. We show that the remaining time of the project and the client\\u2019s valuation of the project regulate the behavior of the effort levels and some other characteristics in the collaboration. We derive the conditions under which the client chooses not to monitor the vendor\\u2019s effort and operates in a double moral hazard environment. In addition, we find that the equilibrium effort levels or the values the parties gain from the collaboration do not necessarily increase when the output becomes more sensitive to either party\\u2019s effort. Based on the results of our model, we present several other managerial insights.',\n",
       " u'e:author': [u'Emre M. Demirezen', u'Subodha Kumar', u'Bala Shetty'],\n",
       " u'e:doi': u'10.1287/isre.2016.0636',\n",
       " u'e:issn': u'1047-7047',\n",
       " u'e:issue': u'3',\n",
       " u'e:journal': u'Information Systems Research',\n",
       " u'e:keyword': [u'Value co-creation',\n",
       "  u'Collaboration',\n",
       "  u'Information technology services',\n",
       "  u'Differential game'],\n",
       " u'e:pages': u'517-537',\n",
       " u'e:title': u'Managing Co-Creation in Information Technology Projects: A Differential Games Approach',\n",
       " u'e:url': u'http://dx.doi.org/10.1287/isre.2016.0636',\n",
       " u'e:volume': u'27'}"
      ]
     },
     "execution_count": 120,
     "metadata": {},
     "output_type": "execute_result"
    }
   ],
   "source": [
    "src_article"
   ]
  },
  {
   "cell_type": "code",
   "execution_count": 115,
   "metadata": {
    "collapsed": true
   },
   "outputs": [],
   "source": [
    "jd=unicode(json.dumps(new_articles, ensure_ascii=False))\n",
    "jsonld_file=jsonld_folder+'src_'+issn+'.jsonld'\n",
    "if not os.path.exists(jsonld_file):\n",
    "    with io.open(jsonld_file, 'w', encoding=\"utf-8\") as f:\n",
    "        f.write(jd)"
   ]
  },
  {
   "cell_type": "code",
   "execution_count": null,
   "metadata": {
    "collapsed": true
   },
   "outputs": [],
   "source": []
  }
 ],
 "metadata": {
  "anaconda-cloud": {},
  "kernelspec": {
   "display_name": "Python [Root]",
   "language": "python",
   "name": "Python [Root]"
  },
  "language_info": {
   "codemirror_mode": {
    "name": "ipython",
    "version": 2
   },
   "file_extension": ".py",
   "mimetype": "text/x-python",
   "name": "python",
   "nbconvert_exporter": "python",
   "pygments_lexer": "ipython2",
   "version": "2.7.12"
  }
 },
 "nbformat": 4,
 "nbformat_minor": 0
}
