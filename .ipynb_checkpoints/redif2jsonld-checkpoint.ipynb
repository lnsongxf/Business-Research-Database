{
 "cells": [
  {
   "cell_type": "code",
   "execution_count": 6,
   "metadata": {
    "collapsed": false
   },
   "outputs": [],
   "source": [
    "import codecs\n",
    "import io, json, codecs\n",
    "import os\n",
    "import fix"
   ]
  },
  {
   "cell_type": "code",
   "execution_count": 9,
   "metadata": {
    "collapsed": false
   },
   "outputs": [
    {
     "name": "stdout",
     "output_type": "stream",
     "text": [
      "\n"
     ]
    }
   ],
   "source": [
    "def redif_json(journal_name,redif_file):\n",
    "    global articles; articles=[]\n",
    "    global article; article={}\n",
    "    global creators; creators=[]\n",
    "    global creator; creator={}\n",
    "    for i in content:\n",
    "        pair=i.split(':')\n",
    "        j=i.replace(pair[0]+':','').strip()\n",
    "        key=pair[0].lower()\n",
    "        if 'template-type' in key:\n",
    "            if len(article)>0:\n",
    "                if len(creator)>0:\n",
    "                    creators.append(creator) \n",
    "                    creator={}\n",
    "                article['ex:creator']=creators\n",
    "                creators=[]\n",
    "                articles.append(article)\n",
    "            article={}\n",
    "            article['ex:creator']=[]\n",
    "            article['ex:keyword']=[]\n",
    "            article['ex:source']=journal_name\n",
    "            article['@context']={\"dc\": \"http://schema.org/\"}\n",
    "            article['ex:template']=i\n",
    "        elif key=='author-name':\n",
    "            if len(creator)>0:\n",
    "                creators.append(creator)\n",
    "            creator={}\n",
    "            if ',' in j:\n",
    "                j=' '.join(reversed([part.strip() for part in j.split(',')]))\n",
    "            creator['ex:name']=j\n",
    "        elif key =='author-email':\n",
    "            creator['ex:email']=j\n",
    "        elif key=='author-workplace-Name':\n",
    "            creator['ex:affiliation']=j\n",
    "        elif key=='title':article['ex:title']=j\n",
    "        elif key=='year':article['ex:date']=j\n",
    "        elif key=='pages':article['ex:pages']=j\n",
    "        elif key=='volume':article['ex:volume']=j\n",
    "        elif key=='issue':article['ex:issue']=j\n",
    "        elif key=='file-url':article['ex:url']=j\n",
    "        elif key=='abstract':article['ex:abstract']=j\n",
    "        elif key=='keywords':\n",
    "            for keyword in j.replace(';',',').split(','):\n",
    "                if keyword.strip()!='':\n",
    "                    article['ex:keyword'].append(fix.fix_keyword(keyword))\n",
    "    if len(article)>0:\n",
    "        if len(creator)>0:\n",
    "            creators.append(creator) \n",
    "            creator={}\n",
    "        article['ex:creator']=creators\n",
    "        creators=[]\n",
    "        articles.append(article)   \n",
    "    jd=unicode(json.dumps(articles, ensure_ascii=False))\n",
    "    if redif_file[-4:]=='.rdf': \n",
    "        jsonld_file=jsonld_folder+redif_file.replace('.rdf','.jsonld').replace('/','_')\n",
    "    if redif_file[-6:]=='.redif': \n",
    "        jsonld_file=jsonld_folder+redif_file.replace('.redif','.jsonld').replace('/','_')\n",
    "    with io.open(jsonld_file, 'w') as f:\n",
    "        f.write(jd)\n",
    "    return (jsonld_file)"
   ]
  },
  {
   "cell_type": "code",
   "execution_count": 10,
   "metadata": {
    "collapsed": false,
    "scrolled": true
   },
   "outputs": [
    {
     "name": "stdout",
     "output_type": "stream",
     "text": [
      "eee aosoci Accounting, Organizations and Society 1\n",
      "aea aecrev American Economic Review 150\n",
      "ecm emetrp Econometrica 29\n",
      "wly emetrp Econometrica 17\n",
      "inm orisre Information Systems Research 1\n",
      "eee jaecon Journal of Accounting and Economics 1\n",
      "bla joares Journal of Accounting Research 77\n",
      "kap jbuset Journal of Business Ethics 394\n",
      "eee jbvent Journal of Business Venturing 1\n",
      "oup jconrs Journal of Consumer Research 180\n",
      "bla jfinan Journal of Finance 223\n",
      "cup jfinqa Journal of Financial and Quantitative Analysis 52\n",
      "eee jfinec Journal of Financial Economics 1\n",
      "pal jintbs Journal of International Business Studies 253\n",
      "bla jomstd Journal of Management Studies 63\n",
      "ucp jpolec Journal of Political Economy 290\n",
      "inm ormnsc Management Science 6\n",
      "inm ormsom Manufacturing & Service Operations Management 7\n",
      "inm ormksc Marketing Science 6\n",
      "inm ororsc Operations Research 2\n",
      "inm oropre Organization Science 3\n",
      "eee jobhdp Organizational Behavior and Human Decision Processes 1\n",
      "bla popmgt Production and Operations Management 31\n",
      "oup qjecon Quarterly Journal of Economics 140\n",
      "eee respol Research Policy 1\n",
      "oup restud Review of Economic Studies 74\n",
      "oup revfin Review of Finance 13\n",
      "oup rfinst Review of Financial Studies 4\n",
      "bla stratm Strategic Management Journal 34\n"
     ]
    }
   ],
   "source": [
    "with open('journals.json') as data_file:    \n",
    "    journals = json.load(data_file)\n",
    "\n",
    "redif_folder='redif/'\n",
    "jsonld_folder='jsonld/'\n",
    "\n",
    "for journal in journals:\n",
    "    source=journal['jname']\n",
    "    journal_name=journal['journal']\n",
    "    data=journal['data']:\n",
    "    for type_pub in data:   \n",
    "        file_type=journal['type']\n",
    "        publisher=journal['publisher']\n",
    "        if file_type=='redif':\n",
    "            print publisher,source,journal_name,\n",
    "            i=0\n",
    "            for file_name in os.listdir(redif_folder+publisher+'/'+source):\n",
    "                if file_name[-4:]=='.rdf' or file_name[-6:]=='.redif':\n",
    "                    redif_file=publisher+'/'+source+'/'+file_name\n",
    "                    content = []\n",
    "                    jd=''\n",
    "                    articles=[]\n",
    "                    with codecs.open(redif_folder+redif_file,encoding='utf-8',errors='ignore') as file:\n",
    "                        for line in file:\n",
    "                            line = line.strip()\n",
    "                            content.append(line)\n",
    "                    jsonld_file=redif_json(journal_name,redif_file)\n",
    "                i=i+1\n",
    "            print i"
   ]
  },
  {
   "cell_type": "code",
   "execution_count": null,
   "metadata": {
    "collapsed": true
   },
   "outputs": [],
   "source": []
  }
 ],
 "metadata": {
  "anaconda-cloud": {},
  "kernelspec": {
   "display_name": "Python [Root]",
   "language": "python",
   "name": "Python [Root]"
  },
  "language_info": {
   "codemirror_mode": {
    "name": "ipython",
    "version": 2
   },
   "file_extension": ".py",
   "mimetype": "text/x-python",
   "name": "python",
   "nbconvert_exporter": "python",
   "pygments_lexer": "ipython2",
   "version": "2.7.12"
  }
 },
 "nbformat": 4,
 "nbformat_minor": 0
}
