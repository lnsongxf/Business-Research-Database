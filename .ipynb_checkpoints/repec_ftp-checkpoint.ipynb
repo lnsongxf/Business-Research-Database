{
 "cells": [
  {
   "cell_type": "code",
   "execution_count": 1,
   "metadata": {
    "collapsed": false
   },
   "outputs": [
    {
     "data": {
      "text/plain": [
       "'230 Login successful.'"
      ]
     },
     "execution_count": 1,
     "metadata": {},
     "output_type": "execute_result"
    }
   ],
   "source": [
    "import os \n",
    "import ftplib\n",
    "import json\n",
    "import time\n",
    "import subprocess\n",
    "\n",
    "ftp = ftplib.FTP(\"ftp.repec.org\")\n",
    "ftp.login() "
   ]
  },
  {
   "cell_type": "code",
   "execution_count": 2,
   "metadata": {
    "collapsed": false
   },
   "outputs": [],
   "source": [
    "base='/opt/ReDIF/RePEc'\n",
    "\n",
    "with open('journals.json') as data_file:    \n",
    "    journals = json.load(data_file)"
   ]
  },
  {
   "cell_type": "code",
   "execution_count": 3,
   "metadata": {
    "collapsed": false,
    "scrolled": true
   },
   "outputs": [
    {
     "name": "stdout",
     "output_type": "stream",
     "text": [
      "/opt/ReDIF/RePEc/eee/jbvent\n",
      "/opt/ReDIF/RePEc/oup/jconrs\n",
      "/opt/ReDIF/RePEc/bla/jfinan\n",
      "/opt/ReDIF/RePEc/cup/jfinqa\n",
      "/opt/ReDIF/RePEc/cup/jfinqa/jfinqa_vol001.rdf\n",
      "/opt/ReDIF/RePEc/cup/jfinqa/jfinqa_vol002.rdf\n",
      "/opt/ReDIF/RePEc/cup/jfinqa/jfinqa_vol003.rdf\n",
      "/opt/ReDIF/RePEc/cup/jfinqa/jfinqa_vol004.rdf\n",
      "/opt/ReDIF/RePEc/cup/jfinqa/jfinqa_vol005.rdf\n",
      "/opt/ReDIF/RePEc/cup/jfinqa/jfinqa_vol006.rdf\n",
      "/opt/ReDIF/RePEc/cup/jfinqa/jfinqa_vol007.rdf\n",
      "/opt/ReDIF/RePEc/cup/jfinqa/jfinqa_vol008.rdf\n",
      "/opt/ReDIF/RePEc/cup/jfinqa/jfinqa_vol009.rdf\n",
      "/opt/ReDIF/RePEc/cup/jfinqa/jfinqa_vol010.rdf\n",
      "/opt/ReDIF/RePEc/cup/jfinqa/jfinqa_vol011.rdf\n",
      "/opt/ReDIF/RePEc/cup/jfinqa/jfinqa_vol012.rdf\n",
      "/opt/ReDIF/RePEc/cup/jfinqa/jfinqa_vol013.rdf\n",
      "/opt/ReDIF/RePEc/cup/jfinqa/jfinqa_vol014.rdf\n",
      "/opt/ReDIF/RePEc/cup/jfinqa/jfinqa_vol015.rdf\n",
      "/opt/ReDIF/RePEc/cup/jfinqa/jfinqa_vol016.rdf\n",
      "/opt/ReDIF/RePEc/cup/jfinqa/jfinqa_vol017.rdf\n",
      "/opt/ReDIF/RePEc/cup/jfinqa/jfinqa_vol018.rdf\n",
      "/opt/ReDIF/RePEc/cup/jfinqa/jfinqa_vol019.rdf\n",
      "/opt/ReDIF/RePEc/cup/jfinqa/jfinqa_vol020.rdf\n",
      "/opt/ReDIF/RePEc/cup/jfinqa/jfinqa_vol021.rdf\n",
      "/opt/ReDIF/RePEc/cup/jfinqa/jfinqa_vol022.rdf\n",
      "/opt/ReDIF/RePEc/cup/jfinqa/jfinqa_vol023.rdf\n",
      "/opt/ReDIF/RePEc/cup/jfinqa/jfinqa_vol024.rdf\n",
      "/opt/ReDIF/RePEc/cup/jfinqa/jfinqa_vol025.rdf\n",
      "/opt/ReDIF/RePEc/cup/jfinqa/jfinqa_vol026.rdf\n",
      "/opt/ReDIF/RePEc/cup/jfinqa/jfinqa_vol027.rdf\n",
      "/opt/ReDIF/RePEc/cup/jfinqa/jfinqa_vol028.rdf\n",
      "/opt/ReDIF/RePEc/cup/jfinqa/jfinqa_vol029.rdf\n",
      "/opt/ReDIF/RePEc/cup/jfinqa/jfinqa_vol030.rdf\n",
      "/opt/ReDIF/RePEc/cup/jfinqa/jfinqa_vol031.rdf\n",
      "/opt/ReDIF/RePEc/cup/jfinqa/jfinqa_vol032.rdf\n",
      "/opt/ReDIF/RePEc/cup/jfinqa/jfinqa_vol033.rdf\n",
      "/opt/ReDIF/RePEc/cup/jfinqa/jfinqa_vol034.rdf\n",
      "/opt/ReDIF/RePEc/cup/jfinqa/jfinqa_vol035.rdf\n",
      "/opt/ReDIF/RePEc/cup/jfinqa/jfinqa_vol036.rdf\n",
      "/opt/ReDIF/RePEc/cup/jfinqa/jfinqa_vol037.rdf\n",
      "/opt/ReDIF/RePEc/cup/jfinqa/jfinqa_vol038.rdf\n",
      "/opt/ReDIF/RePEc/cup/jfinqa/jfinqa_vol039.rdf\n",
      "/opt/ReDIF/RePEc/cup/jfinqa/jfinqa_vol040.rdf\n",
      "/opt/ReDIF/RePEc/cup/jfinqa/jfinqa_vol041.rdf\n",
      "/opt/ReDIF/RePEc/cup/jfinqa/jfinqa_vol042.rdf\n",
      "/opt/ReDIF/RePEc/cup/jfinqa/jfinqa_vol043.rdf\n",
      "/opt/ReDIF/RePEc/cup/jfinqa/jfinqa_vol044.rdf\n",
      "/opt/ReDIF/RePEc/cup/jfinqa/jfinqa_vol045.rdf\n",
      "/opt/ReDIF/RePEc/cup/jfinqa/jfinqa_vol046.rdf\n",
      "/opt/ReDIF/RePEc/cup/jfinqa/jfinqa_vol047.rdf\n",
      "/opt/ReDIF/RePEc/cup/jfinqa/jfinqa_vol048.rdf\n",
      "/opt/ReDIF/RePEc/cup/jfinqa/jfinqa_vol049.rdf\n",
      "/opt/ReDIF/RePEc/cup/jfinqa/jfinqa_vol050.rdf\n",
      "/opt/ReDIF/RePEc/cup/jfinqa/jfinqa_vol051.rdf\n",
      "/opt/ReDIF/RePEc/cup/jfinqa/jfinqa_vol052.rdf\n",
      "/opt/ReDIF/RePEc/eee/jfinec\n",
      "/opt/ReDIF/RePEc/pal/jintbs\n",
      "/opt/ReDIF/RePEc/bla/jomstd\n",
      "/opt/ReDIF/RePEc/ucp/jpolec\n",
      "/opt/ReDIF/RePEc/inm/ormnsc\n",
      "/opt/ReDIF/RePEc/inm/ormsom\n",
      "/opt/ReDIF/RePEc/inm/ormksc\n",
      "/opt/ReDIF/RePEc/inm/ororsc\n",
      "/opt/ReDIF/RePEc/inm/oropre\n",
      "/opt/ReDIF/RePEc/eee/jobhdp\n",
      "/opt/ReDIF/RePEc/bla/popmgt\n",
      "/opt/ReDIF/RePEc/oup/qjecon\n",
      "/opt/ReDIF/RePEc/eee/respol\n",
      "/opt/ReDIF/RePEc/oup/restud\n",
      "/opt/ReDIF/RePEc/oup/revfin\n",
      "/opt/ReDIF/RePEc/oup/rfinst\n",
      "/opt/ReDIF/RePEc/bla/stratm\n",
      "/opt/ReDIF/RePEc/dgc/misqrt\n",
      "/opt/ReDIF/RePEc/taf/jrnmis\n",
      "/opt/ReDIF/RePEc/sag/jrnmng\n",
      "/opt/ReDIF/RePEc/sag/orgstd\n",
      "/opt/ReDIF/RePEc/sag/adscqt\n",
      "/opt/ReDIF/RePEc/wly/popmgt\n"
     ]
    }
   ],
   "source": [
    "last_stamp='213 20170401000000'\n",
    "for journal in journals[8:]:\n",
    "    publisher=journal['publisher']\n",
    "    jname=journal['jname']\n",
    "    remote_journal=base+'/'+publisher+'/'+jname\n",
    "    print remote_journal\n",
    "    remote_files = ftp.nlst(remote_journal)\n",
    "    local_publisher='redif/'+publisher\n",
    "    if not os.path.exists(local_publisher):\n",
    "        os.makedirs(local_publisher)\n",
    "    local_journal=local_publisher+'/'+jname\n",
    "    if not os.path.exists(local_journal):\n",
    "        os.makedirs(local_journal)\n",
    "    for remote_file in remote_files:\n",
    "        if remote_file[-4:]=='.rdf' or remote_file[-6:]=='.redif':\n",
    "            local_file = local_journal+remote_file.replace(remote_journal,'')\n",
    "            modifiedTime = ftp.sendcmd('MDTM ' + remote_file)\n",
    "            file_stamp= modifiedTime\n",
    "            if file_stamp>last_stamp:\n",
    "                f = open(local_file, 'w')\n",
    "                ftp.retrbinary('RETR '+ remote_file, f.write)\n",
    "                f.close()\n",
    "                print remote_file\n"
   ]
  },
  {
   "cell_type": "code",
   "execution_count": null,
   "metadata": {
    "collapsed": true
   },
   "outputs": [],
   "source": [
    "ftp.quit() # This is the “polite” way to close a connection"
   ]
  }
 ],
 "metadata": {
  "anaconda-cloud": {},
  "kernelspec": {
   "display_name": "Python [Root]",
   "language": "python",
   "name": "Python [Root]"
  },
  "language_info": {
   "codemirror_mode": {
    "name": "ipython",
    "version": 2
   },
   "file_extension": ".py",
   "mimetype": "text/x-python",
   "name": "python",
   "nbconvert_exporter": "python",
   "pygments_lexer": "ipython2",
   "version": "2.7.12"
  }
 },
 "nbformat": 4,
 "nbformat_minor": 0
}
