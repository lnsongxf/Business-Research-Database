{
 "cells": [
  {
   "cell_type": "code",
   "execution_count": 52,
   "metadata": {
    "collapsed": true
   },
   "outputs": [],
   "source": [
    "#todo: \n",
    "#move Jr to AF edit\n",
    "#abstract remove long"
   ]
  },
  {
   "cell_type": "code",
   "execution_count": 2,
   "metadata": {
    "collapsed": false
   },
   "outputs": [],
   "source": [
    "import glob, os\n",
    "from bs4 import BeautifulSoup as bs\n",
    "import re\n",
    "import collections\n",
    "import json\n",
    "import io\n",
    "import fix"
   ]
  },
  {
   "cell_type": "code",
   "execution_count": 9,
   "metadata": {
    "collapsed": false
   },
   "outputs": [
    {
     "name": "stdout",
     "output_type": "stream",
     "text": [
      "\n"
     ]
    }
   ],
   "source": [
    "def src2jsonld(journal_name,base_folder):\n",
    "    global articles, article, s, s_body, vol_iss_year, e\n",
    "    articles=[]\n",
    "    folder=base_folder+\"/htmls\"\n",
    "    files=os.listdir(folder)\n",
    "    l=[]\n",
    "    i=0\n",
    "    for f in files:\n",
    "        i=i+1\n",
    "        if 'html' in f:\n",
    "            if i % 10 ==0:\n",
    "                print i,\n",
    "            creators=[] \n",
    "            article={}\n",
    "            article['ex:creator']=[]\n",
    "            article['ex:keyword']=[]\n",
    "            article['ex:issue']='0';article['ex:volume']='0'\n",
    "            html=open(folder+'/'+f).read()\n",
    "            s = bs(html, 'lxml').find('head')\n",
    "            s_body=bs(html, 'lxml').find('body')\n",
    "            try:\n",
    "                vol_iss_year=s_body.find('div',{\"class\":\"articleJournalNavTitle\"}).text.replace('\\n','').replace('\\t','')\n",
    "                article['ex:date']=vol_iss_year[-4:]\n",
    "                article['ex:issue']= vol_iss_year.split('Issue ')[1].split(', ')[0]         \n",
    "                article['ex:volume']= vol_iss_year.split('Vol ')[1].split(', ')[0]            \n",
    "            except Exception:\n",
    "                article['ex:date']=s_body.find('div',{\"class\":\"published-dates\"}).text.split('\\n')[1][-4:]\n",
    "                pass\n",
    "            j=''\n",
    "            for c in s.findAll(\"meta\",{\"name\":\"dc.Creator\"}):\n",
    "                creator={}\n",
    "                creator['ex:name']=c['content']\n",
    "                creators.append(creator)\n",
    "            keywords=s.find(\"meta\",{\"name\":\"keywords\"})\n",
    "            if keywords is not None: \n",
    "                for k in keywords['content'].split(','):\n",
    "                    article['ex:keyword'].append(fix.fix_keyword(k))\n",
    "\n",
    "            article['ex:title']=s.find(\"meta\",{\"name\":\"dc.Title\"})['content']\n",
    "\n",
    "            doi=s.find(\"meta\",{\"name\":\"dc.Source\"})['content']\n",
    "            if doi is not None:\n",
    "                article['ex:url']=doi\n",
    "\n",
    "            abstract=s.find(\"meta\",{\"name\":\"dc.Description\"})\n",
    "            if abstract is not None:\n",
    "                article['ex:abstract']= abstract['content']\n",
    "\n",
    "            article['ex:source']= s.find(\"meta\",{\"name\":\"citation_journal_title\"})['content']\n",
    "            article['ex:creator']=creators\n",
    "            if fix.validate(article)==True:\n",
    "                articles.append(article)\n",
    "            else:\n",
    "                e=e+1\n",
    "    jsonld_folder='jsonld/'\n",
    "    jd=unicode(json.dumps(articles, ensure_ascii=False))\n",
    "    jsonld_file=jsonld_folder+(base_folder+'.jsonld').replace('/','_')\n",
    "    with io.open(jsonld_file, 'w') as f:\n",
    "        f.write(jd)\n",
    "    return (jsonld_file)"
   ]
  },
  {
   "cell_type": "code",
   "execution_count": 10,
   "metadata": {
    "collapsed": false,
    "scrolled": true
   },
   "outputs": [
    {
     "name": "stdout",
     "output_type": "stream",
     "text": [
      "sag jrnmng Journal of Management 10 20 30 40 50 60 70 80 90 100 110 120 130 140 150 160 170 180 190 200 210 220 230 240 250 260 270 280 290 300 310 320 330 340 350 360 370 380 390 400 410 420 430 440 450 460 470 480 490 500 510 520 530 540 550 560 570 580 590 600 610 620 630 640 650 660 670 680 690 700 710 720 730 740 750 760 770 780 790 800 810 820 830 840 850 860 870 880 890 900 910 920 930 940 950 960 970 980 990 1000 1010 1020 1030 1040 1050 1060 1070 1080 1090 1100 1110 1120 1130 1140 1150 1160 1170 1180 1190 1200 1210 1220 1230 1240 1250 1260 1270 1280 1290 1300 1310 1320 1330 1340 1350 1360 1370 1380 1390 1400 1410 1420 1430 1440 1450 1460 1470 1480 1490 1500 1510 1520 1530 1540 1550 1560 1570 1580 1590 1600 1610 1620 1630 1640 1650 1660 1670 1680 1690 1700 1710 1720 1730 1740 1750 1760 1770 1780 1790 1800 1810 1820 1830 1840 1850 1860 1870 1880 1890 1900 1910 1920 1930 1940 1950 1960 1970 1980 1990 2000 2010 2020 2030 2040 2050 2060 2070 fixed=  17\n",
      "sag orgstd Organization Studies 10 20 30 40 50 60 70 80 90 100 110 120 130 140 150 160 170 180 190 200 210 220 230 240 250 260 270 280 290 300 310 320 330 340 350 360 370 380 390 400 410 420 430 440 450 460 470 480 490 500 510 520 530 540 550 560 570 580 590 600 610 620 630 640 650 660 670 680 690 700 710 720 730 740 750 760 770 780 790 800 810 820 830 840 850 860 870 880 890 900 910 920 930 940 950 960 970 980 990 1000 1010 1020 1030 1040 1050 1060 1070 1080 1090 1100 1110 1120 1130 1140 1150 1160 1170 1180 1190 1200 1210 1220 1230 1240 1250 1260 1270 1280 1290 1300 1310 1320 1330 1340 1350 1360 1370 1380 1390 1400 1410 1420 1430 1440 1450 1460 1470 1480 1490 1500 1510 1520 1530 1540 1550 1560 1570 1580 1590 1600 1610 1620 1630 1640 1650 1660 1670 1680 1690 1700 1710 1720 1730 1740 1750 1760 1770 1780 1790 1800 1810 1820 1830 1840 1850 1860 1870 1880 1890 1900 1910 1920 1930 1940 1950 1960 1970 1980 1990 2000 2010 2020 2030 2040 2050 2060 2070 2080 2090 2100 2110 2120 2130 2140 2150 2160 2170 2180 2190 2200 2210 2220 2230 2240 2250 2260 2270 2280 2290 2300 2310 2320 2330 2340 2350 2360 2370 2380 2390 2400 2410 2420 2430 2440 2450 2460 2470 2480 2490 2500 2510 2520 2530 2540 2550 2560 2570 2580 2590 2600 2610 2620 2630 2640 2650 2660 2670 2680 2690 2700 2710 2720 2730 2740 2750 2760 2770 2780 2790 2800 2810 2820 2830 2840 2850 2860 2870 2880 2890 2900 2910 2920 2930 2940 2950 2960 2970 2980 2990 3000 3010 3020 3030 3040 3050 3060 3070 3080 3090 3100 3110 3120 3130 3140 3150 3160 3170 3180 3190 3200 3210 3220 3230 fixed=  119\n",
      "sag adscqt Administrative Science Quarterly 10 20 30 40 50 60 70 80 90 100 110 120 130 140 150 160 170 180 190 200 210 220 230 240 250 260 270 280 290 300 310 320 330 340 350 360 370 380 390 400 410 420 430 440 450 460 470 480 490 500 510 520 530 540 550 560 570 580 590 600 610 620 630 640 650 660 670 680 690 700 710 720 730 740 750 760 770 780 790 800 810 820 830 840 850 860 870 880 890 900 910 920 930 940 950 960 970 980 990 1000 1010 1020 1030 1040 1050 1060 1070 1080 1090 1100 1110 1120 1130 1140 1150 fixed=  260\n"
     ]
    }
   ],
   "source": [
    "with open('journals.json') as data_file:    \n",
    "    journals = json.load(data_file)\n",
    "\n",
    "src_folder='src/'\n",
    "jsonld_folder='jsonld/'\n",
    "\n",
    "for journal in journals:\n",
    "    source=journal['jname']\n",
    "    journal_name=journal['journal']\n",
    "    data=journal['data']\n",
    "    for type_pub in data:   \n",
    "        file_type=type_pub['type']\n",
    "        publisher=type_pub['publisher']\n",
    "        if file_type=='src' and publisher=='sag':\n",
    "            e=0\n",
    "            print publisher,source,journal_name,\n",
    "            base_folder=file_type+'/'+publisher+'/'+source\n",
    "            src2jsonld(journal_name,base_folder)\n",
    "            print 'fixed= ',e"
   ]
  },
  {
   "cell_type": "code",
   "execution_count": 83,
   "metadata": {
    "collapsed": false
   },
   "outputs": [
    {
     "data": {
      "text/plain": [
       "{'ex:abstract': u'This article examines the influence on organizational outcomes of CEOs\\u2019 political ideology, specifically political conservatism vs. liberalism. We propose that CEOs\\u2019 political ideologies will influence their firms\\u2019 corporate social responsibility (CSR) practices, hypothesizing that (1) liberal CEOs will emphasize CSR more than will conservative CEOs; (2) the association between a CEO\\u2019s political ideology and CSR will be amplified by a CEO\\u2019s relative power; and (3) liberal CEOs will emphasize CSR even when recent financial performance is low, whereas conservative CEOs will pursue CSR initiatives only as performance allows. We test our ideas with a sample of 249 CEOs, measuring their ideologies by coding their political donations over the ten years prior to their becoming CEOs. Results indicate that the political ideologies of CEOs are manifested in their firms\\u2019 CSR profiles. Compared with conservative CEOs, liberal CEOs exhibit greater advances in CSR; the influence of CEOs\\u2019 political liberalism on CSR is ...',\n",
       " 'ex:creator': [{'ex:name': 'M. K. Chin'},\n",
       "  {'ex:name': 'Donald C. Hambrick'},\n",
       "  {'ex:name': u'Linda K. Trevi\\xf1o'}],\n",
       " 'ex:date': u'2013',\n",
       " 'ex:issue': u'2',\n",
       " 'ex:keyword': ['values',\n",
       "  'political ideology',\n",
       "  'chief executive officers',\n",
       "  'top management',\n",
       "  'corporate social responsibility',\n",
       "  'PAC allocations'],\n",
       " 'ex:source': 'Administrative Science Quarterly',\n",
       " 'ex:title': 'Political Ideologies of CEOs',\n",
       " 'ex:url': 'http://dx.doi.org/10.1177/0001839213486984',\n",
       " 'ex:volume': u'58'}"
      ]
     },
     "execution_count": 83,
     "metadata": {},
     "output_type": "execute_result"
    }
   ],
   "source": [
    "articles[100]"
   ]
  },
  {
   "cell_type": "raw",
   "metadata": {
    "collapsed": true
   },
   "source": []
  }
 ],
 "metadata": {
  "anaconda-cloud": {},
  "kernelspec": {
   "display_name": "Python [Root]",
   "language": "python",
   "name": "Python [Root]"
  },
  "language_info": {
   "codemirror_mode": {
    "name": "ipython",
    "version": 2
   },
   "file_extension": ".py",
   "mimetype": "text/x-python",
   "name": "python",
   "nbconvert_exporter": "python",
   "pygments_lexer": "ipython2",
   "version": "2.7.12"
  }
 },
 "nbformat": 4,
 "nbformat_minor": 0
}
