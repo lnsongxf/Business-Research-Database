{
 "cells": [
  {
   "cell_type": "code",
   "execution_count": 63,
   "metadata": {
    "collapsed": true
   },
   "outputs": [],
   "source": [
    "#todo: \n",
    "#move Jr to AF edit\n",
    "#abstract remove long"
   ]
  },
  {
   "cell_type": "code",
   "execution_count": 68,
   "metadata": {
    "collapsed": true
   },
   "outputs": [],
   "source": [
    "import glob, os\n",
    "from bs4 import BeautifulSoup as bs\n",
    "import re\n",
    "import pandas as pd\n",
    "pd.options.display.max_rows = 2000\n",
    "import collections"
   ]
  },
  {
   "cell_type": "code",
   "execution_count": 69,
   "metadata": {
    "collapsed": true
   },
   "outputs": [],
   "source": [
    "base_folder='scr/moq/jrnmis/'"
   ]
  },
  {
   "cell_type": "code",
   "execution_count": 200,
   "metadata": {
    "collapsed": false
   },
   "outputs": [
    {
     "name": "stdout",
     "output_type": "stream",
     "text": [
      ";page:string:Article/Chapter View;article:article:10.1080/07421222.1984.11517693;subPage:string:Abstract;issue:issue:10.1080/mmis20.v001.i01;journal:journal:mmis20;wgroup:string:Publication Websites;website:website:TFOPB;pageGroup:string:Publication Pages\n",
      ";article:article:10.1080/07421222.1984.11517694;page:string:Article/Chapter View;subPage:string:Abstract;issue:issue:10.1080/mmis20.v001.i01;journal:journal:mmis20;wgroup:string:Publication Websites;website:website:TFOPB;pageGroup:string:Publication Pages\n",
      ";article:article:10.1080/07421222.1984.11517695;page:string:Article/Chapter View;subPage:string:Abstract;issue:issue:10.1080/mmis20.v001.i01;journal:journal:mmis20;wgroup:string:Publication Websites;website:website:TFOPB;pageGroup:string:Publication Pages\n",
      ";article:article:10.1080/07421222.1984.11517696;page:string:Article/Chapter View;subPage:string:Abstract;issue:issue:10.1080/mmis20.v001.i01;journal:journal:mmis20;wgroup:string:Publication Websites;website:website:TFOPB;pageGroup:string:Publication Pages\n",
      ";page:string:Article/Chapter View;subPage:string:Abstract;issue:issue:10.1080/mmis20.v001.i01;journal:journal:mmis20;article:article:10.1080/07421222.1984.11517697;wgroup:string:Publication Websites;website:website:TFOPB;pageGroup:string:Publication Pages\n",
      ";page:string:Article/Chapter View;subPage:string:Abstract;issue:issue:10.1080/mmis20.v001.i01;journal:journal:mmis20;article:article:10.1080/07421222.1984.11517698;wgroup:string:Publication Websites;website:website:TFOPB;pageGroup:string:Publication Pages\n",
      ";page:string:Article/Chapter View;subPage:string:Abstract;issue:issue:10.1080/mmis20.v001.i01;article:article:10.1080/07421222.1984.11517699;journal:journal:mmis20;wgroup:string:Publication Websites;website:website:TFOPB;pageGroup:string:Publication Pages\n",
      ";page:string:Article/Chapter View;issue:issue:10.1080/mmis20.v001.i02;article:article:10.1080/07421222.1984.11517700;subPage:string:Abstract;journal:journal:mmis20;wgroup:string:Publication Websites;website:website:TFOPB;pageGroup:string:Publication Pages\n",
      ";page:string:Article/Chapter View;issue:issue:10.1080/mmis20.v001.i02;subPage:string:Abstract;journal:journal:mmis20;article:article:10.1080/07421222.1984.11517701;wgroup:string:Publication Websites;website:website:TFOPB;pageGroup:string:Publication Pages\n",
      ";page:string:Article/Chapter View;issue:issue:10.1080/mmis20.v001.i02;subPage:string:Abstract;journal:journal:mmis20;article:article:10.1080/07421222.1984.11517702;wgroup:string:Publication Websites;website:website:TFOPB;pageGroup:string:Publication Pages\n",
      ";page:string:Article/Chapter View;issue:issue:10.1080/mmis20.v001.i02;subPage:string:Abstract;journal:journal:mmis20;article:article:10.1080/07421222.1984.11517703;wgroup:string:Publication Websites;website:website:TFOPB;pageGroup:string:Publication Pages\n",
      ";page:string:Article/Chapter View;issue:issue:10.1080/mmis20.v001.i02;subPage:string:Abstract;journal:journal:mmis20;article:article:10.1080/07421222.1984.11517704;wgroup:string:Publication Websites;website:website:TFOPB;pageGroup:string:Publication Pages\n",
      ";page:string:Article/Chapter View;issue:issue:10.1080/mmis20.v001.i02;subPage:string:Abstract;journal:journal:mmis20;wgroup:string:Publication Websites;website:website:TFOPB;pageGroup:string:Publication Pages;article:article:10.1080/07421222.1984.11517705\n",
      ";issue:issue:10.1080/mmis20.v001.i03;page:string:Article/Chapter View;subPage:string:Abstract;journal:journal:mmis20;wgroup:string:Publication Websites;website:website:TFOPB;pageGroup:string:Publication Pages;article:article:10.1080/07421222.1984.11517706\n",
      ";issue:issue:10.1080/mmis20.v001.i03;page:string:Article/Chapter View;subPage:string:Abstract;journal:journal:mmis20;wgroup:string:Publication Websites;website:website:TFOPB;pageGroup:string:Publication Pages;article:article:10.1080/07421222.1984.11517707\n",
      ";issue:issue:10.1080/mmis20.v001.i03;page:string:Article/Chapter View;subPage:string:Abstract;journal:journal:mmis20;wgroup:string:Publication Websites;article:article:10.1080/07421222.1984.11517708;website:website:TFOPB;pageGroup:string:Publication Pages\n",
      ";issue:issue:10.1080/mmis20.v001.i03;page:string:Article/Chapter View;article:article:10.1080/07421222.1984.11517709;subPage:string:Abstract;journal:journal:mmis20;wgroup:string:Publication Websites;website:website:TFOPB;pageGroup:string:Publication Pages\n",
      ";issue:issue:10.1080/mmis20.v001.i03;page:string:Article/Chapter View;subPage:string:Abstract;article:article:10.1080/07421222.1984.11517710;journal:journal:mmis20;wgroup:string:Publication Websites;website:website:TFOPB;pageGroup:string:Publication Pages\n",
      ";issue:issue:10.1080/mmis20.v001.i04;page:string:Article/Chapter View;subPage:string:Abstract;journal:journal:mmis20;article:article:10.1080/07421222.1985.11517711;wgroup:string:Publication Websites;website:website:TFOPB;pageGroup:string:Publication Pages\n",
      ";issue:issue:10.1080/mmis20.v001.i04;page:string:Article/Chapter View;subPage:string:Abstract;journal:journal:mmis20;article:article:10.1080/07421222.1985.11517712;wgroup:string:Publication Websites;website:website:TFOPB;pageGroup:string:Publication Pages\n",
      ";issue:issue:10.1080/mmis20.v001.i04;page:string:Article/Chapter View;subPage:string:Abstract;article:article:10.1080/07421222.1985.11517713;journal:journal:mmis20;wgroup:string:Publication Websites;website:website:TFOPB;pageGroup:string:Publication Pages\n",
      ";issue:issue:10.1080/mmis20.v001.i04;page:string:Article/Chapter View;article:article:10.1080/07421222.1985.11517714;subPage:string:Abstract;journal:journal:mmis20;wgroup:string:Publication Websites;website:website:TFOPB;pageGroup:string:Publication Pages\n",
      ";issue:issue:10.1080/mmis20.v001.i04;page:string:Article/Chapter View;subPage:string:Abstract;journal:journal:mmis20;article:article:10.1080/07421222.1985.11517715;wgroup:string:Publication Websites;website:website:TFOPB;pageGroup:string:Publication Pages\n",
      ";issue:issue:10.1080/mmis20.v001.i04;page:string:Article/Chapter View;subPage:string:Abstract;journal:journal:mmis20;article:article:10.1080/07421222.1985.11517716;wgroup:string:Publication Websites;website:website:TFOPB;pageGroup:string:Publication Pages\n",
      ";article:article:10.1080/07421222.1985.11517717;issue:issue:10.1080/mmis20.v001.i04;page:string:Article/Chapter View;subPage:string:Abstract;journal:journal:mmis20;wgroup:string:Publication Websites;website:website:TFOPB;pageGroup:string:Publication Pages\n",
      ";article:article:10.1080/07421222.1985.11517718;issue:issue:10.1080/mmis20.v001.i04;page:string:Article/Chapter View;subPage:string:Abstract;journal:journal:mmis20;wgroup:string:Publication Websites;website:website:TFOPB;pageGroup:string:Publication Pages\n",
      ";page:string:Article/Chapter View;article:article:10.1080/07421222.1985.11517719;subPage:string:Abstract;journal:journal:mmis20;issue:issue:10.1080/mmis20.v002.i01;wgroup:string:Publication Websites;website:website:TFOPB;pageGroup:string:Publication Pages\n",
      ";page:string:Article/Chapter View;subPage:string:Abstract;journal:journal:mmis20;issue:issue:10.1080/mmis20.v002.i01;article:article:10.1080/07421222.1985.11517720;wgroup:string:Publication Websites;website:website:TFOPB;pageGroup:string:Publication Pages\n",
      ";page:string:Article/Chapter View;subPage:string:Abstract;journal:journal:mmis20;issue:issue:10.1080/mmis20.v002.i01;article:article:10.1080/07421222.1985.11517721;wgroup:string:Publication Websites;website:website:TFOPB;pageGroup:string:Publication Pages\n",
      ";page:string:Article/Chapter View;subPage:string:Abstract;journal:journal:mmis20;issue:issue:10.1080/mmis20.v002.i01;article:article:10.1080/07421222.1985.11517722;wgroup:string:Publication Websites;website:website:TFOPB;pageGroup:string:Publication Pages\n",
      ";page:string:Article/Chapter View;subPage:string:Abstract;journal:journal:mmis20;issue:issue:10.1080/mmis20.v002.i01;article:article:10.1080/07421222.1985.11517723;wgroup:string:Publication Websites;website:website:TFOPB;pageGroup:string:Publication Pages\n",
      ";page:string:Article/Chapter View;subPage:string:Abstract;article:article:10.1080/07421222.1985.11517724;journal:journal:mmis20;issue:issue:10.1080/mmis20.v002.i01;wgroup:string:Publication Websites;website:website:TFOPB;pageGroup:string:Publication Pages\n",
      ";page:string:Article/Chapter View;article:article:10.1080/07421222.1985.11517725;subPage:string:Abstract;journal:journal:mmis20;issue:issue:10.1080/mmis20.v002.i01;wgroup:string:Publication Websites;website:website:TFOPB;pageGroup:string:Publication Pages\n",
      ";issue:issue:10.1080/mmis20.v002.i02;page:string:Article/Chapter View;subPage:string:Abstract;journal:journal:mmis20;article:article:10.1080/07421222.1985.11517726;wgroup:string:Publication Websites;website:website:TFOPB;pageGroup:string:Publication Pages\n",
      ";issue:issue:10.1080/mmis20.v002.i02;page:string:Article/Chapter View;subPage:string:Abstract;journal:journal:mmis20;article:article:10.1080/07421222.1985.11517727;wgroup:string:Publication Websites;website:website:TFOPB;pageGroup:string:Publication Pages\n",
      ";issue:issue:10.1080/mmis20.v002.i02;article:article:10.1080/07421222.1985.11517728;page:string:Article/Chapter View;subPage:string:Abstract;journal:journal:mmis20;wgroup:string:Publication Websites;website:website:TFOPB;pageGroup:string:Publication Pages\n",
      ";article:article:10.1080/07421222.1985.11517729;issue:issue:10.1080/mmis20.v002.i02;page:string:Article/Chapter View;subPage:string:Abstract;journal:journal:mmis20;wgroup:string:Publication Websites;website:website:TFOPB;pageGroup:string:Publication Pages\n",
      ";issue:issue:10.1080/mmis20.v002.i02;page:string:Article/Chapter View;subPage:string:Abstract;journal:journal:mmis20;wgroup:string:Publication Websites;website:website:TFOPB;pageGroup:string:Publication Pages;article:article:10.1080/07421222.1985.11517730\n",
      ";issue:issue:10.1080/mmis20.v002.i02;page:string:Article/Chapter View;subPage:string:Abstract;journal:journal:mmis20;article:article:10.1080/07421222.1985.11517731;wgroup:string:Publication Websites;website:website:TFOPB;pageGroup:string:Publication Pages\n",
      ";issue:issue:10.1080/mmis20.v002.i02;page:string:Article/Chapter View;subPage:string:Abstract;journal:journal:mmis20;article:article:10.1080/07421222.1985.11517732;wgroup:string:Publication Websites;website:website:TFOPB;pageGroup:string:Publication Pages\n",
      ";issue:issue:10.1080/mmis20.v002.i03;page:string:Article/Chapter View;subPage:string:Abstract;journal:journal:mmis20;article:article:10.1080/07421222.1985.11517733;wgroup:string:Publication Websites;website:website:TFOPB;pageGroup:string:Publication Pages\n",
      ";issue:issue:10.1080/mmis20.v002.i03;page:string:Article/Chapter View;subPage:string:Abstract;journal:journal:mmis20;article:article:10.1080/07421222.1985.11517734;wgroup:string:Publication Websites;website:website:TFOPB;pageGroup:string:Publication Pages\n",
      ";issue:issue:10.1080/mmis20.v002.i03;page:string:Article/Chapter View;subPage:string:Abstract;article:article:10.1080/07421222.1985.11517735;journal:journal:mmis20;wgroup:string:Publication Websites;website:website:TFOPB;pageGroup:string:Publication Pages\n",
      ";issue:issue:10.1080/mmis20.v002.i03;page:string:Article/Chapter View;article:article:10.1080/07421222.1985.11517736;subPage:string:Abstract;journal:journal:mmis20;wgroup:string:Publication Websites;website:website:TFOPB;pageGroup:string:Publication Pages\n",
      ";issue:issue:10.1080/mmis20.v002.i03;page:string:Article/Chapter View;subPage:string:Abstract;journal:journal:mmis20;article:article:10.1080/07421222.1985.11517737;wgroup:string:Publication Websites;website:website:TFOPB;pageGroup:string:Publication Pages\n",
      ";issue:issue:10.1080/mmis20.v002.i03;page:string:Article/Chapter View;subPage:string:Abstract;journal:journal:mmis20;article:article:10.1080/07421222.1985.11517738;wgroup:string:Publication Websites;website:website:TFOPB;pageGroup:string:Publication Pages\n"
     ]
    },
    {
     "ename": "KeyboardInterrupt",
     "evalue": "",
     "output_type": "error",
     "traceback": [
      "\u001b[0;31m---------------------------------------------------------------------------\u001b[0m",
      "\u001b[0;31mKeyboardInterrupt\u001b[0m                         Traceback (most recent call last)",
      "\u001b[0;32m<ipython-input-200-65b7b0f598e8>\u001b[0m in \u001b[0;36m<module>\u001b[0;34m()\u001b[0m\n\u001b[1;32m     10\u001b[0m         \u001b[0marticle\u001b[0m\u001b[0;34m[\u001b[0m\u001b[0;34m'ex:keyword'\u001b[0m\u001b[0;34m]\u001b[0m\u001b[0;34m=\u001b[0m\u001b[0;34m[\u001b[0m\u001b[0;34m]\u001b[0m\u001b[0;34m\u001b[0m\u001b[0m\n\u001b[1;32m     11\u001b[0m         \u001b[0mhtml\u001b[0m\u001b[0;34m=\u001b[0m\u001b[0mopen\u001b[0m\u001b[0;34m(\u001b[0m\u001b[0mfolder\u001b[0m\u001b[0;34m+\u001b[0m\u001b[0;34m'/'\u001b[0m\u001b[0;34m+\u001b[0m\u001b[0mf\u001b[0m\u001b[0;34m)\u001b[0m\u001b[0;34m.\u001b[0m\u001b[0mread\u001b[0m\u001b[0;34m(\u001b[0m\u001b[0;34m)\u001b[0m\u001b[0;34m\u001b[0m\u001b[0m\n\u001b[0;32m---> 12\u001b[0;31m         \u001b[0ms\u001b[0m \u001b[0;34m=\u001b[0m \u001b[0mBeautifulSoup\u001b[0m\u001b[0;34m(\u001b[0m\u001b[0mhtml\u001b[0m\u001b[0;34m,\u001b[0m \u001b[0;34m'html.parser'\u001b[0m\u001b[0;34m)\u001b[0m\u001b[0;34m.\u001b[0m\u001b[0mfind\u001b[0m\u001b[0;34m(\u001b[0m\u001b[0;34m'head'\u001b[0m\u001b[0;34m)\u001b[0m\u001b[0;34m\u001b[0m\u001b[0m\n\u001b[0m\u001b[1;32m     13\u001b[0m         \u001b[0;32mprint\u001b[0m \u001b[0ms\u001b[0m\u001b[0;34m.\u001b[0m\u001b[0mfind\u001b[0m\u001b[0;34m(\u001b[0m\u001b[0;34m\"meta\"\u001b[0m\u001b[0;34m,\u001b[0m\u001b[0;34m{\u001b[0m\u001b[0;34m\"name\"\u001b[0m\u001b[0;34m:\u001b[0m\u001b[0;34m\"pbContext\"\u001b[0m\u001b[0;34m}\u001b[0m\u001b[0;34m)\u001b[0m\u001b[0;34m[\u001b[0m\u001b[0;34m'content'\u001b[0m\u001b[0;34m]\u001b[0m\u001b[0;34m\u001b[0m\u001b[0m\n\u001b[1;32m     14\u001b[0m         \u001b[0mj\u001b[0m\u001b[0;34m=\u001b[0m\u001b[0;34m''\u001b[0m\u001b[0;34m\u001b[0m\u001b[0m\n",
      "\u001b[0;32m/Users/mahdimoqri/anaconda/lib/python2.7/site-packages/bs4/__init__.pyc\u001b[0m in \u001b[0;36m__init__\u001b[0;34m(self, markup, features, builder, parse_only, from_encoding, exclude_encodings, **kwargs)\u001b[0m\n\u001b[1;32m    213\u001b[0m             \u001b[0mself\u001b[0m\u001b[0;34m.\u001b[0m\u001b[0mreset\u001b[0m\u001b[0;34m(\u001b[0m\u001b[0;34m)\u001b[0m\u001b[0;34m\u001b[0m\u001b[0m\n\u001b[1;32m    214\u001b[0m             \u001b[0;32mtry\u001b[0m\u001b[0;34m:\u001b[0m\u001b[0;34m\u001b[0m\u001b[0m\n\u001b[0;32m--> 215\u001b[0;31m                 \u001b[0mself\u001b[0m\u001b[0;34m.\u001b[0m\u001b[0m_feed\u001b[0m\u001b[0;34m(\u001b[0m\u001b[0;34m)\u001b[0m\u001b[0;34m\u001b[0m\u001b[0m\n\u001b[0m\u001b[1;32m    216\u001b[0m                 \u001b[0;32mbreak\u001b[0m\u001b[0;34m\u001b[0m\u001b[0m\n\u001b[1;32m    217\u001b[0m             \u001b[0;32mexcept\u001b[0m \u001b[0mParserRejectedMarkup\u001b[0m\u001b[0;34m:\u001b[0m\u001b[0;34m\u001b[0m\u001b[0m\n",
      "\u001b[0;32m/Users/mahdimoqri/anaconda/lib/python2.7/site-packages/bs4/__init__.pyc\u001b[0m in \u001b[0;36m_feed\u001b[0;34m(self)\u001b[0m\n\u001b[1;32m    237\u001b[0m         \u001b[0mself\u001b[0m\u001b[0;34m.\u001b[0m\u001b[0mbuilder\u001b[0m\u001b[0;34m.\u001b[0m\u001b[0mreset\u001b[0m\u001b[0;34m(\u001b[0m\u001b[0;34m)\u001b[0m\u001b[0;34m\u001b[0m\u001b[0m\n\u001b[1;32m    238\u001b[0m \u001b[0;34m\u001b[0m\u001b[0m\n\u001b[0;32m--> 239\u001b[0;31m         \u001b[0mself\u001b[0m\u001b[0;34m.\u001b[0m\u001b[0mbuilder\u001b[0m\u001b[0;34m.\u001b[0m\u001b[0mfeed\u001b[0m\u001b[0;34m(\u001b[0m\u001b[0mself\u001b[0m\u001b[0;34m.\u001b[0m\u001b[0mmarkup\u001b[0m\u001b[0;34m)\u001b[0m\u001b[0;34m\u001b[0m\u001b[0m\n\u001b[0m\u001b[1;32m    240\u001b[0m         \u001b[0;31m# Close out any unfinished strings and close all the open tags.\u001b[0m\u001b[0;34m\u001b[0m\u001b[0;34m\u001b[0m\u001b[0m\n\u001b[1;32m    241\u001b[0m         \u001b[0mself\u001b[0m\u001b[0;34m.\u001b[0m\u001b[0mendData\u001b[0m\u001b[0;34m(\u001b[0m\u001b[0;34m)\u001b[0m\u001b[0;34m\u001b[0m\u001b[0m\n",
      "\u001b[0;32m/Users/mahdimoqri/anaconda/lib/python2.7/site-packages/bs4/builder/_htmlparser.pyc\u001b[0m in \u001b[0;36mfeed\u001b[0;34m(self, markup)\u001b[0m\n\u001b[1;32m    162\u001b[0m         \u001b[0mparser\u001b[0m\u001b[0;34m.\u001b[0m\u001b[0msoup\u001b[0m \u001b[0;34m=\u001b[0m \u001b[0mself\u001b[0m\u001b[0;34m.\u001b[0m\u001b[0msoup\u001b[0m\u001b[0;34m\u001b[0m\u001b[0m\n\u001b[1;32m    163\u001b[0m         \u001b[0;32mtry\u001b[0m\u001b[0;34m:\u001b[0m\u001b[0;34m\u001b[0m\u001b[0m\n\u001b[0;32m--> 164\u001b[0;31m             \u001b[0mparser\u001b[0m\u001b[0;34m.\u001b[0m\u001b[0mfeed\u001b[0m\u001b[0;34m(\u001b[0m\u001b[0mmarkup\u001b[0m\u001b[0;34m)\u001b[0m\u001b[0;34m\u001b[0m\u001b[0m\n\u001b[0m\u001b[1;32m    165\u001b[0m         \u001b[0;32mexcept\u001b[0m \u001b[0mHTMLParseError\u001b[0m\u001b[0;34m,\u001b[0m \u001b[0me\u001b[0m\u001b[0;34m:\u001b[0m\u001b[0;34m\u001b[0m\u001b[0m\n\u001b[1;32m    166\u001b[0m             warnings.warn(RuntimeWarning(\n",
      "\u001b[0;32m/Users/mahdimoqri/anaconda/lib/python2.7/HTMLParser.pyc\u001b[0m in \u001b[0;36mfeed\u001b[0;34m(self, data)\u001b[0m\n\u001b[1;32m    115\u001b[0m         \"\"\"\n\u001b[1;32m    116\u001b[0m         \u001b[0mself\u001b[0m\u001b[0;34m.\u001b[0m\u001b[0mrawdata\u001b[0m \u001b[0;34m=\u001b[0m \u001b[0mself\u001b[0m\u001b[0;34m.\u001b[0m\u001b[0mrawdata\u001b[0m \u001b[0;34m+\u001b[0m \u001b[0mdata\u001b[0m\u001b[0;34m\u001b[0m\u001b[0m\n\u001b[0;32m--> 117\u001b[0;31m         \u001b[0mself\u001b[0m\u001b[0;34m.\u001b[0m\u001b[0mgoahead\u001b[0m\u001b[0;34m(\u001b[0m\u001b[0;36m0\u001b[0m\u001b[0;34m)\u001b[0m\u001b[0;34m\u001b[0m\u001b[0m\n\u001b[0m\u001b[1;32m    118\u001b[0m \u001b[0;34m\u001b[0m\u001b[0m\n\u001b[1;32m    119\u001b[0m     \u001b[0;32mdef\u001b[0m \u001b[0mclose\u001b[0m\u001b[0;34m(\u001b[0m\u001b[0mself\u001b[0m\u001b[0;34m)\u001b[0m\u001b[0;34m:\u001b[0m\u001b[0;34m\u001b[0m\u001b[0m\n",
      "\u001b[0;32m/Users/mahdimoqri/anaconda/lib/python2.7/HTMLParser.pyc\u001b[0m in \u001b[0;36mgoahead\u001b[0;34m(self, end)\u001b[0m\n\u001b[1;32m    159\u001b[0m             \u001b[0;32mif\u001b[0m \u001b[0mstartswith\u001b[0m\u001b[0;34m(\u001b[0m\u001b[0;34m'<'\u001b[0m\u001b[0;34m,\u001b[0m \u001b[0mi\u001b[0m\u001b[0;34m)\u001b[0m\u001b[0;34m:\u001b[0m\u001b[0;34m\u001b[0m\u001b[0m\n\u001b[1;32m    160\u001b[0m                 \u001b[0;32mif\u001b[0m \u001b[0mstarttagopen\u001b[0m\u001b[0;34m.\u001b[0m\u001b[0mmatch\u001b[0m\u001b[0;34m(\u001b[0m\u001b[0mrawdata\u001b[0m\u001b[0;34m,\u001b[0m \u001b[0mi\u001b[0m\u001b[0;34m)\u001b[0m\u001b[0;34m:\u001b[0m \u001b[0;31m# < + letter\u001b[0m\u001b[0;34m\u001b[0m\u001b[0m\n\u001b[0;32m--> 161\u001b[0;31m                     \u001b[0mk\u001b[0m \u001b[0;34m=\u001b[0m \u001b[0mself\u001b[0m\u001b[0;34m.\u001b[0m\u001b[0mparse_starttag\u001b[0m\u001b[0;34m(\u001b[0m\u001b[0mi\u001b[0m\u001b[0;34m)\u001b[0m\u001b[0;34m\u001b[0m\u001b[0m\n\u001b[0m\u001b[1;32m    162\u001b[0m                 \u001b[0;32melif\u001b[0m \u001b[0mstartswith\u001b[0m\u001b[0;34m(\u001b[0m\u001b[0;34m\"</\"\u001b[0m\u001b[0;34m,\u001b[0m \u001b[0mi\u001b[0m\u001b[0;34m)\u001b[0m\u001b[0;34m:\u001b[0m\u001b[0;34m\u001b[0m\u001b[0m\n\u001b[1;32m    163\u001b[0m                     \u001b[0mk\u001b[0m \u001b[0;34m=\u001b[0m \u001b[0mself\u001b[0m\u001b[0;34m.\u001b[0m\u001b[0mparse_endtag\u001b[0m\u001b[0;34m(\u001b[0m\u001b[0mi\u001b[0m\u001b[0;34m)\u001b[0m\u001b[0;34m\u001b[0m\u001b[0m\n",
      "\u001b[0;32m/Users/mahdimoqri/anaconda/lib/python2.7/HTMLParser.pyc\u001b[0m in \u001b[0;36mparse_starttag\u001b[0;34m(self, i)\u001b[0m\n\u001b[1;32m    323\u001b[0m         \u001b[0;32mif\u001b[0m \u001b[0mend\u001b[0m\u001b[0;34m.\u001b[0m\u001b[0mendswith\u001b[0m\u001b[0;34m(\u001b[0m\u001b[0;34m'/>'\u001b[0m\u001b[0;34m)\u001b[0m\u001b[0;34m:\u001b[0m\u001b[0;34m\u001b[0m\u001b[0m\n\u001b[1;32m    324\u001b[0m             \u001b[0;31m# XHTML-style empty tag: <span attr=\"value\" />\u001b[0m\u001b[0;34m\u001b[0m\u001b[0;34m\u001b[0m\u001b[0m\n\u001b[0;32m--> 325\u001b[0;31m             \u001b[0mself\u001b[0m\u001b[0;34m.\u001b[0m\u001b[0mhandle_startendtag\u001b[0m\u001b[0;34m(\u001b[0m\u001b[0mtag\u001b[0m\u001b[0;34m,\u001b[0m \u001b[0mattrs\u001b[0m\u001b[0;34m)\u001b[0m\u001b[0;34m\u001b[0m\u001b[0m\n\u001b[0m\u001b[1;32m    326\u001b[0m         \u001b[0;32melse\u001b[0m\u001b[0;34m:\u001b[0m\u001b[0;34m\u001b[0m\u001b[0m\n\u001b[1;32m    327\u001b[0m             \u001b[0mself\u001b[0m\u001b[0;34m.\u001b[0m\u001b[0mhandle_starttag\u001b[0m\u001b[0;34m(\u001b[0m\u001b[0mtag\u001b[0m\u001b[0;34m,\u001b[0m \u001b[0mattrs\u001b[0m\u001b[0;34m)\u001b[0m\u001b[0;34m\u001b[0m\u001b[0m\n",
      "\u001b[0;32m/Users/mahdimoqri/anaconda/lib/python2.7/HTMLParser.pyc\u001b[0m in \u001b[0;36mhandle_startendtag\u001b[0;34m(self, tag, attrs)\u001b[0m\n\u001b[1;32m    405\u001b[0m     \u001b[0;31m# Overridable -- finish processing of start+end tag: <tag.../>\u001b[0m\u001b[0;34m\u001b[0m\u001b[0;34m\u001b[0m\u001b[0m\n\u001b[1;32m    406\u001b[0m     \u001b[0;32mdef\u001b[0m \u001b[0mhandle_startendtag\u001b[0m\u001b[0;34m(\u001b[0m\u001b[0mself\u001b[0m\u001b[0;34m,\u001b[0m \u001b[0mtag\u001b[0m\u001b[0;34m,\u001b[0m \u001b[0mattrs\u001b[0m\u001b[0;34m)\u001b[0m\u001b[0;34m:\u001b[0m\u001b[0;34m\u001b[0m\u001b[0m\n\u001b[0;32m--> 407\u001b[0;31m         \u001b[0mself\u001b[0m\u001b[0;34m.\u001b[0m\u001b[0mhandle_starttag\u001b[0m\u001b[0;34m(\u001b[0m\u001b[0mtag\u001b[0m\u001b[0;34m,\u001b[0m \u001b[0mattrs\u001b[0m\u001b[0;34m)\u001b[0m\u001b[0;34m\u001b[0m\u001b[0m\n\u001b[0m\u001b[1;32m    408\u001b[0m         \u001b[0mself\u001b[0m\u001b[0;34m.\u001b[0m\u001b[0mhandle_endtag\u001b[0m\u001b[0;34m(\u001b[0m\u001b[0mtag\u001b[0m\u001b[0;34m)\u001b[0m\u001b[0;34m\u001b[0m\u001b[0m\n\u001b[1;32m    409\u001b[0m \u001b[0;34m\u001b[0m\u001b[0m\n",
      "\u001b[0;32m/Users/mahdimoqri/anaconda/lib/python2.7/site-packages/bs4/builder/_htmlparser.pyc\u001b[0m in \u001b[0;36mhandle_starttag\u001b[0;34m(self, name, attrs)\u001b[0m\n\u001b[1;32m     60\u001b[0m             \u001b[0mattr_dict\u001b[0m\u001b[0;34m[\u001b[0m\u001b[0mkey\u001b[0m\u001b[0;34m]\u001b[0m \u001b[0;34m=\u001b[0m \u001b[0mvalue\u001b[0m\u001b[0;34m\u001b[0m\u001b[0m\n\u001b[1;32m     61\u001b[0m             \u001b[0mattrvalue\u001b[0m \u001b[0;34m=\u001b[0m \u001b[0;34m'\"\"'\u001b[0m\u001b[0;34m\u001b[0m\u001b[0m\n\u001b[0;32m---> 62\u001b[0;31m         \u001b[0mself\u001b[0m\u001b[0;34m.\u001b[0m\u001b[0msoup\u001b[0m\u001b[0;34m.\u001b[0m\u001b[0mhandle_starttag\u001b[0m\u001b[0;34m(\u001b[0m\u001b[0mname\u001b[0m\u001b[0;34m,\u001b[0m \u001b[0mNone\u001b[0m\u001b[0;34m,\u001b[0m \u001b[0mNone\u001b[0m\u001b[0;34m,\u001b[0m \u001b[0mattr_dict\u001b[0m\u001b[0;34m)\u001b[0m\u001b[0;34m\u001b[0m\u001b[0m\n\u001b[0m\u001b[1;32m     63\u001b[0m \u001b[0;34m\u001b[0m\u001b[0m\n\u001b[1;32m     64\u001b[0m     \u001b[0;32mdef\u001b[0m \u001b[0mhandle_endtag\u001b[0m\u001b[0;34m(\u001b[0m\u001b[0mself\u001b[0m\u001b[0;34m,\u001b[0m \u001b[0mname\u001b[0m\u001b[0;34m)\u001b[0m\u001b[0;34m:\u001b[0m\u001b[0;34m\u001b[0m\u001b[0m\n",
      "\u001b[0;32m/Users/mahdimoqri/anaconda/lib/python2.7/site-packages/bs4/__init__.pyc\u001b[0m in \u001b[0;36mhandle_starttag\u001b[0;34m(self, name, namespace, nsprefix, attrs)\u001b[0m\n\u001b[1;32m    402\u001b[0m \u001b[0;34m\u001b[0m\u001b[0m\n\u001b[1;32m    403\u001b[0m         tag = Tag(self, self.builder, name, namespace, nsprefix, attrs,\n\u001b[0;32m--> 404\u001b[0;31m                   self.currentTag, self._most_recent_element)\n\u001b[0m\u001b[1;32m    405\u001b[0m         \u001b[0;32mif\u001b[0m \u001b[0mtag\u001b[0m \u001b[0;32mis\u001b[0m \u001b[0mNone\u001b[0m\u001b[0;34m:\u001b[0m\u001b[0;34m\u001b[0m\u001b[0m\n\u001b[1;32m    406\u001b[0m             \u001b[0;32mreturn\u001b[0m \u001b[0mtag\u001b[0m\u001b[0;34m\u001b[0m\u001b[0m\n",
      "\u001b[0;32m/Users/mahdimoqri/anaconda/lib/python2.7/site-packages/bs4/element.pyc\u001b[0m in \u001b[0;36m__init__\u001b[0;34m(self, parser, builder, name, namespace, prefix, attrs, parent, previous)\u001b[0m\n\u001b[1;32m    800\u001b[0m         \u001b[0;32melif\u001b[0m \u001b[0mattrs\u001b[0m\u001b[0;34m:\u001b[0m\u001b[0;34m\u001b[0m\u001b[0m\n\u001b[1;32m    801\u001b[0m             \u001b[0;32mif\u001b[0m \u001b[0mbuilder\u001b[0m \u001b[0;32mis\u001b[0m \u001b[0;32mnot\u001b[0m \u001b[0mNone\u001b[0m \u001b[0;32mand\u001b[0m \u001b[0mbuilder\u001b[0m\u001b[0;34m.\u001b[0m\u001b[0mcdata_list_attributes\u001b[0m\u001b[0;34m:\u001b[0m\u001b[0;34m\u001b[0m\u001b[0m\n\u001b[0;32m--> 802\u001b[0;31m                 attrs = builder._replace_cdata_list_attribute_values(\n\u001b[0m\u001b[1;32m    803\u001b[0m                     self.name, attrs)\n\u001b[1;32m    804\u001b[0m             \u001b[0;32melse\u001b[0m\u001b[0;34m:\u001b[0m\u001b[0;34m\u001b[0m\u001b[0m\n",
      "\u001b[0;31mKeyboardInterrupt\u001b[0m: "
     ]
    }
   ],
   "source": [
    "articles=[]\n",
    "folder=base_folder+\"htmls\"\n",
    "files=os.listdir(folder)\n",
    "l=[]\n",
    "for f in files:\n",
    "    if 'html' in f:\n",
    "        creators=[] \n",
    "        article={}\n",
    "        article['ex:creator']=[]\n",
    "        article['ex:keyword']=[]\n",
    "        html=open(folder+'/'+f).read()\n",
    "        s = BeautifulSoup(html, 'html.parser').find('head')\n",
    "        j=''\n",
    "        for c in s.findAll(\"meta\",{\"name\":\"dc.Creator\"}):\n",
    "            creator={}\n",
    "            creator['ex:name']=c['content']\n",
    "            creators.append(creator)\n",
    "        keywords=s.find(\"meta\",{\"name\":\"keywords\"})\n",
    "        if keywords is not None: \n",
    "            for k in keywords['content'].split(','):\n",
    "                article['ex:keyword'].append(k.strip())\n",
    "        article['ex:title']=s.find(\"meta\",{\"name\":\"dc.Title\"})['content']\n",
    "        article['ex:date']=s.find(\"meta\",{\"name\":\"og:description\"})['content'][1:5]\n",
    "        article['ex:issue']= s.find(\"meta\",{\"name\":\"pbContext\"})['content'].split('.v')[1].split('.i')[0].lstrip('0')                    \n",
    "        article['ex:volume']=s.find(\"meta\",{\"name\":\"pbContext\"})['content'].split('.i')[1].split(';page')[0].lstrip('0')\n",
    "        article['ex:url']=s.find(\"meta\",{\"name\":\"dc.Source\"})['content']\n",
    "        abstract=s.find(\"meta\",{\"name\":\"dc.Description\"})\n",
    "        if abstract is not None:\n",
    "            article['ex:abstract']= abstract['content']\n",
    "        article['ex:source']= s.find(\"meta\",{\"name\":\"citation_journal_title\"})['content']\n",
    "        article['ex:creator']=creators\n",
    "        articles.append(article)"
   ]
  },
  {
   "cell_type": "code",
   "execution_count": 198,
   "metadata": {
    "collapsed": false
   },
   "outputs": [
    {
     "data": {
      "text/plain": [
       "u'http://dx.doi.org/10.1080/07421222.1998.11518215'"
      ]
     },
     "execution_count": 198,
     "metadata": {},
     "output_type": "execute_result"
    }
   ],
   "source": [
    "s.find(\"meta\",{\"name\":\"dc.Source\"})['content']"
   ]
  },
  {
   "cell_type": "code",
   "execution_count": null,
   "metadata": {
    "collapsed": true
   },
   "outputs": [],
   "source": []
  }
 ],
 "metadata": {
  "anaconda-cloud": {},
  "kernelspec": {
   "display_name": "Python [Root]",
   "language": "python",
   "name": "Python [Root]"
  },
  "language_info": {
   "codemirror_mode": {
    "name": "ipython",
    "version": 2
   },
   "file_extension": ".py",
   "mimetype": "text/x-python",
   "name": "python",
   "nbconvert_exporter": "python",
   "pygments_lexer": "ipython2",
   "version": "2.7.12"
  }
 },
 "nbformat": 4,
 "nbformat_minor": 0
}
