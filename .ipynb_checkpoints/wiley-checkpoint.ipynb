{
 "cells": [
  {
   "cell_type": "code",
   "execution_count": 2,
   "metadata": {
    "collapsed": false
   },
   "outputs": [],
   "source": [
    "import urllib2\n",
    "import requests\n",
    "import codecs\n",
    "import os\n",
    "import random\n",
    "import time\n",
    "from bs4 import BeautifulSoup as bs\n",
    "import re"
   ]
  },
  {
   "cell_type": "code",
   "execution_count": 104,
   "metadata": {
    "collapsed": false
   },
   "outputs": [],
   "source": [
    "pub='http://onlinelibrary.wiley.com/'\n",
    "base_vol_iss=pub+'journal/10.1111/(ISSN)1937-5956/issues/'\n",
    "ranges=range(1992,2018)\n",
    "base_folder='src/wly/popmgt/'"
   ]
  },
  {
   "cell_type": "code",
   "execution_count": 105,
   "metadata": {
    "collapsed": true
   },
   "outputs": [],
   "source": [
    "base_vol_iss=pub+'journal/10.1002/(ISSN)1932-443X/issues'\n",
    "ranges=range(2007,2018)\n",
    "base_folder='src/wly/stentj/'"
   ]
  },
  {
   "cell_type": "code",
   "execution_count": 106,
   "metadata": {
    "collapsed": true
   },
   "outputs": [],
   "source": [
    "base_vol_iss=pub+'journal/10.1111/(ISSN)1911-3846/issues'\n",
    "ranges=range(1984,2018)\n",
    "base_folder='src/wly/cnacre/'"
   ]
  },
  {
   "cell_type": "code",
   "execution_count": 112,
   "metadata": {
    "collapsed": true
   },
   "outputs": [],
   "source": [
    "base_vol_iss=pub+'journal/10.1002/(ISSN)1099-050X/issues'\n",
    "ranges=range(1961,2018)\n",
    "base_folder='src/wly/hrmngt/'"
   ]
  },
  {
   "cell_type": "code",
   "execution_count": 113,
   "metadata": {
    "collapsed": false
   },
   "outputs": [
    {
     "data": {
      "text/plain": [
       "285"
      ]
     },
     "execution_count": 113,
     "metadata": {},
     "output_type": "execute_result"
    }
   ],
   "source": [
    "#get vol_issues\n",
    "vol_iss_links=[]\n",
    "session = requests.Session()\n",
    "for year in ranges:\n",
    "    print year,\n",
    "    response = session.get(base_vol_iss+'?year='+str(year))\n",
    "    html=response.text\n",
    "    s=bs(html,'html.parser')\n",
    "    iss_links=[l['href'] for l in s.findAll('a',{\"href\":re.compile('issuetoc')})]\n",
    "    iss_links=list(set(iss_links))\n",
    "    vol_iss_links=vol_iss_links+iss_links\n",
    "len(vol_iss_links)"
   ]
  },
  {
   "cell_type": "code",
   "execution_count": null,
   "metadata": {
    "collapsed": false,
    "scrolled": true
   },
   "outputs": [
    {
     "name": "stdout",
     "output_type": "stream",
     "text": [
      "0 1 2 3 4 5 6 7 8 9 10 11 12 13 14 15 16 17 18 19 20 21 22"
     ]
    }
   ],
   "source": [
    "#get htmls from saga\n",
    "vol_iss_folder=base_folder+'vol_iss/'\n",
    "i=0\n",
    "for link in vol_iss_links:\n",
    "    page=pub+link\n",
    "    print i,\n",
    "    i=i+1\n",
    "    file_name=vol_iss_folder+link.replace('/','_')+'.html'\n",
    "    if not os.path.isfile(file_name):\n",
    "        url=page\n",
    "        response = session.get(url)\n",
    "        html=response.text\n",
    "        f = codecs.open(file_name, 'w','utf-8')\n",
    "        f.write(html) \n",
    "        f.close()        "
   ]
  },
  {
   "cell_type": "code",
   "execution_count": null,
   "metadata": {
    "collapsed": false
   },
   "outputs": [],
   "source": [
    "dois=[]\n",
    "for f in os.listdir(vol_iss_folder):\n",
    "    if 'html' in f:\n",
    "        print f, \n",
    "        html=open(vol_iss_folder+f)\n",
    "        s = bs(html, 'html.parser')\n",
    "        links=s.find_all('ul',{'class':'productMenu'})\n",
    "        dois=dois+[l.findAll('a')[0]['href'] for l in links] \n",
    "print len(dois)"
   ]
  },
  {
   "cell_type": "code",
   "execution_count": null,
   "metadata": {
    "collapsed": false
   },
   "outputs": [],
   "source": [
    "folder=base_folder+'htmls/'\n",
    "session = requests.Session()\n",
    "i=0\n",
    "for doi in dois:\n",
    "    print i,\n",
    "    i=i+1\n",
    "    title=doi.replace('/','_')+'.html'\n",
    "    if not os.path.isfile(folder+title):\n",
    "        url= pub+doi\n",
    "        response = session.get(url)\n",
    "        html=response.text\n",
    "        f = codecs.open(folder+title, \"w\", \"utf-8\")\n",
    "        f.write(html,) \n",
    "        f.close()\n",
    "        #r=random.uniform(1, 3)\n",
    "        #time.sleep(r) # delays for 3 to 4 seconds"
   ]
  }
 ],
 "metadata": {
  "anaconda-cloud": {},
  "kernelspec": {
   "display_name": "Python [Root]",
   "language": "python",
   "name": "Python [Root]"
  },
  "language_info": {
   "codemirror_mode": {
    "name": "ipython",
    "version": 2
   },
   "file_extension": ".py",
   "mimetype": "text/x-python",
   "name": "python",
   "nbconvert_exporter": "python",
   "pygments_lexer": "ipython2",
   "version": "2.7.12"
  }
 },
 "nbformat": 4,
 "nbformat_minor": 0
}
