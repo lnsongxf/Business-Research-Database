{
 "cells": [
  {
   "cell_type": "code",
   "execution_count": 1,
   "metadata": {
    "collapsed": false
   },
   "outputs": [],
   "source": [
    "import urllib2\n",
    "import requests\n",
    "import codecs\n",
    "import os\n",
    "import random\n",
    "import time\n",
    "from bs4 import BeautifulSoup as bs\n",
    "import re"
   ]
  },
  {
   "cell_type": "code",
   "execution_count": 46,
   "metadata": {
    "collapsed": false
   },
   "outputs": [],
   "source": [
    "base_folder='src/ama/'+['jrnmkt/','jrmktr/'][1]\n",
    "jrnl=['jmkg','jmkr'][1]\n",
    "\n",
    "base_url='http://journals.ama.org/'\n",
    "base_vol_iss=base_url+'loi/'+jrnl\n",
    "base_htmls=base_url+'toc/'+jrnl"
   ]
  },
  {
   "cell_type": "code",
   "execution_count": 47,
   "metadata": {
    "collapsed": false
   },
   "outputs": [
    {
     "data": {
      "text/plain": [
       "89"
      ]
     },
     "execution_count": 47,
     "metadata": {},
     "output_type": "execute_result"
    }
   ],
   "source": [
    "#get vol_issues\n",
    "session = requests.Session()\n",
    "response = session.get(base_vol_iss)\n",
    "html=response.text\n",
    "s=bs(html,'html.parser')\n",
    "vol_iss_links=[l['href'] for l in s.findAll('a',{\"href\":re.compile(base_htmls)})]\n",
    "vol_iss_links=list(set(vol_iss_links))\n",
    "len(vol_iss_links)"
   ]
  },
  {
   "cell_type": "code",
   "execution_count": 48,
   "metadata": {
    "collapsed": false
   },
   "outputs": [
    {
     "name": "stdout",
     "output_type": "stream",
     "text": [
      "45/5 40/1 40/2 40/3 40/4 45/1 42/4 42/2 42/3 42/1 41/1 41/3 41/2 41/4 47/3 47/2 47/1 47/6 47/5 47/4 46/2 46/3 46/1 46/6 46/4 46/5 44/4 53/1 53/2 53/3 53/4 53/5 53/6 44/3 43/4 43/3 43/2 43/1 51/6 51/4 51/5 51/2 51/3 51/1 52/1 45/4 52/3 52/2 52/5 52/4 45/3 52/6 54/2 54/1 48/SPL 45/6 50/6 50/5 50/4 50/3 50/2 50/1 37/4 37/2 37/3 37/1 45/2 38/4 38/1 38/3 38/2 39/4 39/1 39/2 39/3 49/1 49/3 49/2 49/5 49/4 49/6 48/1 48/2 48/3 48/4 48/5 48/6 44/1 44/2\n"
     ]
    }
   ],
   "source": [
    "#get htmls from saga\n",
    "vol_iss_folder=base_folder+'vol_iss/'\n",
    "if not os.path.exists(vol_iss_folder):\n",
    "    os.makedirs(vol_iss_folder)\n",
    "\n",
    "for link in vol_iss_links:\n",
    "    v=link.strip(base_htmls)\n",
    "    print v,\n",
    "    page=str(v)\n",
    "    file_name=vol_iss_folder+page.replace('/','_')+'.html'\n",
    "    if not os.path.isfile(file_name):\n",
    "        url=link\n",
    "        response = session.get(url)\n",
    "        html=response.text\n",
    "        f = codecs.open(file_name, 'w','utf-8')\n",
    "        f.write(html) \n",
    "        f.close()        "
   ]
  },
  {
   "cell_type": "code",
   "execution_count": 49,
   "metadata": {
    "collapsed": false
   },
   "outputs": [
    {
     "name": "stdout",
     "output_type": "stream",
     "text": [
      "37_1.html 37_2.html 37_3.html 37_4.html 38_1.html 38_2.html 38_3.html 38_4.html 39_1.html 39_2.html 39_3.html 39_4.html 40_1.html 40_2.html 40_3.html 40_4.html 41_1.html 41_2.html 41_3.html 41_4.html 42_1.html 42_2.html 42_3.html 42_4.html 43_1.html 43_2.html 43_3.html 43_4.html 44_1.html 44_2.html 44_3.html 44_4.html 45_1.html 45_2.html 45_3.html 45_4.html 45_5.html 45_6.html 46_1.html 46_2.html 46_3.html 46_4.html 46_5.html 46_6.html 47_1.html 47_2.html 47_3.html 47_4.html 47_5.html 47_6.html 48_1.html 48_2.html 48_3.html 48_4.html 48_5.html 48_6.html 48_SPL.html 49_1.html 49_2.html 49_3.html 49_4.html 49_5.html 49_6.html 50_1.html 50_2.html 50_3.html 50_4.html 50_5.html 50_6.html 51_1.html 51_2.html 51_3.html 51_4.html 51_5.html 51_6.html 52_1.html 52_2.html 52_3.html 52_4.html 52_5.html 52_6.html 53_1.html 53_2.html 53_3.html 53_4.html 53_5.html 53_6.html 54_1.html 54_2.html"
     ]
    },
    {
     "data": {
      "text/plain": [
       "968"
      ]
     },
     "execution_count": 49,
     "metadata": {},
     "output_type": "execute_result"
    },
    {
     "name": "stdout",
     "output_type": "stream",
     "text": [
      "\n"
     ]
    }
   ],
   "source": [
    "dois=[]\n",
    "for f in os.listdir(vol_iss_folder):\n",
    "    if 'html' in f:\n",
    "        print f, \n",
    "        html=open(vol_iss_folder+f)\n",
    "        s = bs(html, 'html.parser')\n",
    "        links=s.find_all('a',{'href':re.compile('/doi/abs/')})\n",
    "        dois=dois+[l['href'] for l in links if 'Citation'  not in l.text]\n",
    "dois=list(set(dois))\n",
    "len(dois)"
   ]
  },
  {
   "cell_type": "code",
   "execution_count": 50,
   "metadata": {
    "collapsed": false,
    "scrolled": true
   },
   "outputs": [
    {
     "name": "stdout",
     "output_type": "stream",
     "text": [
      "0 1 2 3 4 5 6 7 8 9 10 11 12 13 14 15 16 17 18 19 20 21 22 23 24 25 26 27 28 29 30 31 32 33 34 35 36 37 38 39 40 41 42 43 44 45 46 47 48 49 50 51 52 53 54 55 56 57 58 59 60 61 62 63 64 65 66 67 68 69 70 71 72 73 74 75 76 77 78 79 80 81 82 83 84 85 86 87 88 89 90 91 92 93 94 95 96 97 98 99 100 101 102 103 104 105 106 107 108 109 110 111 112 113 114 115 116 117 118 119 120 121 122 123 124 125 126 127 128 129 130 131 132 133 134 135 136 137 138 139 140 141 142 143 144 145 146 147 148 149 150 151 152 153 154 155 156 157 158 159 160 161 162 163 164 165 166 167 168 169 170 171 172 173 174 175 176 177 178 179 180 181 182 183 184 185 186 187 188 189 190 191 192 193 194 195 196 197 198 199 200 201 202 203 204 205 206 207 208 209 210 211 212 213 214 215 216 217 218 219 220 221 222 223 224 225 226 227 228 229 230 231 232 233 234 235 236 237 238 239 240 241 242 243 244 245 246 247 248 249 250 251 252 253 254 255 256 257 258 259 260 261 262 263 264 265 266 267 268 269 270 271 272 273 274 275 276 277 278 279 280 281 282 283 284 285 286 287 288 289 290 291 292 293 294 295 296 297 298 299 300 301 302 303 304 305 306 307 308 309 310 311 312 313 314 315 316 317 318 319 320 321 322 323 324 325 326 327 328 329 330 331 332 333 334 335 336 337 338 339 340 341 342 343 344 345 346 347 348 349 350 351 352 353 354 355 356 357 358 359 360 361 362 363 364 365 366 367 368 369 370 371 372 373 374 375 376 377 378 379 380 381 382 383 384 385 386 387 388 389 390 391 392 393 394 395 396 397 398 399 400 401 402 403 404 405 406 407 408 409 410 411 412 413 414 415 416 417 418 419 420 421 422 423 424 425 426 427 428 429 430 431 432 433 434 435 436 437 438 439 440 441 442 443 444 445 446 447 448 449 450 451 452 453 454 455 456 457 458 459 460 461 462 463 464 465 466 467 468 469 470 471 472 473 474 475 476 477 478 479 480 481 482 483 484 485 486 487 488 489 490 491 492 493 494 495 496 497 498 499 500 501 502 503 504 505 506 507 508 509 510 511 512 513 514 515 516 517 518 519 520 521 522 523 524 525 526 527 528 529 530 531 532 533 534 535 536 537 538 539 540 541 542 543 544 545 546 547 548 549 550 551 552 553 554 555 556 557 558 559 560 561 562 563 564 565 566 567 568 569 570 571 572 573 574 575 576 577 578 579 580 581 582 583 584 585 586 587 588 589 590 591 592 593 594 595 596 597 598 599 600 601 602 603 604 605 606 607 608 609 610 611 612 613 614 615 616 617 618 619 620 621 622 623 624 625 626 627 628 629 630 631 632 633 634 635 636 637 638 639 640 641 642 643 644 645 646 647 648 649 650 651 652 653 654 655 656 657 658 659 660 661 662 663 664 665 666 667 668 669 670 671 672 673 674 675 676 677 678 679 680 681 682 683 684 685 686 687 688 689 690 691 692 693 694 695 696 697 698 699 700 701 702 703 704 705 706 707 708 709 710 711 712 713 714 715 716 717 718 719 720 721 722 723 724 725 726 727 728 729 730 731 732 733 734 735 736 737 738 739 740 741 742 743 744 745 746 747 748 749 750 751 752 753 754 755 756 757 758 759 760 761 762 763 764 765 766 767 768 769 770 771 772 773 774 775 776 777 778 779 780 781 782 783 784 785 786 787 788 789 790 791 792 793 794 795 796 797 798 799 800 801 802 803 804 805 806 807 808 809 810 811 812 813 814 815 816 817 818 819 820 821 822 823 824 825 826 827 828 829 830 831 832 833 834 835 836 837 838 839 840 841 842 843 844 845 846 847 848 849 850 851 852 853 854 855 856 857 858 859 860 861 862 863 864 865 866 867 868 869 870 871 872 873 874 875 876 877 878 879 880 881 882 883 884 885 886 887 888 889 890 891 892 893 894 895 896 897 898 899 900 901 902 903 904 905 906 907 908 909 910 911 912 913 914 915 916 917 918 919 920 921 922 923 924 925 926 927 928 929 930 931 932 933 934 935 936 937 938 939 940 941 942 943 944 945 946 947 948 949 950 951 952 953 954 955 956 957 958 959 960 961 962 963 964 965 966 967\n"
     ]
    }
   ],
   "source": [
    "html_folder=base_folder+'htmls/'\n",
    "if not os.path.exists(html_folder):\n",
    "    os.makedirs(html_folder)\n",
    "    \n",
    "session = requests.Session()\n",
    "i=0\n",
    "for doi in dois:\n",
    "    if i%10:\n",
    "        print i,\n",
    "    i=i+1\n",
    "    title=doi.replace('/','_')+'.html'\n",
    "    if not os.path.isfile(html_folder+title):\n",
    "        url= base_url+doi[1:]\n",
    "        response = session.get(url)\n",
    "        html=response.text\n",
    "        f = codecs.open(html_folder+title, \"w\", \"utf-8\")\n",
    "        f.write(html,) \n",
    "        f.close()\n",
    "        r=random.uniform(1, 3)\n",
    "        time.sleep(r) # delays for 3 to 4 seconds"
   ]
  },
  {
   "cell_type": "code",
   "execution_count": null,
   "metadata": {
    "collapsed": true
   },
   "outputs": [],
   "source": []
  }
 ],
 "metadata": {
  "anaconda-cloud": {},
  "kernelspec": {
   "display_name": "Python [Root]",
   "language": "python",
   "name": "Python [Root]"
  },
  "language_info": {
   "codemirror_mode": {
    "name": "ipython",
    "version": 2
   },
   "file_extension": ".py",
   "mimetype": "text/x-python",
   "name": "python",
   "nbconvert_exporter": "python",
   "pygments_lexer": "ipython2",
   "version": "2.7.12"
  }
 },
 "nbformat": 4,
 "nbformat_minor": 0
}
