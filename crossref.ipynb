{
 "cells": [
  {
   "cell_type": "code",
   "execution_count": 4,
   "metadata": {
    "collapsed": true
   },
   "outputs": [],
   "source": [
    "import os, io, json, urllib"
   ]
  },
  {
   "cell_type": "code",
   "execution_count": 33,
   "metadata": {
    "collapsed": false,
    "scrolled": true
   },
   "outputs": [
    {
     "name": "stdout",
     "output_type": "stream",
     "text": [
      "0361-3682 Accounting, Organizations and Society\n",
      "0823-9150 Contemporary Accounting Research\n",
      "0165-4101 Journal of Accounting and Economics\n",
      "0021-8456 Journal of Accounting Research\n",
      "0001-4826 The Accounting Review\n",
      "0002-8282 American Economic Review\n",
      "0012-9682 Econometrica\n",
      "0022-3808 Journal of Political Economy\n",
      "0034-6527 Review of Economic Studies\n",
      "0033-5533 The Quarterly Journal of Economics\n",
      "0022-1090 Journal of Financial and Quantitative Analysis\n",
      "0304-405X Journal of Financial Economics\n",
      "1572-3097 Review of Finance\n",
      "0893-9454 Review of Financial Studies\n",
      "0022-1082 The Journal of Finance\n",
      "0001-4273 Academy of Management Journal\n",
      "0363-7425 Academy of Management Review\n",
      "0001-8392 Administrative Science Quarterly\n",
      "0149-2063 Journal of Management\n",
      "0022-2380 Journal of Management Studies\n",
      "0048-7333 Research Policy\n",
      "0143-2095 Strategic Management Journal\n",
      "0093-5301 Journal of Consumer Research\n",
      "0732-2399 Marketing Science\n",
      "0022-2429 Journal of Marketing\n",
      "0022-2437 Journal of Marketing Research\n",
      "0092-0703 Journal of the Academy of Marketing Science\n",
      "1047-7047 Information Systems Research\n",
      "0742-1222 Journal of Management Information Systems\n",
      "2162-9730 Management Information Systems Quarterly\n",
      "0272-6963 Journal of Operations Management\n",
      "0025-1909 Management Science\n",
      "1523-4614 Manufacturing & Service Operations Management\n",
      "0030-364X Operations Research\n",
      "1059-1478 Production and Operations Management\n",
      "1047-7039 Organization Science\n",
      "0170-8406 Organization Studies\n",
      "0749-5978 Organizational Behavior and Human Decision Processes\n"
     ]
    }
   ],
   "source": [
    "crossref='http://api.crossref.org/journals/<issn>/works?rows=1000&filter=from-pub-date:<year>,until-pub-date:<year>'\n",
    "\n",
    "with open('../OpenScience/subject_journals.json') as data_file:    \n",
    "    subject_journals = json.load(data_file)\n",
    "for subject in subject_journals:\n",
    "    for journal in subject['journals']:\n",
    "        journal_name=journal['journal']\n",
    "        if 'issn' in journal:\n",
    "            issn=journal['issn']\n",
    "            print issn, journal_name\n",
    "            journal_folder='doi/'+issn+'/'\n",
    "            if not os.path.exists(journal_folder):\n",
    "                os.makedirs(journal_folder)\n",
    "                crossref_issn=crossref.replace('<issn>',issn)\n",
    "                for y in range(1990,2018):\n",
    "                    year=str(y)\n",
    "                    url=crossref_issn.replace('<year>',year)\n",
    "                    if not os.path.exists(journal_folder+year+'.json'):\n",
    "                        try:\n",
    "                            urllib.urlretrieve (url,journal_folder+year+'.json')\n",
    "                        except:\n",
    "                            pass"
   ]
  },
  {
   "cell_type": "code",
   "execution_count": 36,
   "metadata": {
    "collapsed": false
   },
   "outputs": [
    {
     "name": "stdout",
     "output_type": "stream",
     "text": [
      "doi/0001-4273 2015 1960\n",
      "doi/0001-4826 1404 1159\n",
      "doi/0001-8392 1525 1368\n",
      "doi/0002-8282 4295 4016\n",
      "doi/0012-9682 2259 1289\n",
      "doi/0021-8456 1040 964\n",
      "doi/0022-1082 4069 3049\n",
      "doi/0022-1090 1307 1103\n",
      "doi/0022-2380 1744 1481\n",
      "doi/0022-2429 1383 1247\n",
      "doi/0022-2437 1772 1645\n",
      "doi/0022-3808 1670 1259\n",
      "doi/0025-1909 4309 4138\n",
      "doi/0030-364X 2945 2632\n",
      "doi/0033-5533 1388 1253\n",
      "doi/0034-6527 1337 1272\n",
      "doi/0048-7333 2974 2730\n",
      "doi/0092-0703 1578 1530\n",
      "doi/0093-5301 1943 1575\n",
      "doi/0143-2095 2676 2361\n",
      "doi/0149-2063 2221 2086\n",
      "doi/0165-4101 1098 897\n",
      "doi/0170-8406 2656 2229\n",
      "doi/0272-6963 1447 1054\n",
      "doi/0304-405X 2455 2167\n",
      "doi/0361-3682 1304 1037\n",
      "doi/0363-7425 2534 2417\n",
      "doi/0732-2399 1383 1234\n",
      "doi/0742-1222 943 931\n",
      "doi/0749-5978 1829 1620\n",
      "doi/0823-9150 1403 1236\n",
      "doi/0893-9454 2054 1656\n",
      "doi/1047-7039 1716 1570\n",
      "doi/1047-7047 964 864\n",
      "doi/1059-1478 1796 1478\n",
      "doi/1523-4614 698 631\n",
      "doi/1572-3097 721 685\n",
      "doi/2162-9730"
     ]
    },
    {
     "ename": "ValueError",
     "evalue": "No JSON object could be decoded",
     "output_type": "error",
     "traceback": [
      "\u001b[0;31m---------------------------------------------------------------------------\u001b[0m",
      "\u001b[0;31mValueError\u001b[0m                                Traceback (most recent call last)",
      "\u001b[0;32m<ipython-input-36-3e1a3d8a7df3>\u001b[0m in \u001b[0;36m<module>\u001b[0;34m()\u001b[0m\n\u001b[1;32m     12\u001b[0m         \u001b[0myear_articles\u001b[0m\u001b[0;34m=\u001b[0m \u001b[0missn\u001b[0m\u001b[0;34m+\u001b[0m\u001b[0;34m'/'\u001b[0m\u001b[0;34m+\u001b[0m\u001b[0my\u001b[0m\u001b[0;34m\u001b[0m\u001b[0m\n\u001b[1;32m     13\u001b[0m         \u001b[0;32mwith\u001b[0m \u001b[0mopen\u001b[0m\u001b[0;34m(\u001b[0m\u001b[0myear_articles\u001b[0m\u001b[0;34m)\u001b[0m \u001b[0;32mas\u001b[0m \u001b[0mdata_file\u001b[0m\u001b[0;34m:\u001b[0m\u001b[0;34m\u001b[0m\u001b[0m\n\u001b[0;32m---> 14\u001b[0;31m             \u001b[0mdata\u001b[0m \u001b[0;34m=\u001b[0m \u001b[0mjson\u001b[0m\u001b[0;34m.\u001b[0m\u001b[0mload\u001b[0m\u001b[0;34m(\u001b[0m\u001b[0mdata_file\u001b[0m\u001b[0;34m)\u001b[0m\u001b[0;34m\u001b[0m\u001b[0m\n\u001b[0m\u001b[1;32m     15\u001b[0m         \u001b[0mlen\u001b[0m\u001b[0;34m(\u001b[0m\u001b[0mdata\u001b[0m\u001b[0;34m[\u001b[0m\u001b[0;34m'message'\u001b[0m\u001b[0;34m]\u001b[0m\u001b[0;34m[\u001b[0m\u001b[0;34m'items'\u001b[0m\u001b[0;34m]\u001b[0m\u001b[0;34m)\u001b[0m\u001b[0;34m\u001b[0m\u001b[0m\n\u001b[1;32m     16\u001b[0m         \u001b[0;32mfor\u001b[0m \u001b[0marticle\u001b[0m \u001b[0;32min\u001b[0m \u001b[0mdata\u001b[0m\u001b[0;34m[\u001b[0m\u001b[0;34m'message'\u001b[0m\u001b[0;34m]\u001b[0m\u001b[0;34m[\u001b[0m\u001b[0;34m'items'\u001b[0m\u001b[0;34m]\u001b[0m\u001b[0;34m:\u001b[0m\u001b[0;34m\u001b[0m\u001b[0m\n",
      "\u001b[0;32m/Users/mahdimoqri/anaconda/lib/python2.7/json/__init__.pyc\u001b[0m in \u001b[0;36mload\u001b[0;34m(fp, encoding, cls, object_hook, parse_float, parse_int, parse_constant, object_pairs_hook, **kw)\u001b[0m\n\u001b[1;32m    289\u001b[0m         \u001b[0mparse_float\u001b[0m\u001b[0;34m=\u001b[0m\u001b[0mparse_float\u001b[0m\u001b[0;34m,\u001b[0m \u001b[0mparse_int\u001b[0m\u001b[0;34m=\u001b[0m\u001b[0mparse_int\u001b[0m\u001b[0;34m,\u001b[0m\u001b[0;34m\u001b[0m\u001b[0m\n\u001b[1;32m    290\u001b[0m         \u001b[0mparse_constant\u001b[0m\u001b[0;34m=\u001b[0m\u001b[0mparse_constant\u001b[0m\u001b[0;34m,\u001b[0m \u001b[0mobject_pairs_hook\u001b[0m\u001b[0;34m=\u001b[0m\u001b[0mobject_pairs_hook\u001b[0m\u001b[0;34m,\u001b[0m\u001b[0;34m\u001b[0m\u001b[0m\n\u001b[0;32m--> 291\u001b[0;31m         **kw)\n\u001b[0m\u001b[1;32m    292\u001b[0m \u001b[0;34m\u001b[0m\u001b[0m\n\u001b[1;32m    293\u001b[0m \u001b[0;34m\u001b[0m\u001b[0m\n",
      "\u001b[0;32m/Users/mahdimoqri/anaconda/lib/python2.7/json/__init__.pyc\u001b[0m in \u001b[0;36mloads\u001b[0;34m(s, encoding, cls, object_hook, parse_float, parse_int, parse_constant, object_pairs_hook, **kw)\u001b[0m\n\u001b[1;32m    337\u001b[0m             \u001b[0mparse_int\u001b[0m \u001b[0;32mis\u001b[0m \u001b[0mNone\u001b[0m \u001b[0;32mand\u001b[0m \u001b[0mparse_float\u001b[0m \u001b[0;32mis\u001b[0m \u001b[0mNone\u001b[0m \u001b[0;32mand\u001b[0m\u001b[0;34m\u001b[0m\u001b[0m\n\u001b[1;32m    338\u001b[0m             parse_constant is None and object_pairs_hook is None and not kw):\n\u001b[0;32m--> 339\u001b[0;31m         \u001b[0;32mreturn\u001b[0m \u001b[0m_default_decoder\u001b[0m\u001b[0;34m.\u001b[0m\u001b[0mdecode\u001b[0m\u001b[0;34m(\u001b[0m\u001b[0ms\u001b[0m\u001b[0;34m)\u001b[0m\u001b[0;34m\u001b[0m\u001b[0m\n\u001b[0m\u001b[1;32m    340\u001b[0m     \u001b[0;32mif\u001b[0m \u001b[0mcls\u001b[0m \u001b[0;32mis\u001b[0m \u001b[0mNone\u001b[0m\u001b[0;34m:\u001b[0m\u001b[0;34m\u001b[0m\u001b[0m\n\u001b[1;32m    341\u001b[0m         \u001b[0mcls\u001b[0m \u001b[0;34m=\u001b[0m \u001b[0mJSONDecoder\u001b[0m\u001b[0;34m\u001b[0m\u001b[0m\n",
      "\u001b[0;32m/Users/mahdimoqri/anaconda/lib/python2.7/json/decoder.pyc\u001b[0m in \u001b[0;36mdecode\u001b[0;34m(self, s, _w)\u001b[0m\n\u001b[1;32m    362\u001b[0m \u001b[0;34m\u001b[0m\u001b[0m\n\u001b[1;32m    363\u001b[0m         \"\"\"\n\u001b[0;32m--> 364\u001b[0;31m         \u001b[0mobj\u001b[0m\u001b[0;34m,\u001b[0m \u001b[0mend\u001b[0m \u001b[0;34m=\u001b[0m \u001b[0mself\u001b[0m\u001b[0;34m.\u001b[0m\u001b[0mraw_decode\u001b[0m\u001b[0;34m(\u001b[0m\u001b[0ms\u001b[0m\u001b[0;34m,\u001b[0m \u001b[0midx\u001b[0m\u001b[0;34m=\u001b[0m\u001b[0m_w\u001b[0m\u001b[0;34m(\u001b[0m\u001b[0ms\u001b[0m\u001b[0;34m,\u001b[0m \u001b[0;36m0\u001b[0m\u001b[0;34m)\u001b[0m\u001b[0;34m.\u001b[0m\u001b[0mend\u001b[0m\u001b[0;34m(\u001b[0m\u001b[0;34m)\u001b[0m\u001b[0;34m)\u001b[0m\u001b[0;34m\u001b[0m\u001b[0m\n\u001b[0m\u001b[1;32m    365\u001b[0m         \u001b[0mend\u001b[0m \u001b[0;34m=\u001b[0m \u001b[0m_w\u001b[0m\u001b[0;34m(\u001b[0m\u001b[0ms\u001b[0m\u001b[0;34m,\u001b[0m \u001b[0mend\u001b[0m\u001b[0;34m)\u001b[0m\u001b[0;34m.\u001b[0m\u001b[0mend\u001b[0m\u001b[0;34m(\u001b[0m\u001b[0;34m)\u001b[0m\u001b[0;34m\u001b[0m\u001b[0m\n\u001b[1;32m    366\u001b[0m         \u001b[0;32mif\u001b[0m \u001b[0mend\u001b[0m \u001b[0;34m!=\u001b[0m \u001b[0mlen\u001b[0m\u001b[0;34m(\u001b[0m\u001b[0ms\u001b[0m\u001b[0;34m)\u001b[0m\u001b[0;34m:\u001b[0m\u001b[0;34m\u001b[0m\u001b[0m\n",
      "\u001b[0;32m/Users/mahdimoqri/anaconda/lib/python2.7/json/decoder.pyc\u001b[0m in \u001b[0;36mraw_decode\u001b[0;34m(self, s, idx)\u001b[0m\n\u001b[1;32m    380\u001b[0m             \u001b[0mobj\u001b[0m\u001b[0;34m,\u001b[0m \u001b[0mend\u001b[0m \u001b[0;34m=\u001b[0m \u001b[0mself\u001b[0m\u001b[0;34m.\u001b[0m\u001b[0mscan_once\u001b[0m\u001b[0;34m(\u001b[0m\u001b[0ms\u001b[0m\u001b[0;34m,\u001b[0m \u001b[0midx\u001b[0m\u001b[0;34m)\u001b[0m\u001b[0;34m\u001b[0m\u001b[0m\n\u001b[1;32m    381\u001b[0m         \u001b[0;32mexcept\u001b[0m \u001b[0mStopIteration\u001b[0m\u001b[0;34m:\u001b[0m\u001b[0;34m\u001b[0m\u001b[0m\n\u001b[0;32m--> 382\u001b[0;31m             \u001b[0;32mraise\u001b[0m \u001b[0mValueError\u001b[0m\u001b[0;34m(\u001b[0m\u001b[0;34m\"No JSON object could be decoded\"\u001b[0m\u001b[0;34m)\u001b[0m\u001b[0;34m\u001b[0m\u001b[0m\n\u001b[0m\u001b[1;32m    383\u001b[0m         \u001b[0;32mreturn\u001b[0m \u001b[0mobj\u001b[0m\u001b[0;34m,\u001b[0m \u001b[0mend\u001b[0m\u001b[0;34m\u001b[0m\u001b[0m\n",
      "\u001b[0;31mValueError\u001b[0m: No JSON object could be decoded"
     ]
    }
   ],
   "source": [
    "jsonld_folder='jsonld/'\n",
    "\n",
    "iterfol = iter(os.walk('doi/'))\n",
    "next(iterfol)\n",
    "for x in iterfol:\n",
    "    count=0\n",
    "    with_auth=0\n",
    "    articles=[]\n",
    "    issn= x[0]\n",
    "    print issn,\n",
    "    for y in x[2]:\n",
    "        year_articles= issn+'/'+y\n",
    "        with open(year_articles) as data_file:    \n",
    "            data = json.load(data_file)\n",
    "        len(data['message']['items'])\n",
    "        for article in data['message']['items']:\n",
    "            a={};a['e:author']=[]\n",
    "            count=count+1\n",
    "            if 'author' in article:\n",
    "                with_auth=with_auth+1\n",
    "                for author in article['author']:\n",
    "                    if 'given' in author:\n",
    "                        a['e:author'].append(author['given']+' '+author['family'])\n",
    "                    elif 'family' in author:\n",
    "                        a['e:author'].append(author['family'])\n",
    "                a['e:doi']=article['DOI']\n",
    "                a['@id']='http://dx.doi.org/'+article['DOI']\n",
    "                a['e:issn']=issn.replace('doi/','')\n",
    "                a['e:journal']=article['container-title']\n",
    "                a['e:title']=article['title'][0]\n",
    "                a['e:citation']=article['is-referenced-by-count']\n",
    "                if 'published-print' in article:\n",
    "                    a['e:year']=article['published-print']['date-parts'][0][0]\n",
    "                    if a['e:year']<1990:\n",
    "                        print a['@id']\n",
    "                if 'volume' in article:\n",
    "                    a['e:volume']=article['volume'] \n",
    "                if 'issue' in article:\n",
    "                    a['e:issue']=article['issue'] \n",
    "                if 'reference' in article:\n",
    "                    a['e:reference']=[reference['DOI'] for  reference in article['reference'] if 'DOI' in reference ]\n",
    "\n",
    "                articles.append(a)\n",
    "    jd=unicode(json.dumps(articles, ensure_ascii=False))\n",
    "    jsonld_file=jsonld_folder+issn.replace('/','_')+'.jsonld'\n",
    "    if not os.path.exists(jsonld_file):\n",
    "        with io.open(jsonld_file, 'w', encoding=\"utf-8\") as f:\n",
    "            f.write(jd)\n",
    "        f.close()\n",
    "    print count, with_auth"
   ]
  },
  {
   "cell_type": "code",
   "execution_count": null,
   "metadata": {
    "collapsed": true
   },
   "outputs": [],
   "source": []
  }
 ],
 "metadata": {
  "anaconda-cloud": {},
  "kernelspec": {
   "display_name": "Python [Root]",
   "language": "python",
   "name": "Python [Root]"
  },
  "language_info": {
   "codemirror_mode": {
    "name": "ipython",
    "version": 2
   },
   "file_extension": ".py",
   "mimetype": "text/x-python",
   "name": "python",
   "nbconvert_exporter": "python",
   "pygments_lexer": "ipython2",
   "version": "2.7.12"
  }
 },
 "nbformat": 4,
 "nbformat_minor": 0
}
