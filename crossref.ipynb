{
 "cells": [
  {
   "cell_type": "code",
   "execution_count": 2,
   "metadata": {
    "collapsed": false,
    "scrolled": true
   },
   "outputs": [
    {
     "name": "stdout",
     "output_type": "stream",
     "text": [
      "0093-5301\n",
      "0732-2399\n",
      "0022-2429\n",
      "0022-2437\n",
      "1047-7047\n",
      "0742-1222\n",
      "0025-1909\n",
      "1523-4614\n",
      "0030-364X\n",
      "1059-1478\n"
     ]
    }
   ],
   "source": [
    "import os, json, urllib\n",
    "\n",
    "crossref='http://api.crossref.org/journals/<issn>/works?rows=1000&filter=from-pub-date:<year>,until-pub-date:<year>'\n",
    "\n",
    "with open('../OpenScience/subject_journals.json') as data_file:    \n",
    "    subject_journals = json.load(data_file)\n",
    "for subject in subject_journals:\n",
    "    for journal in subject['journals']:\n",
    "        if 'issn' in journal:\n",
    "            issn=journal['issn']\n",
    "            print issn\n",
    "            journal_folder='doi/'+issn+'/'\n",
    "            if not os.path.exists(journal_folder):\n",
    "                os.makedirs(journal_folder)\n",
    "                crossref_issn=crossref.replace('<issn>',issn)\n",
    "                for y in range(1990,2017):\n",
    "                    year=str(y)\n",
    "                    url=crossref_issn.replace('<year>',year)\n",
    "                    try: \n",
    "                        urllib.urlretrieve (url,journal_folder+year+'.json')\n",
    "                    except:\n",
    "                        pass"
   ]
  }
 ],
 "metadata": {
  "kernelspec": {
   "display_name": "Python [Root]",
   "language": "python",
   "name": "Python [Root]"
  },
  "language_info": {
   "codemirror_mode": {
    "name": "ipython",
    "version": 2
   },
   "file_extension": ".py",
   "mimetype": "text/x-python",
   "name": "python",
   "nbconvert_exporter": "python",
   "pygments_lexer": "ipython2",
   "version": "2.7.12"
  }
 },
 "nbformat": 4,
 "nbformat_minor": 0
}
