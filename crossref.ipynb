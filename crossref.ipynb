{
 "cells": [
  {
   "cell_type": "code",
   "execution_count": 1,
   "metadata": {
    "collapsed": true
   },
   "outputs": [],
   "source": [
    "import os, io, json, urllib"
   ]
  },
  {
   "cell_type": "code",
   "execution_count": 33,
   "metadata": {
    "collapsed": false,
    "scrolled": true
   },
   "outputs": [
    {
     "name": "stdout",
     "output_type": "stream",
     "text": [
      "0361-3682 Accounting, Organizations and Society\n",
      "0823-9150 Contemporary Accounting Research\n",
      "0165-4101 Journal of Accounting and Economics\n",
      "0021-8456 Journal of Accounting Research\n",
      "0001-4826 The Accounting Review\n",
      "0002-8282 American Economic Review\n",
      "0012-9682 Econometrica\n",
      "0022-3808 Journal of Political Economy\n",
      "0034-6527 Review of Economic Studies\n",
      "0033-5533 The Quarterly Journal of Economics\n",
      "0022-1090 Journal of Financial and Quantitative Analysis\n",
      "0304-405X Journal of Financial Economics\n",
      "1572-3097 Review of Finance\n",
      "0893-9454 Review of Financial Studies\n",
      "0022-1082 The Journal of Finance\n",
      "0001-4273 Academy of Management Journal\n",
      "0363-7425 Academy of Management Review\n",
      "0001-8392 Administrative Science Quarterly\n",
      "0149-2063 Journal of Management\n",
      "0022-2380 Journal of Management Studies\n",
      "0048-7333 Research Policy\n",
      "0143-2095 Strategic Management Journal\n",
      "0093-5301 Journal of Consumer Research\n",
      "0732-2399 Marketing Science\n",
      "0022-2429 Journal of Marketing\n",
      "0022-2437 Journal of Marketing Research\n",
      "0092-0703 Journal of the Academy of Marketing Science\n",
      "1047-7047 Information Systems Research\n",
      "0742-1222 Journal of Management Information Systems\n",
      "2162-9730 Management Information Systems Quarterly\n",
      "0272-6963 Journal of Operations Management\n",
      "0025-1909 Management Science\n",
      "1523-4614 Manufacturing & Service Operations Management\n",
      "0030-364X Operations Research\n",
      "1059-1478 Production and Operations Management\n",
      "1047-7039 Organization Science\n",
      "0170-8406 Organization Studies\n",
      "0749-5978 Organizational Behavior and Human Decision Processes\n"
     ]
    }
   ],
   "source": [
    "crossref='http://api.crossref.org/journals/<issn>/works?rows=1000&filter=from-pub-date:<year>,until-pub-date:<year>'\n",
    "\n",
    "with open('../OpenScience/subject_journals.json') as data_file:    \n",
    "    subject_journals = json.load(data_file)\n",
    "for subject in subject_journals:\n",
    "    for journal in subject['journals']:\n",
    "        journal_name=journal['journal']\n",
    "        if 'issn' in journal:\n",
    "            issn=journal['issn']\n",
    "            print issn, journal_name\n",
    "            journal_folder='doi/'+issn+'/'\n",
    "            if not os.path.exists(journal_folder):\n",
    "                os.makedirs(journal_folder)\n",
    "                crossref_issn=crossref.replace('<issn>',issn)\n",
    "                for y in range(1990,2018):\n",
    "                    year=str(y)\n",
    "                    url=crossref_issn.replace('<year>',year)\n",
    "                    if not os.path.exists(journal_folder+year+'.json'):\n",
    "                        try:\n",
    "                            urllib.urlretrieve (url,journal_folder+year+'.json')\n",
    "                        except:\n",
    "                            pass"
   ]
  },
  {
   "cell_type": "code",
   "execution_count": 51,
   "metadata": {
    "collapsed": false,
    "scrolled": true
   },
   "outputs": [
    {
     "name": "stdout",
     "output_type": "stream",
     "text": [
      "# issn items no_authors no_ref\n",
      "1 0001-4273 Academy of Management Journal 2015 1960 0\n",
      "2 0001-4826 The Accounting Review 1404 1159 0\n",
      "3 0001-8392 Administrative Science Quarterly 1525 1368 255\n",
      "4 0002-8282 American Economic Review 4295 4016 0\n",
      "5 0012-9682 Econometrica 2259 1289 0\n",
      "6 0021-8456 Journal of Accounting Research 1040 964 104\n",
      "7 0022-1082 The Journal of Finance 4069 3049 136\n",
      "8 0022-1090 Journal of Financial and Quantitative Analysis 1307 1103 629\n",
      "9 0022-2380 Journal of Management Studies 1744 1481 497\n",
      "10 0022-2429 Journal of Marketing 1383 1247 105\n",
      "11 0022-2437 Journal of Marketing Research 1772 1645 163\n",
      "12 0022-3808 Journal of Political Economy 1670 1259 0\n",
      "13 0025-1909 Management Science 4309 4138 3031\n",
      "14 0030-364X Operations Research 2945 2632 1821\n",
      "15 0033-5533 The Quarterly Journal of Economics 1388 1253 0\n",
      "16 0034-6527 The Review of Economic Studies 1337 1272 0\n",
      "17 0048-7333 Research Policy 2974 2730 0\n",
      "18 0092-0703 Journal of the Academy of Marketing Science 1578 1530 22\n",
      "19 0093-5301 Journal of Consumer Research 1943 1575 383\n",
      "20 0143-2095 Strategic Management Journal 2676 2361 28\n",
      "21 0149-2063 Journal of Management 2221 2086 670\n",
      "22 0165-4101 Journal of Accounting and Economics 1098 897 0\n",
      "23 0170-8406 Organization Studies 2656 2229 437\n",
      "24 0272-6963 Journal of Operations Management 1447 1054 0\n",
      "25 0304-405X Journal of Financial Economics 2455 2167 0\n",
      "26 0361-3682 Accounting, Organizations and Society 1304 1037 0\n",
      "27 0363-7425 The Academy of Management Review 2534 2417 0\n",
      "28 0732-2399 Marketing Science 1383 1234 988\n",
      "29 0742-1222 Journal of Management Information Systems 943 931 442\n",
      "30 0749-5978 Organizational Behavior and Human Decision Processes 1829 1620 0\n",
      "31 0823-9150 Contemporary Accounting Research 1403 1236 2\n",
      "32 0893-9454 Review of Financial Studies 2054 1656 0\n",
      "33 1047-7039 Organization Science 1716 1570 0\n",
      "34 1047-7047 Information Systems Research 964 864 670\n",
      "35 1059-1478 Production and Operations Management 1796 1478 63\n",
      "36 1523-4614 Manufacturing & Service Operations Management 698 631 591\n",
      "37 1572-3097 Review of Finance 721 685 0\n"
     ]
    }
   ],
   "source": [
    "jsonld_folder='jsonld/'\n",
    "\n",
    "iterfol = iter(os.walk('doi/'))\n",
    "next(iterfol)\n",
    "print '# issn items no_authors no_ref'\n",
    "i=0\n",
    "for x in iterfol:\n",
    "    i=i+1\n",
    "    items=0; auth=0; ref=0\n",
    "    articles=[]\n",
    "    issn= x[0]\n",
    "    print i,issn.replace('doi/',''),\n",
    "    art_num=0\n",
    "    for y in x[2]:\n",
    "        year_articles= issn+'/'+y\n",
    "        with open(year_articles) as data_file:    \n",
    "            data = json.load(data_file)\n",
    "        len(data['message']['items'])\n",
    "        for article in data['message']['items']:\n",
    "            a={};a['e:author']=[]\n",
    "            items=items+1\n",
    "            if 'author' in article: \n",
    "                auth=auth+1\n",
    "                for author in article['author']:\n",
    "                    if 'given' in author:\n",
    "                        a['e:author'].append(author['given']+' '+author['family'])\n",
    "                    elif 'family' in author:\n",
    "                        a['e:author'].append(author['family'])\n",
    "                a['e:doi']=article['DOI']\n",
    "                a['@id']='http://dx.doi.org/'+article['DOI']\n",
    "                a['e:issn']=issn.replace('doi/','')\n",
    "                a['e:journal']=article['container-title']\n",
    "                a['e:title']=article['title'][0]\n",
    "                a['e:citation']=article['is-referenced-by-count']\n",
    "                if 'published-print' in article:\n",
    "                    a['e:year']=article['published-print']['date-parts'][0][0]\n",
    "                else: a['e:year']=article['published-online']['date-parts'][0][0]\n",
    "                if a['e:year']<1990: print '------------------------------------------year_error',article['DOI']\n",
    "                if 'volume' in article:\n",
    "                    a['e:volume']=article['volume'] \n",
    "                if 'issue' in article:\n",
    "                    a['e:issue']=article['issue'] \n",
    "                if 'reference' in article:\n",
    "                    a['e:reference']=[]\n",
    "                    for  reference in article['reference']:\n",
    "                        if 'DOI' in reference:\n",
    "                            a['e:reference'].append(reference['DOI'])\n",
    "                    if len(a['e:reference'])>0:\n",
    "                        ref=ref+1\n",
    "                articles.append(a)\n",
    "            if art_num==0:\n",
    "                print article['container-title'][0],\n",
    "                art_num=1                \n",
    "    print items, auth, ref"
   ]
  },
  {
   "cell_type": "code",
   "execution_count": 38,
   "metadata": {
    "collapsed": false
   },
   "outputs": [
    {
     "data": {
      "text/plain": [
       "{u'DOI': u'10.5465/amj.2015.1061',\n",
       " u'ISSN': [u'0001-4273', u'1948-0989'],\n",
       " u'URL': u'http://dx.doi.org/10.5465/amj.2015.1061',\n",
       " u'alternative-id': [u'10.5465/amj.2015.1061'],\n",
       " u'author': [{u'affiliation': [], u'family': u'Foulk', u'given': u'Trevor'},\n",
       "  {u'affiliation': [], u'family': u'Lanaj', u'given': u'Klodiana'},\n",
       "  {u'affiliation': [], u'family': u'Tu', u'given': u'Min-Hsuan'},\n",
       "  {u'affiliation': [], u'family': u'Erez', u'given': u'Amir'},\n",
       "  {u'affiliation': [], u'family': u'Archambeau', u'given': u'Lindy'}],\n",
       " u'container-title': [u'Academy of Management Journal'],\n",
       " u'content-domain': {u'crossmark-restriction': False, u'domain': []},\n",
       " u'created': {u'date-parts': [[2017, 4, 18]],\n",
       "  u'date-time': u'2017-04-18T00:20:13Z',\n",
       "  u'timestamp': 1492474813000L},\n",
       " u'deposited': {u'date-parts': [[2017, 4, 18]],\n",
       "  u'date-time': u'2017-04-18T00:20:14Z',\n",
       "  u'timestamp': 1492474814000L},\n",
       " u'indexed': {u'date-parts': [[2017, 4, 18]],\n",
       "  u'date-time': u'2017-04-18T04:12:18Z',\n",
       "  u'timestamp': 1492488738481L},\n",
       " u'is-referenced-by-count': 0,\n",
       " u'issn-type': [{u'type': u'print', u'value': u'0001-4273'},\n",
       "  {u'type': u'electronic', u'value': u'1948-0989'}],\n",
       " u'issued': {u'date-parts': [[2017, 4, 17]]},\n",
       " u'member': u'3433',\n",
       " u'original-title': [],\n",
       " u'page': u'amj.2015.1061',\n",
       " u'prefix': u'10.5465',\n",
       " u'published-online': {u'date-parts': [[2017, 4, 17]]},\n",
       " u'publisher': u'The Academy of Management',\n",
       " u'reference-count': 0,\n",
       " u'references-count': 0,\n",
       " u'relation': None,\n",
       " u'score': 1.0,\n",
       " u'short-container-title': [u'ACAD MANAGE J'],\n",
       " u'short-title': [],\n",
       " u'source': u'Crossref',\n",
       " u'subject': [u'Management of Technology and Innovation',\n",
       "  u'Strategy and Management',\n",
       "  u'Business, Management and Accounting(all)',\n",
       "  u'Business and International Management'],\n",
       " u'subtitle': [],\n",
       " u'title': [u'HEAVY IS THE HEAD THAT WEARS THE CROWN: AN ACTOR-CENTRIC APPROACH TO DAILY PSYCHOLOGICAL POWER, ABUSIVE LEADER BEHAVIOR, AND PERCEIVED INCIVILITY'],\n",
       " u'type': u'journal-article'}"
      ]
     },
     "execution_count": 38,
     "metadata": {},
     "output_type": "execute_result"
    }
   ],
   "source": [
    "article"
   ]
  },
  {
   "cell_type": "code",
   "execution_count": null,
   "metadata": {
    "collapsed": true
   },
   "outputs": [],
   "source": [
    "    jd=unicode(json.dumps(articles, ensure_ascii=False))\n",
    "    jsonld_file=jsonld_folder+issn.replace('/','_')+'.jsonld'\n",
    "    if not os.path.exists(jsonld_file):\n",
    "        with io.open(jsonld_file, 'w', encoding=\"utf-8\") as f:\n",
    "            f.write(jd)\n",
    "        f.close()\n"
   ]
  },
  {
   "cell_type": "code",
   "execution_count": 20,
   "metadata": {
    "collapsed": false
   },
   "outputs": [
    {
     "data": {
      "text/plain": [
       "{u'DOI': u'10.5465/amj.2015.1061',\n",
       " u'ISSN': [u'0001-4273', u'1948-0989'],\n",
       " u'URL': u'http://dx.doi.org/10.5465/amj.2015.1061',\n",
       " u'alternative-id': [u'10.5465/amj.2015.1061'],\n",
       " u'author': [{u'affiliation': [], u'family': u'Foulk', u'given': u'Trevor'},\n",
       "  {u'affiliation': [], u'family': u'Lanaj', u'given': u'Klodiana'},\n",
       "  {u'affiliation': [], u'family': u'Tu', u'given': u'Min-Hsuan'},\n",
       "  {u'affiliation': [], u'family': u'Erez', u'given': u'Amir'},\n",
       "  {u'affiliation': [], u'family': u'Archambeau', u'given': u'Lindy'}],\n",
       " u'container-title': [u'Academy of Management Journal'],\n",
       " u'content-domain': {u'crossmark-restriction': False, u'domain': []},\n",
       " u'created': {u'date-parts': [[2017, 4, 18]],\n",
       "  u'date-time': u'2017-04-18T00:20:13Z',\n",
       "  u'timestamp': 1492474813000L},\n",
       " u'deposited': {u'date-parts': [[2017, 4, 18]],\n",
       "  u'date-time': u'2017-04-18T00:20:14Z',\n",
       "  u'timestamp': 1492474814000L},\n",
       " u'indexed': {u'date-parts': [[2017, 4, 18]],\n",
       "  u'date-time': u'2017-04-18T04:12:18Z',\n",
       "  u'timestamp': 1492488738481L},\n",
       " u'is-referenced-by-count': 0,\n",
       " u'issn-type': [{u'type': u'print', u'value': u'0001-4273'},\n",
       "  {u'type': u'electronic', u'value': u'1948-0989'}],\n",
       " u'issued': {u'date-parts': [[2017, 4, 17]]},\n",
       " u'member': u'3433',\n",
       " u'original-title': [],\n",
       " u'page': u'amj.2015.1061',\n",
       " u'prefix': u'10.5465',\n",
       " u'published-online': {u'date-parts': [[2017, 4, 17]]},\n",
       " u'publisher': u'The Academy of Management',\n",
       " u'reference-count': 0,\n",
       " u'references-count': 0,\n",
       " u'relation': None,\n",
       " u'score': 1.0,\n",
       " u'short-container-title': [u'ACAD MANAGE J'],\n",
       " u'short-title': [],\n",
       " u'source': u'Crossref',\n",
       " u'subject': [u'Management of Technology and Innovation',\n",
       "  u'Strategy and Management',\n",
       "  u'Business, Management and Accounting(all)',\n",
       "  u'Business and International Management'],\n",
       " u'subtitle': [],\n",
       " u'title': [u'HEAVY IS THE HEAD THAT WEARS THE CROWN: AN ACTOR-CENTRIC APPROACH TO DAILY PSYCHOLOGICAL POWER, ABUSIVE LEADER BEHAVIOR, AND PERCEIVED INCIVILITY'],\n",
       " u'type': u'journal-article'}"
      ]
     },
     "execution_count": 20,
     "metadata": {},
     "output_type": "execute_result"
    }
   ],
   "source": [
    "article"
   ]
  },
  {
   "cell_type": "code",
   "execution_count": null,
   "metadata": {
    "collapsed": true
   },
   "outputs": [],
   "source": []
  }
 ],
 "metadata": {
  "anaconda-cloud": {},
  "kernelspec": {
   "display_name": "Python [Root]",
   "language": "python",
   "name": "Python [Root]"
  },
  "language_info": {
   "codemirror_mode": {
    "name": "ipython",
    "version": 2
   },
   "file_extension": ".py",
   "mimetype": "text/x-python",
   "name": "python",
   "nbconvert_exporter": "python",
   "pygments_lexer": "ipython2",
   "version": "2.7.12"
  }
 },
 "nbformat": 4,
 "nbformat_minor": 0
}
