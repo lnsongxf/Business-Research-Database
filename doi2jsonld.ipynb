{
 "cells": [
  {
   "cell_type": "code",
   "execution_count": 124,
   "metadata": {
    "collapsed": false
   },
   "outputs": [
    {
     "name": "stdout",
     "output_type": "stream",
     "text": [
      "\n"
     ]
    }
   ],
   "source": []
  },
  {
   "cell_type": "code",
   "execution_count": 200,
   "metadata": {
    "collapsed": false
   },
   "outputs": [
    {
     "data": {
      "text/plain": [
       "{'@id': u'http://dx.doi.org/10.1287/msom.1.2.157',\n",
       " 'doi': u'10.1287/msom.1.2.157',\n",
       " 'e:author': [u'Srinagesh Gavirneni', u'Sridhar Tayur'],\n",
       " 'e:citation': 3,\n",
       " 'e:issn': '1523-4614',\n",
       " 'e:issue': u'2',\n",
       " 'e:journal': [u'Manufacturing & Service Operations Management'],\n",
       " 'e:reference': [u'10.1017/S026996480000471X',\n",
       "  u'10.1287/mnsc.31.9.1150',\n",
       "  u'10.1023/A:1022651322174',\n",
       "  u'10.1287/moor.11.2.193',\n",
       "  u'10.1287/moor.11.2.208',\n",
       "  u'10.1287/mnsc.45.1.16',\n",
       "  u'10.1287/opre.42.5.913',\n",
       "  u'10.1287/mnsc.41.2.263',\n",
       "  u'10.1287/msom.1.1.50',\n",
       "  u'10.1287/mnsc.41.10.1599',\n",
       "  u'10.1287/mnsc.10.3.429',\n",
       "  u'10.1287/opre.46.6.899',\n",
       "  u'10.1287/mnsc.36.6.724',\n",
       "  u'10.1214/aoms/1177706264',\n",
       "  u'10.1287/opre.37.3.437',\n",
       "  u'10.1080/05695557808975228',\n",
       "  u'10.1287/opre.41.2.351',\n",
       "  u'10.1287/mnsc.42.10.1409',\n",
       "  u'10.1287/opre.38.2.296',\n",
       "  u'10.1287/mnsc.35.1.71',\n",
       "  u'10.1287/mnsc.41.4.690'],\n",
       " 'e:title': u'Managing a Customer Following a Target Reverting Policy',\n",
       " 'e:volume': u'1',\n",
       " 'e:year': 1999}"
      ]
     },
     "execution_count": 200,
     "metadata": {},
     "output_type": "execute_result"
    }
   ],
   "source": [
    "articles[0]"
   ]
  },
  {
   "cell_type": "code",
   "execution_count": null,
   "metadata": {
    "collapsed": true
   },
   "outputs": [],
   "source": []
  }
 ],
 "metadata": {
  "anaconda-cloud": {},
  "kernelspec": {
   "display_name": "Python [Root]",
   "language": "python",
   "name": "Python [Root]"
  },
  "language_info": {
   "codemirror_mode": {
    "name": "ipython",
    "version": 2
   },
   "file_extension": ".py",
   "mimetype": "text/x-python",
   "name": "python",
   "nbconvert_exporter": "python",
   "pygments_lexer": "ipython2",
   "version": "2.7.12"
  }
 },
 "nbformat": 4,
 "nbformat_minor": 0
}
