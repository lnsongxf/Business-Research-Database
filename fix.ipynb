{
 "cells": [
  {
   "cell_type": "code",
   "execution_count": 7,
   "metadata": {
    "collapsed": true
   },
   "outputs": [],
   "source": [
    "import re\n",
    "def fix_keyword(keyword):\n",
    "    keyword=re.sub(r'\\(.+?\\)', '', keyword).strip()\n",
    "    if len(keyword)>1:\n",
    "        if (keyword[0].islower() and keyword[1].islower()):\n",
    "            keyword=keyword.capitalize()                                   \n",
    "    return keyword\n",
    "def validate(article):\n",
    "    with open('title_remove') as f:\n",
    "        title_remove_list = f.readlines()\n",
    "    # you may also want to remove whitespace characters like `\\n` at the end of each line\n",
    "    title_remove_list = [x.strip() for x in title_remove_list] \n",
    "    title=article['ex:title'].lower()\n",
    "    validate=True\n",
    "    if title in title_remove_list:\n",
    "        validate=False\n",
    "    if title=='':\n",
    "        validate=False\n",
    "    return validate"
   ]
  }
 ],
 "metadata": {
  "anaconda-cloud": {},
  "kernelspec": {
   "display_name": "Python [Root]",
   "language": "python",
   "name": "Python [Root]"
  },
  "language_info": {
   "codemirror_mode": {
    "name": "ipython",
    "version": 2
   },
   "file_extension": ".py",
   "mimetype": "text/x-python",
   "name": "python",
   "nbconvert_exporter": "python",
   "pygments_lexer": "ipython2",
   "version": "2.7.12"
  }
 },
 "nbformat": 4,
 "nbformat_minor": 0
}
