{
 "cells": [
  {
   "cell_type": "code",
   "execution_count": 2,
   "metadata": {
    "collapsed": false
   },
   "outputs": [
    {
     "data": {
      "text/plain": [
       "'230 Login successful.'"
      ]
     },
     "execution_count": 2,
     "metadata": {},
     "output_type": "execute_result"
    }
   ],
   "source": [
    "import os \n",
    "import ftplib\n",
    "import json\n",
    "import time\n",
    "import subprocess\n",
    "\n",
    "ftp = ftplib.FTP(\"ftp.repec.org\")\n",
    "ftp.login() "
   ]
  },
  {
   "cell_type": "code",
   "execution_count": 3,
   "metadata": {
    "collapsed": false
   },
   "outputs": [],
   "source": [
    "base='/opt/ReDIF/RePEc'\n",
    "\n",
    "with open('journals.json') as data_file:    \n",
    "    journals = json.load(data_file)"
   ]
  },
  {
   "cell_type": "code",
   "execution_count": null,
   "metadata": {
    "collapsed": false,
    "scrolled": true
   },
   "outputs": [
    {
     "name": "stdout",
     "output_type": "stream",
     "text": [
      "/opt/ReDIF/RePEc/eee/aosoci 1\n",
      "/opt/ReDIF/RePEc/aea/aecrev"
     ]
    }
   ],
   "source": [
    "for journal in journals:\n",
    "    publisher=journal['publisher']\n",
    "    jname=journal['jname']\n",
    "    remote_journal=base+'/'+publisher+'/'+jname\n",
    "    i=0; print remote_journal,\n",
    "    remote_files = ftp.nlst(remote_journal)\n",
    "    local_publisher='redif/'+publisher\n",
    "    if not os.path.exists(local_publisher):\n",
    "        os.makedirs(local_publisher)\n",
    "    local_journal=local_publisher+'/'+jname\n",
    "    if not os.path.exists(local_journal):\n",
    "        os.makedirs(local_journal)\n",
    "    for remote_file in remote_files:\n",
    "        if remote_file[-4:]=='.rdf' or remote_file[-6:]=='.redif':\n",
    "            local_file = local_journal+remote_file.replace(remote_journal,'')\n",
    "            local_file = open(local_file, 'wb')\n",
    "            ftp.retrbinary('RETR '+ remote_file, local_file.write)\n",
    "            local_file.close()\n",
    "            i=i+1\n",
    "    print i"
   ]
  },
  {
   "cell_type": "code",
   "execution_count": 9,
   "metadata": {
    "collapsed": false
   },
   "outputs": [
    {
     "data": {
      "text/plain": [
       "'221 Goodbye.'"
      ]
     },
     "execution_count": 9,
     "metadata": {},
     "output_type": "execute_result"
    }
   ],
   "source": [
    "ftp.quit() # This is the “polite” way to close a connection"
   ]
  },
  {
   "cell_type": "code",
   "execution_count": 5,
   "metadata": {
    "collapsed": false
   },
   "outputs": [
    {
     "data": {
      "text/plain": [
       "u'jbuset.redif'"
      ]
     },
     "execution_count": 5,
     "metadata": {},
     "output_type": "execute_result"
    },
    {
     "name": "stdout",
     "output_type": "stream",
     "text": [
      "\n"
     ]
    }
   ],
   "source": [
    "wget.download('ftp://ftp.repec.org/opt/ReDIF/RePEc/kap/jbuset/jbuset.redif')"
   ]
  },
  {
   "cell_type": "code",
   "execution_count": null,
   "metadata": {
    "collapsed": true
   },
   "outputs": [],
   "source": []
  }
 ],
 "metadata": {
  "anaconda-cloud": {},
  "kernelspec": {
   "display_name": "Python [Root]",
   "language": "python",
   "name": "Python [Root]"
  },
  "language_info": {
   "codemirror_mode": {
    "name": "ipython",
    "version": 2
   },
   "file_extension": ".py",
   "mimetype": "text/x-python",
   "name": "python",
   "nbconvert_exporter": "python",
   "pygments_lexer": "ipython2",
   "version": "2.7.12"
  }
 },
 "nbformat": 4,
 "nbformat_minor": 0
}
