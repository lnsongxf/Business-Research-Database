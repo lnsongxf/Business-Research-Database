{
 "cells": [
  {
   "cell_type": "code",
   "execution_count": 1,
   "metadata": {
    "collapsed": false
   },
   "outputs": [
    {
     "data": {
      "text/plain": [
       "'230 Login successful.'"
      ]
     },
     "execution_count": 1,
     "metadata": {},
     "output_type": "execute_result"
    }
   ],
   "source": [
    "import os \n",
    "import ftplib\n",
    "import json\n",
    "\n",
    "ftp = ftplib.FTP(\"ftp.repec.org\")\n",
    "ftp.login() "
   ]
  },
  {
   "cell_type": "code",
   "execution_count": 2,
   "metadata": {
    "collapsed": false
   },
   "outputs": [],
   "source": [
    "base='/opt/ReDIF/RePEc'\n",
    "\n",
    "with open('journals.json') as data_file:    \n",
    "    journals = json.load(data_file)"
   ]
  },
  {
   "cell_type": "code",
   "execution_count": 3,
   "metadata": {
    "collapsed": false,
    "scrolled": true
   },
   "outputs": [
    {
     "name": "stdout",
     "output_type": "stream",
     "text": [
      "/opt/ReDIF/RePEc/inm/orisre/isre-0101-1704-BOM.rdf\n"
     ]
    }
   ],
   "source": [
    "for journal in journals[0:1]:\n",
    "    publisher=journal['publisher']\n",
    "    jname=journal['jname']\n",
    "    remote_journal=base+'/'+publisher+'/'+jname\n",
    "    remote_files = ftp.nlst(remote_journal)\n",
    "    local_publisher='redif/'+publisher\n",
    "    if not os.path.exists(local_publisher):\n",
    "        os.makedirs(local_publisher)\n",
    "    local_journal=local_publisher+'/'+jname\n",
    "    if not os.path.exists(local_journal):\n",
    "        os.makedirs(local_journal)\n",
    "    for remote_file in remote_files:\n",
    "        print remote_file\n",
    "        local_file = local_journal+remote_file.replace(remote_journal,'')\n",
    "        local_file = open(local_file, 'wb')\n",
    "        ftp.retrbinary('RETR '+ remote_file, local_file.write)\n",
    "        local_file.close()"
   ]
  },
  {
   "cell_type": "code",
   "execution_count": 4,
   "metadata": {
    "collapsed": false
   },
   "outputs": [
    {
     "data": {
      "text/plain": [
       "'221 Goodbye.'"
      ]
     },
     "execution_count": 4,
     "metadata": {},
     "output_type": "execute_result"
    }
   ],
   "source": [
    "ftp.quit() # This is the “polite” way to close a connection"
   ]
  },
  {
   "cell_type": "code",
   "execution_count": null,
   "metadata": {
    "collapsed": true
   },
   "outputs": [],
   "source": []
  }
 ],
 "metadata": {
  "anaconda-cloud": {},
  "kernelspec": {
   "display_name": "Python [Root]",
   "language": "python",
   "name": "Python [Root]"
  },
  "language_info": {
   "codemirror_mode": {
    "name": "ipython",
    "version": 2
   },
   "file_extension": ".py",
   "mimetype": "text/x-python",
   "name": "python",
   "nbconvert_exporter": "python",
   "pygments_lexer": "ipython2",
   "version": "2.7.12"
  }
 },
 "nbformat": 4,
 "nbformat_minor": 0
}
