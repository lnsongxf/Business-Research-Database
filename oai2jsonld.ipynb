{
 "cells": [
  {
   "cell_type": "code",
   "execution_count": 10,
   "metadata": {
    "collapsed": false
   },
   "outputs": [],
   "source": [
    "import codecs\n",
    "import io, json, codecs\n",
    "import os\n",
    "from bs4 import BeautifulSoup as bs\n",
    "import fix"
   ]
  },
  {
   "cell_type": "code",
   "execution_count": 13,
   "metadata": {
    "collapsed": false
   },
   "outputs": [],
   "source": [
    "def oai2jsonld(jsonld_src,issn,journal_name,oai_file):\n",
    "    soup=bs(xml_content,\"lxml\").findAll('metadata')\n",
    "    global articles; articles==[]\n",
    "    global e\n",
    "    for s in soup:\n",
    "        creators=[] \n",
    "        article={}\n",
    "        article['e:journal']=journal_name\n",
    "        article['e:issn']=issn\n",
    "        article['e:author']=[]\n",
    "        article['e:keyword']=[]\n",
    "        properties=s.findChild().findAll()\n",
    "        for p in properties:\n",
    "            key= p.name\n",
    "            j=p.text.strip()\n",
    "            if key =='dc:title':article['e:title']=j\n",
    "            elif key=='dc:date':article['e:year']=int(j[0:4])\n",
    "            elif key=='dc:identifier':\n",
    "                if 'vol' in j:\n",
    "                    if 'iss' in j:\n",
    "                        issue=j.split('iss')[1].split('/')[0]\n",
    "                        article['e:issue']=issue                        \n",
    "                    volume=j.split('vol')[1].split('/')[0]\n",
    "                    article['e:volume']=volume\n",
    "                    article['e:url']=j\n",
    "                    article['e:doi']=j.replace('http://dx.doi.org/','').replace('http://hdl.handle.net/','')\n",
    "            elif key=='dc:description':article['e:abstract']=j\n",
    "            elif key=='dc:creator':\n",
    "                if ',' in j:\n",
    "                    j=' '.join(reversed([part.strip() for part in j.split(',')]))\n",
    "                creator=j\n",
    "                creators.append(creator)\n",
    "            elif key=='dc:subject': article['e:keyword'].append(fix.fix_keyword(j))\n",
    "        article['e:author']=creators\n",
    "\n",
    "        if fix.validate(article)==True:\n",
    "            articles.append(article)\n",
    "        else:\n",
    "            e=e+1\n",
    "    jd=unicode(json.dumps(articles, ensure_ascii=False))\n",
    "    jsonld_file=jsonld_src+issn+'_'+oai_file.replace('.xml','.jsonld').replace('/','_')\n",
    "    with io.open(jsonld_file, 'w') as f:\n",
    "        f.write(jd)\n",
    "\n",
    "        return (jsonld_file)"
   ]
  },
  {
   "cell_type": "code",
   "execution_count": 14,
   "metadata": {
    "collapsed": false,
    "scrolled": true
   },
   "outputs": [
    {
     "name": "stdout",
     "output_type": "stream",
     "text": [
      "40\n",
      "ais misqrt Management Information Systems Quarterly fixes= 0  files= 15\n"
     ]
    }
   ],
   "source": [
    "oai_folder='oai/'\n",
    "jsonld_src='jsonld_src/'\n",
    "\n",
    "with open('../OpenScience/subject_journals.json') as data_file:    \n",
    "    subject_journals = json.load(data_file)\n",
    "\n",
    "journals=[]\n",
    "for subject in subject_journals:\n",
    "    journals=journals+(subject['journals'])\n",
    "print len(journals)\n",
    "    \n",
    "for journal in journals:\n",
    "    issn=journal['issn']\n",
    "    source=journal['jname']\n",
    "    journal_name=journal['journal']\n",
    "    data=journal['data']\n",
    "    for type_pub in data:   \n",
    "        file_type=type_pub['type']\n",
    "        publisher=type_pub['publisher']\n",
    "        if file_type=='oai':\n",
    "            print publisher,source,journal_name,\n",
    "            i=0\n",
    "            e=0\n",
    "            for file_name in os.listdir(oai_folder+publisher+'/'+source):\n",
    "                if file_name[-4:]=='.xml':\n",
    "                    oai_file=publisher+'/'+source+'/'+file_name\n",
    "                    articles=[]\n",
    "                    with codecs.open(oai_folder+oai_file) as myfile:\n",
    "                        xml_content=myfile.read().replace('\\n', '')\n",
    "                    jsonld_file= oai2jsonld(jsonld_src,issn,journal_name,oai_file)\n",
    "                i=i+1\n",
    "            print 'fixes=',e,' files=',i"
   ]
  }
 ],
 "metadata": {
  "anaconda-cloud": {},
  "kernelspec": {
   "display_name": "Python [Root]",
   "language": "python",
   "name": "Python [Root]"
  },
  "language_info": {
   "codemirror_mode": {
    "name": "ipython",
    "version": 2
   },
   "file_extension": ".py",
   "mimetype": "text/x-python",
   "name": "python",
   "nbconvert_exporter": "python",
   "pygments_lexer": "ipython2",
   "version": "2.7.12"
  }
 },
 "nbformat": 4,
 "nbformat_minor": 0
}
