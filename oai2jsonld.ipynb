{
 "cells": [
  {
   "cell_type": "code",
   "execution_count": 13,
   "metadata": {
    "collapsed": false
   },
   "outputs": [],
   "source": [
    "import codecs\n",
    "import io, json, codecs\n",
    "import os\n",
    "from bs4 import BeautifulSoup as bs\n",
    "import fix"
   ]
  },
  {
   "cell_type": "code",
   "execution_count": 14,
   "metadata": {
    "collapsed": false
   },
   "outputs": [],
   "source": [
    "def oai_json(journal_name,oai_file):\n",
    "    soup=bs(xml_content,\"lxml\").findAll('metadata')\n",
    "    global articles; articles==[]\n",
    "    global e\n",
    "    for s in soup:\n",
    "        creators=[] \n",
    "        article={}\n",
    "        article['ex:creator']=[]\n",
    "        article['ex:keyword']=[]\n",
    "        properties=s.findChild().findAll()\n",
    "        for p in properties:\n",
    "            key= p.name\n",
    "            j=p.text.strip()\n",
    "            if key =='dc:title':article['ex:title']=j\n",
    "            elif key=='dc:date':article['ex:date']=j[0:4]\n",
    "            elif key=='dc:identifier':\n",
    "                if 'vol' in j:\n",
    "                    if 'iss' in j:\n",
    "                        issue=j.split('iss')[1].split('/')[0]\n",
    "                        article['ex:issue']=issue                        \n",
    "                    volume=j.split('vol')[1].split('/')[0]\n",
    "                    article['ex:volume']=volume\n",
    "                    article['ex:url']=j\n",
    "            elif key=='dc:description':article['ex:abstract']=j\n",
    "            elif key=='dc:source':article['ex:source']=j\n",
    "            elif key=='dc:creator':\n",
    "                creator={}\n",
    "                if ',' in j:\n",
    "                    j=' '.join(reversed([part.strip() for part in j.split(',')]))\n",
    "                creator['ex:name']=j\n",
    "                creators.append(creator)\n",
    "            elif key=='dc:subject': article['ex:keyword'].append(fix.fix_keyword(j))\n",
    "        article['ex:creator']=creators\n",
    "        if fix.validate(article)==True:\n",
    "            articles.append(article)\n",
    "        else:\n",
    "            e=e+1\n",
    "    jd=unicode(json.dumps(articles, ensure_ascii=False))\n",
    "    jsonld_file=jsonld_folder+oai_file.replace('.xml','.jsonld').replace('/','_')\n",
    "    with io.open(jsonld_file, 'w') as f:\n",
    "        f.write(jd)\n",
    "    return (jsonld_file)"
   ]
  },
  {
   "cell_type": "code",
   "execution_count": 15,
   "metadata": {
    "collapsed": false,
    "scrolled": true
   },
   "outputs": [
    {
     "name": "stdout",
     "output_type": "stream",
     "text": [
      "dgc misqrt Management Information Systems Quarterly fixes= 0  files= 15\n"
     ]
    }
   ],
   "source": [
    "with open('journals.json') as data_file:    \n",
    "    journals = json.load(data_file)\n",
    "\n",
    "oai_folder='oai/'\n",
    "jsonld_folder='jsonld/'\n",
    "\n",
    "for journal in journals:\n",
    "    source=journal['jname']\n",
    "    journal_name=journal['journal']\n",
    "    data=journal['data']\n",
    "    for type_pub in data:   \n",
    "        file_type=type_pub['type']\n",
    "        publisher=type_pub['publisher']\n",
    "        if file_type=='oai':\n",
    "            print publisher,source,journal_name,\n",
    "            i=0\n",
    "            e=0\n",
    "            for file_name in os.listdir(oai_folder+publisher+'/'+source):\n",
    "                if file_name[-4:]=='.xml':\n",
    "                    oai_file=publisher+'/'+source+'/'+file_name\n",
    "                    content = []\n",
    "                    jd=''\n",
    "                    articles=[]\n",
    "                    with codecs.open(oai_folder+oai_file) as myfile:\n",
    "                        xml_content=myfile.read().replace('\\n', '')\n",
    "                    jsonld_file= oai_json(journal_name,oai_file)\n",
    "                i=i+1\n",
    "            print 'fixes=',e,' files=',i"
   ]
  },
  {
   "cell_type": "code",
   "execution_count": 16,
   "metadata": {
    "collapsed": false
   },
   "outputs": [
    {
     "data": {
      "text/plain": [
       "u'jsonld/dgc_misqrt_oai9.jsonld'"
      ]
     },
     "execution_count": 16,
     "metadata": {},
     "output_type": "execute_result"
    }
   ],
   "source": [
    "jsonld_file"
   ]
  },
  {
   "cell_type": "code",
   "execution_count": null,
   "metadata": {
    "collapsed": true
   },
   "outputs": [],
   "source": []
  }
 ],
 "metadata": {
  "anaconda-cloud": {},
  "kernelspec": {
   "display_name": "Python [Root]",
   "language": "python",
   "name": "Python [Root]"
  },
  "language_info": {
   "codemirror_mode": {
    "name": "ipython",
    "version": 2
   },
   "file_extension": ".py",
   "mimetype": "text/x-python",
   "name": "python",
   "nbconvert_exporter": "python",
   "pygments_lexer": "ipython2",
   "version": "2.7.12"
  }
 },
 "nbformat": 4,
 "nbformat_minor": 0
}
