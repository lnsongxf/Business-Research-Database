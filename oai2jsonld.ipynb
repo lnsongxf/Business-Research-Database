{
 "cells": [
  {
   "cell_type": "code",
   "execution_count": 1,
   "metadata": {
    "collapsed": false
   },
   "outputs": [],
   "source": [
    "import codecs\n",
    "import io, json, codecs\n",
    "import os\n",
    "from bs4 import BeautifulSoup as bs"
   ]
  },
  {
   "cell_type": "code",
   "execution_count": 6,
   "metadata": {
    "collapsed": false
   },
   "outputs": [
    {
     "name": "stdout",
     "output_type": "stream",
     "text": [
      "\n"
     ]
    }
   ],
   "source": [
    "def oai_json(journal_name,oai_file):\n",
    "    soup=bs(xml_content,\"lxml\").findAll('metadata')\n",
    "    global articles; articles==[]\n",
    "    c=''\n",
    "    for s in soup:\n",
    "        creators=[] \n",
    "        article={}\n",
    "        article['ex:creator']=[]\n",
    "        article['ex:keyword']=[]\n",
    "        properties=s.findChild().findAll()\n",
    "        for p in properties:\n",
    "            key= p.name\n",
    "            j=p.text.strip()\n",
    "            if key =='dc:title':article['ex:title']=j\n",
    "            elif key=='dc:date':article['ex:date']=j[0:4]\n",
    "            elif key=='dc:identifier':\n",
    "                if 'vol' in j:\n",
    "                    if 'iss' in j:\n",
    "                        issue=j.split('iss')[1].split('/')[0]\n",
    "                        article['ex:issue']=issue                        \n",
    "                    volume=j.split('vol')[1].split('/')[0]\n",
    "                    article['ex:volume']=volume\n",
    "                    article['ex:url']=j\n",
    "            elif key=='dc:description':article['ex:abstract']=j\n",
    "            elif key=='dc:source':article['ex:source']=j\n",
    "            elif key=='dc:creator':\n",
    "                creator={}\n",
    "                if ',' in j:\n",
    "                    j=' '.join(reversed([part.strip() for part in j.split(',')]))\n",
    "                creator['ex:name']=j\n",
    "                creators.append(creator)\n",
    "            elif key=='dc:subject': article['ex:keyword'].append(j)\n",
    "        article['ex:creator']=creators\n",
    "        articles.append(article) \n",
    "    jd=unicode(json.dumps(articles, ensure_ascii=False))\n",
    "    jsonld_file=jsonld_folder+oai_file.replace('.xml','.jsonld').replace('/','_')\n",
    "    with io.open(jsonld_file, 'w') as f:\n",
    "        f.write(jd)\n",
    "    return (jsonld_file)"
   ]
  },
  {
   "cell_type": "code",
   "execution_count": 7,
   "metadata": {
    "collapsed": false,
    "scrolled": true
   },
   "outputs": [
    {
     "name": "stdout",
     "output_type": "stream",
     "text": [
      "dgc misqrt MIS Quarterly 16\n"
     ]
    }
   ],
   "source": [
    "with open('journals.json') as data_file:    \n",
    "    journals = json.load(data_file)\n",
    "\n",
    "oai_folder='oai/'\n",
    "jsonld_folder='jsonld/'\n",
    "\n",
    "for journal in journals:\n",
    "    file_type=journal['type']\n",
    "    publisher=journal['publisher']\n",
    "    source=journal['jname']\n",
    "    journal_name=journal['journal']\n",
    "    if file_type=='oai':\n",
    "        print publisher,source,journal_name,\n",
    "        i=0\n",
    "        for file_name in os.listdir(oai_folder+publisher+'/'+source):\n",
    "            if file_name[-4:]=='.xml':\n",
    "                oai_file=publisher+'/'+source+'/'+file_name\n",
    "                content = []\n",
    "                jd=''\n",
    "                articles=[]\n",
    "                with codecs.open(oai_folder+oai_file) as myfile:\n",
    "                    xml_content=myfile.read().replace('\\n', '')\n",
    "                jsonld_file= oai_json(journal_name,oai_file)\n",
    "            i=i+1\n",
    "        print i"
   ]
  },
  {
   "cell_type": "code",
   "execution_count": 8,
   "metadata": {
    "collapsed": false
   },
   "outputs": [
    {
     "data": {
      "text/plain": [
       "{'ex:creator': [{'ex:name': u'G. Sanders'}, {'ex:name': u'James Courtney'}],\n",
       " 'ex:date': u'1985',\n",
       " 'ex:issue': u'1',\n",
       " 'ex:keyword': [],\n",
       " 'ex:source': u'Management Information Systems Quarterly',\n",
       " 'ex:title': u'A Field Study of Organizational Factors Influencing DSS Success',\n",
       " 'ex:url': u'http://aisel.aisnet.org/misq/vol9/iss1/6',\n",
       " 'ex:volume': u'9'}"
      ]
     },
     "execution_count": 8,
     "metadata": {},
     "output_type": "execute_result"
    }
   ],
   "source": [
    "articles[0]"
   ]
  }
 ],
 "metadata": {
  "anaconda-cloud": {},
  "kernelspec": {
   "display_name": "Python [Root]",
   "language": "python",
   "name": "Python [Root]"
  },
  "language_info": {
   "codemirror_mode": {
    "name": "ipython",
    "version": 2
   },
   "file_extension": ".py",
   "mimetype": "text/x-python",
   "name": "python",
   "nbconvert_exporter": "python",
   "pygments_lexer": "ipython2",
   "version": "2.7.12"
  }
 },
 "nbformat": 4,
 "nbformat_minor": 0
}
