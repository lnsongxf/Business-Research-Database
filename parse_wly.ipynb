{
 "cells": [
  {
   "cell_type": "code",
   "execution_count": 79,
   "metadata": {
    "collapsed": false
   },
   "outputs": [],
   "source": [
    "import glob, os\n",
    "from bs4 import BeautifulSoup as bs\n",
    "import re\n",
    "import collections\n",
    "import json\n",
    "import io\n",
    "import fix,parser"
   ]
  },
  {
   "cell_type": "code",
   "execution_count": 80,
   "metadata": {
    "collapsed": false
   },
   "outputs": [],
   "source": [
    "def parse(html,publisher):\n",
    "    global s,s_body\n",
    "    if publisher=='sag':\n",
    "        article=parser.parse_sag(html)\n",
    "    if publisher=='wly':\n",
    "        #article=parser.parse_wly(html)\n",
    "        s = bs(html, 'lxml').find('head')\n",
    "        s_body=bs(html, 'lxml').find('body')\n",
    "        source=s.find('meta',{'name':'citation_journal_title'})['content']\n",
    "        year=s.find('meta',{'name':'citation_publication_date'})['content'][:4]\n",
    "        vol= s.find('meta',{'name':'citation_volume'})['content']\n",
    "        iss= s.find('meta',{'name':'citation_issue'})['content']\n",
    "        title=s.find('meta',{'property':'og:title'})['content']\n",
    "        creators=s.findAll('meta',{'name':'citation_author'}); names=[c['content'] for c in creators]\n",
    "        keywords_html=s.findAll('meta',{'name':'citation_keywords'}); keywords=[k['content'] for k in keywords_html]\n",
    "        url=s.find('meta',{'name':'citation_abstract_html_url'})['content']\n",
    "        abstract_html=s_body.find('div',{'class':'article-section__content mainAbstract'})\n",
    "\n",
    "        if abstract_html is not None:\n",
    "            abstract=abstract_html.find('p').text\n",
    "        else:\n",
    "            abstract=''\n",
    "\n",
    "    article={\n",
    "        'ex:source'   : source,\n",
    "        'ex:date'     : year,\n",
    "        'ex:volume'   : vol,\n",
    "        'ex:issue'    : iss,\n",
    "        'ex:title'    : title,\n",
    "        'ex:creator'  : names,\n",
    "        'ex:abstract' : abstract,        \n",
    "        'ex:keyword'  : keywords,\n",
    "        'ex:url'      : url        \n",
    "    }\n",
    "    return article"
   ]
  },
  {
   "cell_type": "code",
   "execution_count": 81,
   "metadata": {
    "collapsed": false
   },
   "outputs": [],
   "source": [
    "def src2jsonld(publisher, journal_name,base_folder):\n",
    "    global articles; articles=[]\n",
    "    folder=base_folder+\"/htmls\"\n",
    "    files=os.listdir(folder)\n",
    "    l=[]\n",
    "    i=0\n",
    "    global e, f\n",
    "    for f in files:\n",
    "        i=i+1\n",
    "        if 'html' in f:\n",
    "            if i % 10 ==0:\n",
    "                print i,\n",
    "            html=open(folder+'/'+f).read()\n",
    "            article=parse(html,publisher)\n",
    "            if fix.validate(article)==True:\n",
    "                articles.append(article)\n",
    "            else:\n",
    "                e=e+1\n",
    "    jsonld_folder='jsonld/'\n",
    "    jd=unicode(json.dumps(articles, ensure_ascii=False))\n",
    "    jsonld_file=jsonld_folder+(base_folder+'.jsonld').replace('/','_')\n",
    "    with io.open(jsonld_file, 'w', encoding=\"utf-8\") as f:\n",
    "        f.write(jd)\n",
    "    return (jsonld_file)"
   ]
  },
  {
   "cell_type": "code",
   "execution_count": 82,
   "metadata": {
    "collapsed": false,
    "scrolled": true
   },
   "outputs": [
    {
     "name": "stdout",
     "output_type": "stream",
     "text": [
      "wly popmgt Production and Operations Management 10 20 30 40 50 60 70 80 90 100 110 120 130 140 150 160 170 180 190 200 210 220 230 240 250 260 270 280 290 300 310 320 330 340 350 360 370 380 390 400 410 420 430 440 450 460 470 480 490 500 510 520 530 540 550 560 570 580 590 600 610 620 630 640 650 660 670 680 690 700 710 720 730 740 750 760 770 780 790 800 810 820 830 840 850 860 870 880 890 900 910 920 930 940 950 960 970 980 990 1000 1010 1020 1030 1040 1050 1060 1070 1080 1090 1100 1110 1120 1130 1140 1150 1160 1170 1180 1190 1200 1210 1220 1230 1240 1250 1260 1270 1280 1290 1300 1310 1320 1330 1340 1350 1360 1370 1380 1390 1400 1410 1420 1430 1440 1450 1460 1470 1480 1490 1500 1510 1520 1530 fixed=  1\n"
     ]
    }
   ],
   "source": [
    "with open('journals.json') as data_file:    \n",
    "    journals = json.load(data_file)\n",
    "\n",
    "src_folder='src/'\n",
    "jsonld_folder='jsonld/'\n",
    "\n",
    "for journal in journals:\n",
    "    source=journal['jname']\n",
    "    journal_name=journal['journal']\n",
    "    data=journal['data']\n",
    "    for type_pub in data:   \n",
    "        file_type=type_pub['type']\n",
    "        publisher=type_pub['publisher']\n",
    "        if file_type=='src' and publisher=='wly':\n",
    "            e=0\n",
    "            print publisher,source,journal_name,\n",
    "            base_folder=file_type+'/'+publisher+'/'+source\n",
    "            src2jsonld(publisher,journal_name,base_folder)\n",
    "            print 'fixed= ',e"
   ]
  },
  {
   "cell_type": "code",
   "execution_count": 83,
   "metadata": {
    "collapsed": false
   },
   "outputs": [
    {
     "data": {
      "text/plain": [
       "{'ex:abstract': '',\n",
       " 'ex:creator': ['Ferguson, Mark', 'Schmidt, Glen', 'Souza, Gilvan'],\n",
       " 'ex:date': '2010',\n",
       " 'ex:issue': '2',\n",
       " 'ex:keyword': [],\n",
       " 'ex:source': 'Production and Operations Management',\n",
       " 'ex:title': 'Special Issue of Production and Operations Management: New Product Development, Innovation and Sustainability',\n",
       " 'ex:url': 'http://onlinelibrary.wiley.com/doi/10.3401/poms.1080.01139/abstract',\n",
       " 'ex:volume': '19'}"
      ]
     },
     "execution_count": 83,
     "metadata": {},
     "output_type": "execute_result"
    }
   ],
   "source": [
    "article"
   ]
  },
  {
   "cell_type": "code",
   "execution_count": null,
   "metadata": {
    "collapsed": true
   },
   "outputs": [],
   "source": []
  }
 ],
 "metadata": {
  "anaconda-cloud": {},
  "kernelspec": {
   "display_name": "Python [Root]",
   "language": "python",
   "name": "Python [Root]"
  },
  "language_info": {
   "codemirror_mode": {
    "name": "ipython",
    "version": 2
   },
   "file_extension": ".py",
   "mimetype": "text/x-python",
   "name": "python",
   "nbconvert_exporter": "python",
   "pygments_lexer": "ipython2",
   "version": "2.7.12"
  }
 },
 "nbformat": 4,
 "nbformat_minor": 0
}
