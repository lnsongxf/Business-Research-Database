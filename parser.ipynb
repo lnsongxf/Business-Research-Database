{
 "cells": [
  {
   "cell_type": "code",
   "execution_count": 1,
   "metadata": {
    "collapsed": true
   },
   "outputs": [],
   "source": [
    "from bs4 import BeautifulSoup as bs\n",
    "\n",
    "def parse_sag(html):\n",
    "    creators=[] \n",
    "    article={}\n",
    "    article['ex:creator']=[]\n",
    "    article['ex:keyword']=[]\n",
    "    article['ex:issue']='0';article['ex:volume']='0'\n",
    "    article['ex:date']=' '\n",
    "    article={}\n",
    "    s = bs(html, 'lxml').find('head')\n",
    "    s_body=bs(html, 'lxml').find('body')\n",
    "    try:\n",
    "        vol_iss_year=s_body.find('div',{\"class\":\"articleJournalNavTitle\"}).text.replace('\\n','').replace('\\t','')\n",
    "        article['ex:date']=vol_iss_year[-4:]\n",
    "        article['ex:issue']= vol_iss_year.split('Issue ')[1].split(', ')[0]         \n",
    "        article['ex:volume']= vol_iss_year.split('Vol ')[1].split(', ')[0]            \n",
    "    except Exception:\n",
    "        article['ex:date']=s_body.find('div',{\"class\":\"published-dates\"}).text.split('\\n')[1][-4:]\n",
    "        pass\n",
    "    j=''\n",
    "    for c in s.findAll(\"meta\",{\"name\":\"dc.Creator\"}):\n",
    "        creator={}\n",
    "        creator['ex:name']=c['content']\n",
    "        creators.append(creator)\n",
    "    keywords=s.find(\"meta\",{\"name\":\"keywords\"})\n",
    "    if keywords is not None: \n",
    "        for k in keywords['content'].split(','):\n",
    "            article['ex:keyword'].append(fix.fix_keyword(k))\n",
    "\n",
    "    article['ex:title']=s.find(\"meta\",{\"name\":\"dc.Title\"})['content']\n",
    "\n",
    "    doi=s.find(\"meta\",{\"name\":\"dc.Source\"})['content']\n",
    "    if doi is not None:\n",
    "        article['ex:url']=doi\n",
    "\n",
    "    abstract=s.find(\"meta\",{\"name\":\"dc.Description\"})\n",
    "    if abstract is not None:\n",
    "        article['ex:abstract']= abstract['content']\n",
    "\n",
    "    article['ex:source']= s.find(\"meta\",{\"name\":\"citation_journal_title\"})['content']\n",
    "    article['ex:creator']=creators\n",
    "    return article"
   ]
  },
  {
   "cell_type": "code",
   "execution_count": null,
   "metadata": {
    "collapsed": true
   },
   "outputs": [],
   "source": []
  }
 ],
 "metadata": {
  "kernelspec": {
   "display_name": "Python [Root]",
   "language": "python",
   "name": "Python [Root]"
  },
  "language_info": {
   "codemirror_mode": {
    "name": "ipython",
    "version": 2
   },
   "file_extension": ".py",
   "mimetype": "text/x-python",
   "name": "python",
   "nbconvert_exporter": "python",
   "pygments_lexer": "ipython2",
   "version": "2.7.12"
  }
 },
 "nbformat": 4,
 "nbformat_minor": 0
}
