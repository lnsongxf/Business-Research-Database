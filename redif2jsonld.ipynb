{
 "cells": [
  {
   "cell_type": "code",
   "execution_count": 1,
   "metadata": {
    "collapsed": false
   },
   "outputs": [],
   "source": [
    "import io, json, codecs, os, fix"
   ]
  },
  {
   "cell_type": "code",
   "execution_count": 4,
   "metadata": {
    "collapsed": false
   },
   "outputs": [
    {
     "name": "stdout",
     "output_type": "stream",
     "text": [
      "\n"
     ]
    }
   ],
   "source": [
    "def redif2jsonld(jsonld_src,journal_name,issn):\n",
    "    global articles; articles=[]\n",
    "    global article; article={}\n",
    "    global authors; authors=[]\n",
    "    global author; author=''\n",
    "    global e\n",
    "    for i in content:\n",
    "        pair=i.split(':')\n",
    "        j=i.replace(pair[0]+':','').strip()\n",
    "        key=pair[0].lower()\n",
    "        if 'template-type' in key:\n",
    "            if len(article)>0:\n",
    "                if len(author)>0: authors.append(author); author=''\n",
    "                article['e:author']=authors\n",
    "                authors=[]\n",
    "                if fix.validate(article)==True: articles.append(article)\n",
    "                else: e=e+1\n",
    "            article={}\n",
    "            article['e:author']=[]\n",
    "            article['e:keyword']=[]\n",
    "            article['e:journal']=journal_name\n",
    "            article['e:year']=''\n",
    "            article['e:title']=''\n",
    "        elif key=='author-name':\n",
    "            if len(author)>0: authors.append(author)\n",
    "            author=''\n",
    "            if ',' in j: j=' '.join(reversed([part.strip() for part in j.split(',')]))\n",
    "            author=j\n",
    "        elif key=='title':article['e:title']=j\n",
    "        elif key=='year':article['e:year']=j\n",
    "        elif key=='pages':article['e:pages']=j\n",
    "        elif key=='volume':article['e:volume']=j\n",
    "        elif key=='issue':article['e:issue']=j\n",
    "        elif key=='file-url':article['e:url']=j\n",
    "        elif key=='doi':article['e:doi']=j\n",
    "        elif key=='abstract':article['e:abstract']=j\n",
    "        elif key=='keywords':\n",
    "            for keyword in j.replace(';',',').split(','):\n",
    "                if keyword.strip()!='': article['e:keyword'].append(fix.fix_keyword(keyword))\n",
    "\n",
    "    if len(article)>0:\n",
    "        if len(author)>0: authors.append(author); author=''\n",
    "        article['e:author']=authors; authors=[]\n",
    "        articles.append(article)   \n",
    "        \n",
    "    jd=unicode(json.dumps(articles, ensure_ascii=False))\n",
    "    jsonld_file=jsonld_src+issn+'.jsonld'\n",
    "    if not os.path.exists(jsonld_file):\n",
    "        with io.open(jsonld_file, 'w', encoding=\"utf-8\") as f:\n",
    "            f.write(jd)\n",
    "    return (jsonld_file)"
   ]
  },
  {
   "cell_type": "code",
   "execution_count": 10,
   "metadata": {
    "collapsed": false,
    "scrolled": true
   },
   "outputs": [
    {
     "name": "stdout",
     "output_type": "stream",
     "text": [
      "40\n",
      "src jrnmis Journal of Management Information Systems , INVALID= 1 files= 1\n"
     ]
    }
   ],
   "source": [
    "redif_folder='redif/'\n",
    "jsonld_src='jsonld_src/'\n",
    "\n",
    "    \n",
    "with open('../OpenScience/subject_journals.json') as data_file:    \n",
    "    subject_journals = json.load(data_file)\n",
    "\n",
    "journals=[]\n",
    "for subject in subject_journals:\n",
    "    journals=journals+(subject['journals'])\n",
    "print len(journals)\n",
    "    \n",
    "for journal in journals:\n",
    "    source=journal['jname']\n",
    "    if source != 'jrnmis' : continue\n",
    "    journal_name=journal['journal']\n",
    "    data=journal['data']\n",
    "    if 'issn' in journal: issn=journal['issn']\n",
    "    for type_pub in data:   \n",
    "        file_type=type_pub['type']\n",
    "        publisher=type_pub['publisher']\n",
    "        if file_type=='redif' or file_type=='parse':\n",
    "            if file_type=='parse': publisher='src'\n",
    "            print publisher,source,journal_name,\n",
    "            i=0\n",
    "            e=0\n",
    "            for file_name in os.listdir(redif_folder+publisher+'/'+source):\n",
    "                if file_name[-4:]=='.rdf' or file_name[-6:]=='.redif':\n",
    "                    redif_file=publisher+'/'+source+'/'+file_name\n",
    "                    content = []\n",
    "                    articles=[]\n",
    "                    with codecs.open(redif_folder+redif_file,encoding='utf-8',errors='ignore') as file:\n",
    "                        for line in file:\n",
    "                            line = line.strip()\n",
    "                            content.append(line)\n",
    "                    jsonld_file=redif2jsonld(jsonld_src,journal_name,issn)\n",
    "                i=i+1\n",
    "            print ', INVALID=',e,'files=',i"
   ]
  },
  {
   "cell_type": "code",
   "execution_count": 14,
   "metadata": {
    "collapsed": false
   },
   "outputs": [],
   "source": [
    "jsonld_src='jsonld_src/'\n",
    "jsonld_folder='jsonld/'\n",
    "with open(jsonld_src+'0742-1222.jsonld') as data_file:    \n",
    "    data = json.load(data_file)\n"
   ]
  },
  {
   "cell_type": "code",
   "execution_count": 15,
   "metadata": {
    "collapsed": false
   },
   "outputs": [
    {
     "data": {
      "text/plain": [
       "{u'e:abstract': u'The Journal of Management Information Systems will provide an integrated view of the entire discipline to both researchers and practitioners and will help communicate research and practical advances.In order to define the focal points of the new journal, the developmental trends in mis as a field of practice and as an academic discipline are analyzed. Support of less structured decisions under the condition of organizational dynamics is found to be of particular importance. At the same time, the environment of information delivery will be determined by cooperative computing, with the end users gaining in a large measure direct access to information.The role of mis as a crucial component in the evolving knowledge society is stressed. In particular, flexibility of information systems is a factor of social productivity at large.',\n",
       " u'e:author': [u'Vladimir Zwass'],\n",
       " u'e:doi': u'10.1080/07421222.1984.11517693',\n",
       " u'e:issue': u'1',\n",
       " u'e:journal': u'Journal of Management Information Systems',\n",
       " u'e:keyword': [u'Evolution of management information systems',\n",
       "  u'MIS as discipline',\n",
       "  u'Individualized decision support',\n",
       "  u'MIS publications'],\n",
       " u'e:title': u'Management Information Systems\\u2014Beyond the Current Paradigm',\n",
       " u'e:url': u'http://www.tandfonline.com/doi/10.1080/07421222.1984.11517693',\n",
       " u'e:volume': u'1',\n",
       " u'e:year': u'1984'}"
      ]
     },
     "execution_count": 15,
     "metadata": {},
     "output_type": "execute_result"
    }
   ],
   "source": [
    "data[0]"
   ]
  },
  {
   "cell_type": "code",
   "execution_count": null,
   "metadata": {
    "collapsed": true
   },
   "outputs": [],
   "source": []
  }
 ],
 "metadata": {
  "anaconda-cloud": {},
  "kernelspec": {
   "display_name": "Python [Root]",
   "language": "python",
   "name": "Python [Root]"
  },
  "language_info": {
   "codemirror_mode": {
    "name": "ipython",
    "version": 2
   },
   "file_extension": ".py",
   "mimetype": "text/x-python",
   "name": "python",
   "nbconvert_exporter": "python",
   "pygments_lexer": "ipython2",
   "version": "2.7.12"
  }
 },
 "nbformat": 4,
 "nbformat_minor": 0
}
