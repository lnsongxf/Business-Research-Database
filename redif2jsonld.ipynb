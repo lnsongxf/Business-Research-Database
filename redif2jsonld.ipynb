{
 "cells": [
  {
   "cell_type": "code",
   "execution_count": 3,
   "metadata": {
    "collapsed": false
   },
   "outputs": [],
   "source": [
    "import codecs\n",
    "import io, json, codecs\n",
    "import os\n",
    "import fix\n",
    "import os.path"
   ]
  },
  {
   "cell_type": "code",
   "execution_count": 13,
   "metadata": {
    "collapsed": false
   },
   "outputs": [],
   "source": [
    "def redif_json(journal_name,redif_file):\n",
    "    global articles; articles=[]\n",
    "    global article; article={}\n",
    "    global creators; creators=[]\n",
    "    global creator; creator=''\n",
    "    global e\n",
    "    for i in content:\n",
    "        pair=i.split(':')\n",
    "        j=i.replace(pair[0]+':','').strip()\n",
    "        key=pair[0].lower()\n",
    "        if 'template-type' in key:\n",
    "            if len(article)>0:\n",
    "                if len(creator)>0:\n",
    "                    creators.append(creator) \n",
    "                    creator=''\n",
    "                article['ex:creator']=creators\n",
    "                creators=[]\n",
    "                if fix.validate(article)==True:\n",
    "                    articles.append(article)\n",
    "                else:\n",
    "                    e=e+1\n",
    "            article={}\n",
    "            article['ex:creator']=[]\n",
    "            article['ex:keyword']=[]\n",
    "            if journal_name is not '':\n",
    "                article['ex:source']=journal_name\n",
    "            article['ex:year']=''\n",
    "            article['ex:title']=''\n",
    "        elif key=='author-name':\n",
    "            if len(creator)>0:\n",
    "                creators.append(creator)\n",
    "            creator=''\n",
    "            if ',' in j:\n",
    "                j=' '.join(reversed([part.strip() for part in j.split(',')]))\n",
    "            creator=j\n",
    "        elif key=='journal':article['ex:source']=j\n",
    "        elif key=='title':article['ex:title']=j\n",
    "        elif key=='year':article['ex:date']=j\n",
    "        elif key=='pages':article['ex:pages']=j\n",
    "        elif key=='volume':article['ex:volume']=j\n",
    "        elif key=='issue':article['ex:issue']=j\n",
    "        elif key=='file-url':article['ex:url']=j\n",
    "        elif key=='abstract':article['ex:abstract']=j\n",
    "        elif key=='keywords':\n",
    "            for keyword in j.replace(';',',').split(','):\n",
    "                if keyword.strip()!='':\n",
    "                    article['ex:keyword'].append(fix.fix_keyword(keyword))\n",
    "\n",
    "    if len(article)>0:\n",
    "        if len(creator)>0:\n",
    "            creators.append(creator) \n",
    "            creator=''\n",
    "        article['ex:creator']=creators\n",
    "        creators=[]\n",
    "        articles.append(article)   \n",
    "        \n",
    "    jd=unicode(json.dumps(articles, ensure_ascii=False))\n",
    "    if redif_file[-4:]=='.rdf': \n",
    "        jsonld_file=jsonld_folder+redif_file.replace('.rdf','.jsonld').replace('/','_')\n",
    "    if redif_file[-6:]=='.redif': \n",
    "        jsonld_file=jsonld_folder+redif_file.replace('.redif','.jsonld').replace('/','_')\n",
    "    if not os.path.exists(jsonld_file):\n",
    "        with io.open(jsonld_file, 'w', encoding=\"utf-8\") as f:\n",
    "            f.write(jd)\n",
    "    return (jsonld_file)"
   ]
  },
  {
   "cell_type": "code",
   "execution_count": 14,
   "metadata": {
    "collapsed": false,
    "scrolled": true
   },
   "outputs": [
    {
     "name": "stdout",
     "output_type": "stream",
     "text": [
      "eee aosoci Accounting, Organizations and Society , INVALID= 5 files= 1\n",
      "aea aecrev American Economic Review"
     ]
    },
    {
     "ename": "KeyboardInterrupt",
     "evalue": "",
     "output_type": "error",
     "traceback": [
      "\u001b[0;31m---------------------------------------------------------------------------\u001b[0m",
      "\u001b[0;31mKeyboardInterrupt\u001b[0m                         Traceback (most recent call last)",
      "\u001b[0;32m<ipython-input-14-47682f0b5867>\u001b[0m in \u001b[0;36m<module>\u001b[0;34m()\u001b[0m\n\u001b[1;32m     26\u001b[0m                             \u001b[0mline\u001b[0m \u001b[0;34m=\u001b[0m \u001b[0mline\u001b[0m\u001b[0;34m.\u001b[0m\u001b[0mstrip\u001b[0m\u001b[0;34m(\u001b[0m\u001b[0;34m)\u001b[0m\u001b[0;34m\u001b[0m\u001b[0m\n\u001b[1;32m     27\u001b[0m                             \u001b[0mcontent\u001b[0m\u001b[0;34m.\u001b[0m\u001b[0mappend\u001b[0m\u001b[0;34m(\u001b[0m\u001b[0mline\u001b[0m\u001b[0;34m)\u001b[0m\u001b[0;34m\u001b[0m\u001b[0m\n\u001b[0;32m---> 28\u001b[0;31m                     \u001b[0mjsonld_file\u001b[0m\u001b[0;34m=\u001b[0m\u001b[0mredif_json\u001b[0m\u001b[0;34m(\u001b[0m\u001b[0mjournal_name\u001b[0m\u001b[0;34m,\u001b[0m\u001b[0mredif_file\u001b[0m\u001b[0;34m)\u001b[0m\u001b[0;34m\u001b[0m\u001b[0m\n\u001b[0m\u001b[1;32m     29\u001b[0m                 \u001b[0mi\u001b[0m\u001b[0;34m=\u001b[0m\u001b[0mi\u001b[0m\u001b[0;34m+\u001b[0m\u001b[0;36m1\u001b[0m\u001b[0;34m\u001b[0m\u001b[0m\n\u001b[1;32m     30\u001b[0m             \u001b[0;32mprint\u001b[0m \u001b[0;34m', INVALID='\u001b[0m\u001b[0;34m,\u001b[0m\u001b[0me\u001b[0m\u001b[0;34m,\u001b[0m\u001b[0;34m'files='\u001b[0m\u001b[0;34m,\u001b[0m\u001b[0mi\u001b[0m\u001b[0;34m\u001b[0m\u001b[0m\n",
      "\u001b[0;32m<ipython-input-13-a777289e8974>\u001b[0m in \u001b[0;36mredif_json\u001b[0;34m(journal_name, redif_file)\u001b[0m\n\u001b[1;32m     40\u001b[0m         \u001b[0;32melif\u001b[0m \u001b[0mkey\u001b[0m\u001b[0;34m==\u001b[0m\u001b[0;34m'volume'\u001b[0m\u001b[0;34m:\u001b[0m\u001b[0marticle\u001b[0m\u001b[0;34m[\u001b[0m\u001b[0;34m'ex:volume'\u001b[0m\u001b[0;34m]\u001b[0m\u001b[0;34m=\u001b[0m\u001b[0mj\u001b[0m\u001b[0;34m\u001b[0m\u001b[0m\n\u001b[1;32m     41\u001b[0m         \u001b[0;32melif\u001b[0m \u001b[0mkey\u001b[0m\u001b[0;34m==\u001b[0m\u001b[0;34m'issue'\u001b[0m\u001b[0;34m:\u001b[0m\u001b[0marticle\u001b[0m\u001b[0;34m[\u001b[0m\u001b[0;34m'ex:issue'\u001b[0m\u001b[0;34m]\u001b[0m\u001b[0;34m=\u001b[0m\u001b[0mj\u001b[0m\u001b[0;34m\u001b[0m\u001b[0m\n\u001b[0;32m---> 42\u001b[0;31m         \u001b[0;32melif\u001b[0m \u001b[0mkey\u001b[0m\u001b[0;34m==\u001b[0m\u001b[0;34m'file-url'\u001b[0m\u001b[0;34m:\u001b[0m\u001b[0marticle\u001b[0m\u001b[0;34m[\u001b[0m\u001b[0;34m'ex:url'\u001b[0m\u001b[0;34m]\u001b[0m\u001b[0;34m=\u001b[0m\u001b[0mj\u001b[0m\u001b[0;34m\u001b[0m\u001b[0m\n\u001b[0m\u001b[1;32m     43\u001b[0m         \u001b[0;32melif\u001b[0m \u001b[0mkey\u001b[0m\u001b[0;34m==\u001b[0m\u001b[0;34m'abstract'\u001b[0m\u001b[0;34m:\u001b[0m\u001b[0marticle\u001b[0m\u001b[0;34m[\u001b[0m\u001b[0;34m'ex:abstract'\u001b[0m\u001b[0;34m]\u001b[0m\u001b[0;34m=\u001b[0m\u001b[0mj\u001b[0m\u001b[0;34m\u001b[0m\u001b[0m\n\u001b[1;32m     44\u001b[0m         \u001b[0;32melif\u001b[0m \u001b[0mkey\u001b[0m\u001b[0;34m==\u001b[0m\u001b[0;34m'keywords'\u001b[0m\u001b[0;34m:\u001b[0m\u001b[0;34m\u001b[0m\u001b[0m\n",
      "\u001b[0;31mKeyboardInterrupt\u001b[0m: "
     ]
    }
   ],
   "source": [
    "with open('journals.json') as data_file:    \n",
    "    journals = json.load(data_file)\n",
    "\n",
    "redif_folder='redif/'\n",
    "jsonld_folder='jsonld/'\n",
    "\n",
    "for journal in journals:\n",
    "    source=journal['jname']\n",
    "    journal_name=journal['journal']\n",
    "    data=journal['data']\n",
    "    for type_pub in data:   \n",
    "        file_type=type_pub['type']\n",
    "        publisher=type_pub['publisher']\n",
    "        if file_type=='redif':\n",
    "            print publisher,source,journal_name,\n",
    "            i=0\n",
    "            e=0\n",
    "            for file_name in os.listdir(redif_folder+publisher+'/'+source):\n",
    "                if file_name[-4:]=='.rdf' or file_name[-6:]=='.redif':\n",
    "                    redif_file=publisher+'/'+source+'/'+file_name\n",
    "                    content = []\n",
    "                    jd=''\n",
    "                    articles=[]\n",
    "                    with codecs.open(redif_folder+redif_file,encoding='utf-8',errors='ignore') as file:\n",
    "                        for line in file:\n",
    "                            line = line.strip()\n",
    "                            content.append(line)\n",
    "                    jsonld_file=redif_json(journal_name,redif_file)\n",
    "                i=i+1\n",
    "            print ', INVALID=',e,'files=',i"
   ]
  },
  {
   "cell_type": "code",
   "execution_count": 17,
   "metadata": {
    "collapsed": false
   },
   "outputs": [
    {
     "name": "stdout",
     "output_type": "stream",
     "text": [
      "src_sag_adscqt.redif\n",
      "src_sag_jrnmng.redif\n",
      "src_sag_orgstd.redif\n",
      "src_taf_jrnmis.redif\n",
      "src_wly_cnacre.redif\n",
      "src_wly_enttap.redif\n",
      "src_wly_hrmngt.redif\n",
      "src_wly_popmgt.redif\n",
      "src_wly_stentj.redif\n",
      "jsonld/src_parsed_src_wly_stentj.jsonld\n",
      ", INVALID= 447 files= 9\n"
     ]
    }
   ],
   "source": [
    "redif_folder='redif/'\n",
    "jsonld_folder='jsonld/'\n",
    "journal_name=''\n",
    "publisher='src'\n",
    "source='parsed'\n",
    "i=0\n",
    "e=0\n",
    "for file_name in os.listdir(redif_folder+publisher+'/'+source):\n",
    "    if file_name[-4:]=='.rdf' or file_name[-6:]=='.redif':\n",
    "        redif_file=publisher+'/'+source+'/'+file_name\n",
    "        print file_name\n",
    "        content = []\n",
    "        jd=''\n",
    "        articles=[]\n",
    "        with codecs.open(redif_folder+redif_file,encoding='utf-8',errors='ignore') as file:\n",
    "            for line in file:\n",
    "                line = line.strip()\n",
    "                content.append(line)\n",
    "        jsonld_file=redif_json(journal_name,redif_file)\n",
    "    i=i+1\n",
    "print ', INVALID=',e,'files=',i"
   ]
  },
  {
   "cell_type": "code",
   "execution_count": null,
   "metadata": {
    "collapsed": true
   },
   "outputs": [],
   "source": []
  }
 ],
 "metadata": {
  "anaconda-cloud": {},
  "kernelspec": {
   "display_name": "Python [Root]",
   "language": "python",
   "name": "Python [Root]"
  },
  "language_info": {
   "codemirror_mode": {
    "name": "ipython",
    "version": 2
   },
   "file_extension": ".py",
   "mimetype": "text/x-python",
   "name": "python",
   "nbconvert_exporter": "python",
   "pygments_lexer": "ipython2",
   "version": "2.7.12"
  }
 },
 "nbformat": 4,
 "nbformat_minor": 0
}
