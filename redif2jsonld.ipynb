{
 "cells": [
  {
   "cell_type": "code",
   "execution_count": 4,
   "metadata": {
    "collapsed": false
   },
   "outputs": [],
   "source": [
    "import io, json, codecs, os, fix"
   ]
  },
  {
   "cell_type": "code",
   "execution_count": 13,
   "metadata": {
    "collapsed": false
   },
   "outputs": [],
   "source": [
    "def redif2jsonld(jsonld_src,journal_name,issn,file_name):\n",
    "    global articles; articles=[]\n",
    "    global article; article={}\n",
    "    global authors; authors=[]\n",
    "    global author; author=''\n",
    "    global e\n",
    "    for i in content:\n",
    "        pair=i.split(':')\n",
    "        j=i.replace(pair[0]+':','').strip()\n",
    "        key=pair[0].lower()\n",
    "        if 'template-type' in key:\n",
    "            if len(article)>0:\n",
    "                if len(author)>0: authors.append(author); author=''\n",
    "                article['e:author']=authors\n",
    "                authors=[]\n",
    "                if fix.validate(article)==True: articles.append(article)\n",
    "                else: e=e+1\n",
    "            article={}\n",
    "            article['e:author']=[]\n",
    "            article['e:keyword']=[]\n",
    "            article['e:journal']=journal_name\n",
    "            article['e:issn']=issn\n",
    "            article['e:title']=''\n",
    "            article['e:year']=0\n",
    "        elif key=='author-name':\n",
    "            if len(author)>0: authors.append(author)\n",
    "            author=''\n",
    "            if ',' in j: j=' '.join(reversed([part.strip() for part in j.split(',')]))\n",
    "            author=j\n",
    "        elif key=='title':article['e:title']=j\n",
    "        elif key=='year': \n",
    "            try: article['e:year']=int(j) \n",
    "            except: pass\n",
    "        elif key=='pages':article['e:pages']=j\n",
    "        elif key=='volume':article['e:volume']=j\n",
    "        elif key=='issue':article['e:issue']=j\n",
    "        elif key=='file-url':article['e:url']=j;article['e:doi']=j.replace('http://dx.doi.org/','').replace('http://hdl.handle.net/','')\n",
    "        elif key=='doi':article['e:doi']=j\n",
    "        elif key=='abstract':article['e:abstract']=j\n",
    "        elif key=='keywords':\n",
    "            for keyword in j.replace(';',',').split(','):\n",
    "                if keyword.strip()!='': article['e:keyword'].append(fix.fix_keyword(keyword))\n",
    "\n",
    "    if len(article)>0:\n",
    "        if len(author)>0: authors.append(author); author=''\n",
    "        article['e:author']=authors; authors=[]\n",
    "        articles.append(article)   \n",
    "        \n",
    "    jd=unicode(json.dumps(articles, ensure_ascii=False))\n",
    "    jsonld_file=jsonld_src+issn+'_'+file_name.replace('.redif','').replace('.rdf','')+'.jsonld'\n",
    "    #if not os.path.exists(jsonld_file):\n",
    "    with io.open(jsonld_file, 'w', encoding=\"utf-8\") as f:\n",
    "        f.write(jd)\n",
    "    return (jsonld_file)"
   ]
  },
  {
   "cell_type": "code",
   "execution_count": 14,
   "metadata": {
    "collapsed": false,
    "scrolled": true
   },
   "outputs": [
    {
     "name": "stdout",
     "output_type": "stream",
     "text": [
      "40\n",
      "src adscqt Administrative Science Quarterly , INVALID= 260 files= 1\n",
      "src jrnmng Journal of Management , INVALID= 17 files= 1\n",
      "bla jomstd Journal of Management Studies , INVALID= 1 files= 63\n",
      "eee respol Research Policy , INVALID= 9 files= 1\n",
      "bla stratm Strategic Management Journal , INVALID= 0 files= 34\n",
      "oup jconrs Journal of Consumer Research , INVALID= 1082 files= 180\n",
      "inm ormksc Marketing Science , INVALID= 6 files= 6\n",
      "src jrnmkt Journal of Marketing , INVALID= 0 files= 1\n",
      "src jrmktr Journal of Marketing Research , INVALID= 0 files= 1\n",
      "inm orisre Information Systems Research , INVALID= 1 files= 1\n",
      "src jrnmis Journal of Management Information Systems , INVALID= 1 files= 1\n",
      "inm ormnsc Management Science , INVALID= 442 files= 6\n",
      "inm ormsom Manufacturing & Service Operations Management , INVALID= 4 files= 7\n",
      "inm oropre Operations Research , INVALID= 40 files= 3\n",
      "src popmgt Production and Operations Management , INVALID= 1 files= 1\n"
     ]
    }
   ],
   "source": [
    "redif_folder='redif/'\n",
    "jsonld_src='jsonld_src/'\n",
    "\n",
    "    \n",
    "with open('../OpenScience/subject_journals.json') as data_file:    \n",
    "    subject_journals = json.load(data_file)\n",
    "\n",
    "journals=[]\n",
    "for subject in subject_journals:\n",
    "    journals=journals+(subject['journals'])\n",
    "print len(journals)\n",
    "    \n",
    "for journal in journals:\n",
    "    source=journal['jname']\n",
    "    #if source not in  ['ormnsc','ormsom']: continue\n",
    "    journal_name=journal['journal']\n",
    "    data=journal['data']\n",
    "    issn=journal['issn']\n",
    "    if issn !='':\n",
    "        for type_pub in data:   \n",
    "            file_type=type_pub['type']\n",
    "            publisher=type_pub['publisher']\n",
    "            if file_type=='redif' or file_type=='parse':\n",
    "                if file_type=='parse': publisher='src'\n",
    "                print publisher,source,journal_name,\n",
    "                i=0\n",
    "                e=0\n",
    "                for file_name in os.listdir(redif_folder+publisher+'/'+source):\n",
    "                    if file_name[-4:]=='.rdf' or file_name[-6:]=='.redif':\n",
    "                        redif_file=publisher+'/'+source+'/'+file_name\n",
    "                        content = []\n",
    "                        articles=[]\n",
    "                        with codecs.open(redif_folder+redif_file,encoding='utf-8',errors='ignore') as file:\n",
    "                            for line in file:\n",
    "                                line = line.strip()\n",
    "                                content.append(line)\n",
    "                        jsonld_file=redif2jsonld(jsonld_src,journal_name,issn,file_name)\n",
    "                    i=i+1\n",
    "                print ', INVALID=',e,'files=',i"
   ]
  },
  {
   "cell_type": "code",
   "execution_count": 16,
   "metadata": {
    "collapsed": false
   },
   "outputs": [
    {
     "name": "stdout",
     "output_type": "stream",
     "text": [
      "0001-8392 1368 653\n",
      "0149-2063 2086 1649\n",
      "0022-2380 1481 916\n",
      "0048-7333 2730 2062\n",
      "0143-2095 2361 313\n",
      "0093-5301 1575 921\n",
      "0732-2399 1234 1213\n",
      "0022-2429 1247 740\n",
      "0022-2437 1645 961\n",
      "1047-7047 864 807\n",
      "0742-1222 931 1184\n",
      "0025-1909 4138 3789\n",
      "1523-4614 631 609\n",
      "0030-364X 2632 2598\n",
      "1059-1478 1478 886\n"
     ]
    }
   ],
   "source": [
    "with open('../OpenScience/subject_journals.json') as data_file:    \n",
    "    subject_journals = json.load(data_file)\n",
    "journals=[]\n",
    "for subject in subject_journals:\n",
    "    journals=journals+(subject['journals'])\n",
    "issns=[journal['issn'] for journal in journals if journal['issn'] != '']\n",
    "    \n",
    "jsonld_src_folder='jsonld_src/'\n",
    "jsonld_folder='jsonld/'\n",
    "\n",
    "for issn in issns:\n",
    "    with open(jsonld_folder+'doi_'+issn+'.jsonld') as data_file:    \n",
    "        doi_json = json.load(data_file)\n",
    "        dois=[art['e:doi'] for art in doi_json]; \n",
    "        titles=[art['e:title'] for art in doi_json]; \n",
    "    print issn , len(dois),\n",
    "    new_articles=[]\n",
    "    for issn_json in os.listdir(jsonld_src_folder):\n",
    "        if issn_json[0:9]==issn:\n",
    "            with open(jsonld_src_folder+issn_json) as data_file:    \n",
    "                src_json = json.load(data_file)\n",
    "            for src_article in src_json:\n",
    "                new_article={}\n",
    "                if 'e:doi' in src_article:\n",
    "                    src_doi=src_article['e:doi']\n",
    "                    src_title=src_article['e:title']\n",
    "                    if src_doi in dois or src_title in titles:\n",
    "                        if src_doi in dois:\n",
    "                            doi_article=[art for art in doi_json if art['e:doi']==src_doi][0]\n",
    "                        if src_title in titles:\n",
    "                            doi_article=[art for art in doi_json if art['e:title']==src_title][0]\n",
    "                        for item in ['e:year','e:volume','e:issue','e:keyword','e:abstract']:\n",
    "                            if item in src_article and item not in doi_article:\n",
    "                                new_article[item]=src_article[item]\n",
    "                        new_article['@id']=doi_article['@id']\n",
    "\n",
    "                    else:\n",
    "                        if issn=='0742-1222':\n",
    "                            if src_article['e:year']>=1990:\n",
    "                                for item in src_article:\n",
    "                                    new_article[item]=src_article[item]\n",
    "                                new_article['@id']=new_article.pop('e:url')\n",
    "                            \n",
    "                if len(new_article)>0:\n",
    "                    new_articles.append(new_article)\n",
    "            \n",
    "    jd=unicode(json.dumps(new_articles, ensure_ascii=False))\n",
    "    jsonld_file=jsonld_folder+'src_'+issn+'.jsonld'\n",
    "    #if not os.path.exists(jsonld_file):\n",
    "    with io.open(jsonld_file, 'w', encoding=\"utf-8\") as f:\n",
    "        f.write(jd)\n",
    "    print len(new_articles)"
   ]
  },
  {
   "cell_type": "code",
   "execution_count": null,
   "metadata": {
    "collapsed": true
   },
   "outputs": [],
   "source": []
  }
 ],
 "metadata": {
  "anaconda-cloud": {},
  "kernelspec": {
   "display_name": "Python [Root]",
   "language": "python",
   "name": "Python [Root]"
  },
  "language_info": {
   "codemirror_mode": {
    "name": "ipython",
    "version": 2
   },
   "file_extension": ".py",
   "mimetype": "text/x-python",
   "name": "python",
   "nbconvert_exporter": "python",
   "pygments_lexer": "ipython2",
   "version": "2.7.12"
  }
 },
 "nbformat": 4,
 "nbformat_minor": 0
}
