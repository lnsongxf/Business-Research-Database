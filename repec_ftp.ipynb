{
 "cells": [
  {
   "cell_type": "code",
   "execution_count": 18,
   "metadata": {
    "collapsed": false
   },
   "outputs": [
    {
     "data": {
      "text/plain": [
       "'230 Login successful.'"
      ]
     },
     "execution_count": 18,
     "metadata": {},
     "output_type": "execute_result"
    }
   ],
   "source": [
    "import os \n",
    "import ftplib\n",
    "import json\n",
    "import time\n",
    "import subprocess\n",
    "\n",
    "ftp = ftplib.FTP(\"ftp.repec.org\")\n",
    "ftp.login() "
   ]
  },
  {
   "cell_type": "code",
   "execution_count": 19,
   "metadata": {
    "collapsed": false
   },
   "outputs": [],
   "source": [
    "base='/opt/ReDIF/RePEc'\n",
    "\n",
    "with open('journals.json') as data_file:    \n",
    "    journals = json.load(data_file)"
   ]
  },
  {
   "cell_type": "code",
   "execution_count": 20,
   "metadata": {
    "collapsed": false,
    "scrolled": true
   },
   "outputs": [
    {
     "name": "stdout",
     "output_type": "stream",
     "text": [
      "/opt/ReDIF/RePEc/eee/aosoci\n",
      "/opt/ReDIF/RePEc/aea/aecrev\n",
      "/opt/ReDIF/RePEc/ecm/emetrp\n",
      "/opt/ReDIF/RePEc/wly/emetrp\n",
      "/opt/ReDIF/RePEc/inm/orisre\n",
      "/opt/ReDIF/RePEc/eee/jaecon\n",
      "/opt/ReDIF/RePEc/bla/joares\n",
      "/opt/ReDIF/RePEc/kap/jbuset\n",
      "/opt/ReDIF/RePEc/eee/jbvent\n",
      "/opt/ReDIF/RePEc/oup/jconrs\n",
      "/opt/ReDIF/RePEc/bla/jfinan\n",
      "/opt/ReDIF/RePEc/cup/jfinqa\n",
      "/opt/ReDIF/RePEc/eee/jfinec\n",
      "/opt/ReDIF/RePEc/pal/jintbs\n",
      "/opt/ReDIF/RePEc/bla/jomstd\n",
      "/opt/ReDIF/RePEc/ucp/jpolec\n",
      "/opt/ReDIF/RePEc/inm/ormnsc\n",
      "/opt/ReDIF/RePEc/inm/ormsom\n",
      "/opt/ReDIF/RePEc/inm/ormksc\n",
      "/opt/ReDIF/RePEc/inm/ororsc\n",
      "/opt/ReDIF/RePEc/inm/oropre\n",
      "/opt/ReDIF/RePEc/eee/jobhdp\n",
      "/opt/ReDIF/RePEc/bla/popmgt\n",
      "/opt/ReDIF/RePEc/oup/qjecon\n",
      "/opt/ReDIF/RePEc/eee/respol\n",
      "/opt/ReDIF/RePEc/oup/restud\n",
      "/opt/ReDIF/RePEc/oup/revfin\n",
      "/opt/ReDIF/RePEc/oup/rfinst\n",
      "/opt/ReDIF/RePEc/bla/stratm\n"
     ]
    }
   ],
   "source": [
    "last_stamp='213 20170403000000'\n",
    "for journal in journals:\n",
    "    jname=journal['jname']\n",
    "    data=journal['data']\n",
    "    for type_pub in data: \n",
    "        file_type=type_pub['type']\n",
    "        if file_type=='redif':\n",
    "            publisher=type_pub['publisher']\n",
    "            remote_journal=base+'/'+publisher+'/'+jname\n",
    "            print remote_journal\n",
    "            remote_files = ftp.nlst(remote_journal)\n",
    "            local_publisher='redif/'+publisher\n",
    "            if not os.path.exists(local_publisher):\n",
    "                os.makedirs(local_publisher)\n",
    "            local_journal=local_publisher+'/'+jname\n",
    "            if not os.path.exists(local_journal):\n",
    "                os.makedirs(local_journal)\n",
    "            for remote_file in remote_files:\n",
    "                if remote_file[-4:]=='.rdf' or remote_file[-6:]=='.redif':\n",
    "                    local_file = local_journal+remote_file.replace(remote_journal,'')\n",
    "                    modifiedTime = ftp.sendcmd('MDTM ' + remote_file)\n",
    "                    file_stamp= modifiedTime\n",
    "                    if file_stamp>last_stamp:\n",
    "                        f = open(local_file, 'w')\n",
    "                        ftp.retrbinary('RETR '+ remote_file, f.write)\n",
    "                        f.close()\n",
    "                        print remote_file\n"
   ]
  },
  {
   "cell_type": "code",
   "execution_count": 8,
   "metadata": {
    "collapsed": false
   },
   "outputs": [
    {
     "data": {
      "text/plain": [
       "'221 Goodbye.'"
      ]
     },
     "execution_count": 8,
     "metadata": {},
     "output_type": "execute_result"
    }
   ],
   "source": [
    "ftp.quit() # This is the “polite” way to close a connection"
   ]
  },
  {
   "cell_type": "code",
   "execution_count": null,
   "metadata": {
    "collapsed": true
   },
   "outputs": [],
   "source": []
  }
 ],
 "metadata": {
  "anaconda-cloud": {},
  "kernelspec": {
   "display_name": "Python [Root]",
   "language": "python",
   "name": "Python [Root]"
  }
 },
 "nbformat": 4,
 "nbformat_minor": 0
}
