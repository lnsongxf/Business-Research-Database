{
 "cells": [
  {
   "cell_type": "code",
   "execution_count": 5,
   "metadata": {
    "collapsed": false
   },
   "outputs": [
    {
     "data": {
      "text/plain": [
       "'230 Login successful.'"
      ]
     },
     "execution_count": 5,
     "metadata": {},
     "output_type": "execute_result"
    }
   ],
   "source": [
    "import os \n",
    "import ftplib\n",
    "import json\n",
    "import time\n",
    "import subprocess\n",
    "\n",
    "ftp = ftplib.FTP(\"ftp.repec.org\")\n",
    "ftp.login() "
   ]
  },
  {
   "cell_type": "code",
   "execution_count": 6,
   "metadata": {
    "collapsed": false
   },
   "outputs": [],
   "source": [
    "base='/opt/ReDIF/RePEc'\n",
    "\n",
    "with open('journals.json') as data_file:    \n",
    "    journals = json.load(data_file)"
   ]
  },
  {
   "cell_type": "code",
   "execution_count": 7,
   "metadata": {
    "collapsed": false,
    "scrolled": false
   },
   "outputs": [
    {
     "name": "stdout",
     "output_type": "stream",
     "text": [
      "/opt/ReDIF/RePEc/eee/aosoci 2\n",
      "/opt/ReDIF/RePEc/aea/aecrev 152\n",
      "/opt/ReDIF/RePEc/wly/emetrp 18\n",
      "/opt/ReDIF/RePEc/inm/orisre 1\n",
      "/opt/ReDIF/RePEc/eee/jaecon 2\n",
      "/opt/ReDIF/RePEc/bla/joares 80\n",
      "/opt/ReDIF/RePEc/kap/jbuset 394\n",
      "/opt/ReDIF/RePEc/eee/jbvent 2\n",
      "/opt/ReDIF/RePEc/oup/jconrs 182\n",
      "/opt/ReDIF/RePEc/bla/jfinan 226\n",
      "/opt/ReDIF/RePEc/cup/jfinqa 53\n",
      "/opt/ReDIF/RePEc/eee/jfinec 3\n",
      "/opt/ReDIF/RePEc/pal/jintbs 260\n",
      "/opt/ReDIF/RePEc/bla/jomstd 66\n",
      "/opt/ReDIF/RePEc/ucp/jpolec 291\n",
      "/opt/ReDIF/RePEc/inm/ormnsc 6\n",
      "/opt/ReDIF/RePEc/inm/ormsom 7\n",
      "/opt/ReDIF/RePEc/inm/ormksc 6\n",
      "/opt/ReDIF/RePEc/inm/oropre 3\n",
      "/opt/ReDIF/RePEc/inm/ororsc 2\n",
      "/opt/ReDIF/RePEc/eee/jobhdp 3\n",
      "/opt/ReDIF/RePEc/oup/qjecon 142\n",
      "/opt/ReDIF/RePEc/eee/respol 2\n",
      "/opt/ReDIF/RePEc/oup/restud 76\n",
      "/opt/ReDIF/RePEc/oup/revfin 15\n",
      "/opt/ReDIF/RePEc/oup/rfinst 4\n",
      "/opt/ReDIF/RePEc/bla/stratm 34\n",
      "/opt/ReDIF/RePEc/bla/stratm 34\n",
      "/opt/ReDIF/RePEc/bla/stratm 34\n",
      "/opt/ReDIF/RePEc/bla/stratm 34\n",
      "/opt/ReDIF/RePEc/bla/stratm 34\n",
      "/opt/ReDIF/RePEc/bla/stratm 34\n",
      "/opt/ReDIF/RePEc/bla/stratm 34\n",
      "/opt/ReDIF/RePEc/bla/stratm 34\n",
      "/opt/ReDIF/RePEc/bla/stratm 34\n",
      "/opt/ReDIF/RePEc/bla/stratm 34\n",
      "/opt/ReDIF/RePEc/bla/stratm 34\n",
      "/opt/ReDIF/RePEc/bla/stratm 34\n"
     ]
    }
   ],
   "source": [
    "last_stamp='213 20170410194008'\n",
    "next_stamp=''\n",
    "for journal in journals:\n",
    "    jname=journal['jname']\n",
    "    data=journal['data']\n",
    "    for type_pub in data: \n",
    "        file_type=type_pub['type']\n",
    "        if file_type=='redif':\n",
    "            publisher=type_pub['publisher']\n",
    "            remote_journal=base+'/'+publisher+'/'+jname\n",
    "            remote_files = ftp.nlst(remote_journal)\n",
    "            local_publisher='redif/'+publisher\n",
    "            if not os.path.exists(local_publisher):\n",
    "                os.makedirs(local_publisher)\n",
    "            local_journal=local_publisher+'/'+jname\n",
    "            if not os.path.exists(local_journal):\n",
    "                os.makedirs(local_journal)\n",
    "            i=0\n",
    "            for remote_file in remote_files:\n",
    "                i=i+1\n",
    "                if remote_file[-4:]=='.rdf' or remote_file[-6:]=='.redif':\n",
    "                    local_file = local_journal+remote_file.replace(remote_journal,'')\n",
    "                    modifiedTime = ftp.sendcmd('MDTM ' + remote_file)\n",
    "                    file_stamp= modifiedTime\n",
    "                    if file_stamp>last_stamp:\n",
    "                        f = open(local_file, 'w')\n",
    "                        ftp.retrbinary('RETR '+ remote_file, f.write)\n",
    "                        f.close()\n",
    "                        if file_stamp>next_stamp:\n",
    "                            next_stamp=file_stamp\n",
    "    print remote_journal,i\n"
   ]
  },
  {
   "cell_type": "code",
   "execution_count": 8,
   "metadata": {
    "collapsed": false
   },
   "outputs": [
    {
     "data": {
      "text/plain": [
       "'213 20170410194008'"
      ]
     },
     "execution_count": 8,
     "metadata": {},
     "output_type": "execute_result"
    }
   ],
   "source": [
    "next_stamp"
   ]
  },
  {
   "cell_type": "code",
   "execution_count": null,
   "metadata": {
    "collapsed": false
   },
   "outputs": [],
   "source": [
    "ftp.quit() # This is the “polite” way to close a connection"
   ]
  }
 ],
 "metadata": {
  "anaconda-cloud": {},
  "kernelspec": {
   "display_name": "Python [Root]",
   "language": "python",
   "name": "Python [Root]"
  },
  "language_info": {
   "codemirror_mode": {
    "name": "ipython",
    "version": 2
   },
   "file_extension": ".py",
   "mimetype": "text/x-python",
   "name": "python",
   "nbconvert_exporter": "python",
   "pygments_lexer": "ipython2",
   "version": "2.7.12"
  }
 },
 "nbformat": 4,
 "nbformat_minor": 0
}
