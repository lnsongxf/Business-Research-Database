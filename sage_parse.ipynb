{
 "cells": [
  {
   "cell_type": "code",
   "execution_count": 1,
   "metadata": {
    "collapsed": true
   },
   "outputs": [],
   "source": [
    "#todo: \n",
    "#move Jr to AF edit\n",
    "#abstract remove long"
   ]
  },
  {
   "cell_type": "code",
   "execution_count": 80,
   "metadata": {
    "collapsed": false
   },
   "outputs": [],
   "source": [
    "import glob, os\n",
    "from bs4 import BeautifulSoup as bs\n",
    "import re\n",
    "import pandas as pd\n",
    "pd.options.display.max_rows = 2000\n",
    "import collections\n",
    "import json\n",
    "import io"
   ]
  },
  {
   "cell_type": "code",
   "execution_count": 81,
   "metadata": {
    "collapsed": false
   },
   "outputs": [],
   "source": [
    "def src2jsonld(journal_name,base_folder):\n",
    "    global articles, article, s, vol_iss_year\n",
    "    articles=[]\n",
    "    folder=base_folder+\"/htmls\"\n",
    "    files=os.listdir(folder)\n",
    "    l=[]\n",
    "    i=0\n",
    "    for f in files:\n",
    "        i=i+1\n",
    "        if 'html' in f:\n",
    "            print i,\n",
    "            creators=[] \n",
    "            article={}\n",
    "            article['ex:creator']=[]\n",
    "            article['ex:keyword']=[]\n",
    "            html=open(folder+'/'+f).read()\n",
    "            s = bs(html, 'lxml').find('head')\n",
    "            s_body=bs(html, 'lxml').find('body')\n",
    "            vol_iss_year=s_body.find('div',{\"class\":\"articleJournalNavTitle\"}).text.replace('\\n','').replace('\\t','')\n",
    "            j=''\n",
    "            for c in s.findAll(\"meta\",{\"name\":\"dc.Creator\"}):\n",
    "                creator={}\n",
    "                creator['ex:name']=c['content']\n",
    "                creators.append(creator)\n",
    "            keywords=s.find(\"meta\",{\"name\":\"keywords\"})\n",
    "            if keywords is not None: \n",
    "                for k in keywords['content'].split(','):\n",
    "                    article['ex:keyword'].append(k.strip())\n",
    "\n",
    "            article['ex:title']=s.find(\"meta\",{\"name\":\"dc.Title\"})['content']\n",
    "            article['ex:date']=vol_iss_year[-4:]\n",
    "            article['ex:issue']= vol_iss_year.split('Issue ')[1].split(', ')[0]         \n",
    "            article['ex:volume']= vol_iss_year.split('Vol ')[1].split(', ')[0]\n",
    "\n",
    "            doi=s.find(\"meta\",{\"name\":\"dc.Source\"})['content']\n",
    "            if doi is not None:\n",
    "                article['ex:url']=doi\n",
    "\n",
    "            abstract=s.find(\"meta\",{\"name\":\"dc.Description\"})\n",
    "            if abstract is not None:\n",
    "                article['ex:abstract']= abstract['content']\n",
    "\n",
    "            article['ex:source']= s.find(\"meta\",{\"name\":\"citation_journal_title\"})['content']\n",
    "            article['ex:creator']=creators\n",
    "            articles.append(article)\n",
    "    jsonld_folder='jsonld/'\n",
    "    jd=unicode(json.dumps(articles, ensure_ascii=False))\n",
    "    jsonld_file=jsonld_folder+(base_folder+'.jsonld').replace('/','_')\n",
    "    with io.open(jsonld_file, 'w') as f:\n",
    "        f.write(jd)\n",
    "    return (jsonld_file)"
   ]
  },
  {
   "cell_type": "code",
   "execution_count": null,
   "metadata": {
    "collapsed": false
   },
   "outputs": [
    {
     "name": "stdout",
     "output_type": "stream",
     "text": [
      "sag jrnmng Journal of Management 1 2 3 4 5 6 7 8 9 10 11 12 13 14 15 16 17 18 19 20 21 22 23 24 25 26 27 28 29 30 31 32 33 34 35 36 37 38 39 40 41 42 43 44 45 46 47 48 49 50 51 52 53 54 55 56 57 58 59 60 61 62 63 64 65 66 67 68 69 70 71 72 73 74 75 76 77 78 79 80 81 82 83 84 85 86 87 88 89 90 91 92 93 94 95 96 97 98 99 100 101 102 103 104 105 106 107 108 109 110"
     ]
    }
   ],
   "source": [
    "with open('journals.json') as data_file:    \n",
    "    journals = json.load(data_file)\n",
    "\n",
    "src_folder='src/'\n",
    "jsonld_folder='jsonld/'\n",
    "\n",
    "for journal in journals:\n",
    "    file_type=journal['type']\n",
    "    publisher=journal['publisher']\n",
    "    source=journal['jname']\n",
    "    journal_name=journal['journal']\n",
    "    if file_type=='src' and publisher=='sag':\n",
    "        print publisher,source,journal_name,\n",
    "        base_folder=file_type+'/'+publisher+'/'+source\n",
    "        src2jsonld(journal_name,base_folder)"
   ]
  },
  {
   "cell_type": "code",
   "execution_count": null,
   "metadata": {
    "collapsed": false
   },
   "outputs": [],
   "source": [
    "article"
   ]
  }
 ],
 "metadata": {
  "anaconda-cloud": {},
  "kernelspec": {
   "display_name": "Python [Root]",
   "language": "python",
   "name": "Python [Root]"
  },
  "language_info": {
   "codemirror_mode": {
    "name": "ipython",
    "version": 2
   },
   "file_extension": ".py",
   "mimetype": "text/x-python",
   "name": "python",
   "nbconvert_exporter": "python",
   "pygments_lexer": "ipython2",
   "version": "2.7.12"
  }
 },
 "nbformat": 4,
 "nbformat_minor": 0
}
