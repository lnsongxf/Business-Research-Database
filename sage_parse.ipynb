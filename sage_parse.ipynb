{
 "cells": [
  {
   "cell_type": "code",
   "execution_count": 52,
   "metadata": {
    "collapsed": true
   },
   "outputs": [],
   "source": [
    "#todo: \n",
    "#move Jr to AF edit\n",
    "#abstract remove long"
   ]
  },
  {
   "cell_type": "code",
   "execution_count": 79,
   "metadata": {
    "collapsed": false
   },
   "outputs": [],
   "source": [
    "import glob, os\n",
    "from bs4 import BeautifulSoup as bs\n",
    "import re\n",
    "import pandas as pd\n",
    "pd.options.display.max_rows = 2000\n",
    "import collections\n",
    "import json\n",
    "import io"
   ]
  },
  {
   "cell_type": "code",
   "execution_count": 80,
   "metadata": {
    "collapsed": false
   },
   "outputs": [],
   "source": [
    "def src2jsonld(journal_name,base_folder):\n",
    "    global articles, article, s, s_body, vol_iss_year\n",
    "    articles=[]\n",
    "    folder=base_folder+\"/htmls\"\n",
    "    files=os.listdir(folder)\n",
    "    l=[]\n",
    "    i=0\n",
    "    for f in files:\n",
    "        i=i+1\n",
    "        if 'html' in f:\n",
    "            print i,\n",
    "            creators=[] \n",
    "            article={}\n",
    "            article['ex:creator']=[]\n",
    "            article['ex:keyword']=[]\n",
    "            article['ex:issue']='0';article['ex:volume']='0'\n",
    "            html=open(folder+'/'+f).read()\n",
    "            s = bs(html, 'lxml').find('head')\n",
    "            s_body=bs(html, 'lxml').find('body')\n",
    "            try:\n",
    "                vol_iss_year=s_body.find('div',{\"class\":\"articleJournalNavTitle\"}).text.replace('\\n','').replace('\\t','')\n",
    "                article['ex:date']=vol_iss_year[-4:]\n",
    "                article['ex:issue']= vol_iss_year.split('Issue ')[1].split(', ')[0]         \n",
    "                article['ex:volume']= vol_iss_year.split('Vol ')[1].split(', ')[0]            \n",
    "            except Exception as e:\n",
    "                article['ex:date']=s_body.find('div',{\"class\":\"published-dates\"}).text.split('\\n')[1][-4:]\n",
    "                pass\n",
    "            j=''\n",
    "            for c in s.findAll(\"meta\",{\"name\":\"dc.Creator\"}):\n",
    "                creator={}\n",
    "                creator['ex:name']=c['content']\n",
    "                creators.append(creator)\n",
    "            keywords=s.find(\"meta\",{\"name\":\"keywords\"})\n",
    "            if keywords is not None: \n",
    "                for k in keywords['content'].split(','):\n",
    "                    article['ex:keyword'].append(k.strip())\n",
    "\n",
    "            article['ex:title']=s.find(\"meta\",{\"name\":\"dc.Title\"})['content']\n",
    "\n",
    "            doi=s.find(\"meta\",{\"name\":\"dc.Source\"})['content']\n",
    "            if doi is not None:\n",
    "                article['ex:url']=doi\n",
    "\n",
    "            abstract=s.find(\"meta\",{\"name\":\"dc.Description\"})\n",
    "            if abstract is not None:\n",
    "                article['ex:abstract']= abstract['content']\n",
    "\n",
    "            article['ex:source']= s.find(\"meta\",{\"name\":\"citation_journal_title\"})['content']\n",
    "            article['ex:creator']=creators\n",
    "            articles.append(article)\n",
    "    jsonld_folder='jsonld/'\n",
    "    jd=unicode(json.dumps(articles, ensure_ascii=False))\n",
    "    jsonld_file=jsonld_folder+(base_folder+'.jsonld').replace('/','_')\n",
    "    with io.open(jsonld_file, 'w') as f:\n",
    "        f.write(jd)\n",
    "    return (jsonld_file)"
   ]
  },
  {
   "cell_type": "code",
   "execution_count": 81,
   "metadata": {
    "collapsed": false,
    "scrolled": true
   },
   "outputs": [
    {
     "name": "stdout",
     "output_type": "stream",
     "text": [
      "sag adscqt Administrative Science Quarterly 1 2 3 4 5 6 7 8 9 10 11 12 13 14 15 16 17 18 19 20 21 22 23 24 25 26 27 28 29 30 31 32 33 34 35 36 37 38 39 40 41 42 43 44 45 46 47 48 49 50 51 52 53 54 55 56 57 58 59 60 61 62 63 64 65 66 67 68 69 70 71 72 73 74 75 76 77 78 79 80 81 82 83 84 85 86 87 88 89 90 91 92 93 94 95 96 97 98 99 100 101 102 103 104 105 106 107 108 109 110 111 112 113 114 115 116 117 118 119 120 121 122 123 124 125 126 127 128 129 130 131 132 133 134 135 136 137 138 139 140 141 142 143 144 145 146 147 148 149 150 151 152 153 154 155 156 157 158 159 160 161 162 163 164 165 166 167 168 169 170 171 172 173 174 175 176 177 178 179 180 181 182 183 184 185 186 187 188 189 190 191 192 193 194 195 196 197 198 199 200 201 202 203 204 205 206 207 208 209 210 211 212 213 214 215 216 217 218 219 220 221 222 223 224 225 226 227 228 229 230 231 232 233 234 235 236 237 238 239 240 241 242 243 244 245 246 247 248 249 250 251 252 253 254 255 256 257 258 259 260 261 262 263 264 265 266 267 268 269 270 271 272 273 274 275 276 277 278 279 280 281 282 283 284 285 286 287 288 289 290 291 292 293 294 295 296 297 298 299 300 301 302 303 304 305 306 307 308 309 310 311 312 313 314 315 316 317 318 319 320 321 322 323 324 325 326 327 328 329 330 331 332 333 334 335 336 337 338 339 340 341 342 343 344 345 346 347 348 349 350 351 352 353 354 355 356 357 358 359 360 361 362 363 364 365 366 367 368 369 370 371 372 373 374 375 376 377 378 379 380 381 382 383 384 385 386 387 388 389 390 391 392 393 394 395 396 397 398 399 400 401 402 403 404 405 406 407 408 409 410 411 412 413 414 415 416 417 418 419 420 421 422 423 424 425 426 427 428 429 430 431 432 433 434 435 436 437 438 439 440 441 442 443 444 445 446 447 448 449 450 451 452 453 454 455 456 457 458 459 460 461 462 463 464 465 466 467 468 469 470 471 472 473 474 475 476 477 478 479 480 481 482 483 484 485 486 487 488 489 490 491 492 493 494 495 496 497 498 499 500 501 502 503 504 505 506 507 508 509 510 511 512 513 514 515 516 517 518 519 520 521 522 523 524 525 526 527 528 529 530 531 532 533 534 535 536 537 538 539 540 541 542 543 544 545 546 547 548 549 550 551 552 553 554 555 556 557 558 559 560 561 562 563 564 565 566 567 568 569 570 571 572 573 574 575 576 577 578 579 580 581 582 583 584 585 586 587 588 589 590 591 592 593 594 595 596 597 598 599 600 601 602 603 604 605 606 607 608 609 610 611 612 613 614 615 616 617 618 619 620 621 622 623 624 625 626 627 628 629 630 631 632 633 634 635 636 637 638 639 640 641 642 643 644 645 646 647 648 649 650 651 652 653 654 655 656 657 658 659 660 661 662 663 664 665 666 667 668 669 670 671 672 673 674 675 676 677 678 679 680 681 682 683 684 685 686 687 688 689 690 691 692 693 694 695 696 697 698 699 700 701 702 703 704 705 706 707 708 709 710 711 712 713 714 715 716 717 718 719 720 721 722 723 724 725 726 727 728 729 730 731 732 733 734 735 736 737 738 739 740 741 742 743 744 745 746 747 748 749 750 751 752 753 754 755 756 757 758 759 760 761 762 763 764 765 766 767 768 769 770 771 772 773 774 775 776 777 778 779 780 781 782 783 784 785 786 787 788 789 790 791 792 793 794 795 796 797 798 799 800 801 802 803 804 805 806 807 808 809 810 811 812 813 814 815 816 817 818 819 820 821 822 823 824 825 826 827 828 829 830 831 832 833 834 835 836 837 838 839 840 841 842 843 844 845 846 847 848 849 850 851 852 853 854 855 856 857 858 859 860 861 862 863 864 865 866 867 868 869 870 871 872 873 874 875 876 877 878 879 880 881 882 883 884 885 886 887 888 889 890 891 892 893 894 895 896 897 898 899 900 901 902 903 904 905 906 907 908 909 910 911 912 913 914 915 916 917 918 919 920 921 922 923 924 925 926 927 928 929 930 931 932 933 934 935 936 937 938 939 940 941 942 943 944 945 946 947 948 949 950 951 952 953 954 955 956 957 958 959 960 961 962 963 964 965 966 967 968 969 970 971 972 973 974 975 976 977 978 979 980 981 982 983 984 985 986 987 988 989 990 991 992 993 994 995 996 997 998 999 1000 1001 1002 1003 1004 1005 1006 1007 1008 1009 1010 1011 1012 1013 1014 1015 1016 1017 1018 1019 1020 1021 1022 1023 1024 1025 1026 1027 1028 1029 1030 1031 1032 1033 1034 1035 1036 1037 1038 1039 1040 1041 1042 1043 1044 1045 1046 1047 1048 1049 1050 1051 1052 1053 1054 1055 1056 1057 1058 1059 1060 1061 1062 1063 1064 1065 1066 1067 1068 1069 1070 1071 1072 1073 1074 1075 1076 1077 1078 1079 1080 1081 1082 1083 1084 1085 1086 1087 1088 1089 1090 1091 1092 1093 1094 1095 1096 1097 1098 1099 1100 1101 1102 1103 1104 1105 1106 1107 1108 1109 1110 1111 1112 1113 1114 1115 1116 1117 1118 1119 1120 1121 1122 1123 1124 1125 1126 1127 1128 1129 1130 1131 1132 1133 1134 1135 1136 1137 1138 1139 1140 1141 1142 1143 1144 1145 1146 1147 1148 1149 1150 1151\n"
     ]
    }
   ],
   "source": [
    "with open('journals.json') as data_file:    \n",
    "    journals = json.load(data_file)\n",
    "\n",
    "src_folder='src/'\n",
    "jsonld_folder='jsonld/'\n",
    "\n",
    "for journal in journals:\n",
    "    file_type=journal['type']\n",
    "    publisher=journal['publisher']\n",
    "    source=journal['jname']\n",
    "    journal_name=journal['journal']\n",
    "    if file_type=='src' and publisher=='sag' and source=='adscqt':\n",
    "        print publisher,source,journal_name,\n",
    "        base_folder=file_type+'/'+publisher+'/'+source\n",
    "        src2jsonld(journal_name,base_folder)"
   ]
  },
  {
   "cell_type": "code",
   "execution_count": 83,
   "metadata": {
    "collapsed": false
   },
   "outputs": [
    {
     "data": {
      "text/plain": [
       "{'ex:abstract': u'This article examines the influence on organizational outcomes of CEOs\\u2019 political ideology, specifically political conservatism vs. liberalism. We propose that CEOs\\u2019 political ideologies will influence their firms\\u2019 corporate social responsibility (CSR) practices, hypothesizing that (1) liberal CEOs will emphasize CSR more than will conservative CEOs; (2) the association between a CEO\\u2019s political ideology and CSR will be amplified by a CEO\\u2019s relative power; and (3) liberal CEOs will emphasize CSR even when recent financial performance is low, whereas conservative CEOs will pursue CSR initiatives only as performance allows. We test our ideas with a sample of 249 CEOs, measuring their ideologies by coding their political donations over the ten years prior to their becoming CEOs. Results indicate that the political ideologies of CEOs are manifested in their firms\\u2019 CSR profiles. Compared with conservative CEOs, liberal CEOs exhibit greater advances in CSR; the influence of CEOs\\u2019 political liberalism on CSR is ...',\n",
       " 'ex:creator': [{'ex:name': 'M. K. Chin'},\n",
       "  {'ex:name': 'Donald C. Hambrick'},\n",
       "  {'ex:name': u'Linda K. Trevi\\xf1o'}],\n",
       " 'ex:date': u'2013',\n",
       " 'ex:issue': u'2',\n",
       " 'ex:keyword': ['values',\n",
       "  'political ideology',\n",
       "  'chief executive officers',\n",
       "  'top management',\n",
       "  'corporate social responsibility',\n",
       "  'PAC allocations'],\n",
       " 'ex:source': 'Administrative Science Quarterly',\n",
       " 'ex:title': 'Political Ideologies of CEOs',\n",
       " 'ex:url': 'http://dx.doi.org/10.1177/0001839213486984',\n",
       " 'ex:volume': u'58'}"
      ]
     },
     "execution_count": 83,
     "metadata": {},
     "output_type": "execute_result"
    }
   ],
   "source": [
    "articles[100]"
   ]
  },
  {
   "cell_type": "code",
   "execution_count": null,
   "metadata": {
    "collapsed": true
   },
   "outputs": [],
   "source": []
  }
 ],
 "metadata": {
  "anaconda-cloud": {},
  "kernelspec": {
   "display_name": "Python [Root]",
   "language": "python",
   "name": "Python [Root]"
  },
  "language_info": {
   "codemirror_mode": {
    "name": "ipython",
    "version": 2
   },
   "file_extension": ".py",
   "mimetype": "text/x-python",
   "name": "python",
   "nbconvert_exporter": "python",
   "pygments_lexer": "ipython2",
   "version": "2.7.12"
  }
 },
 "nbformat": 4,
 "nbformat_minor": 0
}
