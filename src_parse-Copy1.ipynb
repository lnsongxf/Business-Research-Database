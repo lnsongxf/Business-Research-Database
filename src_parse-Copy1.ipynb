{
 "cells": [
  {
   "cell_type": "code",
   "execution_count": 1,
   "metadata": {
    "collapsed": false
   },
   "outputs": [],
   "source": [
    "import glob, os\n",
    "from bs4 import BeautifulSoup as bs\n",
    "import re\n",
    "import collections\n",
    "import json\n",
    "import io\n",
    "import fix,parser"
   ]
  },
  {
   "cell_type": "code",
   "execution_count": 5,
   "metadata": {
    "collapsed": false
   },
   "outputs": [
    {
     "name": "stdout",
     "output_type": "stream",
     "text": [
      "\n"
     ]
    }
   ],
   "source": [
    "def parse(html,publisher):\n",
    "    global s,s_body\n",
    "    if publisher=='sag':\n",
    "        article=parser.parse_sag(html)\n",
    "    if publisher=='wly':\n",
    "        #article=parser.parse_wly(html)\n",
    "        creators=[] \n",
    "        article={}\n",
    "        article={}\n",
    "        article['ex:creator']=[]\n",
    "        article['ex:keyword']=[]\n",
    "        article['ex:issue']='0';article['ex:volume']='0'\n",
    "        article['ex:date']=' '\n",
    "        s = bs(html, 'lxml').find('head')\n",
    "        s_body=bs(html, 'lxml').find('body')\n",
    "        try:\n",
    "            vol_iss_year=s_body.find('div',{\"class\":\"articleJournalNavTitle\"}).text.replace('\\n','').replace('\\t','')\n",
    "            article['ex:date']=vol_iss_year[-4:]\n",
    "            article['ex:issue']= vol_iss_year.split('Issue ')[1].split(', ')[0]         \n",
    "            article['ex:volume']= vol_iss_year.split('Vol ')[1].split(', ')[0]            \n",
    "        except Exception:\n",
    "            article['ex:date']=s_body.find('div',{\"class\":\"published-dates\"}).text.split('\\n')[1][-4:]\n",
    "            pass\n",
    "        j=''\n",
    "        for c in s.findAll(\"meta\",{\"name\":\"dc.Creator\"}):\n",
    "            creator={}\n",
    "            creator['ex:name']=c['content']\n",
    "            creators.append(creator)\n",
    "        keywords=s.find(\"meta\",{\"name\":\"keywords\"})\n",
    "        if keywords is not None: \n",
    "            for k in keywords['content'].split(','):\n",
    "                try:\n",
    "                    article['ex:keyword'].append(fix.fix_keyword(k))\n",
    "                except Exception as e: \n",
    "                    print str(e)\n",
    "                    print article\n",
    "                    print k\n",
    "\n",
    "        article['ex:title']=s.find(\"meta\",{\"name\":\"dc.Title\"})['content']\n",
    "\n",
    "        doi=s.find(\"meta\",{\"name\":\"dc.Source\"})['content']\n",
    "        if doi is not None:\n",
    "            article['ex:url']=doi\n",
    "\n",
    "        abstract=s.find(\"meta\",{\"name\":\"dc.Description\"})\n",
    "        if abstract is not None:\n",
    "            article['ex:abstract']= abstract['content']\n",
    "\n",
    "        article['ex:source']= s.find(\"meta\",{\"name\":\"citation_journal_title\"})['content']\n",
    "        article['ex:creator']=creators     \n",
    "    \n",
    "    \n",
    "    \n",
    "    return article"
   ]
  },
  {
   "cell_type": "code",
   "execution_count": 11,
   "metadata": {
    "collapsed": false
   },
   "outputs": [],
   "source": [
    "def src2jsonld(publisher, journal_name,base_folder):\n",
    "    articles=[]\n",
    "    folder=base_folder+\"/htmls\"\n",
    "    files=os.listdir(folder)\n",
    "    l=[]\n",
    "    i=0\n",
    "    global e, f\n",
    "    for f in files:\n",
    "        i=i+1\n",
    "        if 'html' in f:\n",
    "            if i % 10 ==0:\n",
    "                print i,\n",
    "            html=open(folder+'/'+f).read()\n",
    "            article=parse(html,publisher)\n",
    "            if fix.validate(article)==True:\n",
    "                articles.append(article)\n",
    "            else:\n",
    "                e=e+1\n",
    "    jsonld_folder='jsonld/'\n",
    "    jd=unicode(json.dumps(articles, ensure_ascii=False))\n",
    "    jsonld_file=jsonld_folder+(base_folder+'.jsonld').replace('/','_')\n",
    "    with io.open(jsonld_file, 'w') as f:\n",
    "        f.write(jd)\n",
    "    return (jsonld_file)"
   ]
  },
  {
   "cell_type": "code",
   "execution_count": 12,
   "metadata": {
    "collapsed": false,
    "scrolled": true
   },
   "outputs": [
    {
     "name": "stdout",
     "output_type": "stream",
     "text": [
      "wly popmgt Production and Operations Management"
     ]
    },
    {
     "ename": "AttributeError",
     "evalue": "'NoneType' object has no attribute 'text'",
     "output_type": "error",
     "traceback": [
      "\u001b[0;31m---------------------------------------------------------------------------\u001b[0m",
      "\u001b[0;31mAttributeError\u001b[0m                            Traceback (most recent call last)",
      "\u001b[0;32m<ipython-input-12-af5a592f3404>\u001b[0m in \u001b[0;36m<module>\u001b[0;34m()\u001b[0m\n\u001b[1;32m     16\u001b[0m             \u001b[0;32mprint\u001b[0m \u001b[0mpublisher\u001b[0m\u001b[0;34m,\u001b[0m\u001b[0msource\u001b[0m\u001b[0;34m,\u001b[0m\u001b[0mjournal_name\u001b[0m\u001b[0;34m,\u001b[0m\u001b[0;34m\u001b[0m\u001b[0m\n\u001b[1;32m     17\u001b[0m             \u001b[0mbase_folder\u001b[0m\u001b[0;34m=\u001b[0m\u001b[0mfile_type\u001b[0m\u001b[0;34m+\u001b[0m\u001b[0;34m'/'\u001b[0m\u001b[0;34m+\u001b[0m\u001b[0mpublisher\u001b[0m\u001b[0;34m+\u001b[0m\u001b[0;34m'/'\u001b[0m\u001b[0;34m+\u001b[0m\u001b[0msource\u001b[0m\u001b[0;34m\u001b[0m\u001b[0m\n\u001b[0;32m---> 18\u001b[0;31m             \u001b[0msrc2jsonld\u001b[0m\u001b[0;34m(\u001b[0m\u001b[0mpublisher\u001b[0m\u001b[0;34m,\u001b[0m\u001b[0mjournal_name\u001b[0m\u001b[0;34m,\u001b[0m\u001b[0mbase_folder\u001b[0m\u001b[0;34m)\u001b[0m\u001b[0;34m\u001b[0m\u001b[0m\n\u001b[0m\u001b[1;32m     19\u001b[0m             \u001b[0;32mprint\u001b[0m \u001b[0;34m'fixed= '\u001b[0m\u001b[0;34m,\u001b[0m\u001b[0me\u001b[0m\u001b[0;34m\u001b[0m\u001b[0m\n",
      "\u001b[0;32m<ipython-input-11-2476ac1e6a46>\u001b[0m in \u001b[0;36msrc2jsonld\u001b[0;34m(publisher, journal_name, base_folder)\u001b[0m\n\u001b[1;32m     12\u001b[0m                 \u001b[0;32mprint\u001b[0m \u001b[0mi\u001b[0m\u001b[0;34m,\u001b[0m\u001b[0;34m\u001b[0m\u001b[0m\n\u001b[1;32m     13\u001b[0m             \u001b[0mhtml\u001b[0m\u001b[0;34m=\u001b[0m\u001b[0mopen\u001b[0m\u001b[0;34m(\u001b[0m\u001b[0mfolder\u001b[0m\u001b[0;34m+\u001b[0m\u001b[0;34m'/'\u001b[0m\u001b[0;34m+\u001b[0m\u001b[0mf\u001b[0m\u001b[0;34m)\u001b[0m\u001b[0;34m.\u001b[0m\u001b[0mread\u001b[0m\u001b[0;34m(\u001b[0m\u001b[0;34m)\u001b[0m\u001b[0;34m\u001b[0m\u001b[0m\n\u001b[0;32m---> 14\u001b[0;31m             \u001b[0marticle\u001b[0m\u001b[0;34m=\u001b[0m\u001b[0mparse\u001b[0m\u001b[0;34m(\u001b[0m\u001b[0mhtml\u001b[0m\u001b[0;34m,\u001b[0m\u001b[0mpublisher\u001b[0m\u001b[0;34m)\u001b[0m\u001b[0;34m\u001b[0m\u001b[0m\n\u001b[0m\u001b[1;32m     15\u001b[0m             \u001b[0;32mif\u001b[0m \u001b[0mfix\u001b[0m\u001b[0;34m.\u001b[0m\u001b[0mvalidate\u001b[0m\u001b[0;34m(\u001b[0m\u001b[0marticle\u001b[0m\u001b[0;34m)\u001b[0m\u001b[0;34m==\u001b[0m\u001b[0mTrue\u001b[0m\u001b[0;34m:\u001b[0m\u001b[0;34m\u001b[0m\u001b[0m\n\u001b[1;32m     16\u001b[0m                 \u001b[0marticles\u001b[0m\u001b[0;34m.\u001b[0m\u001b[0mappend\u001b[0m\u001b[0;34m(\u001b[0m\u001b[0marticle\u001b[0m\u001b[0;34m)\u001b[0m\u001b[0;34m\u001b[0m\u001b[0m\n",
      "\u001b[0;32m<ipython-input-5-72f3a9bd3a84>\u001b[0m in \u001b[0;36mparse\u001b[0;34m(html, publisher)\u001b[0m\n\u001b[1;32m     20\u001b[0m             \u001b[0marticle\u001b[0m\u001b[0;34m[\u001b[0m\u001b[0;34m'ex:volume'\u001b[0m\u001b[0;34m]\u001b[0m\u001b[0;34m=\u001b[0m \u001b[0mvol_iss_year\u001b[0m\u001b[0;34m.\u001b[0m\u001b[0msplit\u001b[0m\u001b[0;34m(\u001b[0m\u001b[0;34m'Vol '\u001b[0m\u001b[0;34m)\u001b[0m\u001b[0;34m[\u001b[0m\u001b[0;36m1\u001b[0m\u001b[0;34m]\u001b[0m\u001b[0;34m.\u001b[0m\u001b[0msplit\u001b[0m\u001b[0;34m(\u001b[0m\u001b[0;34m', '\u001b[0m\u001b[0;34m)\u001b[0m\u001b[0;34m[\u001b[0m\u001b[0;36m0\u001b[0m\u001b[0;34m]\u001b[0m\u001b[0;34m\u001b[0m\u001b[0m\n\u001b[1;32m     21\u001b[0m         \u001b[0;32mexcept\u001b[0m \u001b[0mException\u001b[0m\u001b[0;34m:\u001b[0m\u001b[0;34m\u001b[0m\u001b[0m\n\u001b[0;32m---> 22\u001b[0;31m             \u001b[0marticle\u001b[0m\u001b[0;34m[\u001b[0m\u001b[0;34m'ex:date'\u001b[0m\u001b[0;34m]\u001b[0m\u001b[0;34m=\u001b[0m\u001b[0ms_body\u001b[0m\u001b[0;34m.\u001b[0m\u001b[0mfind\u001b[0m\u001b[0;34m(\u001b[0m\u001b[0;34m'div'\u001b[0m\u001b[0;34m,\u001b[0m\u001b[0;34m{\u001b[0m\u001b[0;34m\"class\"\u001b[0m\u001b[0;34m:\u001b[0m\u001b[0;34m\"published-dates\"\u001b[0m\u001b[0;34m}\u001b[0m\u001b[0;34m)\u001b[0m\u001b[0;34m.\u001b[0m\u001b[0mtext\u001b[0m\u001b[0;34m.\u001b[0m\u001b[0msplit\u001b[0m\u001b[0;34m(\u001b[0m\u001b[0;34m'\\n'\u001b[0m\u001b[0;34m)\u001b[0m\u001b[0;34m[\u001b[0m\u001b[0;36m1\u001b[0m\u001b[0;34m]\u001b[0m\u001b[0;34m[\u001b[0m\u001b[0;34m-\u001b[0m\u001b[0;36m4\u001b[0m\u001b[0;34m:\u001b[0m\u001b[0;34m]\u001b[0m\u001b[0;34m\u001b[0m\u001b[0m\n\u001b[0m\u001b[1;32m     23\u001b[0m             \u001b[0;32mpass\u001b[0m\u001b[0;34m\u001b[0m\u001b[0m\n\u001b[1;32m     24\u001b[0m         \u001b[0mj\u001b[0m\u001b[0;34m=\u001b[0m\u001b[0;34m''\u001b[0m\u001b[0;34m\u001b[0m\u001b[0m\n",
      "\u001b[0;31mAttributeError\u001b[0m: 'NoneType' object has no attribute 'text'"
     ]
    }
   ],
   "source": [
    "with open('journals.json') as data_file:    \n",
    "    journals = json.load(data_file)\n",
    "\n",
    "src_folder='src/'\n",
    "jsonld_folder='jsonld/'\n",
    "\n",
    "for journal in journals:\n",
    "    source=journal['jname']\n",
    "    journal_name=journal['journal']\n",
    "    data=journal['data']\n",
    "    for type_pub in data:   \n",
    "        file_type=type_pub['type']\n",
    "        publisher=type_pub['publisher']\n",
    "        if file_type=='src' and publisher=='wly':\n",
    "            e=0\n",
    "            print publisher,source,journal_name,\n",
    "            base_folder=file_type+'/'+publisher+'/'+source\n",
    "            src2jsonld(publisher,journal_name,base_folder)\n",
    "            print 'fixed= ',e"
   ]
  },
  {
   "cell_type": "code",
   "execution_count": 13,
   "metadata": {
    "collapsed": false
   },
   "outputs": [
    {
     "data": {
      "text/plain": [
       "u'_doi_10.1111_j.1937-5956.1992.tb00001.x_abstract.html'"
      ]
     },
     "execution_count": 13,
     "metadata": {},
     "output_type": "execute_result"
    },
    {
     "name": "stdout",
     "output_type": "stream",
     "text": [
      "\n"
     ]
    }
   ],
   "source": [
    "f"
   ]
  },
  {
   "cell_type": "code",
   "execution_count": 14,
   "metadata": {
    "collapsed": false,
    "scrolled": true
   },
   "outputs": [
    {
     "data": {
      "text/plain": [
       "<head> <meta charset=\"unicode-escape\"/> <meta content=\"text/html;charset=unicode-escape\" http-equiv=\"Content-Type\"/> <title>EXPLORING THE LIMITS OF THE TECHNOLOGY S-CURVE. PART I: COMPONENT TECHNOLOGIES - CHRISTENSEN - 1992 - Production and Operations Management - Wiley Online Library</title> <script data-dtconfig=\"rid=RID_438216380|rpid=-494868737|domain=wiley.com|lab=1|reportUrl=dynaTraceMonitor\" src=\"/dtagent6312_ICAp_1013.js\" type=\"text/javascript\"></script><link href=\"/enhanced/static/images/brand/wiley/favicon.ico?version=1.14.2\" rel=\"shortcut icon\" type=\"image/x-icon\"/> <meta content=\"IE=edge, chrome=1\" http-equiv=\"X-UA-Compatible\"/> <meta content=\"width=device-width, initial-scale=1.0, maximum-scale=1.0, user-scalable=0\" name=\"viewport\"/> <meta content=\"\" name=\"description\"/> <meta content=\"noarchive\" name=\"robots\"/> <meta content=\"10.1111/j.1937-5956.1992.tb00001.x\" name=\"citation_doi\"/> <meta content=\"Production and Operations Management\" name=\"citation_journal_title\"/> <meta content=\"EXPLORING THE LIMITS OF THE TECHNOLOGY S\\u2010CURVE. PART I: COMPONENT TECHNOLOGIES\" name=\"citation_title\"/> <meta content=\"INNOVATION\" name=\"citation_keywords\"/> <meta content=\"MANAGEMENT OF TECHNOLOGY\" name=\"citation_keywords\"/> <meta content=\"TECHNOLOGY S\\u2010CURVE\" name=\"citation_keywords\"/> <meta content=\"DISK DRIVE INDUSTRY\" name=\"citation_keywords\"/> <meta content=\"COMPONENT TECHNOLOGIES\" name=\"citation_keywords\"/> <meta content=\"1\" name=\"citation_volume\"/> <meta content=\"4\" name=\"citation_issue\"/> <meta content=\"334\" name=\"citation_firstpage\"/> <meta content=\"357\" name=\"citation_lastpage\"/> <meta content=\"1937-5956\" name=\"citation_issn\"/> <meta content=\"CHRISTENSEN, C. M. (1992), EXPLORING THE LIMITS OF THE TECHNOLOGY S\\u2010CURVE. PART I: COMPONENT TECHNOLOGIES. Production and Operations Management, 1: 334\\u2013357. doi:10.1111/j.1937-5956.1992.tb00001.x\" name=\"article_references\"/> <meta content=\"Blackwell Publishing Ltd\" name=\"citation_publisher\"/> <meta content=\"en\" name=\"citation_language\"/> <meta content=\"1992/12/01\" name=\"citation_publication_date\"/> <meta content=\"2009/01/05\" name=\"citation_online_date\"/> <meta content=\"CHRISTENSEN, CLAYTON M.\" name=\"citation_author\"/> <meta content=\"Harvard University Graduate School of Business Administration, Boston, Massachusetts 02163\" name=\"citation_author_institution\" xmlns=\"http://www.w3.org/1999/xhtml\"/> <meta content=\"http://onlinelibrary.wiley.com/doi/10.1111/j.1937-5956.1992.tb00001.x/abstract\" name=\"citation_abstract_html_url\"/> <meta content=\"http://onlinelibrary.wiley.com/doi/10.1111/j.1937-5956.1992.tb00001.x/pdf\" name=\"citation_pdf_url\"/> <meta content=\"http://onlinelibrary.wiley.com/doi/10.1111/j.1937-5956.1992.tb00001.x/full\" property=\"og:url\"/> <meta content=\"article\" property=\"og:type\"/> <meta content=\"EXPLORING THE LIMITS OF THE TECHNOLOGY S\\u2010CURVE. PART I: COMPONENT TECHNOLOGIES\" property=\"og:title\"/> <meta content=\"http://onlinelibrary.wiley.com/store/10.1111/(ISSN)1937-5956/asset/olalertbanner.jpg?v=1&amp;s=153fc162c75c4ace9f2c9c3f8acc4c0713e5c3f8\" property=\"og:image\"/> <meta content=\"The technology S\\u2010curve is a useful framework describing the substitution of new for old technologies at the industry level. In this paper I use information from the technological history of the disk drive...\" property=\"og:description\"/> <link href=\"/enhanced/static/common/fonts/open-sans/open-sans.css?version=1.14.2\" media=\"screen\" rel=\"stylesheet\"/> <!--[if lt IE 9]>\\n    <link rel=\"stylesheet\" href=\"/enhanced/static/common/css/wol-common-ie.css?version=1.14.2\"/>\\n    <link rel=\"stylesheet\" href=\"/enhanced/static/css/wol-article-ie.css?version=1.14.2\"/>\\n    <script src=\"/enhanced/static/common/js/patches/ie.js?version=1.14.2\"></script>\\n<![endif]--> <!--[if gt IE 8]><!--> <link href=\"/enhanced/static/common/css/wol-common.css?version=1.14.2\" rel=\"stylesheet\"/> <link href=\"/enhanced/static/css/wol-article.css?version=1.14.2\" rel=\"stylesheet\"/> <!--<![endif]--> <script src=\"/enhanced/static/common/js/vendor/modernizr.custom.js?version=1.14.2\"></script> <script>\\n    //<![CDATA[\\n    Modernizr.load([\\n        {\\n            test: window.matchMedia,\\n            nope: '/enhanced/static/common/js/vendor/polyfills/matchMedia.js?version=1.14.2'\\n        },\\n        {\\n            test: window.matchMedia && window.matchMedia( 'all' ).addListener,\\n            nope: '/enhanced/static/common/js/vendor/polyfills/matchMedia.addListener.js?version=1.14.2'\\n        }\\n    ]);\\n    //]]>\\n</script> <script>\\n        Modernizr.load('http://content.readcube.com/wiley/epdf_linker.js');\\n    </script> <script>\\n        //<![CDATA[\\n        wol2datalayer = window.wol2datalayer ? wol2datalayer : {};\\n                                    wol2datalayer.server=\"onlinelibrary.wiley.com\";\\n                                                wol2datalayer.pageName=\"EXPLORING THE LIMITS OF THE TECHNOLOGY S\\\\u2010CURVE. PART I: COMPONENT TECHNOLOGIES - CHRISTENSEN - 1992 - Production and Operations Management\";\\n                                                wol2datalayer.channel=\"JOURNALS\";\\n                                                wol2datalayer.prop1=\"ABSTRACT\";\\n                                                wol2datalayer.prop2=\"ENHANCED ABSTRACT\";\\n                                                wol2datalayer.prop3=\"Production and Operations Management\";\\n                                                wol2datalayer.prop4=\"BA30,BA10,BA11,BA12,BA20,BA23\";\\n                                                wol2datalayer.prop5=\"\";\\n                                                wol2datalayer.prop7=\"EXPLORING THE LIMITS OF THE TECHNOLOGY S\\\\u2010CURVE. PART I: COMPONENT TECHNOLOGIES\";\\n                                                wol2datalayer.prop8=\"1\\\\/4\";\\n                                                wol2datalayer.prop9=\"licensed\";\\n                                                wol2datalayer.prop10=\"subscription\";\\n                                                wol2datalayer.prop11=\"PDF Only\";\\n                                                wol2datalayer.prop12=\"3011\";\\n                                                wol2datalayer.prop13=\"10.1111\\\\/(ISSN)1937-5956\";\\n                                                wol2datalayer.prop14=\"10.1111\\\\/j.1937-5956.1992.tb00001.x\";\\n                                                wol2datalayer.prop15=\"10.1111\\\\/poms.1992.1.issue-4\";\\n                                                                    wol2datalayer.prop18=\"05 JAN 2009\";\\n                                                wol2datalayer.prop33=\"BA30\";\\n                                                wol2datalayer.prop35=\"\";\\n                                                wol2datalayer.events=\"event63\";\\n                                                wol2datalayer.prop26=\"Guest\";\\n                            //]]>\\n    </script> <script>\\n    //<![CDATA[\\n    digitalData       = window.digitalData ? digitalData       : {};\\n    digitalData.event = digitalData.event  ? digitalData.event : [];\\n    //]]>\\n</script> <script src=\"//assets.adobedtm.com/6e626c9ec247e474f6b98eb15a79a185cf7e26a5/satelliteLib-d0317bde5157000144848f23fbb44a4de679c053.js\"></script> <script>\\n    var gs_channels = 'default';\\n</script> <script src=\"http://wiley.grapeshot.co.uk/main/channels.cgi?url=http%3A%2F%2Fonlinelibrary.wiley.com%2Fdoi%2F10.1111%2Fj.1937-5956.1992.tb00001.x%2Fabstract\"></script> <script>\\n        //<![CDATA[\\n        digitalData             = window.digitalData || {};\\n        digitalData.dartZone    = 'wly.busi.manage_000028/production-operations-manag_POMS';\\n        //]]>\\n    </script> <script>\\n        var googletag       = googletag       || {};\\n        googletag.cmd       = googletag.cmd   || [];\\n\\n        ( function () {\\n            var gads = document.createElement ( 'script' ) ,\\n                node = document.getElementsByTagName ( 'script' ) [ 0 ] ;\\n            gads.async  = true;\\n            gads.src    = document.location.protocol + '//www.googletagservices.com/tag/js/gpt.js';\\n            node.parentNode.insertBefore ( gads , node );\\n        }) ();\\n    </script> <script>\\n        //<![CDATA[\\n        googletag.cmd.push ( function () {\\n            // Mapping for mobile images sizes\\n            var sizes = {\\n                    leaderboard : googletag.sizeMapping ()\\n                        .addSize ([ 300 , 100 ] , [ 300 , 50 ])\\n                        .addSize ([ 740 , 100 ] , [ 728 , 90 ])\\n                        .addSize ([ 0 , 0 ]     , 'fluid' )\\n                        .build () ,\\n                    skyscraper : googletag.sizeMapping ()\\n                        .addSize ([ 1200 , 0 ] , [ 160 , 600 ])\\n                        .addSize ([ 1200 , 0 ] , [ 160 , 320 ])\\n                        .addSize ([ 1200 , 0 ] , [ 160 , 160 ])\\n                        .addSize ([ 1200 , 0 ] , [ 120 , 600 ])\\n                        .build ()\\n                };\\n\\n            googletag.pubads ()\\n                .setTargeting ( 'WOL-Page-Type'               , \"ABSTRACT\" )\\n                .setTargeting ( 'WOL-Page-Subtype'            , \"ENHANCED ABSTRACT\" )\\n                .setTargeting ( 'WOL-Subject-Codes'           , \"BA30,BA10,BA11,BA12,BA20,BA23\" )\\n                .setTargeting ( 'WOL-Article-Access-State'    , \"licensed\" )\\n                .setTargeting ( 'WOL-Pub-Access-Status'       , \"subscription\" )\\n                .setTargeting ( 'WOL-Article-Availability'    , \"PDF Only\" )\\n                .setTargeting ( 'WOL-Journal-DOI'             , \"10.1111\\\\/(ISSN)1937-5956\" )\\n                .setTargeting ( 'WOL-Article-Chapter-DOI'     , \"10.1111\\\\/j.1937-5956.1992.tb00001.x\" )\\n                .setTargeting ( 'WOL-Issue-DOI'               , \"10.1111\\\\/poms.1992.1.issue-4\" )\\n                .setTargeting ( 'WOL-Site-Search-Query'       , \"\" )\\n                .setTargeting ( 'WOL-User-login-Status'       , \"Guest\" )\\n                .setTargeting ( 'WOL-Primary-Subject-Code'    , \"BA30\" )\\n                .setTargeting ( 'WOL-Hub-ID'                  , \"\" )\\n                .setTargeting ( 'gs_cat'                      , gs_channels );\\n\\n            googletag.defineSlot (\\n                    '/2215/wly.busi.manage_000028/production-operations-manag_POMS'  ,\\n                    'fluid'                     ,\\n                    'advert-leaderboard'\\n                )\\n                .defineSizeMapping ( sizes.leaderboard )\\n                .addService ( googletag.pubads ())\\n                .setCollapseEmptyDiv ( true );\\n\\n            googletag.defineSlot (\\n                    '/2215/wly.busi.manage_000028/production-operations-manag_POMS'  ,\\n                    'fluid'                     ,\\n                    'advert-skyscraper'\\n                )\\n                .defineSizeMapping ( sizes.skyscraper )\\n                .addService ( googletag.pubads ())\\n                .setCollapseEmptyDiv ( true );\\n\\n            // Enable services\\n            googletag.pubads ().enableSingleRequest ();\\n            googletag.enableServices ();\\n        });\\n        //]]>\\n    </script> </head>"
      ]
     },
     "execution_count": 14,
     "metadata": {},
     "output_type": "execute_result"
    }
   ],
   "source": [
    "s"
   ]
  },
  {
   "cell_type": "code",
   "execution_count": 47,
   "metadata": {
    "collapsed": false
   },
   "outputs": [
    {
     "data": {
      "text/plain": [
       "u'1992'"
      ]
     },
     "execution_count": 47,
     "metadata": {},
     "output_type": "execute_result"
    }
   ],
   "source": [
    "year_vol_iss=s_body.find('p',{'class':'issue-header__description'})\n",
    "vol=year_vol_iss.text.split('Volume ')[1].split('Issue')[0]\n",
    "iss=year_vol_iss.text.split('Issue ')[1].split()[0]\n",
    "year=year_vol_iss.text.split('Pages ')[0].rstrip()[-4:]"
   ]
  },
  {
   "cell_type": "code",
   "execution_count": 58,
   "metadata": {
    "collapsed": false
   },
   "outputs": [
    {
     "name": "stdout",
     "output_type": "stream",
     "text": [
      "CLAYTON M. CHRISTENSEN\n"
     ]
    }
   ],
   "source": [
    "creators=s_body.findAll('li',{'class':'article-header__authors-item'})\n",
    "for c in creators:\n",
    "    print c['data-author-name']"
   ]
  },
  {
   "cell_type": "code",
   "execution_count": 51,
   "metadata": {
    "collapsed": false
   },
   "outputs": [
    {
     "data": {
      "text/plain": [
       "<body data-access=\"abstract\" data-type=\"default\"> <script>\\n    var dataLayer = window.dataLayer ? dataLayer : {};\\n    dataLayer.pageType = 'ABSTRACT';\\n    dataLayer.contentAvailability = 'PDF Only';\\n</script> <div class=\"l-viewport-main prim-nav-container\" id=\"js-viewport-main\"> <div class=\"prim-nav-pusher st-pusher\"> <header class=\"header clearfix\" role=\"banner\"> <div class=\"ribbon\"> <span class=\"ribbon__quarter ribbon__first\"></span> <span class=\"ribbon__quarter ribbon__second\"></span> <span class=\"ribbon__quarter ribbon__third\"></span> <span class=\"ribbon__quarter ribbon__fourth\"></span> </div> <div class=\"l-header-container\"> <div class=\"l-header clearfix\"> <span class=\"header__logo\"> <a href=\"http://onlinelibrary.wiley.com\"> <img alt=\"Wiley Online Library\" src=\"/enhanced/static/common/images/brand/wiley/header-logo.png?version=1.14.2\"/> </a> </span> <ul class=\"header__user-access u-horizontal-list\"> <li> <a class=\"is-accessible header__user-access-skip-link\" href=\"#main-content\">Skip to main content</a> </li> <li> <a class=\"header__user-access-link\" href=\"https://secure.onlinelibrary.wiley.com/secure/login/?originalUrl=http%3A%2F%2Fonlinelibrary.wiley.com%2Fdoi%2F10.1111%2Fj.1937-5956.1992.tb00001.x%2Fabstract&amp;wolSessionId=26fc941332c74a16b3a4c5b5fd85eae4\"> <span class=\"icon icon__avatar\"></span> <span class=\"header__user-access-link-text\">Log in / Register</span> </a> </li> </ul> </div> </div> </header> <img alt=\"\" class=\"is-accessible\" src=\"http://onlinelibrary.wiley.com/createAccessReportingEvent?doi=10.1111%2Fj.1937-5956.1992.tb00001.x\"/> <aside class=\"advert-leaderboard__container\"> <div class=\"advert\" id=\"advert-leaderboard\" role=\"complementary\"> <div class=\"advert-leaderboard__title\">Advertisement</div> <script>\\n                googletag.cmd.push ( function () {\\n                    googletag.display ( 'advert-leaderboard' );\\n                });\\n            </script> <noscript>\\n<a href=\"http://pubads.g.doubleclick.net/gampad/jump?iu=/2215/wly.busi.manage_000028/production-operations-manag_POMS&amp;sz=728x90&amp;tile=1&amp;c=100870120\" target=\"_blank\">\\n<img src=\"http://pubads.g.doubleclick.net/gampad/ad?iu=/2215/wly.busi.manage_000028/production-operations-manag_POMS&amp;sz=728x90&amp;tile=1&amp;c=100870120\"/>\\n</a>\\n</noscript> </div> </aside> <div class=\"l-main main citations--available\" role=\"main\"> <div class=\"l-article\"> <ul class=\"meta-navigation u-list-plain\"> <li class=\"meta-navigation__item\"> <a class=\"meta-navigation__return\" href=\"http://onlinelibrary.wiley.com/wol1/doi/10.1111/j.1937-5956.1992.tb00001.x/abstract\" id=\"wol1backlink\"> <span class=\"icon icon__return\"></span> <span>Go to old article view</span> </a> </li> </ul> <div class=\"l-viewport-mini\" id=\"js-viewport-mini\"> <div class=\"l-article-nav js-module\" data-module=\"toolbar\" id=\"js-article-nav\"> <div class=\"article-tools\" id=\"js-article-tools\"> <ul aria-label=\"Resize text, share article\" class=\"article-tools__bar\"> <li class=\"article-tools__tool article-tools__tool--set js-module\" data-module=\"textresize\"></li> <li class=\"article-tools__tool article-tools__tool--set article-tools__tool--share js-module\" data-doi=\"10.1111/j.1937-5956.1992.tb00001.x\" data-module=\"add-this\"></li> </ul> <div class=\"skyscraper--right\"> <div class=\"skyscraper\" id=\"skyscraper\"> <aside class=\"advert-skyscraper\" id=\"advert-skyscraper\" role=\"complementary\"> <div class=\"skyscraper__title\">Advertisement</div> <script>\\n                googletag.cmd.push ( function () {\\n                    googletag.display ( 'advert-skyscraper' );\\n                });\\n            </script> <noscript>\\n<a href=\"http://pubads.g.doubleclick.net/gampad/jump?iu=/2215/wly.busi.manage_000028/production-operations-manag_POMS&amp;sz=160x600|160x320|160x160|120x600&amp;tile=2&amp;c=125226667\" target=\"_blank\">\\n<img src=\"http://pubads.g.doubleclick.net/gampad/ad?iu=/2215/wly.busi.manage_000028/production-operations-manag_POMS&amp;sz=160x600|160x320|160x160|120x600&amp;tile=2&amp;c=125226667\"/>\\n</a>\\n</noscript> </aside> </div> </div> </div> </div> <article class=\"journal js-journal\"> <header class=\"journal-header\"> <a class=\"journal-header__name journal-header__name--normal\" href=\"http://onlinelibrary.wiley.com/journal/10.1111/(ISSN)1937-5956\"> <div class=\"journal-header__name-link\"> <strong class=\"journal-header__name-title\">Production and Operations Management</strong> <div class=\"journal-header__link\">Explore this journal &gt;</div> </div> </a> <ul class=\"u-horizontal-list\"> <li> <a class=\"journal-header__logo\" href=\"http://onlinelibrary.wiley.com/journal/10.1111/(ISSN)1937-5956\"> <img alt=\"Production and Operations Management\" class=\"journal-header__logo-img\" src=\"http://onlinelibrary.wiley.com/store/10.1111/(ISSN)1937-5956/asset/olalertbanner.jpg?v=1&amp;s=153fc162c75c4ace9f2c9c3f8acc4c0713e5c3f8\"/> <div class=\"journal-header__link\">Explore this journal &gt;</div> </a> </li> </ul> </header> <article class=\"issue\"> <div class=\"issue-header js-module\" data-module=\"issue-header\"> <nav aria-label=\"AA Issue Browser\" class=\"issue-header__nav\" role=\"navigation\"> <div class=\"issue-header__nav-control\"> <div class=\"issue-header__image-wrapper\"> <a class=\"issue-header__image-link\" href=\"http://onlinelibrary.wiley.com/doi/10.1111/poms.1992.1.issue-4/issuetoc\"> <img alt=\"Production and Operations Management\" class=\"issue-header__image\" src=\"http://onlinelibrary.wiley.com/store/10.1111/(ISSN)1937-5956/asset/cover.gif?v=1&amp;s=c8aba51dfc6250ed97485e9190cb5f1a1f9c21c9\"/> </a> <ol class=\"u-list-plain\"> <li> <a class=\"issue-header__arrow--right issue-header__arrow\" href=\"http://onlinelibrary.wiley.com/enhanced/doi/10.1111/j.1937-5956.1992.tb00002.x\"> <span class=\"icon icon__arrow icon__arrow--right\"></span> <span class=\"is-accessible\">Next article in issue: EXPLORING THE LIMITS OF THE TECHNOLOGY S-CURVE. PART II: ARCHITECTURAL TECHNOLOGIES</span> </a> <p class=\"issue-header__tooltip issue-header__tooltip--right\"> <span class=\"icon icon__chevron-up\"></span> <span class=\"issue-header__tooltip-header\">Next article in issue:</span>                                 EXPLORING THE LIMITS OF THE TECHNOLOGY S-CURVE. PART II: ARCHITECTURAL TECHNOLOGIES                             </p> </li> </ol> </div> <p class=\"issue-header__description\"> <a class=\"issue-header__link\" href=\"http://onlinelibrary.wiley.com/doi/10.1111/poms.1992.1.issue-4/issuetoc\">                                                 View\\xa0                                                 issue TOC                     </a> <br/>                                             Volume 1, Issue 4<br/>                         December 1992                                                     <br/> Pages 334\\u2013357                                                                                                                            </p> </div> </nav> </div> <article class=\"article js-module\" data-module=\"Article\" id=\"main-content\"><header class=\"js-module article-header\" data-module=\"ArticleHeader\"><div class=\"article-header__intro\"><h1 class=\"article-header__title\">EXPLORING THE LIMITS OF THE TECHNOLOGY S-CURVE. PART I: COMPONENT TECHNOLOGIES</h1><div class=\"article-header__authors-container\"><h2 class=\"is-accessible\">Authors</h2><ul class=\"article-header__authors_list js-module\" data-module=\"keyboardHover\"><li class=\"article-header__authors-item\" data-author-name=\"CLAYTON M. CHRISTENSEN\" data-hover-container=\"author1\"><h3 class=\"article-header__authors-name\" data-hover-control=\"author1\">CLAYTON M. CHRISTENSEN</h3><div class=\"article-header__author-content js-module\" data-hover-content=\"author1\" data-module=\"contentRevealer\"><ol class=\"article-header__authors-item-aff-addr\"><li>Harvard University Graduate School of Business Administration, Boston, Massachusetts 02163</li></ol><span class=\"after-author-correspondence\" data-author-name=\"CLAYTON M. CHRISTENSEN\"></span><a class=\"article-header__search-for-papers\" href=\"http://onlinelibrary.wiley.com/advanced/search/results?searchRowCriteria%5B0%5D.fieldName=author&amp;start=1&amp;resultsPerPage=20&amp;searchRowCriteria%5B0%5D.queryString=%22CLAYTON%20M.%20CHRISTENSEN%22\">Search for more papers by this author</a><span class=\"author-content-bottom\" data-author-name=\"CLAYTON M. CHRISTENSEN\"></span></div></li></ul></div><div class=\"article-header__meta-info-container\"><ul class=\"article-header__meta-info-list\" id=\"header-meta-info-container\"><li class=\"article-header__meta-info-item\"><span class=\"article-header__meta-info-label\">First published: </span><time class=\"article-header__meta-info-data\" datetime=\"1992-12\" id=\"first-published-date\">December 1992</time><a class=\"article-header__meta-info-2nd-data js-publication-history\" href=\"#publication-history\">Full publication history</a></li><li class=\"article-header__meta-info-item\"><span class=\"article-header__meta-info-label\" id=\"header-section-doi\">DOI: </span><span class=\"article-header__meta-info-data\">10.1111/j.1937-5956.1992.tb00001.x</span>         \\xa0<a class=\"article-header__meta-info-2nd-data analytics-view-citation js-module\" data-module=\"fragment\" href=\"/enhanced/exportCitation/doi/10.1111/j.1937-5956.1992.tb00001.x\">View/save citation</a></li><li class=\"article-header__meta-info-item js-module\" data-module=\"citations\"><span class=\"article-header__meta-info-label\">Cited by (CrossRef): </span><span class=\"article-header__meta-info-data\"><span id=\"js-citations__count\">123</span> articles</span><a class=\"citations__refresh article-header__meta-info-2nd-data\" href=\"http://onlinelibrary.wiley.com/enhanced/refreshCitedBy?doi=10.1111/j.1937-5956.1992.tb00001.x&amp;refreshCitedByCounter=true\" id=\"js-citations__refresh\"><span class=\"icon icon__refresh\"></span>      Check for updates     </a><div class=\"article-header__meta-info-2nd-data citation-tools dialogue js-module\" data-module=\"dialogue\" id=\"citation-tools\"><button class=\"button__link dialogue__action--set\" type=\"button\"><span class=\"icon icon__tools\"></span>                     Citation tools      <span class=\"icon icon__chevron-down--sml\"></span></button><div aria-labelledby=\"citation-tools\" class=\"dialogue__popup\" role=\"dialog\"><div class=\"dialogue__head\"></div><div class=\"dialogue__body\"><ul class=\"u-list-plain\"><li><form action=\"http://onlinelibrary.wiley.com/enhanced/alerts/citations/doi/10.1111/j.1937-5956.1992.tb00001.x\" class=\"js-module\" data-login=\"https://secure.onlinelibrary.wiley.com/secure/login/?originalUrl=http%3A%2F%2Fonlinelibrary.wiley.com%2Fenhanced%2Falerts%2Fcitations%2Fdoi%2F10.1111%2Fj.1937-5956.1992.tb00001.x&amp;wolSessionId=26fc941332c74a16b3a4c5b5fd85eae4\" data-module=\"citation-alert\" data-registration=\"http://onlinelibrary.wiley.com/user-registration\" data-state=\"off\" data-user-profile=\"http://onlinelibrary.wiley.com/myprofile/alertManager\" method=\"POST\"><input name=\"method\" type=\"hidden\" value=\"POST\"/><button class=\"button__link dialogue__list-item\" type=\"submit\"><span class=\"icon icon__bell\"></span>                                                     Set citation alert                                                 </button></form></li><li class=\"citations__link\"><a class=\"js-scrollto dialogue__list-item\" href=\"#footer-citing\"><span class=\"icon icon__info\"></span>                                     Citing literature                                 </a></li></ul></div></div></div></li><li class=\"article-header__meta-info-item\"><div class=\"js-module altmetric-embed\" data-badge-popover=\"bottom\" data-badge-type=\"1\" data-doi=\"10.1111/j.1937-5956.1992.tb00001.x\" data-link-target=\"_blank\" data-module=\"alt-metrics\"></div></li></ul></div></div><hr/></header><section class=\"article-section article-section--abstract\" id=\"abstract\"><div class=\"article-section__content mainAbstract\" id=\"en_main_abstract\" lang=\"en\"><h2 class=\"article-section__header\">Abstract</h2><p>The technology S-curve is a useful framework describing the substitution of new for old technologies at the industry level. In this paper I use information from the technological history of the disk drive industry to examine the usefulness of the S-curve framework for managers at the <em>firm</em> level in planning for new technology development. Because improvements in over-all disk drive product performance result from the interaction of improved <em>component</em> technologies and new <em>architectural</em> technologies, each of these must be monitored and managed. This paper focuses on component technology S-curves, and a subsequent paper, also published in this issue of the journal, examines architectural technology Scurves. Improvement in individual components followed S-curve patterns, but I show that the flattening of S-curves is a firm-specific, rather than uniform industry phenomenon. Lack of progress in conventional technologies may be the <em>result</em>, rather than the stimulus, of a forecast that the conventional technology is maturing, and some firms demonstrated the ability to wring far greater levels of performance from existing component technologies than other firms. Attacking entrant firms evidenced a distinct disadvantage versus incumbent firms in developing and using new component technologies. Firms pursuing aggressive Scurve switching strategies in component technology development gained no strategic advantage over firms whose strategies focused on extending the life of established component technologies.</p></div></section><span id=\"after-abstract\"></span><div class=\"accordion\"><div class=\"accordion__title\"><a class=\"accordion__control\" href=\"http://onlinelibrary.wiley.com/doi/10.1111/j.1937-5956.1992.tb00001.x/epdf\"><span class=\"icon icon__double-chevron\"></span>                                 Continue reading full article                             </a></div></div><section class=\"article-section article-section__pdf-container article-section__pdf-container--journal js-pdf-content\" id=\"pdf-section\"><ul class=\"box-actions__wrapper\"><li class=\"box-actions box-actions--readcube\"><a class=\"js-article-section__pdf-container-link article-section__pdf-container-link\" href=\"http://onlinelibrary.wiley.com/doi/10.1111/j.1937-5956.1992.tb00001.x/epdf\"><span class=\"icon icon__readcube\"></span><span class=\"js-article-section__pdf-container-title box-actions__title\">Enhanced PDF</span></a></li><li class=\"box-actions\"><a class=\"js-article-section__pdf-container-link article-section__pdf-container-link\" href=\"http://onlinelibrary.wiley.com/doi/10.1111/j.1937-5956.1992.tb00001.x/pdf\"><span class=\"icon icon__pdf\"></span><span class=\"js-article-section__pdf-container-title box-actions__title\">Standard PDF</span><span class=\"js-article-section__pdf-container-size box-actions__meta\">                                         (491.1 KB)                                     </span></a></li></ul></section><footer class=\"article-footer js-module\" data-module=\"Footer\"><h2 class=\"is-accessible\">Ancillary</h2><section class=\"article-footer__section\" id=\"footer-article-info\"><h3 class=\"article-footer__section-title js-footer-title\"><i class=\"icon icon__double-chevron\"></i>Article Information</h3><div class=\"article-info__section-content js-footer-info js-article-info\"><div class=\"article-info__doi-container\"><h4 class=\"article-info__section-sub-title\">DOI</h4><span class=\"article-info__section-doi-data\">10.1111/j.1937-5956.1992.tb00001.x</span><ul class=\"article-info__list u-list-plain\"><li class=\"article-info__citations-item\"><a class=\"article-header__meta-info-2nd-data analytics-view-citation js-module\" data-module=\"fragment\" href=\"/enhanced/exportCitation/doi/10.1111/j.1937-5956.1992.tb00001.x\">View/save citation</a></li></ul></div><div class=\"article-info__format-container article-format\"><h4 class=\"article-info__section-sub-title\">Format Available</h4><span class=\"article-info__section-format-data\">Full text: PDF</span></div><footer class=\"article-info__copyright-container\" id=\"copyright\"><p class=\"article-info__copyright\">\\xa9 1992 Production and Operations Management Society</p></footer><p class=\"request-permissions\"><a class=\"js-module\" data-module=\"rights-link\" href=\"https://s100.copyright.com/AppDispatchServlet?publisherName=Wiley&amp;publication=POMS&amp;title=EXPLORING%20THE%20LIMITS%20OF%20THE%20TECHNOLOGY%20S%E2%80%90CURVE.%20PART%20I%3A%20COMPONENT%20TECHNOLOGIES&amp;publicationDate=DEC%201992&amp;author=CLAYTON%20M.%20CHRISTENSEN&amp;startPage=334&amp;endPage=357&amp;copyright=%C2%A9%201992%20Production%20and%20Operations%20Management%20Society&amp;contentID=10.1111%2Fj.1937-5956.1992.tb00001.x&amp;orderSource=Wileyonline&amp;orderBeanReset=true\" target=\"_blank\"><span class=\"icon-aa icon-aa__permission\"></span>                Request Permissions             </a></p><div class=\"article-info__keywords-plus-wrapper\"><div class=\"article-info__keywords-container\"><h4 class=\"article-info__section-sub-title\">Keywords</h4><ul class=\"article-info__keywords-list u-horizontal-list\"><li class=\"article-info__keywords-item\"><span class=\"article-info__keywords-data\">INNOVATION; </span></li><li class=\"article-info__keywords-item\"><span class=\"article-info__keywords-data\">MANAGEMENT OF TECHNOLOGY; </span></li><li class=\"article-info__keywords-item\"><span class=\"article-info__keywords-data\">TECHNOLOGY S-CURVE; </span></li><li class=\"article-info__keywords-item\"><span class=\"article-info__keywords-data\">DISK DRIVE INDUSTRY; </span></li><li class=\"article-info__keywords-item\"><span class=\"article-info__keywords-data\">COMPONENT TECHNOLOGIES</span></li></ul></div><span id=\"after-keywords\"></span></div><div class=\"article-info__publication-history-container\" id=\"publication-history\"><h4 class=\"article-info__section-sub-title\">Publication History</h4><ul class=\"article-info__publication-history-list u-list-plain\"><li class=\"article-info__publication-history-item\"><span class=\"article-info__publication-history-label\">Issue online: </span><time class=\"article-info__publication-history-data\" datetime=\"2009-01-05\">5 January 2009</time></li><li class=\"article-info__publication-history-item\"><span class=\"article-info__publication-history-label\">Version of record online: </span><time class=\"article-info__publication-history-data\" datetime=\"2009-01-05\">5 January 2009</time></li><li class=\"article-info__publication-history-item\"><span class=\"article-info__publication-history-label\">Received June 1991; revision received September 1992; accepted November 1992.</span></li></ul></div><span id=\"after-funding-information\"></span></div></section><section class=\"article-footer__section article-section\" id=\"related-content\"><h3 class=\"article-footer__section-title js-footer-title js-footer-title--active\"><span class=\"icon icon__double-chevron\"></span>Related content         </h3><div class=\"article-info__section-content js-footer-info js-footer-info--active\"><section class=\"results\"><h4 class=\"results__title\">Articles related to the one you are viewing</h4><div class=\"related-articles js-module\" data-module=\"related-articles\" data-url=\"http://onlinelibrary.wiley.com/enhanced/related/doi/10.1111/j.1937-5956.1992.tb00001.x/\"><noscript><p class=\"results__summary\">Please enable Javascript to view the related content of this article.</p></noscript></div></section></div></section><section class=\"article-footer__section citations__section\" id=\"footer-citing\"><h3 class=\"article-footer__section-title js-footer-title\"><span class=\"icon icon__double-chevron\"></span>Citing Literature             </h3><div class=\"article-info__section-content js-footer-info\" id=\"js-citations__section\"><div class=\"modal__header\"><ul class=\"cited-info__list u-horizontal-list\"><li class=\"cited-info__item\"><span class=\"cited-info__text\">Number of times cited</span>: <span id=\"js-citations__counter\">123</span></li></ul></div><div class=\"modal__scrollable\"><ol class=\"article-section__citation-list\"><li><span class=\"bullet\">1</span><cite><span class=\"author\">Veena Subramanyam</span>, <span class=\"author\">Amit Kumar</span>, <span class=\"author\">Alireza Talaei</span>, <span class=\"author\">Md. Alam Hossain Mondal</span>, Energy efficiency improvement opportunities and associated greenhouse gas abatement costs for the residential sector, <span class=\"journalTitle\">Energy</span>, <span class=\"pubYear\">2017</span>, <span class=\"vol\">118</span>, 795</cite><a class=\"article-section__citation-link\" href=\"http://onlinelibrary.wiley.com/resolve/reference/XREF?id=10.1016/j.energy.2016.10.115\" target=\"_blank\">CrossRef</a></li><li><span class=\"bullet\">2</span><cite><span class=\"author\">Camila Franco</span>, <span class=\"author\">Renan Henrique de Oliveira</span>, Inputs and outputs of innovation: analysis of the BRICS, <span class=\"journalTitle\">RAI Revista de Administra\\xe7\\xe3o e Inova\\xe7\\xe3o</span>, <span class=\"pubYear\">2017</span>, <span class=\"vol\">14</span>, 1, 79</cite><a class=\"article-section__citation-link\" href=\"http://onlinelibrary.wiley.com/resolve/reference/XREF?id=10.1016/j.rai.2016.10.001\" target=\"_blank\">CrossRef</a></li><li><span class=\"bullet\">3</span><cite><span class=\"author\">Laura M. McNamee</span>, <span class=\"author\">Fred D. Ledley</span>, <span class=\"author\">Joshua L. Rosenbloom</span>, Modeling timelines for translational science in cancer; the impact of technological maturation, <span class=\"journalTitle\">PLOS ONE</span>, <span class=\"pubYear\">2017</span>, <span class=\"vol\">12</span>, 3, e0174538</cite><a class=\"article-section__citation-link\" href=\"http://onlinelibrary.wiley.com/resolve/reference/XREF?id=10.1371/journal.pone.0174538\" target=\"_blank\">CrossRef</a></li><li><span class=\"bullet\">4</span><cite><span class=\"author\">Seppo Kuula</span>, <span class=\"author\">Harri Haapasalo</span>, Service Business Model Innovation in Healthcare and Hospital Management, <span class=\"pubYear\">2017</span>, 249</cite><a class=\"article-section__citation-link\" href=\"http://onlinelibrary.wiley.com/resolve/reference/XREF?id=10.1007/978-3-319-46412-1_14\" target=\"_blank\">CrossRef</a></li><li><span class=\"bullet\">5</span><cite><span class=\"author\">Jeongeun Byun</span>, <span class=\"author\">Tae-Eung Sung</span>, <span class=\"author\">Hyun-Woo Park</span>, Technological innovation strategy: how do technology life cycles change by technological area, <span class=\"journalTitle\">Technology Analysis &amp; Strategic Management</span>, <span class=\"pubYear\">2017</span>, 1</cite><a class=\"article-section__citation-link\" href=\"http://onlinelibrary.wiley.com/resolve/reference/XREF?id=10.1080/09537325.2017.1297397\" target=\"_blank\">CrossRef</a></li><li><span class=\"bullet\">6</span><cite><span class=\"author\">S. Umit Kucuk</span>, Visualizing Marketing, <span class=\"pubYear\">2017</span>, 9</cite><a class=\"article-section__citation-link\" href=\"http://onlinelibrary.wiley.com/resolve/reference/XREF?id=10.1007/978-3-319-48027-5_3\" target=\"_blank\">CrossRef</a></li><li><span class=\"bullet\">7</span><cite><span class=\"author\">CHRISTOFER LAURELL</span>, <span class=\"author\">CHRISTIAN SANDSTR\\xd6M</span>, ANALYSING UBER IN SOCIAL MEDIA \\u2014 DISRUPTIVE TECHNOLOGY OR INSTITUTIONAL DISRUPTION?, <span class=\"journalTitle\">International Journal of Innovation Management</span>, <span class=\"pubYear\">2016</span>, <span class=\"vol\">20</span>, 05, 1640013</cite><a class=\"article-section__citation-link\" href=\"http://onlinelibrary.wiley.com/resolve/reference/XREF?id=10.1142/S1363919616400132\" target=\"_blank\">CrossRef</a></li><li><span class=\"bullet\">8</span><cite><span class=\"author\">Byungchul Choi</span>, <span class=\"author\">M. V. Shyam Kumar</span>, <span class=\"author\">Fabio Zambuto</span>, Capital Structure and Innovation Trajectory: The Role of Debt in Balancing Exploration and Exploitation, <span class=\"journalTitle\">Organization Science</span>, <span class=\"pubYear\">2016</span>, <span class=\"vol\">27</span>, 5, 1183</cite><a class=\"article-section__citation-link\" href=\"http://onlinelibrary.wiley.com/resolve/reference/XREF?id=10.1287/orsc.2016.1089\" target=\"_blank\">CrossRef</a></li><li><span class=\"bullet\">9</span><cite><span class=\"author\">Joseph Amankwah-Amoah</span>, Competing technologies, competing forces: The rise and fall of the floppy disk, 1971\\u20132010, <span class=\"journalTitle\">Technological Forecasting and Social Change</span>, <span class=\"pubYear\">2016</span>, <span class=\"vol\">107</span>, 121</cite><a class=\"article-section__citation-link\" href=\"http://onlinelibrary.wiley.com/resolve/reference/XREF?id=10.1016/j.techfore.2016.03.019\" target=\"_blank\">CrossRef</a></li><li><span class=\"bullet\">10</span><cite><span class=\"author\">So Young Kim</span>, <span class=\"author\">June-Young Lee</span>, <span class=\"author\">Woon-Dong Yeo</span>, <span class=\"author\">Young-Wook Park</span>, <span class=\"author\">In-seok Song</span>, <span class=\"author\">Sung-Wha Hong</span>, Development of post-evaluation model for future and emerging technology item reflecting environmental changes, <span class=\"journalTitle\">Futures</span>, <span class=\"pubYear\">2016</span>, <span class=\"vol\">77</span>, 67</cite><a class=\"article-section__citation-link\" href=\"http://onlinelibrary.wiley.com/resolve/reference/XREF?id=10.1016/j.futures.2016.02.005\" target=\"_blank\">CrossRef</a></li><li><span class=\"bullet\">11</span><cite><span class=\"author\">Omar Ali</span>, <span class=\"author\">Jeffrey Soar</span>, Handbook of Research on Driving Competitive Advantage through Sustainable, Lean, and Disruptive Innovation, <span class=\"pubYear\">2016</span>, 1</cite><a class=\"article-section__citation-link\" href=\"http://onlinelibrary.wiley.com/resolve/reference/XREF?id=10.4018/978-1-5225-0135-0.ch001\" target=\"_blank\">CrossRef</a></li><li><span class=\"bullet\">12</span><cite><span class=\"author\">Ming Piao</span>, <span class=\"author\">Edward J. Zajac</span>, How exploitation impedes and impels exploration: Theory and evidence, <span class=\"journalTitle\">Strategic Management Journal</span>, <span class=\"pubYear\">2016</span>, <span class=\"vol\">37</span>, 7, 1431</cite><a class=\"article-section__citation-link\" href=\"http://onlinelibrary.wiley.com/enhanced/doi/10.1002/smj.2402\">Wiley Online Library</a></li><li><span class=\"bullet\">13</span><cite><span class=\"author\">Sang M. Lee</span>, <span class=\"author\">Silvana Trimi</span>, Innovation for creating a smart future, <span class=\"journalTitle\">Journal of Innovation &amp; Knowledge</span>, <span class=\"pubYear\">2016</span></cite><a class=\"article-section__citation-link\" href=\"http://onlinelibrary.wiley.com/resolve/reference/XREF?id=10.1016/j.jik.2016.11.001\" target=\"_blank\">CrossRef</a></li><li><span class=\"bullet\">14</span><cite><span class=\"author\">Barak S. Aharonson</span>, <span class=\"author\">Melissa A. Schilling</span>, Mapping the technological landscape: Measuring technology distance, technological footprints, and technology evolution, <span class=\"journalTitle\">Research Policy</span>, <span class=\"pubYear\">2016</span>, <span class=\"vol\">45</span>, 1, 81</cite><a class=\"article-section__citation-link\" href=\"http://onlinelibrary.wiley.com/resolve/reference/XREF?id=10.1016/j.respol.2015.08.001\" target=\"_blank\">CrossRef</a></li><li><span class=\"bullet\">15</span><cite><span class=\"author\">Judy Muller-Cohn</span>, <span class=\"author\">Paul Diaz</span>, <span class=\"author\">Rolf Muller</span>, Stem Cells in Regenerative Medicine, <span class=\"pubYear\">2016</span>, 341</cite><a class=\"article-section__citation-link\" href=\"http://onlinelibrary.wiley.com/resolve/reference/XREF?id=10.1002/9781118846193.ch18\" target=\"_blank\">CrossRef</a></li><li><span class=\"bullet\">16</span><cite><span class=\"author\">Chialin Chen</span>, <span class=\"author\">Jun Zhang</span>, <span class=\"author\">Ruey-Shan Guo</span>, The D-Day, V-Day, and bleak days of a disruptive technology: A new model for ex-ante evaluation of the timing of technology disruption, <span class=\"journalTitle\">European Journal of Operational Research</span>, <span class=\"pubYear\">2016</span>, <span class=\"vol\">251</span>, 2, 562</cite><a class=\"article-section__citation-link\" href=\"http://onlinelibrary.wiley.com/resolve/reference/XREF?id=10.1016/j.ejor.2015.11.023\" target=\"_blank\">CrossRef</a></li><li><span class=\"bullet\">17</span><cite><span class=\"author\">Ozgur Dedehayir</span>, <span class=\"author\">Martin Steinert</span>, The hype cycle model: A review and future directions, <span class=\"journalTitle\">Technological Forecasting and Social Change</span>, <span class=\"pubYear\">2016</span>, <span class=\"vol\">108</span>, 28</cite><a class=\"article-section__citation-link\" href=\"http://onlinelibrary.wiley.com/resolve/reference/XREF?id=10.1016/j.techfore.2016.04.005\" target=\"_blank\">CrossRef</a></li><li><span class=\"bullet\">18</span><cite><span class=\"author\">Fernando F. Suarez</span>, The Palgrave Encyclopedia of Strategic Management, <span class=\"pubYear\">2016</span>, 1</cite><a class=\"article-section__citation-link\" href=\"http://onlinelibrary.wiley.com/resolve/reference/XREF?id=10.1057/978-1-349-94848-2_381-1\" target=\"_blank\">CrossRef</a></li><li><span class=\"bullet\">19</span><cite><span class=\"author\">James M. Utterback</span>, The Palgrave Encyclopedia of Strategic Management, <span class=\"pubYear\">2016</span>, 1</cite><a class=\"article-section__citation-link\" href=\"http://onlinelibrary.wiley.com/resolve/reference/XREF?id=10.1057/978-1-349-94848-2_400-1\" target=\"_blank\">CrossRef</a></li><li><span class=\"bullet\">20</span><cite><span class=\"author\">Nitin R. Joglekar</span>, <span class=\"author\">Jane Davies</span>, <span class=\"author\">Edward G. Anderson</span>, The Role of Industry Studies and Public Policies in Production and Operations Management, <span class=\"journalTitle\">Production and Operations Management</span>, <span class=\"pubYear\">2016</span>, <span class=\"vol\">25</span>, 12, 1977</cite><a class=\"article-section__citation-link\" href=\"http://onlinelibrary.wiley.com/enhanced/doi/10.1111/poms.12640\">Wiley Online Library</a></li></ol></div><p class=\"weight-bold\"><a class=\"js-module\" data-fragment=\"large\" data-module=\"fragment\" href=\"http://onlinelibrary.wiley.com/enhanced/showAllCitations/doi/10.1111/j.1937-5956.1992.tb00001.x\">                     View all 123 citations                 </a></p></div></section></footer></article> </article> </article> <div class=\"l-article-support\"> <div class=\"article-support js-article-support js-module\" data-module=\"infopane\"> <div class=\"article-support__links js-article-support-links\"> <nav class=\"article-support__list-wrapper js-article-support-list-wrapper\"> <ul class=\"article-support__list js-article-support-list u-list-plain\"> <li class=\"article-support__item--pdf \"> <a class=\"article-support__item-link js-infopane-pdf \" data-support-type=\"PDF_options\" href=\"http://onlinelibrary.wiley.com/doi/10.1111/j.1937-5956.1992.tb00001.x/pdf\"> <span class=\"icon-aa icon-aa__sidepane icon-aa__sidepane--pdf\"></span> <span class=\"article-support__item-text\">PDF</span> </a> </li> <li class=\"article-support__item--epdf\"> <a class=\"article-support__item-link js-infopane-epdf\" href=\"http://onlinelibrary.wiley.com/doi/10.1111/j.1937-5956.1992.tb00001.x/epdf\"> <span class=\"icon-aa icon-aa__sidepane icon-aa__sidepane--pdf\"></span> <span class=\"article-support__item-text\">PDF</span> </a> </li> <li> <a class=\"article-support__item-link js-infopane-toggle\" data-support-type=\"Information\" href=\"#footer-article-info\"> <span class=\"icon-aa icon-aa__sidepane icon-aa__sidepane--info\"></span> <span class=\"article-support__item-text\">Info</span> </a> </li> </ul> </nav> </div> <div class=\"article-support__pane js-article-support-pane is-hidden\"> <div class=\"article-support__pane-title-bar\"> <div class=\"article-support__pane-title js-article-support-title\"></div> <div class=\"article-support__pane-close js-article-support-close\"> <a class=\"article-support__pane-close__link\" data-close=\"close\" href=\"#\" title=\"Close article support pane\"> <span class=\"icon icon__infopane-close\"></span> <span class=\"is-accessible\">Close article support pane</span> </a> </div> </div> <div class=\"article-support__pane-content js-article-support-content\"></div> </div> </div> </div> </div> </div> </div> <div id=\"region__footer\"> <!-- START: Footer --> <div class=\"stripe\" role=\"presentation\"> <div class=\"fill fill--1\"></div> <div class=\"fill fill--2\"></div> <div class=\"fill fill--3\"></div> <div class=\"fill fill--4\"></div> </div> <footer class=\"footer footer--wiley\" role=\"contentinfo\"> <nav aria-label=\"Wiley Online Library Footer\" class=\"footer__nav\" role=\"navigation\"> <ul class=\"footer__list footer__list--logo\"> <li> <h2 class=\"footer__logo\"> <a href=\"http://onlinelibrary.wiley.com\"> <img alt=\"Wiley\" onerror=\"this.src=this.src.replace('svg','png');\" src=\"/enhanced/static/common/images/brand/wiley/footer-logo.svg?version=1.14.2\"/> </a> </h2> </li> </ul> <ul class=\"footer__list\"> <li> <a class=\"footer__link\" href=\"http://onlinelibrary.wiley.com/browse/publications\"> <b>Browse Publications</b> </a> </li> <li> <a class=\"footer__link\" href=\"http://onlinelibrary.wiley.com/browse/subjects\"> <b>Browse by Subject</b> </a> </li> <li> <a class=\"footer__link\" href=\"http://olabout.wiley.com/WileyCDA/Section/id-390229.html\"> <b>Resources</b> </a> </li> </ul> <ul class=\"footer__list\"> <li> <a class=\"footer__link\" href=\"http://journalshelp.wiley.com/\">Help &amp; Support</a> </li> <li> <a class=\"footer__link\" href=\"http://olabout.wiley.com/WileyCDA/Section/id-813473.html\">Cookies</a> &amp; <a class=\"footer__link\" href=\"http://onlinelibrary.wiley.com/privacyPolicy\">Privacy</a> </li> <li> <a class=\"footer__link\" href=\"http://onlinelibrary.wiley.com/termsAndConditions\">Terms &amp; Conditions</a> </li> </ul> <ul class=\"footer__list\"> <li> <a class=\"footer__link\" href=\"http://olabout.wiley.com/WileyCDA/Section/id-390001.html\">About Us</a> </li> <li> <a class=\"footer__link\" href=\"http://www.wileyjobnetwork.com/\">Wiley Job Network</a> </li> <li> <a class=\"footer__link\" href=\"http://olabout.wiley.com/WileyCDA/Section/id-390236.html\">Advertisers</a> &amp; <a class=\"footer__link\" href=\"http://olabout.wiley.com/WileyCDA/Section/id-390243.html\">Agents</a> </li> </ul> </nav> <div aria-label=\"Learn more about Wiley\" class=\"footer__copy\"> <p class=\"footer__text footer__text--slogan\">Powered by <a class=\"footer__link footer__link--active\" href=\"http://onlinelibrary.wiley.com\">Wiley Online Library</a></p> <p class=\"footer__text\">Copyright \\xa9 1999 - 2017 <a class=\"footer__link footer__link--active\" href=\"http://www.wiley.com\">John Wiley &amp; Sons, Inc.</a> All Rights Reserved</p> </div> </footer> <script>\\n//<![CDATA[\\n    \\n    Modernizr.load([\\n        {\\n            load    : '/enhanced/static/common/js/vendor/wiley-require.js',\\n            callback: function() {\\n\\n                \\n                var interval = setInterval(function() {\\n                    if ( typeof WILEY !== 'undefined' && WILEY.requirejs ) {\\n                        // Stop us from having to load an extra RequireJS for Cochrane\\n                        window.define       = WILEY.define;\\n                        window.require      = WILEY.require;\\n                        window.requirejs    = WILEY.requirejs;\\n\\n                        WILEY.requirejs([\\n                                '/enhanced/static/common/js/wiley-common.js?version=1.14.2',\\n                                '/enhanced/static/js/wiley-article.js?version=1.14.2'\\n                            ], function() {\\n                            WILEY.requirejs([\\n                                'common/modules/main',\\n                                'modules/main-article'\\n\\n                                                            ]\\n\\n                            \\n                            );\\n                        });\\n\\n                        clearInterval(interval);\\n                    }\\n                }, 100 );\\n            }\\n        }\\n        ]);\\n//]]>\\n</script> </div> </div> <script type=\"text/javascript\">_satellite.pageBottom();</script> </div> </body>"
      ]
     },
     "execution_count": 51,
     "metadata": {},
     "output_type": "execute_result"
    }
   ],
   "source": [
    "s_body"
   ]
  },
  {
   "cell_type": "code",
   "execution_count": null,
   "metadata": {
    "collapsed": true
   },
   "outputs": [],
   "source": []
  }
 ],
 "metadata": {
  "anaconda-cloud": {},
  "kernelspec": {
   "display_name": "Python [Root]",
   "language": "python",
   "name": "Python [Root]"
  },
  "language_info": {
   "codemirror_mode": {
    "name": "ipython",
    "version": 2
   },
   "file_extension": ".py",
   "mimetype": "text/x-python",
   "name": "python",
   "nbconvert_exporter": "python",
   "pygments_lexer": "ipython2",
   "version": "2.7.12"
  }
 },
 "nbformat": 4,
 "nbformat_minor": 0
}
