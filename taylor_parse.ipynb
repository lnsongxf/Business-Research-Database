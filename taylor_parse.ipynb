{
 "cells": [
  {
   "cell_type": "code",
   "execution_count": 206,
   "metadata": {
    "collapsed": true
   },
   "outputs": [],
   "source": [
    "#todo: \n",
    "#move Jr to AF edit\n",
    "#abstract remove long"
   ]
  },
  {
   "cell_type": "code",
   "execution_count": 207,
   "metadata": {
    "collapsed": true
   },
   "outputs": [],
   "source": [
    "import glob, os\n",
    "from bs4 import BeautifulSoup as bs\n",
    "import re\n",
    "import pandas as pd\n",
    "pd.options.display.max_rows = 2000\n",
    "import collections"
   ]
  },
  {
   "cell_type": "code",
   "execution_count": 208,
   "metadata": {
    "collapsed": true
   },
   "outputs": [],
   "source": [
    "base_folder='scr/moq/jrnmis/'"
   ]
  },
  {
   "cell_type": "code",
   "execution_count": 241,
   "metadata": {
    "collapsed": false
   },
   "outputs": [
    {
     "name": "stdout",
     "output_type": "stream",
     "text": [
      "1 \n",
      "10.1080_07421222.2000.11045629.html no url\n",
      "2 \n",
      "10.1080_07421222.2000.11045630.html no url\n",
      "3 \n",
      "10.1080_07421222.2000.11045631.html no keyword\n",
      "\n",
      "10.1080_07421222.2000.11045631.html no url\n",
      "\n",
      "10.1080_07421222.2000.11045631.html no abstract\n",
      "4 \n",
      "10.1080_07421222.2000.11045632.html no url\n",
      "5 \n",
      "10.1080_07421222.2000.11045633.html no url\n",
      "6 \n",
      "10.1080_07421222.2000.11045634.html no url\n",
      "7 \n",
      "10.1080_07421222.2000.11045635.html no url\n",
      "8 \n",
      "10.1080_07421222.2000.11045636.html no url\n",
      "9 \n",
      "10.1080_07421222.2000.11045637.html no url\n",
      "10 \n",
      "10.1080_07421222.2000.11045638.html no url\n"
     ]
    }
   ],
   "source": [
    "articles=[]\n",
    "folder=base_folder+\"htmls\"\n",
    "files=os.listdir(folder)\n",
    "l=[]\n",
    "i=0\n",
    "for f in files[570:580]:\n",
    "    i=i+1\n",
    "    if 'html' in f:\n",
    "        print i,\n",
    "        creators=[] \n",
    "        article={}\n",
    "        article['ex:creator']=[]\n",
    "        article['ex:keyword']=[]\n",
    "        html=open(folder+'/'+f).read()\n",
    "        s = BeautifulSoup(html, 'lxml').find('head')\n",
    "        j=''\n",
    "        for c in s.findAll(\"meta\",{\"name\":\"dc.Creator\"}):\n",
    "            creator={}\n",
    "            creator['ex:name']=c['content']\n",
    "            creators.append(creator)\n",
    "        keywords=s.find(\"meta\",{\"name\":\"keywords\"})\n",
    "        if keywords is not None: \n",
    "            for k in keywords['content'].split(','):\n",
    "                article['ex:keyword'].append(k.strip())\n",
    "        else:\n",
    "            print '\\n',f,'no keyword'\n",
    "        article['ex:title']=s.find(\"meta\",{\"name\":\"dc.Title\"})['content']\n",
    "        article['ex:date']=s.find(\"meta\",{\"name\":\"og:description\"})['content'][1:5]\n",
    "        article['ex:issue']= s.find(\"meta\",{\"name\":\"pbContext\"})['content'].split('.v')[1].split('.i')[0].lstrip('0')                    \n",
    "        article['ex:volume']=s.find(\"meta\",{\"name\":\"pbContext\"})['content'].split('.i')[1].split(';page')[0].lstrip('0')\n",
    "        url=s.find(\"meta\",{\"name\":\"dc.Source\"})\n",
    "        if url is not None:\n",
    "            article['ex:url']=url['content']\n",
    "        else:\n",
    "            print '\\n',f,'no url'\n",
    "        abstract=s.find(\"meta\",{\"name\":\"dc.Description\"})\n",
    "        if abstract is not None:\n",
    "            article['ex:abstract']= abstract['content']\n",
    "        else:\n",
    "            print '\\n',f, 'no abstract'\n",
    "        article['ex:source']= s.find(\"meta\",{\"name\":\"citation_journal_title\"})['content']\n",
    "        article['ex:creator']=creators\n",
    "        articles.append(article)"
   ]
  },
  {
   "cell_type": "code",
   "execution_count": 243,
   "metadata": {
    "collapsed": false
   },
   "outputs": [
    {
     "data": {
      "text/plain": [
       "<head data-pb-dropzone=\"head\"><meta content=\";page:string:Article/Chapter View;issue:issue:10.1080/mmis20.v001.i02;subPage:string:Abstract;journal:journal:mmis20;article:article:10.1080/07421222.1984.11517703;wgroup:string:Publication Websites;website:website:TFOPB;pageGroup:string:Publication Pages\" name=\"pbContext\"/><meta data-pb-head=\"head-widgets-start\"/>\\n<link href=\"http://purl.org/DC/elements/1.0/\" rel=\"schema.DC\"/><meta content=\"Information Systems Planning and Development: Strategic Postures and Methodologies\" name=\"dc.Title\"/><meta content=\"Journal of Management Information Systems\" name=\"citation_journal_title\"/><meta content=\"Jeffrey E. Kottemann\" name=\"dc.Creator\"/><meta content=\"Benn R. Konsynski\" name=\"dc.Creator\"/><meta content=\"Strategic planning; information systems planning; information systems integration; information systems for competitive advantage\" name=\"dc.Subject\"/><meta content=\"Abstract:Two complementary issues emerge in development and implementation of a comprehensive is plan\\u2014the determination of the is functions\\u2019s strategic posture and the choice of appropriate is planning and development methodologies. Frameworks for addressing both issues are presented. is strategic postures vary along several dimensions, including the level and scope of the system view as well as the degree of participation of the is function in overall organizational planning. Current is planning methodologies differ in: components of the organization used as planning pivots, assumptions indicating perceived stability of components, and is objectives reflected in the methodology. Those assumptions and objectives implicit in a methodology dictate their suitability for given strategic postures. A contingency framework is used in examining selected is planning and development methodologies.\" name=\"dc.Description\"/><meta content=\"Routledge\" name=\"dc.Publisher\"/><meta content=\"23 Dec 2015\" name=\"dc.Date\" scheme=\"WTN8601\"/><meta content=\"research-article\" name=\"dc.Type\"/><meta content=\"text/HTML\" name=\"dc.Format\"/><meta content=\"11517703\" name=\"dc.Identifier\" scheme=\"publisher-id\"/><meta content=\"10.1080/07421222.1984.11517703\" name=\"dc.Identifier\" scheme=\"doi\"/><meta content=\"http://dx.doi.org/10.1080/07421222.1984.11517703\" name=\"dc.Source\"/><meta content=\"en\" name=\"dc.Language\"/><meta content=\"world\" name=\"dc.Coverage\"/><meta content=\"Strategic planning, information systems planning, information systems integration, information systems for competitive advantage\" name=\"keywords\"/>\\n<link href=\"http://dx.doi.org/10.1080%2F07421222.1984.11517703\" rel=\"meta\" type=\"application/atom+xml\"/>\\n<link href=\"http://dx.doi.org/10.1080%2F07421222.1984.11517703\" rel=\"meta\" type=\"application/rdf+json\"/>\\n<link href=\"http://dx.doi.org/10.1080%2F07421222.1984.11517703\" rel=\"meta\" type=\"application/unixref+xml\"/>\\n<title>Information Systems Planning and Development: Strategic Postures and Methodologies: Journal of Management Information Systems: Vol 1, No 2</title>\\n<meta charset=\"unicode-escape\">\\n<!-- publications og tags -->\\n<meta content=\"Information Systems Planning and Development: Strategic Postures and Methodologies\" name=\"og:title\"/>\\n<meta content=\"article\" name=\"og:type\"/>\\n<meta content=\"http://www.tandfonline.com/na101/home/literatum/publisher/tandf/journals/content/mmis20/1984/mmis20.v001.i02/mmis20.v001.i02/20151223-01/mmis20.v001.i02.cover.jpg\" name=\"og:image\"/>\\n<meta content=\"Taylor &amp; Francis\" name=\"og:site_name\"/>\\n<meta content=\"(1984). Information Systems Planning and Development: Strategic Postures and Methodologies. Journal of Management Information Systems: Vol. 1, No. 2, pp. 45-63. doi: 10.1080/07421222.1984.11517703\" name=\"og:description\"/>\\n<meta content=\"width=device-width,initial-scale=1,maximum-scale=1, user-scalable=0\" name=\"viewport\"/>\\n<meta data-pb-head=\"head-widgets-end\"/>\\n<link href=\"/wro/bsyz~product.css\" rel=\"stylesheet\" type=\"text/css\"><link data-pb-css-id=\"t1490780635157-v1487965448000/head_4_698_1485_2139.css\" href=\"/pb/css/t1490780635157-v1487965448000/head_4_698_1485_2139.css\" id=\"pb-css\" rel=\"stylesheet\" type=\"text/css\"/>\\n<script src=\"/wro/bsyz~product.js\" type=\"text/javascript\"></script>\\n<script type=\"text/javascript\">\\n                var _gaq = _gaq || [];\\n                _gaq.push(['_setAccount', 'UA-3062505-5']);\\n                _gaq.push(['_trackPageview']);\\n\\n                (function() {\\n                    var ga = document.createElement('script'); ga.type = 'text/javascript'; ga.async = true;\\n                    ga.src = ('https:' == document.location.protocol ? 'https://ssl' : 'http://www') + '.google-analytics.com/ga.js';\\n                    var s = document.getElementsByTagName('script')[0]; s.parentNode.insertBefore(ga, s);\\n                })();\\n            </script>\\n<script async=\"\" defer=\"\" src=\"https://www.colwiz.com/pubsol/widget/34000f34a146a2017e2b5acad48d6b07.js\"></script>\\n</link></meta></head>"
      ]
     },
     "execution_count": 243,
     "metadata": {},
     "output_type": "execute_result"
    }
   ],
   "source": [
    "soup"
   ]
  },
  {
   "cell_type": "code",
   "execution_count": 244,
   "metadata": {
    "collapsed": false
   },
   "outputs": [
    {
     "data": {
      "text/plain": [
       "[<meta content=\";page:string:Article/Chapter View;issue:issue:10.1080/mmis20.v001.i02;subPage:string:Abstract;journal:journal:mmis20;article:article:10.1080/07421222.1984.11517703;wgroup:string:Publication Websites;website:website:TFOPB;pageGroup:string:Publication Pages\" name=\"pbContext\"/>,\n",
       " <meta data-pb-head=\"head-widgets-start\"/>,\n",
       " <meta content=\"Information Systems Planning and Development: Strategic Postures and Methodologies\" name=\"dc.Title\"/>,\n",
       " <meta content=\"Journal of Management Information Systems\" name=\"citation_journal_title\"/>,\n",
       " <meta content=\"Jeffrey E. Kottemann\" name=\"dc.Creator\"/>,\n",
       " <meta content=\"Benn R. Konsynski\" name=\"dc.Creator\"/>,\n",
       " <meta content=\"Strategic planning; information systems planning; information systems integration; information systems for competitive advantage\" name=\"dc.Subject\"/>,\n",
       " <meta content=\"Abstract:Two complementary issues emerge in development and implementation of a comprehensive is plan\\u2014the determination of the is functions\\u2019s strategic posture and the choice of appropriate is planning and development methodologies. Frameworks for addressing both issues are presented. is strategic postures vary along several dimensions, including the level and scope of the system view as well as the degree of participation of the is function in overall organizational planning. Current is planning methodologies differ in: components of the organization used as planning pivots, assumptions indicating perceived stability of components, and is objectives reflected in the methodology. Those assumptions and objectives implicit in a methodology dictate their suitability for given strategic postures. A contingency framework is used in examining selected is planning and development methodologies.\" name=\"dc.Description\"/>,\n",
       " <meta content=\"Routledge\" name=\"dc.Publisher\"/>,\n",
       " <meta content=\"23 Dec 2015\" name=\"dc.Date\" scheme=\"WTN8601\"/>,\n",
       " <meta content=\"research-article\" name=\"dc.Type\"/>,\n",
       " <meta content=\"text/HTML\" name=\"dc.Format\"/>,\n",
       " <meta content=\"11517703\" name=\"dc.Identifier\" scheme=\"publisher-id\"/>,\n",
       " <meta content=\"10.1080/07421222.1984.11517703\" name=\"dc.Identifier\" scheme=\"doi\"/>,\n",
       " <meta content=\"http://dx.doi.org/10.1080/07421222.1984.11517703\" name=\"dc.Source\"/>,\n",
       " <meta content=\"en\" name=\"dc.Language\"/>,\n",
       " <meta content=\"world\" name=\"dc.Coverage\"/>,\n",
       " <meta content=\"Strategic planning, information systems planning, information systems integration, information systems for competitive advantage\" name=\"keywords\"/>,\n",
       " <meta charset=\"unicode-escape\">\\n<!-- publications og tags -->\\n<meta content=\"Information Systems Planning and Development: Strategic Postures and Methodologies\" name=\"og:title\"/>\\n<meta content=\"article\" name=\"og:type\"/>\\n<meta content=\"http://www.tandfonline.com/na101/home/literatum/publisher/tandf/journals/content/mmis20/1984/mmis20.v001.i02/mmis20.v001.i02/20151223-01/mmis20.v001.i02.cover.jpg\" name=\"og:image\"/>\\n<meta content=\"Taylor &amp; Francis\" name=\"og:site_name\"/>\\n<meta content=\"(1984). Information Systems Planning and Development: Strategic Postures and Methodologies. Journal of Management Information Systems: Vol. 1, No. 2, pp. 45-63. doi: 10.1080/07421222.1984.11517703\" name=\"og:description\"/>\\n<meta content=\"width=device-width,initial-scale=1,maximum-scale=1, user-scalable=0\" name=\"viewport\"/>\\n<meta data-pb-head=\"head-widgets-end\"/>\\n<link href=\"/wro/bsyz~product.css\" rel=\"stylesheet\" type=\"text/css\"><link data-pb-css-id=\"t1490780635157-v1487965448000/head_4_698_1485_2139.css\" href=\"/pb/css/t1490780635157-v1487965448000/head_4_698_1485_2139.css\" id=\"pb-css\" rel=\"stylesheet\" type=\"text/css\"/>\\n<script src=\"/wro/bsyz~product.js\" type=\"text/javascript\"></script>\\n<script type=\"text/javascript\">\\n                var _gaq = _gaq || [];\\n                _gaq.push(['_setAccount', 'UA-3062505-5']);\\n                _gaq.push(['_trackPageview']);\\n\\n                (function() {\\n                    var ga = document.createElement('script'); ga.type = 'text/javascript'; ga.async = true;\\n                    ga.src = ('https:' == document.location.protocol ? 'https://ssl' : 'http://www') + '.google-analytics.com/ga.js';\\n                    var s = document.getElementsByTagName('script')[0]; s.parentNode.insertBefore(ga, s);\\n                })();\\n            </script>\\n<script async=\"\" defer=\"\" src=\"https://www.colwiz.com/pubsol/widget/34000f34a146a2017e2b5acad48d6b07.js\"></script>\\n</link></meta>,\n",
       " <meta content=\"Information Systems Planning and Development: Strategic Postures and Methodologies\" name=\"og:title\"/>,\n",
       " <meta content=\"article\" name=\"og:type\"/>,\n",
       " <meta content=\"http://www.tandfonline.com/na101/home/literatum/publisher/tandf/journals/content/mmis20/1984/mmis20.v001.i02/mmis20.v001.i02/20151223-01/mmis20.v001.i02.cover.jpg\" name=\"og:image\"/>,\n",
       " <meta content=\"Taylor &amp; Francis\" name=\"og:site_name\"/>,\n",
       " <meta content=\"(1984). Information Systems Planning and Development: Strategic Postures and Methodologies. Journal of Management Information Systems: Vol. 1, No. 2, pp. 45-63. doi: 10.1080/07421222.1984.11517703\" name=\"og:description\"/>,\n",
       " <meta content=\"width=device-width,initial-scale=1,maximum-scale=1, user-scalable=0\" name=\"viewport\"/>,\n",
       " <meta data-pb-head=\"head-widgets-end\"/>]"
      ]
     },
     "execution_count": 244,
     "metadata": {},
     "output_type": "execute_result"
    }
   ],
   "source": [
    "soup.findAll('meta',{\"\"})"
   ]
  },
  {
   "cell_type": "code",
   "execution_count": null,
   "metadata": {
    "collapsed": true
   },
   "outputs": [],
   "source": []
  }
 ],
 "metadata": {
  "anaconda-cloud": {},
  "kernelspec": {
   "display_name": "Python [Root]",
   "language": "python",
   "name": "Python [Root]"
  },
  "language_info": {
   "codemirror_mode": {
    "name": "ipython",
    "version": 2
   },
   "file_extension": ".py",
   "mimetype": "text/x-python",
   "name": "python",
   "nbconvert_exporter": "python",
   "pygments_lexer": "ipython2",
   "version": "2.7.12"
  }
 },
 "nbformat": 4,
 "nbformat_minor": 0
}
