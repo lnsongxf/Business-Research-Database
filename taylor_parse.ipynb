{
 "cells": [
  {
   "cell_type": "code",
   "execution_count": 63,
   "metadata": {
    "collapsed": true
   },
   "outputs": [],
   "source": [
    "#todo: \n",
    "#move Jr to AF edit\n",
    "#abstract remove long"
   ]
  },
  {
   "cell_type": "code",
   "execution_count": 68,
   "metadata": {
    "collapsed": true
   },
   "outputs": [],
   "source": [
    "import glob, os\n",
    "from bs4 import BeautifulSoup as bs\n",
    "import re\n",
    "import pandas as pd\n",
    "pd.options.display.max_rows = 2000\n",
    "import collections"
   ]
  },
  {
   "cell_type": "code",
   "execution_count": 69,
   "metadata": {
    "collapsed": true
   },
   "outputs": [],
   "source": [
    "base_folder='scr/moq/jrnmis/'"
   ]
  },
  {
   "cell_type": "code",
   "execution_count": null,
   "metadata": {
    "collapsed": false
   },
   "outputs": [],
   "source": [
    "articles=[]\n",
    "folder=base_folder+\"htmls\"\n",
    "files=os.listdir(folder)\n",
    "l=[]\n",
    "for f in files:\n",
    "    if 'html' in f:\n",
    "        creators=[] \n",
    "        article={}\n",
    "        article['ex:creator']=[]\n",
    "        article['ex:keyword']=[]\n",
    "        html=open(folder+'/'+f).read()\n",
    "        s = BeautifulSoup(html, 'html.parser').find('head')\n",
    "        j=''\n",
    "        for c in s.findAll(\"meta\",{\"name\":\"dc.Creator\"}):\n",
    "            creator={}\n",
    "            creator['ex:name']=c['content']\n",
    "            creators.append(creator)\n",
    "        keywords=s.find(\"meta\",{\"name\":\"keywords\"})\n",
    "        if keywords is not None: \n",
    "            for k in keywords['content'].split(','):\n",
    "                article['ex:keyword'].append(k.strip())\n",
    "        article['ex:title']=s.find(\"meta\",{\"name\":\"dc.Title\"})['content']\n",
    "        article['ex:date']=s.find(\"meta\",{\"name\":\"og:description\"})['content'][1:5]\n",
    "        article['ex:issue']= s.find(\"meta\",{\"name\":\"og:description\"})['content'].split('No. ')[1].split(', pp')[0].strip()                     \n",
    "        article['ex:volume']=s.find(\"meta\",{\"name\":\"og:description\"})['content'].split('Vol. ')[1].split(', No')[0].strip()\n",
    "        article['ex:url']=s.find(\"meta\",{\"name\":\"dc.Source\"})['content']\n",
    "        abstract=s.find(\"meta\",{\"name\":\"dc.Description\"})\n",
    "        if abstract is not None:\n",
    "            article['ex:abstract']= abstract['content']\n",
    "        article['ex:source']= s.find(\"meta\",{\"name\":\"citation_journal_title\"})['content']\n",
    "        article['ex:creator']=creators\n",
    "        articles.append(article)"
   ]
  },
  {
   "cell_type": "code",
   "execution_count": 189,
   "metadata": {
    "collapsed": false
   },
   "outputs": [
    {
     "data": {
      "text/plain": [
       "{'ex:creator': [], 'ex:keyword': []}"
      ]
     },
     "execution_count": 189,
     "metadata": {},
     "output_type": "execute_result"
    }
   ],
   "source": [
    "article"
   ]
  },
  {
   "cell_type": "code",
   "execution_count": null,
   "metadata": {
    "collapsed": true
   },
   "outputs": [],
   "source": []
  }
 ],
 "metadata": {
  "anaconda-cloud": {},
  "kernelspec": {
   "display_name": "Python [Root]",
   "language": "python",
   "name": "Python [Root]"
  },
  "language_info": {
   "codemirror_mode": {
    "name": "ipython",
    "version": 2
   },
   "file_extension": ".py",
   "mimetype": "text/x-python",
   "name": "python",
   "nbconvert_exporter": "python",
   "pygments_lexer": "ipython2",
   "version": "2.7.12"
  }
 },
 "nbformat": 4,
 "nbformat_minor": 0
}
