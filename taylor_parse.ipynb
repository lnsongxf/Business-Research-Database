{
 "cells": [
  {
   "cell_type": "code",
   "execution_count": 1,
   "metadata": {
    "collapsed": true
   },
   "outputs": [],
   "source": [
    "#todo: \n",
    "#move Jr to AF edit\n",
    "#abstract remove long"
   ]
  },
  {
   "cell_type": "code",
   "execution_count": 2,
   "metadata": {
    "collapsed": false
   },
   "outputs": [],
   "source": [
    "import glob, os\n",
    "from bs4 import BeautifulSoup as bs\n",
    "import re\n",
    "import collections\n",
    "import json\n",
    "import io\n",
    "import fix"
   ]
  },
  {
   "cell_type": "code",
   "execution_count": 13,
   "metadata": {
    "collapsed": false
   },
   "outputs": [],
   "source": [
    "def src2jsonld(journal_name,base_folder):\n",
    "    global articles, article, s, s_body, vol_iss_year, e\n",
    "    folder=base_folder+\"/htmls\"\n",
    "    files=os.listdir(folder)\n",
    "    l=[]\n",
    "    i=0\n",
    "    print folder\n",
    "    for f in files:\n",
    "        i=i+1\n",
    "        if 'html' in f:\n",
    "            if i % 10 ==0:\n",
    "                print i,\n",
    "            creators=[] \n",
    "            article={}\n",
    "            article['ex:creator']=[]\n",
    "            article['ex:keyword']=[]\n",
    "            html=open(folder+'/'+f).read()\n",
    "            s = bs(html, 'lxml').find('head')\n",
    "            j=''\n",
    "            for c in s.findAll(\"meta\",{\"name\":\"dc.Creator\"}):\n",
    "                creator={}\n",
    "                creator['ex:name']=' '.join(c['content'].strip().split())\n",
    "                creators.append(creator)\n",
    "            keywords=s.find(\"meta\",{\"name\":\"keywords\"})\n",
    "            if keywords is not None: \n",
    "                for k in keywords['content'].split(','):\n",
    "                    article['ex:keyword'].append(fix.fix_keyword(k))\n",
    "            article['ex:title']=s.find(\"meta\",{\"name\":\"dc.Title\"})['content']\n",
    "            article['ex:date']=s.find(\"meta\",{\"name\":\"og:description\"})['content'][1:5]\n",
    "            article['ex:issue']= s.find(\"meta\",{\"name\":\"pbContext\"})['content'].split('.v')[1].split('.i')[0].lstrip('0')                    \n",
    "            article['ex:volume']=s.find(\"meta\",{\"name\":\"pbContext\"})['content'].split('.i')[1].split(';')[0].lstrip('0')\n",
    "            doi=s.find(\"meta\",{\"name\":\"pbContext\"})['content'].split('article:article:')[1].split(';')[0]\n",
    "            if doi is not None:\n",
    "                article['ex:url']='http://www.tandfonline.com/doi/'+doi\n",
    "\n",
    "            abstract=s.find(\"meta\",{\"name\":\"dc.Description\"})\n",
    "            if abstract is not None:\n",
    "                article['ex:abstract']= abstract['content']\n",
    "\n",
    "            article['ex:source']= s.find(\"meta\",{\"name\":\"citation_journal_title\"})['content']\n",
    "            article['ex:creator']=creators\n",
    "            if fix.validate(article)==True:\n",
    "                articles.append(article)\n",
    "            else:\n",
    "                e=e+1\n",
    "    jsonld_folder='jsonld/'\n",
    "    jd=unicode(json.dumps(articles, ensure_ascii=False))\n",
    "    jsonld_file=jsonld_folder+(base_folder+'.jsonld').replace('/','_')\n",
    "    with io.open(jsonld_file, 'w') as f:\n",
    "        f.write(jd)\n",
    "    return (jsonld_file)"
   ]
  },
  {
   "cell_type": "code",
   "execution_count": 18,
   "metadata": {
    "collapsed": false
   },
   "outputs": [
    {
     "name": "stdout",
     "output_type": "stream",
     "text": [
      "taf jrnmis Journal of Management Information Systems src/taf/jrnmis/htmls\n",
      "10 20 30 40 50 60 70 80 90 100 110 120 130 140 150 160 170 180 190 200 210 220 230 240 250 260 270 280 290 300 310 320 330 340 350 360 370 380 390 400 410 420 430 440 450 460 470 480 490 500 510 520 530 540 550 560 570 580 590 600 610 620 630 640 650 660 670 680 690 700 710 720 730 740 750 760 770 780 790 800 810 820 830 840 850 860 870 880 890 900 910 920 930 940 950 960 970 980 990 1000 1010 1020 1030 1040 1050 1060 1070 1080 1090 1100 1110 1120 1130 1140 1150 1160 1170 1180 1190 1200 1210 1220 1230 1240 1250 1260 1270 1280 1290 1300 1310 1320 1330 1340 fixed=  1\n"
     ]
    }
   ],
   "source": [
    "with open('journals.json') as data_file:    \n",
    "    journals = json.load(data_file)\n",
    "\n",
    "src_folder='src/'\n",
    "jsonld_folder='jsonld/'\n",
    "\n",
    "for journal in journals:\n",
    "    source=journal['jname']\n",
    "    journal_name=journal['journal']\n",
    "    data=journal['data']\n",
    "    for type_pub in data:   \n",
    "        file_type=type_pub['type']\n",
    "        publisher=type_pub['publisher']\n",
    "        if file_type=='src' and publisher=='taf':\n",
    "            e=0\n",
    "            print publisher,source,journal_name,\n",
    "            base_folder=file_type+'/'+publisher+'/'+source\n",
    "            src2jsonld(journal_name,base_folder)\n",
    "            print 'fixed= ',e"
   ]
  },
  {
   "cell_type": "code",
   "execution_count": 15,
   "metadata": {
    "collapsed": false
   },
   "outputs": [
    {
     "data": {
      "text/plain": [
       "u'10.1016_j.jm.2002.11.001.html'"
      ]
     },
     "execution_count": 15,
     "metadata": {},
     "output_type": "execute_result"
    }
   ],
   "source": [
    "artilc"
   ]
  },
  {
   "cell_type": "code",
   "execution_count": null,
   "metadata": {
    "collapsed": true
   },
   "outputs": [],
   "source": []
  }
 ],
 "metadata": {
  "anaconda-cloud": {},
  "kernelspec": {
   "display_name": "Python [Root]",
   "language": "python",
   "name": "Python [Root]"
  },
  "language_info": {
   "codemirror_mode": {
    "name": "ipython",
    "version": 2
   },
   "file_extension": ".py",
   "mimetype": "text/x-python",
   "name": "python",
   "nbconvert_exporter": "python",
   "pygments_lexer": "ipython2",
   "version": "2.7.12"
  }
 },
 "nbformat": 4,
 "nbformat_minor": 0
}
