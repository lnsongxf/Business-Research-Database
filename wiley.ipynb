{
 "cells": [
  {
   "cell_type": "code",
   "execution_count": 1,
   "metadata": {
    "collapsed": false
   },
   "outputs": [],
   "source": [
    "import urllib2\n",
    "import requests\n",
    "import codecs\n",
    "import os\n",
    "import random\n",
    "import time\n",
    "from bs4 import BeautifulSoup as bs\n",
    "import re"
   ]
  },
  {
   "cell_type": "code",
   "execution_count": 2,
   "metadata": {
    "collapsed": false
   },
   "outputs": [],
   "source": [
    "pub='http://onlinelibrary.wiley.com/'\n",
    "base_vol_iss=pub+'journal/10.1111/(ISSN)1937-5956/issues/'\n",
    "ranges=range(1992,2018)\n",
    "base_folder='src/wly/popmgt/'"
   ]
  },
  {
   "cell_type": "code",
   "execution_count": 3,
   "metadata": {
    "collapsed": true
   },
   "outputs": [],
   "source": [
    "base_vol_iss=pub+'journal/10.1002/(ISSN)1932-443X/issues'\n",
    "ranges=range(2007,2018)\n",
    "base_folder='src/wly/stentj/'"
   ]
  },
  {
   "cell_type": "code",
   "execution_count": 4,
   "metadata": {
    "collapsed": true
   },
   "outputs": [],
   "source": [
    "base_vol_iss=pub+'journal/10.1111/(ISSN)1911-3846/issues'\n",
    "ranges=range(1984,2018)\n",
    "base_folder='src/wly/cnacre/'"
   ]
  },
  {
   "cell_type": "code",
   "execution_count": 5,
   "metadata": {
    "collapsed": true
   },
   "outputs": [],
   "source": [
    "base_vol_iss=pub+'journal/10.1002/(ISSN)1099-050X/issues'\n",
    "ranges=range(1961,2018)\n",
    "base_folder='src/wly/hrmngt/'"
   ]
  },
  {
   "cell_type": "code",
   "execution_count": 7,
   "metadata": {
    "collapsed": false
   },
   "outputs": [],
   "source": [
    "base_vol_iss=pub+'journal/10.1111/(ISSN)1540-6520/issues'\n",
    "ranges=range(2002,2018)\n",
    "base_folder='src/wly/enttap/'"
   ]
  },
  {
   "cell_type": "code",
   "execution_count": 8,
   "metadata": {
    "collapsed": false
   },
   "outputs": [
    {
     "name": "stdout",
     "output_type": "stream",
     "text": [
      "2002 2003 2004 2005 2006 2007 2008 2009 2010 2011 2012 2013 2014 2015 2016 2017"
     ]
    },
    {
     "data": {
      "text/plain": [
       "99"
      ]
     },
     "execution_count": 8,
     "metadata": {},
     "output_type": "execute_result"
    },
    {
     "name": "stdout",
     "output_type": "stream",
     "text": [
      "\n"
     ]
    }
   ],
   "source": [
    "#get vol_issues\n",
    "vol_iss_links=[]\n",
    "session = requests.Session()\n",
    "for year in ranges:\n",
    "    print year,\n",
    "    response = session.get(base_vol_iss+'?year='+str(year))\n",
    "    html=response.text\n",
    "    s=bs(html,'html.parser')\n",
    "    iss_links=[l['href'] for l in s.findAll('a',{\"href\":re.compile('issuetoc')})]\n",
    "    iss_links=list(set(iss_links))\n",
    "    vol_iss_links=vol_iss_links+iss_links\n",
    "len(vol_iss_links)"
   ]
  },
  {
   "cell_type": "code",
   "execution_count": 9,
   "metadata": {
    "collapsed": false,
    "scrolled": true
   },
   "outputs": [
    {
     "name": "stdout",
     "output_type": "stream",
     "text": [
      "0 10 20 30 40 50 60 70 80 90\n"
     ]
    }
   ],
   "source": [
    "#get htmls from saga\n",
    "vol_iss_folder=base_folder+'vol_iss/'\n",
    "i=0\n",
    "for link in vol_iss_links:\n",
    "    page=pub+link\n",
    "    if i%10==0:print i,\n",
    "    i=i+1\n",
    "    file_name=vol_iss_folder+link.replace('/','_')+'.html'\n",
    "    if not os.path.isfile(file_name):\n",
    "        url=page\n",
    "        response = session.get(url)\n",
    "        html=response.text\n",
    "        f = codecs.open(file_name, 'w','utf-8')\n",
    "        f.write(html) \n",
    "        f.close()        "
   ]
  },
  {
   "cell_type": "code",
   "execution_count": 13,
   "metadata": {
    "collapsed": false
   },
   "outputs": [
    {
     "name": "stdout",
     "output_type": "stream",
     "text": [
      "0 10 20 30 40 50 60 70 80 805\n"
     ]
    }
   ],
   "source": [
    "dois=[]\n",
    "i=0\n",
    "for f in os.listdir(vol_iss_folder):\n",
    "    if 'html' in f:\n",
    "        if i%10==0: print i, \n",
    "        i=i+1\n",
    "        html=open(vol_iss_folder+f)\n",
    "        s = bs(html, 'html.parser')\n",
    "        links=s.find_all('ul',{'class':'productMenu'})\n",
    "        dois=dois+[l.findAll('a')[0]['href'] for l in links] \n",
    "print len(dois)"
   ]
  },
  {
   "cell_type": "code",
   "execution_count": 15,
   "metadata": {
    "collapsed": false
   },
   "outputs": [
    {
     "name": "stdout",
     "output_type": "stream",
     "text": [
      " 0 10 20 30 40 50 60 70 80 90 100 110 120 130 140 150 160 170 180 190 200 210 220 230 240 250 260 270 280 290 300 310 320 330 340 350 360 370 380 390 400 410 420 430 440 450 460 470 480 490 500 510 520 530 540 550 560 570 580 590 600 610 620 630 640 650 660 670 680 690 700 710 720 730 740 750 760 770 780 790 800\n"
     ]
    }
   ],
   "source": [
    "folder=base_folder+'htmls/'\n",
    "session = requests.Session()\n",
    "i=0\n",
    "for doi in dois:\n",
    "    if i%10==0: print i,\n",
    "    i=i+1\n",
    "    title=doi.replace('/','_')+'.html'\n",
    "    if not os.path.isfile(folder+title):\n",
    "        url= pub+doi\n",
    "        response = session.get(url)\n",
    "        html=response.text\n",
    "        f = codecs.open(folder+title, \"w\", \"utf-8\")\n",
    "        f.write(html,) \n",
    "        f.close()\n",
    "        #r=random.uniform(1, 3)\n",
    "        #time.sleep(r) # delays for 3 to 4 seconds"
   ]
  },
  {
   "cell_type": "code",
   "execution_count": null,
   "metadata": {
    "collapsed": true
   },
   "outputs": [],
   "source": []
  }
 ],
 "metadata": {
  "anaconda-cloud": {},
  "kernelspec": {
   "display_name": "Python [Root]",
   "language": "python",
   "name": "Python [Root]"
  },
  "language_info": {
   "codemirror_mode": {
    "name": "ipython",
    "version": 2
   },
   "file_extension": ".py",
   "mimetype": "text/x-python",
   "name": "python",
   "nbconvert_exporter": "python",
   "pygments_lexer": "ipython2",
   "version": "2.7.12"
  }
 },
 "nbformat": 4,
 "nbformat_minor": 0
}
