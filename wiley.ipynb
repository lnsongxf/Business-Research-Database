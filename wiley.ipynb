{
 "cells": [
  {
   "cell_type": "code",
   "execution_count": 2,
   "metadata": {
    "collapsed": false
   },
   "outputs": [],
   "source": [
    "import urllib2\n",
    "import requests\n",
    "import codecs\n",
    "import os\n",
    "import random\n",
    "import time\n",
    "from bs4 import BeautifulSoup as bs\n",
    "import re"
   ]
  },
  {
   "cell_type": "code",
   "execution_count": 104,
   "metadata": {
    "collapsed": false
   },
   "outputs": [],
   "source": [
    "pub='http://onlinelibrary.wiley.com/'\n",
    "base_vol_iss=pub+'journal/10.1111/(ISSN)1937-5956/issues/'\n",
    "ranges=range(1992,2018)\n",
    "base_folder='src/wly/popmgt/'"
   ]
  },
  {
   "cell_type": "code",
   "execution_count": 105,
   "metadata": {
    "collapsed": true
   },
   "outputs": [],
   "source": [
    "base_vol_iss=pub+'journal/10.1002/(ISSN)1932-443X/issues'\n",
    "ranges=range(2007,2018)\n",
    "base_folder='src/wly/stentj/'"
   ]
  },
  {
   "cell_type": "code",
   "execution_count": 106,
   "metadata": {
    "collapsed": true
   },
   "outputs": [],
   "source": [
    "base_vol_iss=pub+'journal/10.1111/(ISSN)1911-3846/issues'\n",
    "ranges=range(1984,2018)\n",
    "base_folder='src/wly/cnacre/'"
   ]
  },
  {
   "cell_type": "code",
   "execution_count": 112,
   "metadata": {
    "collapsed": true
   },
   "outputs": [],
   "source": [
    "base_vol_iss=pub+'journal/10.1002/(ISSN)1099-050X/issues'\n",
    "ranges=range(1961,2018)\n",
    "base_folder='src/wly/hrmngt/'"
   ]
  },
  {
   "cell_type": "code",
   "execution_count": 113,
   "metadata": {
    "collapsed": false
   },
   "outputs": [
    {
     "data": {
      "text/plain": [
       "285"
      ]
     },
     "execution_count": 113,
     "metadata": {},
     "output_type": "execute_result"
    }
   ],
   "source": [
    "#get vol_issues\n",
    "vol_iss_links=[]\n",
    "session = requests.Session()\n",
    "for year in ranges:\n",
    "    print year,\n",
    "    response = session.get(base_vol_iss+'?year='+str(year))\n",
    "    html=response.text\n",
    "    s=bs(html,'html.parser')\n",
    "    iss_links=[l['href'] for l in s.findAll('a',{\"href\":re.compile('issuetoc')})]\n",
    "    iss_links=list(set(iss_links))\n",
    "    vol_iss_links=vol_iss_links+iss_links\n",
    "len(vol_iss_links)"
   ]
  },
  {
   "cell_type": "code",
   "execution_count": 114,
   "metadata": {
    "collapsed": false,
    "scrolled": true
   },
   "outputs": [
    {
     "name": "stdout",
     "output_type": "stream",
     "text": [
      "0 1 2 3 4 5 6 7 8 9 10 11 12 13 14 15 16 17 18 19 20 21 22 23 24 25 26 27 28 29 30 31 32 33 34 35 36 37 38 39 40 41 42 43 44 45 46 47 48 49 50 51 52 53 54 55 56 57 58 59 60 61 62 63 64 65 66 67 68 69 70 71 72 73 74 75 76 77 78 79 80 81 82 83 84 85 86 87 88 89 90 91 92 93 94 95 96 97 98 99 100 101 102 103 104 105 106 107 108 109 110 111 112 113 114 115 116 117 118 119 120 121 122 123 124 125 126 127 128 129 130 131 132 133 134 135 136 137 138 139 140 141 142 143 144 145 146 147 148 149 150 151 152 153 154 155 156 157 158 159 160 161 162 163 164 165 166 167 168 169 170 171 172 173 174 175 176 177 178 179 180 181 182 183 184 185 186 187 188 189 190 191 192 193 194 195 196 197 198 199 200 201 202 203 204 205 206 207 208 209 210 211 212 213 214 215 216 217 218 219 220 221 222 223 224 225 226 227 228 229 230 231 232 233 234 235 236 237 238 239 240 241 242 243 244 245 246 247 248 249 250 251 252 253 254 255 256 257 258 259 260 261 262 263 264 265 266 267 268 269 270 271 272 273 274 275 276 277 278 279 280 281 282 283 284\n"
     ]
    }
   ],
   "source": [
    "#get htmls from saga\n",
    "vol_iss_folder=base_folder+'vol_iss/'\n",
    "i=0\n",
    "for link in vol_iss_links:\n",
    "    page=pub+link\n",
    "    print i,\n",
    "    i=i+1\n",
    "    file_name=vol_iss_folder+link.replace('/','_')+'.html'\n",
    "    if not os.path.isfile(file_name):\n",
    "        url=page\n",
    "        response = session.get(url)\n",
    "        html=response.text\n",
    "        f = codecs.open(file_name, 'w','utf-8')\n",
    "        f.write(html) \n",
    "        f.close()        "
   ]
  },
  {
   "cell_type": "code",
   "execution_count": 117,
   "metadata": {
    "collapsed": false
   },
   "outputs": [
    {
     "name": "stdout",
     "output_type": "stream",
     "text": [
      " _doi_10.1002_(SICI)1099-050X(199621)35:1<>1.0.CO;2-R_issuetoc.html _doi_10.1002_(SICI)1099-050X(199622)35:2<>1.0.CO;2-N_issuetoc.html _doi_10.1002_(SICI)1099-050X(199623)35:3<>1.0.CO;2-J_issuetoc.html _doi_10.1002_(SICI)1099-050X(199624)35:4<>1.0.CO;2-F_issuetoc.html _doi_10.1002_(SICI)1099-050X(199721)36:1<>1.0.CO;2-N_issuetoc.html _doi_10.1002_(SICI)1099-050X(199722)36:2<>1.0.CO;2-J_issuetoc.html _doi_10.1002_(SICI)1099-050X(199723)36:3<>1.0.CO;2-F_issuetoc.html _doi_10.1002_(SICI)1099-050X(199724)36:4<>1.0.CO;2-B_issuetoc.html _doi_10.1002_(SICI)1099-050X(199821)37:1<>1.0.CO;2-J_issuetoc.html _doi_10.1002_(SICI)1099-050X(199822)37:2<>1.0.CO;2-F_issuetoc.html _doi_10.1002_(SICI)1099-050X(199823_24)37:3_4<>1.0.CO;2-B_issuetoc.html _doi_10.1002_(SICI)1099-050X(199921)38:1<>1.0.CO;2-F_issuetoc.html _doi_10.1002_(SICI)1099-050X(199922)38:2<>1.0.CO;2-B_issuetoc.html _doi_10.1002_(SICI)1099-050X(199923)38:3<>1.0.CO;2-7_issuetoc.html _doi_10.1002_(SICI)1099-050X(199924)38:4<>1.0.CO;2-3_issuetoc.html _doi_10.1002_(SICI)1099-050X(200021)39:1<>1.0.CO;2-2_issuetoc.html _doi_10.1002_1099-050X(200022_23)39:2_3<>1.0.CO;2-J_issuetoc.html _doi_10.1002_1099-050X(200024)39:4<>1.0.CO;2-R_issuetoc.html _doi_10.1002_hrm.2014.53.issue-3_issuetoc.html _doi_10.1002_hrm.2014.53.issue-4_issuetoc.html _doi_10.1002_hrm.2014.53.issue-5_issuetoc.html _doi_10.1002_hrm.2014.53.issue-6_issuetoc.html _doi_10.1002_hrm.2015.54.issue-1_issuetoc.html _doi_10.1002_hrm.2015.54.issue-2_issuetoc.html _doi_10.1002_hrm.2015.54.issue-3_issuetoc.html _doi_10.1002_hrm.2015.54.issue-4_issuetoc.html _doi_10.1002_hrm.2015.54.issue-5_issuetoc.html _doi_10.1002_hrm.2015.54.issue-6_issuetoc.html _doi_10.1002_hrm.2015.54.issue-S1_issuetoc.html _doi_10.1002_hrm.2016.55.issue-1_issuetoc.html _doi_10.1002_hrm.2016.55.issue-2_issuetoc.html _doi_10.1002_hrm.2016.55.issue-3_issuetoc.html _doi_10.1002_hrm.2016.55.issue-4_issuetoc.html _doi_10.1002_hrm.2016.55.issue-5_issuetoc.html _doi_10.1002_hrm.2016.55.issue-6_issuetoc.html _doi_10.1002_hrm.2017.56.issue-1_issuetoc.html _doi_10.1002_hrm.2017.56.issue-2_issuetoc.html _doi_10.1002_hrm.v1:1_issuetoc.html _doi_10.1002_hrm.v1:2_issuetoc.html _doi_10.1002_hrm.v1:3_issuetoc.html _doi_10.1002_hrm.v1:4_issuetoc.html _doi_10.1002_hrm.v1:5_issuetoc.html _doi_10.1002_hrm.v10:1_issuetoc.html _doi_10.1002_hrm.v10:2_issuetoc.html _doi_10.1002_hrm.v10:3_issuetoc.html _doi_10.1002_hrm.v10:4_issuetoc.html _doi_10.1002_hrm.v11:1_issuetoc.html _doi_10.1002_hrm.v11:2_issuetoc.html _doi_10.1002_hrm.v11:3_issuetoc.html _doi_10.1002_hrm.v11:4_issuetoc.html _doi_10.1002_hrm.v12:1_issuetoc.html _doi_10.1002_hrm.v12:2_issuetoc.html _doi_10.1002_hrm.v12:3_issuetoc.html _doi_10.1002_hrm.v12:4_issuetoc.html _doi_10.1002_hrm.v13:1_issuetoc.html _doi_10.1002_hrm.v13:2_issuetoc.html _doi_10.1002_hrm.v13:3_issuetoc.html _doi_10.1002_hrm.v13:4_issuetoc.html _doi_10.1002_hrm.v14:1_issuetoc.html _doi_10.1002_hrm.v14:2_issuetoc.html _doi_10.1002_hrm.v14:3_issuetoc.html _doi_10.1002_hrm.v14:4_issuetoc.html _doi_10.1002_hrm.v15:1_issuetoc.html _doi_10.1002_hrm.v15:2_issuetoc.html _doi_10.1002_hrm.v15:3_issuetoc.html _doi_10.1002_hrm.v15:4_issuetoc.html _doi_10.1002_hrm.v16:1_issuetoc.html _doi_10.1002_hrm.v16:2_issuetoc.html _doi_10.1002_hrm.v16:3_issuetoc.html _doi_10.1002_hrm.v16:4_issuetoc.html _doi_10.1002_hrm.v17:1_issuetoc.html _doi_10.1002_hrm.v17:2_issuetoc.html _doi_10.1002_hrm.v17:3_issuetoc.html _doi_10.1002_hrm.v17:4_issuetoc.html _doi_10.1002_hrm.v18:1_issuetoc.html _doi_10.1002_hrm.v18:2_issuetoc.html _doi_10.1002_hrm.v18:3_issuetoc.html _doi_10.1002_hrm.v18:4_issuetoc.html _doi_10.1002_hrm.v19:1_issuetoc.html _doi_10.1002_hrm.v19:2_issuetoc.html _doi_10.1002_hrm.v19:3_issuetoc.html _doi_10.1002_hrm.v19:4_issuetoc.html _doi_10.1002_hrm.v2:1_issuetoc.html _doi_10.1002_hrm.v2:2_issuetoc.html _doi_10.1002_hrm.v2:3_issuetoc.html _doi_10.1002_hrm.v2:4_issuetoc.html _doi_10.1002_hrm.v20:1_issuetoc.html _doi_10.1002_hrm.v20:2_issuetoc.html _doi_10.1002_hrm.v20:3_issuetoc.html _doi_10.1002_hrm.v20:4_issuetoc.html _doi_10.1002_hrm.v21:1_issuetoc.html _doi_10.1002_hrm.v21:2_3_issuetoc.html _doi_10.1002_hrm.v22:1_2_issuetoc.html _doi_10.1002_hrm.v22:3_issuetoc.html _doi_10.1002_hrm.v22:4_issuetoc.html _doi_10.1002_hrm.v23:1_issuetoc.html _doi_10.1002_hrm.v23:2_issuetoc.html _doi_10.1002_hrm.v23:3_issuetoc.html _doi_10.1002_hrm.v23:4_issuetoc.html _doi_10.1002_hrm.v24:1_issuetoc.html _doi_10.1002_hrm.v24:2_issuetoc.html _doi_10.1002_hrm.v24:3_issuetoc.html _doi_10.1002_hrm.v24:4_issuetoc.html _doi_10.1002_hrm.v25:1_issuetoc.html _doi_10.1002_hrm.v25:2_issuetoc.html _doi_10.1002_hrm.v25:3_issuetoc.html _doi_10.1002_hrm.v25:4_issuetoc.html _doi_10.1002_hrm.v26:1_issuetoc.html _doi_10.1002_hrm.v26:2_issuetoc.html _doi_10.1002_hrm.v26:3_issuetoc.html _doi_10.1002_hrm.v26:4_issuetoc.html _doi_10.1002_hrm.v27:1_issuetoc.html _doi_10.1002_hrm.v27:2_issuetoc.html _doi_10.1002_hrm.v27:3_issuetoc.html _doi_10.1002_hrm.v27:4_issuetoc.html _doi_10.1002_hrm.v28:1_issuetoc.html _doi_10.1002_hrm.v28:2_issuetoc.html _doi_10.1002_hrm.v28:3_issuetoc.html _doi_10.1002_hrm.v28:4_issuetoc.html _doi_10.1002_hrm.v29:1_issuetoc.html _doi_10.1002_hrm.v29:2_issuetoc.html _doi_10.1002_hrm.v29:3_issuetoc.html _doi_10.1002_hrm.v29:4_issuetoc.html _doi_10.1002_hrm.v3:1_issuetoc.html _doi_10.1002_hrm.v3:2_issuetoc.html _doi_10.1002_hrm.v3:3_issuetoc.html _doi_10.1002_hrm.v3:4_issuetoc.html _doi_10.1002_hrm.v30:1_issuetoc.html _doi_10.1002_hrm.v30:2_issuetoc.html _doi_10.1002_hrm.v30:3_issuetoc.html _doi_10.1002_hrm.v30:4_issuetoc.html _doi_10.1002_hrm.v31:1_2_issuetoc.html _doi_10.1002_hrm.v31:3_issuetoc.html _doi_10.1002_hrm.v31:4_issuetoc.html _doi_10.1002_hrm.v32:1_issuetoc.html _doi_10.1002_hrm.v32:2_3_issuetoc.html _doi_10.1002_hrm.v32:4_issuetoc.html _doi_10.1002_hrm.v33:1_issuetoc.html _doi_10.1002_hrm.v33:2_issuetoc.html _doi_10.1002_hrm.v33:3_issuetoc.html _doi_10.1002_hrm.v33:4_issuetoc.html _doi_10.1002_hrm.v34:1_issuetoc.html _doi_10.1002_hrm.v34:2_issuetoc.html _doi_10.1002_hrm.v34:3_issuetoc.html _doi_10.1002_hrm.v34:4_issuetoc.html _doi_10.1002_hrm.v4:1_issuetoc.html _doi_10.1002_hrm.v4:2_issuetoc.html _doi_10.1002_hrm.v4:3_issuetoc.html _doi_10.1002_hrm.v4:4_issuetoc.html _doi_10.1002_hrm.v40:1_issuetoc.html _doi_10.1002_hrm.v40:2_issuetoc.html _doi_10.1002_hrm.v40:3_issuetoc.html _doi_10.1002_hrm.v40:4_issuetoc.html _doi_10.1002_hrm.v41:1_issuetoc.html _doi_10.1002_hrm.v41:2_issuetoc.html _doi_10.1002_hrm.v41:3_issuetoc.html _doi_10.1002_hrm.v41:4_issuetoc.html _doi_10.1002_hrm.v42:1_issuetoc.html _doi_10.1002_hrm.v42:2_issuetoc.html _doi_10.1002_hrm.v42:3_issuetoc.html _doi_10.1002_hrm.v42:4_issuetoc.html _doi_10.1002_hrm.v43:1_issuetoc.html _doi_10.1002_hrm.v43:2_3_issuetoc.html _doi_10.1002_hrm.v43:4_issuetoc.html _doi_10.1002_hrm.v44:1_issuetoc.html _doi_10.1002_hrm.v44:2_issuetoc.html _doi_10.1002_hrm.v44:3_issuetoc.html _doi_10.1002_hrm.v44:4_issuetoc.html _doi_10.1002_hrm.v45:1_issuetoc.html _doi_10.1002_hrm.v45:2_issuetoc.html _doi_10.1002_hrm.v45:3_issuetoc.html _doi_10.1002_hrm.v45:4_issuetoc.html _doi_10.1002_hrm.v46:1_issuetoc.html _doi_10.1002_hrm.v46:2_issuetoc.html _doi_10.1002_hrm.v46:3_issuetoc.html _doi_10.1002_hrm.v46:4_issuetoc.html _doi_10.1002_hrm.v47:1_issuetoc.html _doi_10.1002_hrm.v47:2_issuetoc.html _doi_10.1002_hrm.v47:3_issuetoc.html _doi_10.1002_hrm.v47:4_issuetoc.html _doi_10.1002_hrm.v48:1_issuetoc.html _doi_10.1002_hrm.v48:2_issuetoc.html _doi_10.1002_hrm.v48:3_issuetoc.html _doi_10.1002_hrm.v48:4_issuetoc.html _doi_10.1002_hrm.v48:5_issuetoc.html _doi_10.1002_hrm.v48:6_issuetoc.html _doi_10.1002_hrm.v49:1_issuetoc.html _doi_10.1002_hrm.v49:2_issuetoc.html _doi_10.1002_hrm.v49:3_issuetoc.html _doi_10.1002_hrm.v49:4_issuetoc.html _doi_10.1002_hrm.v49:5_issuetoc.html _doi_10.1002_hrm.v49:6_issuetoc.html _doi_10.1002_hrm.v5:1_issuetoc.html _doi_10.1002_hrm.v5:2_issuetoc.html _doi_10.1002_hrm.v5:3_issuetoc.html _doi_10.1002_hrm.v5:4_issuetoc.html _doi_10.1002_hrm.v50.1_issuetoc.html _doi_10.1002_hrm.v50.2_issuetoc.html _doi_10.1002_hrm.v50.3_issuetoc.html _doi_10.1002_hrm.v50.4_issuetoc.html _doi_10.1002_hrm.v50.5_issuetoc.html _doi_10.1002_hrm.v50.6_issuetoc.html _doi_10.1002_hrm.v51.1_issuetoc.html _doi_10.1002_hrm.v51.2_issuetoc.html _doi_10.1002_hrm.v51.3_issuetoc.html _doi_10.1002_hrm.v51.4_issuetoc.html _doi_10.1002_hrm.v51.5_issuetoc.html _doi_10.1002_hrm.v51.6_issuetoc.html _doi_10.1002_hrm.v52.1_issuetoc.html _doi_10.1002_hrm.v52.2_issuetoc.html _doi_10.1002_hrm.v52.3_issuetoc.html _doi_10.1002_hrm.v52.4_issuetoc.html _doi_10.1002_hrm.v52.5_issuetoc.html _doi_10.1002_hrm.v52.6_issuetoc.html _doi_10.1002_hrm.v53.1_issuetoc.html _doi_10.1002_hrm.v53.2_issuetoc.html _doi_10.1002_hrm.v6:1_issuetoc.html _doi_10.1002_hrm.v6:2_issuetoc.html _doi_10.1002_hrm.v6:3_issuetoc.html _doi_10.1002_hrm.v6:4_issuetoc.html _doi_10.1002_hrm.v7:1_issuetoc.html _doi_10.1002_hrm.v7:2_issuetoc.html _doi_10.1002_hrm.v7:3_issuetoc.html _doi_10.1002_hrm.v7:4_issuetoc.html _doi_10.1002_hrm.v8:3_issuetoc.html _doi_10.1002_hrm.v9:1_issuetoc.html _doi_10.1002_hrm.v9:2_issuetoc.html _doi_10.1002_hrm.v9:3_issuetoc.html _doi_10.1002_hrm.v9:4_issuetoc.html 2257\n"
     ]
    }
   ],
   "source": [
    "dois=[]\n",
    "for f in os.listdir(vol_iss_folder):\n",
    "    if 'html' in f:\n",
    "        print f, \n",
    "        html=open(vol_iss_folder+f)\n",
    "        s = bs(html, 'html.parser')\n",
    "        links=s.find_all('ul',{'class':'productMenu'})\n",
    "        dois=dois+[l.findAll('a')[0]['href'] for l in links] \n",
    "print len(dois)"
   ]
  },
  {
   "cell_type": "code",
   "execution_count": null,
   "metadata": {
    "collapsed": false
   },
   "outputs": [
    {
     "name": "stdout",
     "output_type": "stream",
     "text": [
      "0 1 2 3 4 5 6 7 8 9 10 11 12 13 14 15 16 17 18 19 20 21 22 23 24 25 26 27 28 29 30 31 32 33 34 35 36 37 38 39 40 41 42 43 44 45 46 47 48 49 50 51 52 53 54 55 56 57 58 59 60 61 62 63 64 65 66 67 68 69 70 71 72 73 74 75 76 77 78 79 80 81 82 83 84 85 86 87 88 89 90 91 92 93 94 95 96 97 98 99 100 101 102 103 104 105 106 107 108 109 110 111 112 113 114 115 116 117 118 119 120 121 122 123 124 125 126 127 128 129 130 131 132 133 134 135 136 137 138 139 140 141 142 143 144 145 146 147 148 149 150 151 152 153 154 155 156 157 158 159 160 161 162 163 164 165 166 167 168 169 170 171 172 173 174 175 176 177 178 179 180 181 182 183 184 185 186 187 188 189 190 191 192 193 194 195 196 197 198 199 200 201 202 203 204 205 206 207 208 209 210 211 212 213 214 215 216 217 218 219 220 221 222 223 224 225 226 227 228 229 230 231 232 233 234 235 236 237 238 239 240 241 242 243"
     ]
    }
   ],
   "source": [
    "folder=base_folder+'htmls/'\n",
    "session = requests.Session()\n",
    "i=0\n",
    "for doi in dois:\n",
    "    print i,\n",
    "    i=i+1\n",
    "    title=doi.replace('/','_')+'.html'\n",
    "    if not os.path.isfile(folder+title):\n",
    "        url= pub+doi\n",
    "        response = session.get(url)\n",
    "        html=response.text\n",
    "        f = codecs.open(folder+title, \"w\", \"utf-8\")\n",
    "        f.write(html,) \n",
    "        f.close()\n",
    "        #r=random.uniform(1, 3)\n",
    "        #time.sleep(r) # delays for 3 to 4 seconds"
   ]
  },
  {
   "cell_type": "code",
   "execution_count": null,
   "metadata": {
    "collapsed": true
   },
   "outputs": [],
   "source": []
  }
 ],
 "metadata": {
  "anaconda-cloud": {},
  "kernelspec": {
   "display_name": "Python [Root]",
   "language": "python",
   "name": "Python [Root]"
  },
  "language_info": {
   "codemirror_mode": {
    "name": "ipython",
    "version": 2
   },
   "file_extension": ".py",
   "mimetype": "text/x-python",
   "name": "python",
   "nbconvert_exporter": "python",
   "pygments_lexer": "ipython2",
   "version": "2.7.12"
  }
 },
 "nbformat": 4,
 "nbformat_minor": 0
}
